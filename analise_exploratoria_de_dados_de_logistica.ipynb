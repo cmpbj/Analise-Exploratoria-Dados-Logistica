{
  "cells": [
    {
      "cell_type": "markdown",
      "id": "46853e58",
      "metadata": {
        "id": "46853e58",
        "papermill": {
          "duration": 0.096362,
          "end_time": "2022-03-20T23:15:19.759971",
          "exception": false,
          "start_time": "2022-03-20T23:15:19.663609",
          "status": "completed"
        },
        "tags": []
      },
      "source": [
        "## 1\\. Pacotes e bibliotecas"
      ]
    },
    {
      "cell_type": "code",
      "execution_count": null,
      "id": "5f3b61af",
      "metadata": {
        "execution": {
          "iopub.execute_input": "2022-03-20T23:15:19.959646Z",
          "iopub.status.busy": "2022-03-20T23:15:19.958936Z",
          "iopub.status.idle": "2022-03-20T23:15:30.231448Z",
          "shell.execute_reply": "2022-03-20T23:15:30.230759Z",
          "shell.execute_reply.started": "2022-03-20T23:06:15.301663Z"
        },
        "id": "5f3b61af",
        "outputId": "00691a8f-d6b2-4f8c-f430-86d4f6077c7b",
        "papermill": {
          "duration": 10.374692,
          "end_time": "2022-03-20T23:15:30.231591",
          "exception": false,
          "start_time": "2022-03-20T23:15:19.856899",
          "status": "completed"
        },
        "tags": []
      },
      "outputs": [
        {
          "name": "stdout",
          "output_type": "stream",
          "text": [
            "Requirement already satisfied: geopandas in /opt/conda/lib/python3.7/site-packages (0.10.2)\r\n",
            "Requirement already satisfied: pandas>=0.25.0 in /opt/conda/lib/python3.7/site-packages (from geopandas) (1.3.5)\r\n",
            "Requirement already satisfied: shapely>=1.6 in /opt/conda/lib/python3.7/site-packages (from geopandas) (1.8.0)\r\n",
            "Requirement already satisfied: fiona>=1.8 in /opt/conda/lib/python3.7/site-packages (from geopandas) (1.8.21)\r\n",
            "Requirement already satisfied: pyproj>=2.2.0 in /opt/conda/lib/python3.7/site-packages (from geopandas) (3.1.0)\r\n",
            "Requirement already satisfied: click-plugins>=1.0 in /opt/conda/lib/python3.7/site-packages (from fiona>=1.8->geopandas) (1.1.1)\r\n",
            "Requirement already satisfied: certifi in /opt/conda/lib/python3.7/site-packages (from fiona>=1.8->geopandas) (2021.10.8)\r\n",
            "Requirement already satisfied: attrs>=17 in /opt/conda/lib/python3.7/site-packages (from fiona>=1.8->geopandas) (21.2.0)\r\n",
            "Requirement already satisfied: six>=1.7 in /opt/conda/lib/python3.7/site-packages (from fiona>=1.8->geopandas) (1.16.0)\r\n",
            "Requirement already satisfied: cligj>=0.5 in /opt/conda/lib/python3.7/site-packages (from fiona>=1.8->geopandas) (0.7.2)\r\n",
            "Requirement already satisfied: click>=4.0 in /opt/conda/lib/python3.7/site-packages (from fiona>=1.8->geopandas) (8.0.3)\r\n",
            "Requirement already satisfied: setuptools in /opt/conda/lib/python3.7/site-packages (from fiona>=1.8->geopandas) (59.5.0)\r\n",
            "Requirement already satisfied: munch in /opt/conda/lib/python3.7/site-packages (from fiona>=1.8->geopandas) (2.5.0)\r\n",
            "Requirement already satisfied: python-dateutil>=2.7.3 in /opt/conda/lib/python3.7/site-packages (from pandas>=0.25.0->geopandas) (2.8.2)\r\n",
            "Requirement already satisfied: pytz>=2017.3 in /opt/conda/lib/python3.7/site-packages (from pandas>=0.25.0->geopandas) (2021.3)\r\n",
            "Requirement already satisfied: numpy>=1.17.3 in /opt/conda/lib/python3.7/site-packages (from pandas>=0.25.0->geopandas) (1.20.3)\r\n",
            "Requirement already satisfied: importlib-metadata in /opt/conda/lib/python3.7/site-packages (from click>=4.0->fiona>=1.8->geopandas) (4.11.3)\r\n",
            "Requirement already satisfied: zipp>=0.5 in /opt/conda/lib/python3.7/site-packages (from importlib-metadata->click>=4.0->fiona>=1.8->geopandas) (3.6.0)\r\n",
            "Requirement already satisfied: typing-extensions>=3.6.4 in /opt/conda/lib/python3.7/site-packages (from importlib-metadata->click>=4.0->fiona>=1.8->geopandas) (4.1.1)\r\n",
            "\u001b[33mWARNING: Running pip as the 'root' user can result in broken permissions and conflicting behaviour with the system package manager. It is recommended to use a virtual environment instead: https://pip.pypa.io/warnings/venv\u001b[0m\r\n"
          ]
        }
      ],
      "source": [
        "!pip3 install geopandas;"
      ]
    },
    {
      "cell_type": "code",
      "execution_count": null,
      "id": "b2c16bb1",
      "metadata": {
        "execution": {
          "iopub.execute_input": "2022-03-20T23:15:30.438636Z",
          "iopub.status.busy": "2022-03-20T23:15:30.434103Z",
          "iopub.status.idle": "2022-03-20T23:15:39.129429Z",
          "shell.execute_reply": "2022-03-20T23:15:39.128698Z",
          "shell.execute_reply.started": "2022-03-20T23:06:24.492494Z"
        },
        "id": "b2c16bb1",
        "outputId": "eb542ede-39f0-49d7-d2e1-3d4e194e4d58",
        "papermill": {
          "duration": 8.798415,
          "end_time": "2022-03-20T23:15:39.129573",
          "exception": false,
          "start_time": "2022-03-20T23:15:30.331158",
          "status": "completed"
        },
        "tags": []
      },
      "outputs": [
        {
          "name": "stdout",
          "output_type": "stream",
          "text": [
            "Requirement already satisfied: haversine in /opt/conda/lib/python3.7/site-packages (2.5.1)\r\n",
            "\u001b[33mWARNING: Running pip as the 'root' user can result in broken permissions and conflicting behaviour with the system package manager. It is recommended to use a virtual environment instead: https://pip.pypa.io/warnings/venv\u001b[0m\r\n"
          ]
        }
      ],
      "source": [
        "!pip install haversine"
      ]
    },
    {
      "cell_type": "code",
      "execution_count": null,
      "id": "ceb2a717",
      "metadata": {
        "execution": {
          "iopub.execute_input": "2022-03-20T23:15:39.333620Z",
          "iopub.status.busy": "2022-03-20T23:15:39.332904Z",
          "iopub.status.idle": "2022-03-20T23:15:41.136800Z",
          "shell.execute_reply": "2022-03-20T23:15:41.136030Z",
          "shell.execute_reply.started": "2022-03-20T23:06:33.477956Z"
        },
        "id": "ceb2a717",
        "papermill": {
          "duration": 1.908811,
          "end_time": "2022-03-20T23:15:41.137000",
          "exception": false,
          "start_time": "2022-03-20T23:15:39.228189",
          "status": "completed"
        },
        "tags": [],
        "outputId": "c3f3698d-aeec-4ab8-9fe9-431363575868"
      },
      "outputs": [
        {
          "name": "stderr",
          "output_type": "stream",
          "text": [
            "/opt/conda/lib/python3.7/site-packages/geopandas/_compat.py:115: UserWarning: The Shapely GEOS version (3.9.1-CAPI-1.14.2) is incompatible with the GEOS version PyGEOS was compiled with (3.10.1-CAPI-1.16.0). Conversions between both will be slow.\n",
            "  shapely_geos_version, geos_capi_version_string\n"
          ]
        }
      ],
      "source": [
        "import json\n",
        "import numpy as np\n",
        "\n",
        "import geopandas\n",
        "import pandas as pd\n",
        "import geopy\n",
        "from geopy.geocoders import Nominatim\n",
        "from geopy.extra.rate_limiter import RateLimiter\n",
        "from haversine import haversine\n",
        "import matplotlib.pyplot as plt\n",
        "import seaborn as sns"
      ]
    },
    {
      "cell_type": "markdown",
      "id": "17c0be1b",
      "metadata": {
        "id": "17c0be1b",
        "papermill": {
          "duration": 0.108355,
          "end_time": "2022-03-20T23:15:41.354074",
          "exception": false,
          "start_time": "2022-03-20T23:15:41.245719",
          "status": "completed"
        },
        "tags": []
      },
      "source": [
        "## 2\\. Exploração de dados"
      ]
    },
    {
      "cell_type": "code",
      "execution_count": null,
      "id": "3c6af0e8",
      "metadata": {
        "execution": {
          "iopub.execute_input": "2022-03-20T23:15:41.581635Z",
          "iopub.status.busy": "2022-03-20T23:15:41.580429Z",
          "iopub.status.idle": "2022-03-20T23:15:44.708519Z",
          "shell.execute_reply": "2022-03-20T23:15:44.707790Z",
          "shell.execute_reply.started": "2022-03-20T23:06:33.486989Z"
        },
        "id": "3c6af0e8",
        "papermill": {
          "duration": 3.238551,
          "end_time": "2022-03-20T23:15:44.708685",
          "exception": false,
          "start_time": "2022-03-20T23:15:41.470134",
          "status": "completed"
        },
        "tags": []
      },
      "outputs": [],
      "source": [
        "# Dado bruto no formato de dicionário\n",
        " \n",
        "with open('deliveries.json', mode='r', encoding='utf8') as file:\n",
        "  data = json.load(file)"
      ]
    },
    {
      "cell_type": "code",
      "execution_count": null,
      "id": "8b1c2c3a",
      "metadata": {
        "execution": {
          "iopub.execute_input": "2022-03-20T23:15:44.917165Z",
          "iopub.status.busy": "2022-03-20T23:15:44.916308Z",
          "iopub.status.idle": "2022-03-20T23:15:44.919599Z",
          "shell.execute_reply": "2022-03-20T23:15:44.920081Z",
          "shell.execute_reply.started": "2022-03-20T23:06:37.616919Z"
        },
        "id": "8b1c2c3a",
        "outputId": "c170fe89-5375-4d61-a971-7bc6ef3368e2",
        "papermill": {
          "duration": 0.110083,
          "end_time": "2022-03-20T23:15:44.920240",
          "exception": false,
          "start_time": "2022-03-20T23:15:44.810157",
          "status": "completed"
        },
        "tags": []
      },
      "outputs": [
        {
          "data": {
            "text/plain": [
              "199"
            ]
          },
          "execution_count": 6,
          "metadata": {},
          "output_type": "execute_result"
        }
      ],
      "source": [
        "# Exploração inicial\n",
        "\n",
        "len(data)"
      ]
    },
    {
      "cell_type": "code",
      "execution_count": null,
      "id": "730861ef",
      "metadata": {
        "execution": {
          "iopub.execute_input": "2022-03-20T23:15:45.134899Z",
          "iopub.status.busy": "2022-03-20T23:15:45.134193Z",
          "iopub.status.idle": "2022-03-20T23:15:45.137744Z",
          "shell.execute_reply": "2022-03-20T23:15:45.138444Z",
          "shell.execute_reply.started": "2022-03-20T23:06:37.626649Z"
        },
        "id": "730861ef",
        "papermill": {
          "duration": 0.11209,
          "end_time": "2022-03-20T23:15:45.138619",
          "exception": false,
          "start_time": "2022-03-20T23:15:45.026529",
          "status": "completed"
        },
        "tags": []
      },
      "outputs": [],
      "source": [
        "example = data[0]"
      ]
    },
    {
      "cell_type": "code",
      "execution_count": null,
      "id": "cb3fab64",
      "metadata": {
        "execution": {
          "iopub.execute_input": "2022-03-20T23:15:45.352587Z",
          "iopub.status.busy": "2022-03-20T23:15:45.351830Z",
          "iopub.status.idle": "2022-03-20T23:15:45.357463Z",
          "shell.execute_reply": "2022-03-20T23:15:45.356731Z",
          "shell.execute_reply.started": "2022-03-20T23:06:37.640705Z"
        },
        "id": "cb3fab64",
        "outputId": "a7a1ce8d-9ae7-418f-949d-318e13abe5cc",
        "papermill": {
          "duration": 0.114818,
          "end_time": "2022-03-20T23:15:45.357652",
          "exception": false,
          "start_time": "2022-03-20T23:15:45.242834",
          "status": "completed"
        },
        "tags": []
      },
      "outputs": [
        {
          "name": "stdout",
          "output_type": "stream",
          "text": [
            "dict_keys(['name', 'region', 'origin', 'vehicle_capacity', 'deliveries'])\n"
          ]
        }
      ],
      "source": [
        "print(example.keys())"
      ]
    },
    {
      "cell_type": "code",
      "execution_count": null,
      "id": "c443c515",
      "metadata": {
        "execution": {
          "iopub.execute_input": "2022-03-20T23:15:45.573687Z",
          "iopub.status.busy": "2022-03-20T23:15:45.573032Z",
          "iopub.status.idle": "2022-03-20T23:15:45.578521Z",
          "shell.execute_reply": "2022-03-20T23:15:45.578982Z",
          "shell.execute_reply.started": "2022-03-20T23:06:37.654465Z"
        },
        "id": "c443c515",
        "outputId": "568b6c68-68ea-492b-f118-d84025c6fa0d",
        "papermill": {
          "duration": 0.11482,
          "end_time": "2022-03-20T23:15:45.579159",
          "exception": false,
          "start_time": "2022-03-20T23:15:45.464339",
          "status": "completed"
        },
        "tags": []
      },
      "outputs": [
        {
          "data": {
            "text/plain": [
              "'cvrp-2-df-33'"
            ]
          },
          "execution_count": 9,
          "metadata": {},
          "output_type": "execute_result"
        }
      ],
      "source": [
        "example['name']"
      ]
    },
    {
      "cell_type": "code",
      "execution_count": null,
      "id": "ba48cda5",
      "metadata": {
        "execution": {
          "iopub.execute_input": "2022-03-20T23:15:45.791710Z",
          "iopub.status.busy": "2022-03-20T23:15:45.790967Z",
          "iopub.status.idle": "2022-03-20T23:15:45.795731Z",
          "shell.execute_reply": "2022-03-20T23:15:45.796452Z",
          "shell.execute_reply.started": "2022-03-20T23:06:37.669704Z"
        },
        "id": "ba48cda5",
        "outputId": "de78cc78-be70-48bd-e4c0-0473af87f825",
        "papermill": {
          "duration": 0.111914,
          "end_time": "2022-03-20T23:15:45.796631",
          "exception": false,
          "start_time": "2022-03-20T23:15:45.684717",
          "status": "completed"
        },
        "tags": []
      },
      "outputs": [
        {
          "data": {
            "text/plain": [
              "'df-2'"
            ]
          },
          "execution_count": 10,
          "metadata": {},
          "output_type": "execute_result"
        }
      ],
      "source": [
        "example['region']"
      ]
    },
    {
      "cell_type": "code",
      "execution_count": null,
      "id": "8051aea0",
      "metadata": {
        "execution": {
          "iopub.execute_input": "2022-03-20T23:15:46.010358Z",
          "iopub.status.busy": "2022-03-20T23:15:46.009699Z",
          "iopub.status.idle": "2022-03-20T23:15:46.014395Z",
          "shell.execute_reply": "2022-03-20T23:15:46.014982Z",
          "shell.execute_reply.started": "2022-03-20T23:06:37.677664Z"
        },
        "id": "8051aea0",
        "outputId": "df6302d5-90c1-4e83-d8b8-461fd55a35b1",
        "papermill": {
          "duration": 0.111493,
          "end_time": "2022-03-20T23:15:46.015152",
          "exception": false,
          "start_time": "2022-03-20T23:15:45.903659",
          "status": "completed"
        },
        "tags": []
      },
      "outputs": [
        {
          "data": {
            "text/plain": [
              "-15.83814451122274"
            ]
          },
          "execution_count": 11,
          "metadata": {},
          "output_type": "execute_result"
        }
      ],
      "source": [
        "example['origin']['lat']"
      ]
    },
    {
      "cell_type": "code",
      "execution_count": null,
      "id": "2b031a0b",
      "metadata": {
        "execution": {
          "iopub.execute_input": "2022-03-20T23:15:46.220115Z",
          "iopub.status.busy": "2022-03-20T23:15:46.219507Z",
          "iopub.status.idle": "2022-03-20T23:15:46.223833Z",
          "shell.execute_reply": "2022-03-20T23:15:46.224462Z",
          "shell.execute_reply.started": "2022-03-20T23:06:37.692096Z"
        },
        "id": "2b031a0b",
        "outputId": "6a3498e1-5012-46f1-e7de-8ab08e1c6842",
        "papermill": {
          "duration": 0.107798,
          "end_time": "2022-03-20T23:15:46.224633",
          "exception": false,
          "start_time": "2022-03-20T23:15:46.116835",
          "status": "completed"
        },
        "tags": []
      },
      "outputs": [
        {
          "data": {
            "text/plain": [
              "-48.05498915846707"
            ]
          },
          "execution_count": 12,
          "metadata": {},
          "output_type": "execute_result"
        }
      ],
      "source": [
        "example['origin']['lng']"
      ]
    },
    {
      "cell_type": "code",
      "execution_count": null,
      "id": "bc75a3f1",
      "metadata": {
        "execution": {
          "iopub.execute_input": "2022-03-20T23:15:46.432188Z",
          "iopub.status.busy": "2022-03-20T23:15:46.431582Z",
          "iopub.status.idle": "2022-03-20T23:15:46.436123Z",
          "shell.execute_reply": "2022-03-20T23:15:46.436737Z",
          "shell.execute_reply.started": "2022-03-20T23:06:37.708358Z"
        },
        "id": "bc75a3f1",
        "outputId": "e71e74e6-5798-4af0-9237-6d5fd20e8fc8",
        "papermill": {
          "duration": 0.108406,
          "end_time": "2022-03-20T23:15:46.436908",
          "exception": false,
          "start_time": "2022-03-20T23:15:46.328502",
          "status": "completed"
        },
        "tags": []
      },
      "outputs": [
        {
          "data": {
            "text/plain": [
              "180"
            ]
          },
          "execution_count": 13,
          "metadata": {},
          "output_type": "execute_result"
        }
      ],
      "source": [
        "example['vehicle_capacity']"
      ]
    },
    {
      "cell_type": "code",
      "execution_count": null,
      "id": "b3adf366",
      "metadata": {
        "execution": {
          "iopub.execute_input": "2022-03-20T23:15:46.642605Z",
          "iopub.status.busy": "2022-03-20T23:15:46.642010Z",
          "iopub.status.idle": "2022-03-20T23:15:46.647653Z",
          "shell.execute_reply": "2022-03-20T23:15:46.647155Z",
          "shell.execute_reply.started": "2022-03-20T23:06:37.720717Z"
        },
        "id": "b3adf366",
        "outputId": "2a3f32a5-2cff-4293-8af1-7fa08c686b7b",
        "papermill": {
          "duration": 0.10954,
          "end_time": "2022-03-20T23:15:46.647792",
          "exception": false,
          "start_time": "2022-03-20T23:15:46.538252",
          "status": "completed"
        },
        "tags": []
      },
      "outputs": [
        {
          "data": {
            "text/plain": [
              "-15.848929154862294"
            ]
          },
          "execution_count": 14,
          "metadata": {},
          "output_type": "execute_result"
        }
      ],
      "source": [
        "example['deliveries'][0]['point']['lat']"
      ]
    },
    {
      "cell_type": "markdown",
      "id": "923b0736",
      "metadata": {
        "id": "923b0736",
        "papermill": {
          "duration": 0.100967,
          "end_time": "2022-03-20T23:15:46.850100",
          "exception": false,
          "start_time": "2022-03-20T23:15:46.749133",
          "status": "completed"
        },
        "tags": []
      },
      "source": [
        "### **2.1 Wrangling**"
      ]
    },
    {
      "cell_type": "code",
      "execution_count": null,
      "id": "a28360d9",
      "metadata": {
        "execution": {
          "iopub.execute_input": "2022-03-20T23:15:47.067644Z",
          "iopub.status.busy": "2022-03-20T23:15:47.066925Z",
          "iopub.status.idle": "2022-03-20T23:15:47.429208Z",
          "shell.execute_reply": "2022-03-20T23:15:47.428564Z",
          "shell.execute_reply.started": "2022-03-20T23:06:37.733587Z"
        },
        "id": "a28360d9",
        "outputId": "de79d2e7-6582-4285-edae-04c6a7487a57",
        "papermill": {
          "duration": 0.477732,
          "end_time": "2022-03-20T23:15:47.429400",
          "exception": false,
          "start_time": "2022-03-20T23:15:46.951668",
          "status": "completed"
        },
        "tags": []
      },
      "outputs": [
        {
          "data": {
            "text/html": [
              "<div>\n",
              "<style scoped>\n",
              "    .dataframe tbody tr th:only-of-type {\n",
              "        vertical-align: middle;\n",
              "    }\n",
              "\n",
              "    .dataframe tbody tr th {\n",
              "        vertical-align: top;\n",
              "    }\n",
              "\n",
              "    .dataframe thead th {\n",
              "        text-align: right;\n",
              "    }\n",
              "</style>\n",
              "<table border=\"1\" class=\"dataframe\">\n",
              "  <thead>\n",
              "    <tr style=\"text-align: right;\">\n",
              "      <th></th>\n",
              "      <th>name</th>\n",
              "      <th>region</th>\n",
              "      <th>origin</th>\n",
              "      <th>vehicle_capacity</th>\n",
              "      <th>deliveries</th>\n",
              "    </tr>\n",
              "  </thead>\n",
              "  <tbody>\n",
              "    <tr>\n",
              "      <th>0</th>\n",
              "      <td>cvrp-2-df-33</td>\n",
              "      <td>df-2</td>\n",
              "      <td>{'lng': -48.05498915846707, 'lat': -15.8381445...</td>\n",
              "      <td>180</td>\n",
              "      <td>[{'id': '313483a19d2f8d65cd5024c8d215cfbd', 'p...</td>\n",
              "    </tr>\n",
              "    <tr>\n",
              "      <th>1</th>\n",
              "      <td>cvrp-2-df-73</td>\n",
              "      <td>df-2</td>\n",
              "      <td>{'lng': -48.05498915846707, 'lat': -15.8381445...</td>\n",
              "      <td>180</td>\n",
              "      <td>[{'id': 'bf3fc630b1c29601a4caf1bdd474b85', 'po...</td>\n",
              "    </tr>\n",
              "    <tr>\n",
              "      <th>2</th>\n",
              "      <td>cvrp-2-df-20</td>\n",
              "      <td>df-2</td>\n",
              "      <td>{'lng': -48.05498915846707, 'lat': -15.8381445...</td>\n",
              "      <td>180</td>\n",
              "      <td>[{'id': 'b30f1145a2ba4e0b9ac0162b68d045c3', 'p...</td>\n",
              "    </tr>\n",
              "    <tr>\n",
              "      <th>3</th>\n",
              "      <td>cvrp-1-df-71</td>\n",
              "      <td>df-1</td>\n",
              "      <td>{'lng': -47.89366206897872, 'lat': -15.8051175...</td>\n",
              "      <td>180</td>\n",
              "      <td>[{'id': 'be3ed547394196c12c7c27c89ac74ed6', 'p...</td>\n",
              "    </tr>\n",
              "    <tr>\n",
              "      <th>4</th>\n",
              "      <td>cvrp-2-df-87</td>\n",
              "      <td>df-2</td>\n",
              "      <td>{'lng': -48.05498915846707, 'lat': -15.8381445...</td>\n",
              "      <td>180</td>\n",
              "      <td>[{'id': 'a6328fb4dc0654eb28a996a270b0f6e4', 'p...</td>\n",
              "    </tr>\n",
              "  </tbody>\n",
              "</table>\n",
              "</div>"
            ],
            "text/plain": [
              "           name region                                             origin  \\\n",
              "0  cvrp-2-df-33   df-2  {'lng': -48.05498915846707, 'lat': -15.8381445...   \n",
              "1  cvrp-2-df-73   df-2  {'lng': -48.05498915846707, 'lat': -15.8381445...   \n",
              "2  cvrp-2-df-20   df-2  {'lng': -48.05498915846707, 'lat': -15.8381445...   \n",
              "3  cvrp-1-df-71   df-1  {'lng': -47.89366206897872, 'lat': -15.8051175...   \n",
              "4  cvrp-2-df-87   df-2  {'lng': -48.05498915846707, 'lat': -15.8381445...   \n",
              "\n",
              "   vehicle_capacity                                         deliveries  \n",
              "0               180  [{'id': '313483a19d2f8d65cd5024c8d215cfbd', 'p...  \n",
              "1               180  [{'id': 'bf3fc630b1c29601a4caf1bdd474b85', 'po...  \n",
              "2               180  [{'id': 'b30f1145a2ba4e0b9ac0162b68d045c3', 'p...  \n",
              "3               180  [{'id': 'be3ed547394196c12c7c27c89ac74ed6', 'p...  \n",
              "4               180  [{'id': 'a6328fb4dc0654eb28a996a270b0f6e4', 'p...  "
            ]
          },
          "execution_count": 15,
          "metadata": {},
          "output_type": "execute_result"
        }
      ],
      "source": [
        "# Dado bruto no pandas\n",
        "\n",
        "deliveries_df = pd.DataFrame(data)\n",
        "deliveries_df.head()"
      ]
    },
    {
      "cell_type": "markdown",
      "id": "de0a65e7",
      "metadata": {
        "id": "de0a65e7",
        "papermill": {
          "duration": 0.102758,
          "end_time": "2022-03-20T23:15:47.634756",
          "exception": false,
          "start_time": "2022-03-20T23:15:47.531998",
          "status": "completed"
        },
        "tags": []
      },
      "source": [
        "*   Tanto a coluna `origin` como a coluna `deliveries` contem dados nested ou aninhados na estrutura `JSON`. Primeiro, vamos normalizar a coluna `origin` com uma operação conhecida como `flatten` ou achatamento que transforma cada chave `JSON` em uma nova coluna:"
      ]
    },
    {
      "cell_type": "code",
      "execution_count": null,
      "id": "bc07fe6f",
      "metadata": {
        "execution": {
          "iopub.execute_input": "2022-03-20T23:15:47.842263Z",
          "iopub.status.busy": "2022-03-20T23:15:47.841610Z",
          "iopub.status.idle": "2022-03-20T23:15:47.864253Z",
          "shell.execute_reply": "2022-03-20T23:15:47.864888Z",
          "shell.execute_reply.started": "2022-03-20T23:06:38.092043Z"
        },
        "id": "bc07fe6f",
        "papermill": {
          "duration": 0.128124,
          "end_time": "2022-03-20T23:15:47.865058",
          "exception": false,
          "start_time": "2022-03-20T23:15:47.736934",
          "status": "completed"
        },
        "tags": []
      },
      "outputs": [],
      "source": [
        "hub_origin_df = pd.json_normalize(deliveries_df[\"origin\"])\n",
        "\n",
        "#Depois de realizar o achatamento, vamos juntar os dois DataFrames\n",
        "\n",
        "deliveries_df = pd.merge(left=deliveries_df, right=hub_origin_df, how='inner', left_index=True, right_index=True)\n",
        "deliveries_df = deliveries_df.drop(\"origin\", axis=1)\n",
        "deliveries_df = deliveries_df[[\"name\", \"region\", \"lng\", \"lat\", \"vehicle_capacity\", \"deliveries\"]]\n",
        "deliveries_df.rename(columns={\"lng\": \"hub_lng\", \"lat\": \"hub_lat\"}, inplace=True)\n"
      ]
    },
    {
      "cell_type": "markdown",
      "id": "a059e2d6",
      "metadata": {
        "id": "a059e2d6",
        "papermill": {
          "duration": 0.102034,
          "end_time": "2022-03-20T23:15:48.072169",
          "exception": false,
          "start_time": "2022-03-20T23:15:47.970135",
          "status": "completed"
        },
        "tags": []
      },
      "source": [
        "Com a coluna `deliveries`, que possui uma estrutura mais complexa que `origin`, utilizaremos um outro tipo de operação conhecido como `explode`. O `explode` transforma cada elemento da lista em uma linha. Por fim, faremos o `flatten` do resultado da coluna"
      ]
    },
    {
      "cell_type": "code",
      "execution_count": null,
      "id": "3424f091",
      "metadata": {
        "execution": {
          "iopub.execute_input": "2022-03-20T23:15:48.282012Z",
          "iopub.status.busy": "2022-03-20T23:15:48.281370Z",
          "iopub.status.idle": "2022-03-20T23:15:49.488062Z",
          "shell.execute_reply": "2022-03-20T23:15:49.488599Z",
          "shell.execute_reply.started": "2022-03-20T23:06:38.121490Z"
        },
        "id": "3424f091",
        "papermill": {
          "duration": 1.313433,
          "end_time": "2022-03-20T23:15:49.488775",
          "exception": false,
          "start_time": "2022-03-20T23:15:48.175342",
          "status": "completed"
        },
        "tags": []
      },
      "outputs": [],
      "source": [
        "deliveries_exploded_df = deliveries_df[[\"deliveries\"]].explode(\"deliveries\")\n",
        "\n",
        "deliveries_normalized_df = pd.concat([\n",
        "  pd.DataFrame(deliveries_exploded_df[\"deliveries\"].apply(lambda record: record[\"size\"])).rename(columns={\"deliveries\": \"delivery_size\"}),\n",
        "  pd.DataFrame(deliveries_exploded_df[\"deliveries\"].apply(lambda record: record[\"point\"][\"lng\"])).rename(columns={\"deliveries\": \"delivery_lng\"}),\n",
        "  pd.DataFrame(deliveries_exploded_df[\"deliveries\"].apply(lambda record: record[\"point\"][\"lat\"])).rename(columns={\"deliveries\": \"delivery_lat\"}),\n",
        "], axis= 1)\n",
        "\n",
        "deliveries_df = deliveries_df.drop(\"deliveries\", axis=1)\n",
        "deliveries_df = pd.merge(left=deliveries_df, right=deliveries_normalized_df, how='right', left_index=True, right_index=True)\n",
        "deliveries_df.reset_index(inplace=True, drop=True)"
      ]
    },
    {
      "cell_type": "code",
      "execution_count": null,
      "id": "4cbea5d4",
      "metadata": {
        "execution": {
          "iopub.execute_input": "2022-03-20T23:15:49.695458Z",
          "iopub.status.busy": "2022-03-20T23:15:49.694794Z",
          "iopub.status.idle": "2022-03-20T23:15:49.707445Z",
          "shell.execute_reply": "2022-03-20T23:15:49.707926Z",
          "shell.execute_reply.started": "2022-03-20T23:06:39.350074Z"
        },
        "id": "4cbea5d4",
        "outputId": "36912330-81d5-4099-f1e3-2220047bd745",
        "papermill": {
          "duration": 0.117402,
          "end_time": "2022-03-20T23:15:49.708103",
          "exception": false,
          "start_time": "2022-03-20T23:15:49.590701",
          "status": "completed"
        },
        "tags": []
      },
      "outputs": [
        {
          "data": {
            "text/html": [
              "<div>\n",
              "<style scoped>\n",
              "    .dataframe tbody tr th:only-of-type {\n",
              "        vertical-align: middle;\n",
              "    }\n",
              "\n",
              "    .dataframe tbody tr th {\n",
              "        vertical-align: top;\n",
              "    }\n",
              "\n",
              "    .dataframe thead th {\n",
              "        text-align: right;\n",
              "    }\n",
              "</style>\n",
              "<table border=\"1\" class=\"dataframe\">\n",
              "  <thead>\n",
              "    <tr style=\"text-align: right;\">\n",
              "      <th></th>\n",
              "      <th>name</th>\n",
              "      <th>region</th>\n",
              "      <th>hub_lng</th>\n",
              "      <th>hub_lat</th>\n",
              "      <th>vehicle_capacity</th>\n",
              "      <th>delivery_size</th>\n",
              "      <th>delivery_lng</th>\n",
              "      <th>delivery_lat</th>\n",
              "    </tr>\n",
              "  </thead>\n",
              "  <tbody>\n",
              "    <tr>\n",
              "      <th>0</th>\n",
              "      <td>cvrp-2-df-33</td>\n",
              "      <td>df-2</td>\n",
              "      <td>-48.054989</td>\n",
              "      <td>-15.838145</td>\n",
              "      <td>180</td>\n",
              "      <td>9</td>\n",
              "      <td>-48.116189</td>\n",
              "      <td>-15.848929</td>\n",
              "    </tr>\n",
              "    <tr>\n",
              "      <th>1</th>\n",
              "      <td>cvrp-2-df-33</td>\n",
              "      <td>df-2</td>\n",
              "      <td>-48.054989</td>\n",
              "      <td>-15.838145</td>\n",
              "      <td>180</td>\n",
              "      <td>2</td>\n",
              "      <td>-48.118195</td>\n",
              "      <td>-15.850772</td>\n",
              "    </tr>\n",
              "    <tr>\n",
              "      <th>2</th>\n",
              "      <td>cvrp-2-df-33</td>\n",
              "      <td>df-2</td>\n",
              "      <td>-48.054989</td>\n",
              "      <td>-15.838145</td>\n",
              "      <td>180</td>\n",
              "      <td>1</td>\n",
              "      <td>-48.112483</td>\n",
              "      <td>-15.847871</td>\n",
              "    </tr>\n",
              "    <tr>\n",
              "      <th>3</th>\n",
              "      <td>cvrp-2-df-33</td>\n",
              "      <td>df-2</td>\n",
              "      <td>-48.054989</td>\n",
              "      <td>-15.838145</td>\n",
              "      <td>180</td>\n",
              "      <td>2</td>\n",
              "      <td>-48.118023</td>\n",
              "      <td>-15.846471</td>\n",
              "    </tr>\n",
              "    <tr>\n",
              "      <th>4</th>\n",
              "      <td>cvrp-2-df-33</td>\n",
              "      <td>df-2</td>\n",
              "      <td>-48.054989</td>\n",
              "      <td>-15.838145</td>\n",
              "      <td>180</td>\n",
              "      <td>7</td>\n",
              "      <td>-48.114898</td>\n",
              "      <td>-15.858055</td>\n",
              "    </tr>\n",
              "  </tbody>\n",
              "</table>\n",
              "</div>"
            ],
            "text/plain": [
              "           name region    hub_lng    hub_lat  vehicle_capacity  delivery_size  \\\n",
              "0  cvrp-2-df-33   df-2 -48.054989 -15.838145               180              9   \n",
              "1  cvrp-2-df-33   df-2 -48.054989 -15.838145               180              2   \n",
              "2  cvrp-2-df-33   df-2 -48.054989 -15.838145               180              1   \n",
              "3  cvrp-2-df-33   df-2 -48.054989 -15.838145               180              2   \n",
              "4  cvrp-2-df-33   df-2 -48.054989 -15.838145               180              7   \n",
              "\n",
              "   delivery_lng  delivery_lat  \n",
              "0    -48.116189    -15.848929  \n",
              "1    -48.118195    -15.850772  \n",
              "2    -48.112483    -15.847871  \n",
              "3    -48.118023    -15.846471  \n",
              "4    -48.114898    -15.858055  "
            ]
          },
          "execution_count": 18,
          "metadata": {},
          "output_type": "execute_result"
        }
      ],
      "source": [
        "deliveries_df.head()"
      ]
    },
    {
      "cell_type": "markdown",
      "id": "38979f0e",
      "metadata": {
        "id": "38979f0e",
        "papermill": {
          "duration": 0.10228,
          "end_time": "2022-03-20T23:15:49.912853",
          "exception": false,
          "start_time": "2022-03-20T23:15:49.810573",
          "status": "completed"
        },
        "tags": []
      },
      "source": [
        "Agora com os dados estruturados e normalizados, é interessante conhecer melhor a estrutura desse conjunto"
      ]
    },
    {
      "cell_type": "markdown",
      "id": "f5c1b08d",
      "metadata": {
        "id": "f5c1b08d",
        "papermill": {
          "duration": 0.103325,
          "end_time": "2022-03-20T23:15:50.119553",
          "exception": false,
          "start_time": "2022-03-20T23:15:50.016228",
          "status": "completed"
        },
        "tags": []
      },
      "source": [
        "### **2.2 Estrutura**"
      ]
    },
    {
      "cell_type": "code",
      "execution_count": null,
      "id": "28d93fd4",
      "metadata": {
        "execution": {
          "iopub.execute_input": "2022-03-20T23:15:50.329491Z",
          "iopub.status.busy": "2022-03-20T23:15:50.328800Z",
          "iopub.status.idle": "2022-03-20T23:15:50.333148Z",
          "shell.execute_reply": "2022-03-20T23:15:50.333677Z",
          "shell.execute_reply.started": "2022-03-20T23:06:39.369214Z"
        },
        "id": "28d93fd4",
        "outputId": "c781bda8-9e90-4b1b-ae0f-028b00096017",
        "papermill": {
          "duration": 0.111667,
          "end_time": "2022-03-20T23:15:50.333842",
          "exception": false,
          "start_time": "2022-03-20T23:15:50.222175",
          "status": "completed"
        },
        "tags": []
      },
      "outputs": [
        {
          "data": {
            "text/plain": [
              "(636149, 8)"
            ]
          },
          "execution_count": 19,
          "metadata": {},
          "output_type": "execute_result"
        }
      ],
      "source": [
        "deliveries_df.shape"
      ]
    },
    {
      "cell_type": "code",
      "execution_count": null,
      "id": "2269ad57",
      "metadata": {
        "execution": {
          "iopub.execute_input": "2022-03-20T23:15:50.543368Z",
          "iopub.status.busy": "2022-03-20T23:15:50.542734Z",
          "iopub.status.idle": "2022-03-20T23:15:50.548461Z",
          "shell.execute_reply": "2022-03-20T23:15:50.548945Z",
          "shell.execute_reply.started": "2022-03-20T23:06:39.383036Z"
        },
        "id": "2269ad57",
        "outputId": "a5e13f5d-6be9-4c0b-bdd2-40004c528242",
        "papermill": {
          "duration": 0.112235,
          "end_time": "2022-03-20T23:15:50.549119",
          "exception": false,
          "start_time": "2022-03-20T23:15:50.436884",
          "status": "completed"
        },
        "tags": []
      },
      "outputs": [
        {
          "data": {
            "text/plain": [
              "Index(['name', 'region', 'hub_lng', 'hub_lat', 'vehicle_capacity',\n",
              "       'delivery_size', 'delivery_lng', 'delivery_lat'],\n",
              "      dtype='object')"
            ]
          },
          "execution_count": 20,
          "metadata": {},
          "output_type": "execute_result"
        }
      ],
      "source": [
        "deliveries_df.columns"
      ]
    },
    {
      "cell_type": "code",
      "execution_count": null,
      "id": "f021c061",
      "metadata": {
        "execution": {
          "iopub.execute_input": "2022-03-20T23:15:50.758721Z",
          "iopub.status.busy": "2022-03-20T23:15:50.758081Z",
          "iopub.status.idle": "2022-03-20T23:15:50.763357Z",
          "shell.execute_reply": "2022-03-20T23:15:50.762845Z",
          "shell.execute_reply.started": "2022-03-20T23:06:39.397819Z"
        },
        "id": "f021c061",
        "outputId": "2c35a673-5bc9-456d-a277-cd8a8f5f82da",
        "papermill": {
          "duration": 0.111035,
          "end_time": "2022-03-20T23:15:50.763500",
          "exception": false,
          "start_time": "2022-03-20T23:15:50.652465",
          "status": "completed"
        },
        "tags": []
      },
      "outputs": [
        {
          "data": {
            "text/plain": [
              "RangeIndex(start=0, stop=636149, step=1)"
            ]
          },
          "execution_count": 21,
          "metadata": {},
          "output_type": "execute_result"
        }
      ],
      "source": [
        "deliveries_df.index"
      ]
    },
    {
      "cell_type": "code",
      "execution_count": null,
      "id": "48707a17",
      "metadata": {
        "execution": {
          "iopub.execute_input": "2022-03-20T23:15:50.976950Z",
          "iopub.status.busy": "2022-03-20T23:15:50.976036Z",
          "iopub.status.idle": "2022-03-20T23:15:51.132862Z",
          "shell.execute_reply": "2022-03-20T23:15:51.132164Z",
          "shell.execute_reply.started": "2022-03-20T23:06:39.410716Z"
        },
        "id": "48707a17",
        "outputId": "f1ae9501-0c4a-4157-bcc5-9bfe0393d7d3",
        "papermill": {
          "duration": 0.265647,
          "end_time": "2022-03-20T23:15:51.133018",
          "exception": false,
          "start_time": "2022-03-20T23:15:50.867371",
          "status": "completed"
        },
        "tags": []
      },
      "outputs": [
        {
          "name": "stdout",
          "output_type": "stream",
          "text": [
            "<class 'pandas.core.frame.DataFrame'>\n",
            "RangeIndex: 636149 entries, 0 to 636148\n",
            "Data columns (total 8 columns):\n",
            " #   Column            Non-Null Count   Dtype  \n",
            "---  ------            --------------   -----  \n",
            " 0   name              636149 non-null  object \n",
            " 1   region            636149 non-null  object \n",
            " 2   hub_lng           636149 non-null  float64\n",
            " 3   hub_lat           636149 non-null  float64\n",
            " 4   vehicle_capacity  636149 non-null  int64  \n",
            " 5   delivery_size     636149 non-null  int64  \n",
            " 6   delivery_lng      636149 non-null  float64\n",
            " 7   delivery_lat      636149 non-null  float64\n",
            "dtypes: float64(4), int64(2), object(2)\n",
            "memory usage: 38.8+ MB\n"
          ]
        }
      ],
      "source": [
        "deliveries_df.info()"
      ]
    },
    {
      "cell_type": "markdown",
      "id": "612b389f",
      "metadata": {
        "id": "612b389f",
        "papermill": {
          "duration": 0.105918,
          "end_time": "2022-03-20T23:15:51.343992",
          "exception": false,
          "start_time": "2022-03-20T23:15:51.238074",
          "status": "completed"
        },
        "tags": []
      },
      "source": [
        "### **2.3 Schema**"
      ]
    },
    {
      "cell_type": "code",
      "execution_count": null,
      "id": "353adca9",
      "metadata": {
        "execution": {
          "iopub.execute_input": "2022-03-20T23:15:51.561304Z",
          "iopub.status.busy": "2022-03-20T23:15:51.560667Z",
          "iopub.status.idle": "2022-03-20T23:15:51.571479Z",
          "shell.execute_reply": "2022-03-20T23:15:51.570929Z",
          "shell.execute_reply.started": "2022-03-20T23:06:39.586183Z"
        },
        "id": "353adca9",
        "outputId": "5ad43062-5306-4a10-d267-289049e4f9fe",
        "papermill": {
          "duration": 0.120963,
          "end_time": "2022-03-20T23:15:51.571618",
          "exception": false,
          "start_time": "2022-03-20T23:15:51.450655",
          "status": "completed"
        },
        "tags": []
      },
      "outputs": [
        {
          "data": {
            "text/html": [
              "<div>\n",
              "<style scoped>\n",
              "    .dataframe tbody tr th:only-of-type {\n",
              "        vertical-align: middle;\n",
              "    }\n",
              "\n",
              "    .dataframe tbody tr th {\n",
              "        vertical-align: top;\n",
              "    }\n",
              "\n",
              "    .dataframe thead th {\n",
              "        text-align: right;\n",
              "    }\n",
              "</style>\n",
              "<table border=\"1\" class=\"dataframe\">\n",
              "  <thead>\n",
              "    <tr style=\"text-align: right;\">\n",
              "      <th></th>\n",
              "      <th>name</th>\n",
              "      <th>region</th>\n",
              "      <th>hub_lng</th>\n",
              "      <th>hub_lat</th>\n",
              "      <th>vehicle_capacity</th>\n",
              "      <th>delivery_size</th>\n",
              "      <th>delivery_lng</th>\n",
              "      <th>delivery_lat</th>\n",
              "    </tr>\n",
              "  </thead>\n",
              "  <tbody>\n",
              "    <tr>\n",
              "      <th>0</th>\n",
              "      <td>cvrp-2-df-33</td>\n",
              "      <td>df-2</td>\n",
              "      <td>-48.054989</td>\n",
              "      <td>-15.838145</td>\n",
              "      <td>180</td>\n",
              "      <td>9</td>\n",
              "      <td>-48.116189</td>\n",
              "      <td>-15.848929</td>\n",
              "    </tr>\n",
              "    <tr>\n",
              "      <th>1</th>\n",
              "      <td>cvrp-2-df-33</td>\n",
              "      <td>df-2</td>\n",
              "      <td>-48.054989</td>\n",
              "      <td>-15.838145</td>\n",
              "      <td>180</td>\n",
              "      <td>2</td>\n",
              "      <td>-48.118195</td>\n",
              "      <td>-15.850772</td>\n",
              "    </tr>\n",
              "    <tr>\n",
              "      <th>2</th>\n",
              "      <td>cvrp-2-df-33</td>\n",
              "      <td>df-2</td>\n",
              "      <td>-48.054989</td>\n",
              "      <td>-15.838145</td>\n",
              "      <td>180</td>\n",
              "      <td>1</td>\n",
              "      <td>-48.112483</td>\n",
              "      <td>-15.847871</td>\n",
              "    </tr>\n",
              "    <tr>\n",
              "      <th>3</th>\n",
              "      <td>cvrp-2-df-33</td>\n",
              "      <td>df-2</td>\n",
              "      <td>-48.054989</td>\n",
              "      <td>-15.838145</td>\n",
              "      <td>180</td>\n",
              "      <td>2</td>\n",
              "      <td>-48.118023</td>\n",
              "      <td>-15.846471</td>\n",
              "    </tr>\n",
              "    <tr>\n",
              "      <th>4</th>\n",
              "      <td>cvrp-2-df-33</td>\n",
              "      <td>df-2</td>\n",
              "      <td>-48.054989</td>\n",
              "      <td>-15.838145</td>\n",
              "      <td>180</td>\n",
              "      <td>7</td>\n",
              "      <td>-48.114898</td>\n",
              "      <td>-15.858055</td>\n",
              "    </tr>\n",
              "  </tbody>\n",
              "</table>\n",
              "</div>"
            ],
            "text/plain": [
              "           name region    hub_lng    hub_lat  vehicle_capacity  delivery_size  \\\n",
              "0  cvrp-2-df-33   df-2 -48.054989 -15.838145               180              9   \n",
              "1  cvrp-2-df-33   df-2 -48.054989 -15.838145               180              2   \n",
              "2  cvrp-2-df-33   df-2 -48.054989 -15.838145               180              1   \n",
              "3  cvrp-2-df-33   df-2 -48.054989 -15.838145               180              2   \n",
              "4  cvrp-2-df-33   df-2 -48.054989 -15.838145               180              7   \n",
              "\n",
              "   delivery_lng  delivery_lat  \n",
              "0    -48.116189    -15.848929  \n",
              "1    -48.118195    -15.850772  \n",
              "2    -48.112483    -15.847871  \n",
              "3    -48.118023    -15.846471  \n",
              "4    -48.114898    -15.858055  "
            ]
          },
          "execution_count": 23,
          "metadata": {},
          "output_type": "execute_result"
        }
      ],
      "source": [
        "deliveries_df.head()"
      ]
    },
    {
      "cell_type": "markdown",
      "id": "5b655c81",
      "metadata": {
        "id": "5b655c81",
        "papermill": {
          "duration": 0.105521,
          "end_time": "2022-03-20T23:15:51.784155",
          "exception": false,
          "start_time": "2022-03-20T23:15:51.678634",
          "status": "completed"
        },
        "tags": []
      },
      "source": [
        "*   Atributos **categóricos**"
      ]
    },
    {
      "cell_type": "code",
      "execution_count": null,
      "id": "f8d31405",
      "metadata": {
        "execution": {
          "iopub.execute_input": "2022-03-20T23:15:52.000523Z",
          "iopub.status.busy": "2022-03-20T23:15:51.999885Z",
          "iopub.status.idle": "2022-03-20T23:15:52.365190Z",
          "shell.execute_reply": "2022-03-20T23:15:52.365724Z",
          "shell.execute_reply.started": "2022-03-20T23:06:39.603602Z"
        },
        "id": "f8d31405",
        "outputId": "768d9aa3-b789-4585-c920-87d45cf913ab",
        "papermill": {
          "duration": 0.475162,
          "end_time": "2022-03-20T23:15:52.365900",
          "exception": false,
          "start_time": "2022-03-20T23:15:51.890738",
          "status": "completed"
        },
        "tags": []
      },
      "outputs": [
        {
          "data": {
            "text/html": [
              "<div>\n",
              "<style scoped>\n",
              "    .dataframe tbody tr th:only-of-type {\n",
              "        vertical-align: middle;\n",
              "    }\n",
              "\n",
              "    .dataframe tbody tr th {\n",
              "        vertical-align: top;\n",
              "    }\n",
              "\n",
              "    .dataframe thead th {\n",
              "        text-align: right;\n",
              "    }\n",
              "</style>\n",
              "<table border=\"1\" class=\"dataframe\">\n",
              "  <thead>\n",
              "    <tr style=\"text-align: right;\">\n",
              "      <th></th>\n",
              "      <th>count</th>\n",
              "      <th>unique</th>\n",
              "      <th>top</th>\n",
              "      <th>freq</th>\n",
              "    </tr>\n",
              "  </thead>\n",
              "  <tbody>\n",
              "    <tr>\n",
              "      <th>name</th>\n",
              "      <td>636149</td>\n",
              "      <td>199</td>\n",
              "      <td>cvrp-1-df-87</td>\n",
              "      <td>5636</td>\n",
              "    </tr>\n",
              "    <tr>\n",
              "      <th>region</th>\n",
              "      <td>636149</td>\n",
              "      <td>3</td>\n",
              "      <td>df-1</td>\n",
              "      <td>304708</td>\n",
              "    </tr>\n",
              "  </tbody>\n",
              "</table>\n",
              "</div>"
            ],
            "text/plain": [
              "         count unique           top    freq\n",
              "name    636149    199  cvrp-1-df-87    5636\n",
              "region  636149      3          df-1  304708"
            ]
          },
          "execution_count": 24,
          "metadata": {},
          "output_type": "execute_result"
        }
      ],
      "source": [
        "deliveries_df.select_dtypes(\"object\").describe().transpose()"
      ]
    },
    {
      "cell_type": "markdown",
      "id": "ac099418",
      "metadata": {
        "id": "ac099418",
        "papermill": {
          "duration": 0.10533,
          "end_time": "2022-03-20T23:15:52.579100",
          "exception": false,
          "start_time": "2022-03-20T23:15:52.473770",
          "status": "completed"
        },
        "tags": []
      },
      "source": [
        "*   Atributos **numéricos**"
      ]
    },
    {
      "cell_type": "code",
      "execution_count": null,
      "id": "69a45c04",
      "metadata": {
        "execution": {
          "iopub.execute_input": "2022-03-20T23:15:52.808179Z",
          "iopub.status.busy": "2022-03-20T23:15:52.807450Z",
          "iopub.status.idle": "2022-03-20T23:15:52.867560Z",
          "shell.execute_reply": "2022-03-20T23:15:52.868087Z",
          "shell.execute_reply.started": "2022-03-20T23:06:39.986403Z"
        },
        "id": "69a45c04",
        "outputId": "37ba414d-d26c-4109-d405-cbb44e5a1999",
        "papermill": {
          "duration": 0.183333,
          "end_time": "2022-03-20T23:15:52.868256",
          "exception": false,
          "start_time": "2022-03-20T23:15:52.684923",
          "status": "completed"
        },
        "tags": []
      },
      "outputs": [
        {
          "data": {
            "text/html": [
              "<div>\n",
              "<style scoped>\n",
              "    .dataframe tbody tr th:only-of-type {\n",
              "        vertical-align: middle;\n",
              "    }\n",
              "\n",
              "    .dataframe tbody tr th {\n",
              "        vertical-align: top;\n",
              "    }\n",
              "\n",
              "    .dataframe thead th {\n",
              "        text-align: right;\n",
              "    }\n",
              "</style>\n",
              "<table border=\"1\" class=\"dataframe\">\n",
              "  <thead>\n",
              "    <tr style=\"text-align: right;\">\n",
              "      <th></th>\n",
              "      <th>count</th>\n",
              "      <th>mean</th>\n",
              "      <th>std</th>\n",
              "      <th>min</th>\n",
              "      <th>25%</th>\n",
              "      <th>50%</th>\n",
              "      <th>75%</th>\n",
              "      <th>max</th>\n",
              "    </tr>\n",
              "  </thead>\n",
              "  <tbody>\n",
              "    <tr>\n",
              "      <th>vehicle_capacity</th>\n",
              "      <td>636149.0</td>\n",
              "      <td>180.000000</td>\n",
              "      <td>0.000000</td>\n",
              "      <td>180.0</td>\n",
              "      <td>180.0</td>\n",
              "      <td>180.0</td>\n",
              "      <td>180.0</td>\n",
              "      <td>180.0</td>\n",
              "    </tr>\n",
              "    <tr>\n",
              "      <th>delivery_size</th>\n",
              "      <td>636149.0</td>\n",
              "      <td>5.512111</td>\n",
              "      <td>2.874557</td>\n",
              "      <td>1.0</td>\n",
              "      <td>3.0</td>\n",
              "      <td>6.0</td>\n",
              "      <td>8.0</td>\n",
              "      <td>10.0</td>\n",
              "    </tr>\n",
              "  </tbody>\n",
              "</table>\n",
              "</div>"
            ],
            "text/plain": [
              "                     count        mean       std    min    25%    50%    75%  \\\n",
              "vehicle_capacity  636149.0  180.000000  0.000000  180.0  180.0  180.0  180.0   \n",
              "delivery_size     636149.0    5.512111  2.874557    1.0    3.0    6.0    8.0   \n",
              "\n",
              "                    max  \n",
              "vehicle_capacity  180.0  \n",
              "delivery_size      10.0  "
            ]
          },
          "execution_count": 25,
          "metadata": {},
          "output_type": "execute_result"
        }
      ],
      "source": [
        "deliveries_df.drop([\"name\", \"region\"], axis=1).select_dtypes('int64').describe().transpose()"
      ]
    },
    {
      "cell_type": "code",
      "execution_count": null,
      "id": "a29525bc",
      "metadata": {
        "execution": {
          "iopub.execute_input": "2022-03-20T23:15:53.087999Z",
          "iopub.status.busy": "2022-03-20T23:15:53.086982Z",
          "iopub.status.idle": "2022-03-20T23:15:53.441838Z",
          "shell.execute_reply": "2022-03-20T23:15:53.442377Z",
          "shell.execute_reply.started": "2022-03-20T23:06:40.073616Z"
        },
        "id": "a29525bc",
        "outputId": "5482ff44-8054-4f78-a231-8476fba74b1e",
        "papermill": {
          "duration": 0.466346,
          "end_time": "2022-03-20T23:15:53.442547",
          "exception": false,
          "start_time": "2022-03-20T23:15:52.976201",
          "status": "completed"
        },
        "tags": []
      },
      "outputs": [
        {
          "data": {
            "text/html": [
              "<div>\n",
              "<style scoped>\n",
              "    .dataframe tbody tr th:only-of-type {\n",
              "        vertical-align: middle;\n",
              "    }\n",
              "\n",
              "    .dataframe tbody tr th {\n",
              "        vertical-align: top;\n",
              "    }\n",
              "\n",
              "    .dataframe thead th {\n",
              "        text-align: right;\n",
              "    }\n",
              "</style>\n",
              "<table border=\"1\" class=\"dataframe\">\n",
              "  <thead>\n",
              "    <tr style=\"text-align: right;\">\n",
              "      <th></th>\n",
              "      <th>delivery_lng</th>\n",
              "      <th>delivery_lat</th>\n",
              "      <th>counts</th>\n",
              "    </tr>\n",
              "  </thead>\n",
              "  <tbody>\n",
              "    <tr>\n",
              "      <th>195776</th>\n",
              "      <td>-47.892584</td>\n",
              "      <td>-15.817557</td>\n",
              "      <td>12</td>\n",
              "    </tr>\n",
              "    <tr>\n",
              "      <th>282110</th>\n",
              "      <td>-47.753464</td>\n",
              "      <td>-15.747597</td>\n",
              "      <td>10</td>\n",
              "    </tr>\n",
              "    <tr>\n",
              "      <th>62530</th>\n",
              "      <td>-48.054498</td>\n",
              "      <td>-16.021173</td>\n",
              "      <td>10</td>\n",
              "    </tr>\n",
              "    <tr>\n",
              "      <th>256421</th>\n",
              "      <td>-47.827307</td>\n",
              "      <td>-15.676228</td>\n",
              "      <td>10</td>\n",
              "    </tr>\n",
              "    <tr>\n",
              "      <th>148222</th>\n",
              "      <td>-47.929740</td>\n",
              "      <td>-15.797443</td>\n",
              "      <td>10</td>\n",
              "    </tr>\n",
              "    <tr>\n",
              "      <th>199436</th>\n",
              "      <td>-47.891135</td>\n",
              "      <td>-15.755188</td>\n",
              "      <td>9</td>\n",
              "    </tr>\n",
              "    <tr>\n",
              "      <th>232883</th>\n",
              "      <td>-47.875289</td>\n",
              "      <td>-15.733252</td>\n",
              "      <td>9</td>\n",
              "    </tr>\n",
              "    <tr>\n",
              "      <th>232907</th>\n",
              "      <td>-47.875265</td>\n",
              "      <td>-15.778612</td>\n",
              "      <td>9</td>\n",
              "    </tr>\n",
              "    <tr>\n",
              "      <th>275710</th>\n",
              "      <td>-47.778162</td>\n",
              "      <td>-15.778050</td>\n",
              "      <td>9</td>\n",
              "    </tr>\n",
              "    <tr>\n",
              "      <th>133984</th>\n",
              "      <td>-47.945338</td>\n",
              "      <td>-15.807313</td>\n",
              "      <td>9</td>\n",
              "    </tr>\n",
              "  </tbody>\n",
              "</table>\n",
              "</div>"
            ],
            "text/plain": [
              "        delivery_lng  delivery_lat  counts\n",
              "195776    -47.892584    -15.817557      12\n",
              "282110    -47.753464    -15.747597      10\n",
              "62530     -48.054498    -16.021173      10\n",
              "256421    -47.827307    -15.676228      10\n",
              "148222    -47.929740    -15.797443      10\n",
              "199436    -47.891135    -15.755188       9\n",
              "232883    -47.875289    -15.733252       9\n",
              "232907    -47.875265    -15.778612       9\n",
              "275710    -47.778162    -15.778050       9\n",
              "133984    -47.945338    -15.807313       9"
            ]
          },
          "execution_count": 26,
          "metadata": {},
          "output_type": "execute_result"
        }
      ],
      "source": [
        "# Locais mais frequentes \n",
        "\n",
        "locais_mais_frequentes_df = deliveries_df.groupby(['delivery_lng', 'delivery_lat'])\n",
        "locais_mais_frequentes_df = locais_mais_frequentes_df.size().reset_index(name='counts')\n",
        "locais_mais_frequentes_df.sort_values(by=['counts'], ascending=False).head(10)"
      ]
    },
    {
      "cell_type": "markdown",
      "id": "39532a74",
      "metadata": {
        "id": "39532a74",
        "papermill": {
          "duration": 0.108264,
          "end_time": "2022-03-20T23:15:53.658679",
          "exception": false,
          "start_time": "2022-03-20T23:15:53.550415",
          "status": "completed"
        },
        "tags": []
      },
      "source": [
        "Vemos que os locais de entrega não se repetem muito, tendo em vista que o DataFrame possui mais de 600 mil entregas"
      ]
    },
    {
      "cell_type": "code",
      "execution_count": null,
      "id": "05438434",
      "metadata": {
        "execution": {
          "iopub.execute_input": "2022-03-20T23:15:53.888980Z",
          "iopub.status.busy": "2022-03-20T23:15:53.888013Z",
          "iopub.status.idle": "2022-03-20T23:15:53.938679Z",
          "shell.execute_reply": "2022-03-20T23:15:53.938013Z",
          "shell.execute_reply.started": "2022-03-20T23:06:40.434222Z"
        },
        "id": "05438434",
        "outputId": "145e282b-e086-4d6c-a090-b2996642b276",
        "papermill": {
          "duration": 0.173089,
          "end_time": "2022-03-20T23:15:53.938841",
          "exception": false,
          "start_time": "2022-03-20T23:15:53.765752",
          "status": "completed"
        },
        "tags": []
      },
      "outputs": [
        {
          "data": {
            "text/html": [
              "<div>\n",
              "<style scoped>\n",
              "    .dataframe tbody tr th:only-of-type {\n",
              "        vertical-align: middle;\n",
              "    }\n",
              "\n",
              "    .dataframe tbody tr th {\n",
              "        vertical-align: top;\n",
              "    }\n",
              "\n",
              "    .dataframe thead th {\n",
              "        text-align: right;\n",
              "    }\n",
              "</style>\n",
              "<table border=\"1\" class=\"dataframe\">\n",
              "  <thead>\n",
              "    <tr style=\"text-align: right;\">\n",
              "      <th></th>\n",
              "      <th>region</th>\n",
              "      <th>counts</th>\n",
              "    </tr>\n",
              "  </thead>\n",
              "  <tbody>\n",
              "    <tr>\n",
              "      <th>1</th>\n",
              "      <td>df-1</td>\n",
              "      <td>304708</td>\n",
              "    </tr>\n",
              "    <tr>\n",
              "      <th>2</th>\n",
              "      <td>df-2</td>\n",
              "      <td>261319</td>\n",
              "    </tr>\n",
              "    <tr>\n",
              "      <th>0</th>\n",
              "      <td>df-0</td>\n",
              "      <td>70122</td>\n",
              "    </tr>\n",
              "  </tbody>\n",
              "</table>\n",
              "</div>"
            ],
            "text/plain": [
              "  region  counts\n",
              "1   df-1  304708\n",
              "2   df-2  261319\n",
              "0   df-0   70122"
            ]
          },
          "execution_count": 27,
          "metadata": {},
          "output_type": "execute_result"
        }
      ],
      "source": [
        "# Hubs com mais entregas\n",
        "\n",
        "frequencia_hub_df = deliveries_df.groupby('region')\n",
        "frequencia_hub_df = frequencia_hub_df.size().reset_index(name='counts')\n",
        "frequencia_hub_df.sort_values(by=['counts'], ascending=False)\n"
      ]
    },
    {
      "cell_type": "code",
      "execution_count": null,
      "id": "edcb006a",
      "metadata": {
        "execution": {
          "iopub.execute_input": "2022-03-20T23:15:54.169819Z",
          "iopub.status.busy": "2022-03-20T23:15:54.169138Z",
          "iopub.status.idle": "2022-03-20T23:15:54.240678Z",
          "shell.execute_reply": "2022-03-20T23:15:54.240036Z",
          "shell.execute_reply.started": "2022-03-20T23:06:40.505749Z"
        },
        "id": "edcb006a",
        "outputId": "4049b297-cf7e-4aa2-cedb-f3d93fccac29",
        "papermill": {
          "duration": 0.192715,
          "end_time": "2022-03-20T23:15:54.240822",
          "exception": false,
          "start_time": "2022-03-20T23:15:54.048107",
          "status": "completed"
        },
        "tags": []
      },
      "outputs": [
        {
          "data": {
            "text/html": [
              "<div>\n",
              "<style scoped>\n",
              "    .dataframe tbody tr th:only-of-type {\n",
              "        vertical-align: middle;\n",
              "    }\n",
              "\n",
              "    .dataframe tbody tr th {\n",
              "        vertical-align: top;\n",
              "    }\n",
              "\n",
              "    .dataframe thead th {\n",
              "        text-align: right;\n",
              "    }\n",
              "</style>\n",
              "<table border=\"1\" class=\"dataframe\">\n",
              "  <thead>\n",
              "    <tr style=\"text-align: right;\">\n",
              "      <th></th>\n",
              "      <th>vehicle_capacity</th>\n",
              "    </tr>\n",
              "    <tr>\n",
              "      <th>region</th>\n",
              "      <th></th>\n",
              "    </tr>\n",
              "  </thead>\n",
              "  <tbody>\n",
              "    <tr>\n",
              "      <th>df-1</th>\n",
              "      <td>54847440</td>\n",
              "    </tr>\n",
              "    <tr>\n",
              "      <th>df-2</th>\n",
              "      <td>47037420</td>\n",
              "    </tr>\n",
              "    <tr>\n",
              "      <th>df-0</th>\n",
              "      <td>12621960</td>\n",
              "    </tr>\n",
              "  </tbody>\n",
              "</table>\n",
              "</div>"
            ],
            "text/plain": [
              "        vehicle_capacity\n",
              "region                  \n",
              "df-1            54847440\n",
              "df-2            47037420\n",
              "df-0            12621960"
            ]
          },
          "execution_count": 28,
          "metadata": {},
          "output_type": "execute_result"
        }
      ],
      "source": [
        "# Capacidade total dos veículos por Hub\n",
        "\n",
        "capacidade_total_veiculos = deliveries_df[['region', 'vehicle_capacity']].groupby('region').agg('sum').sort_values(by=['vehicle_capacity'], ascending=False)\n",
        "capacidade_total_veiculos"
      ]
    },
    {
      "cell_type": "markdown",
      "id": "fc2f1775",
      "metadata": {
        "id": "fc2f1775",
        "papermill": {
          "duration": 0.108023,
          "end_time": "2022-03-20T23:15:54.457251",
          "exception": false,
          "start_time": "2022-03-20T23:15:54.349228",
          "status": "completed"
        },
        "tags": []
      },
      "source": [
        "A capacidade dos veículos por Hub parece estar condizente com a quantidade de entregas de cada Hub"
      ]
    },
    {
      "cell_type": "code",
      "execution_count": null,
      "id": "ed9ef456",
      "metadata": {
        "execution": {
          "iopub.execute_input": "2022-03-20T23:15:54.698408Z",
          "iopub.status.busy": "2022-03-20T23:15:54.679582Z",
          "iopub.status.idle": "2022-03-20T23:15:54.750480Z",
          "shell.execute_reply": "2022-03-20T23:15:54.750944Z",
          "shell.execute_reply.started": "2022-03-20T23:06:40.587585Z"
        },
        "id": "ed9ef456",
        "outputId": "464dcc6e-7e5c-412d-cd5d-da2ebb61d9db",
        "papermill": {
          "duration": 0.18584,
          "end_time": "2022-03-20T23:15:54.751122",
          "exception": false,
          "start_time": "2022-03-20T23:15:54.565282",
          "status": "completed"
        },
        "tags": []
      },
      "outputs": [
        {
          "data": {
            "text/html": [
              "<div>\n",
              "<style scoped>\n",
              "    .dataframe tbody tr th:only-of-type {\n",
              "        vertical-align: middle;\n",
              "    }\n",
              "\n",
              "    .dataframe tbody tr th {\n",
              "        vertical-align: top;\n",
              "    }\n",
              "\n",
              "    .dataframe thead th {\n",
              "        text-align: right;\n",
              "    }\n",
              "</style>\n",
              "<table border=\"1\" class=\"dataframe\">\n",
              "  <thead>\n",
              "    <tr style=\"text-align: right;\">\n",
              "      <th></th>\n",
              "      <th>delivery_size</th>\n",
              "    </tr>\n",
              "    <tr>\n",
              "      <th>region</th>\n",
              "      <th></th>\n",
              "    </tr>\n",
              "  </thead>\n",
              "  <tbody>\n",
              "    <tr>\n",
              "      <th>df-1</th>\n",
              "      <td>1681582</td>\n",
              "    </tr>\n",
              "    <tr>\n",
              "      <th>df-2</th>\n",
              "      <td>1439010</td>\n",
              "    </tr>\n",
              "    <tr>\n",
              "      <th>df-0</th>\n",
              "      <td>385932</td>\n",
              "    </tr>\n",
              "  </tbody>\n",
              "</table>\n",
              "</div>"
            ],
            "text/plain": [
              "        delivery_size\n",
              "region               \n",
              "df-1          1681582\n",
              "df-2          1439010\n",
              "df-0           385932"
            ]
          },
          "execution_count": 29,
          "metadata": {},
          "output_type": "execute_result"
        }
      ],
      "source": [
        "# Tamanho total das entregas por Hub\n",
        "\n",
        "tamanho_total_deliveries = deliveries_df[['region', 'delivery_size']].groupby('region').agg(sum).sort_values(by=['delivery_size'], ascending=False)\n",
        "tamanho_total_deliveries"
      ]
    },
    {
      "cell_type": "markdown",
      "id": "ac89f2da",
      "metadata": {
        "id": "ac89f2da",
        "papermill": {
          "duration": 0.108288,
          "end_time": "2022-03-20T23:15:54.967764",
          "exception": false,
          "start_time": "2022-03-20T23:15:54.859476",
          "status": "completed"
        },
        "tags": []
      },
      "source": [
        "### **2.4 Dados faltantes**"
      ]
    },
    {
      "cell_type": "markdown",
      "id": "73e90df2",
      "metadata": {
        "id": "73e90df2",
        "papermill": {
          "duration": 0.108126,
          "end_time": "2022-03-20T23:15:55.185221",
          "exception": false,
          "start_time": "2022-03-20T23:15:55.077095",
          "status": "completed"
        },
        "tags": []
      },
      "source": [
        "Dados faltantes podem ser:\n",
        "\n",
        "Vazios (\"\");\n",
        "Nulos (None);\n",
        "Não disponíveis ou aplicaveis (na, NA, etc.);\n",
        "Não numérico (nan, NaN, NAN, etc)."
      ]
    },
    {
      "cell_type": "markdown",
      "id": "216b8b38",
      "metadata": {
        "id": "216b8b38",
        "papermill": {
          "duration": 0.10952,
          "end_time": "2022-03-20T23:15:55.403419",
          "exception": false,
          "start_time": "2022-03-20T23:15:55.293899",
          "status": "completed"
        },
        "tags": []
      },
      "source": [
        "Verificando quais colunas possuem dados faltantes"
      ]
    },
    {
      "cell_type": "code",
      "execution_count": null,
      "id": "edfb83e5",
      "metadata": {
        "execution": {
          "iopub.execute_input": "2022-03-20T23:15:55.625400Z",
          "iopub.status.busy": "2022-03-20T23:15:55.624720Z",
          "iopub.status.idle": "2022-03-20T23:15:55.767066Z",
          "shell.execute_reply": "2022-03-20T23:15:55.766542Z",
          "shell.execute_reply.started": "2022-03-20T23:06:40.666731Z"
        },
        "id": "edfb83e5",
        "outputId": "88239c9a-4991-407c-e4ba-d8009e35898d",
        "papermill": {
          "duration": 0.254725,
          "end_time": "2022-03-20T23:15:55.767200",
          "exception": false,
          "start_time": "2022-03-20T23:15:55.512475",
          "status": "completed"
        },
        "tags": []
      },
      "outputs": [
        {
          "data": {
            "text/plain": [
              "name                False\n",
              "region              False\n",
              "hub_lng             False\n",
              "hub_lat             False\n",
              "vehicle_capacity    False\n",
              "delivery_size       False\n",
              "delivery_lng        False\n",
              "delivery_lat        False\n",
              "dtype: bool"
            ]
          },
          "execution_count": 30,
          "metadata": {},
          "output_type": "execute_result"
        }
      ],
      "source": [
        "deliveries_df.isna().any()"
      ]
    },
    {
      "cell_type": "markdown",
      "id": "cc774393",
      "metadata": {
        "id": "cc774393",
        "papermill": {
          "duration": 0.109928,
          "end_time": "2022-03-20T23:15:55.986212",
          "exception": false,
          "start_time": "2022-03-20T23:15:55.876284",
          "status": "completed"
        },
        "tags": []
      },
      "source": [
        "## 3\\. Manipulação"
      ]
    },
    {
      "cell_type": "markdown",
      "id": "1392d893",
      "metadata": {
        "id": "1392d893",
        "papermill": {
          "duration": 0.108558,
          "end_time": "2022-03-20T23:15:56.204283",
          "exception": false,
          "start_time": "2022-03-20T23:15:56.095725",
          "status": "completed"
        },
        "tags": []
      },
      "source": [
        "### **3.1. Enriquecimento** "
      ]
    },
    {
      "cell_type": "markdown",
      "id": "3f5c41e4",
      "metadata": {
        "id": "3f5c41e4",
        "papermill": {
          "duration": 0.108192,
          "end_time": "2022-03-20T23:15:56.421997",
          "exception": false,
          "start_time": "2022-03-20T23:15:56.313805",
          "status": "completed"
        },
        "tags": []
      },
      "source": [
        "Agora que já temos várias informações sobre nossos dados, vamos enriquecê-lo fazendo a **geocodificação reversa do hub e das entregas**"
      ]
    },
    {
      "cell_type": "markdown",
      "id": "96dbe3be",
      "metadata": {
        "id": "96dbe3be",
        "papermill": {
          "duration": 0.108985,
          "end_time": "2022-03-20T23:15:56.642540",
          "exception": false,
          "start_time": "2022-03-20T23:15:56.533555",
          "status": "completed"
        },
        "tags": []
      },
      "source": [
        "A **geocodificação** é o processo que transforma uma localização descrita por um texto (endereço, nome do local, etc.) em sua respectiva coodernada geográfica (latitude e longitude). A **geocodificação reversa** faz o oposto, transforma uma coordenada geográfica de um local em suas respectivas descrições textuais."
      ]
    },
    {
      "cell_type": "code",
      "execution_count": null,
      "id": "5cdadcef",
      "metadata": {
        "execution": {
          "iopub.execute_input": "2022-03-20T23:15:56.884201Z",
          "iopub.status.busy": "2022-03-20T23:15:56.883533Z",
          "iopub.status.idle": "2022-03-20T23:15:56.960563Z",
          "shell.execute_reply": "2022-03-20T23:15:56.959905Z",
          "shell.execute_reply.started": "2022-03-20T23:06:40.815189Z"
        },
        "id": "5cdadcef",
        "outputId": "2d883eb0-13bc-4973-ea2e-f86c1a0ad49e",
        "papermill": {
          "duration": 0.208943,
          "end_time": "2022-03-20T23:15:56.960701",
          "exception": false,
          "start_time": "2022-03-20T23:15:56.751758",
          "status": "completed"
        },
        "tags": []
      },
      "outputs": [
        {
          "data": {
            "text/html": [
              "<div>\n",
              "<style scoped>\n",
              "    .dataframe tbody tr th:only-of-type {\n",
              "        vertical-align: middle;\n",
              "    }\n",
              "\n",
              "    .dataframe tbody tr th {\n",
              "        vertical-align: top;\n",
              "    }\n",
              "\n",
              "    .dataframe thead th {\n",
              "        text-align: right;\n",
              "    }\n",
              "</style>\n",
              "<table border=\"1\" class=\"dataframe\">\n",
              "  <thead>\n",
              "    <tr style=\"text-align: right;\">\n",
              "      <th></th>\n",
              "      <th>region</th>\n",
              "      <th>hub_lng</th>\n",
              "      <th>hub_lat</th>\n",
              "    </tr>\n",
              "  </thead>\n",
              "  <tbody>\n",
              "    <tr>\n",
              "      <th>0</th>\n",
              "      <td>df-0</td>\n",
              "      <td>-47.802665</td>\n",
              "      <td>-15.657014</td>\n",
              "    </tr>\n",
              "    <tr>\n",
              "      <th>1</th>\n",
              "      <td>df-1</td>\n",
              "      <td>-47.893662</td>\n",
              "      <td>-15.805118</td>\n",
              "    </tr>\n",
              "    <tr>\n",
              "      <th>2</th>\n",
              "      <td>df-2</td>\n",
              "      <td>-48.054989</td>\n",
              "      <td>-15.838145</td>\n",
              "    </tr>\n",
              "  </tbody>\n",
              "</table>\n",
              "</div>"
            ],
            "text/plain": [
              "  region    hub_lng    hub_lat\n",
              "0   df-0 -47.802665 -15.657014\n",
              "1   df-1 -47.893662 -15.805118\n",
              "2   df-2 -48.054989 -15.838145"
            ]
          },
          "execution_count": 31,
          "metadata": {},
          "output_type": "execute_result"
        }
      ],
      "source": [
        "hub_df = deliveries_df[[\"region\", \"hub_lng\", \"hub_lat\"]]\n",
        "hub_df = hub_df.drop_duplicates().sort_values(by=\"region\").reset_index(drop=True)\n",
        "hub_df.head()"
      ]
    },
    {
      "cell_type": "markdown",
      "id": "a2031a8b",
      "metadata": {
        "id": "a2031a8b",
        "papermill": {
          "duration": 0.110005,
          "end_time": "2022-03-20T23:15:57.181448",
          "exception": false,
          "start_time": "2022-03-20T23:15:57.071443",
          "status": "completed"
        },
        "tags": []
      },
      "source": [
        "Empresas como Google, Bing e Yahoo! fornecem **geocodificação** como serviço (e cobram por isso). Existe uma projeto *open source* chamado de [OpenStreetMap](https://www.openstreetmap.org/) que mantem um serviço gratuito de geocodificação chamado [Nominatim](https://nominatim.org/), serviço este que apresenta como limitação a quantia de [uma única consuta por segundo](https://operations.osmfoundation.org/policies/nominatim/). Vamos utilizá-lo através do pacote Python `geopy` para fazer a operação reversa e enriquecer o nosso DataFrame principal."
      ]
    },
    {
      "cell_type": "code",
      "execution_count": null,
      "id": "28fd5ae0",
      "metadata": {
        "execution": {
          "iopub.execute_input": "2022-03-20T23:15:57.409348Z",
          "iopub.status.busy": "2022-03-20T23:15:57.408623Z",
          "iopub.status.idle": "2022-03-20T23:15:58.138390Z",
          "shell.execute_reply": "2022-03-20T23:15:58.138881Z",
          "shell.execute_reply.started": "2022-03-20T23:06:40.922416Z"
        },
        "id": "28fd5ae0",
        "outputId": "22752e22-e6e6-4cbe-a758-68c6b177172c",
        "papermill": {
          "duration": 0.847471,
          "end_time": "2022-03-20T23:15:58.139065",
          "exception": false,
          "start_time": "2022-03-20T23:15:57.291594",
          "status": "completed"
        },
        "tags": []
      },
      "outputs": [
        {
          "name": "stdout",
          "output_type": "stream",
          "text": [
            "{\n",
            "  \"place_id\": 69392732,\n",
            "  \"licence\": \"Data © OpenStreetMap contributors, ODbL 1.0. https://osm.org/copyright\",\n",
            "  \"osm_type\": \"node\",\n",
            "  \"osm_id\": 6456379935,\n",
            "  \"lat\": \"-15.656819\",\n",
            "  \"lon\": \"-47.8019514\",\n",
            "  \"display_name\": \"Clinica dos Olhos, Rua 7, Quadra 2, Sobradinho, Região Geográfica Imediata do Distrito Federal, Região Integrada de Desenvolvimento do Distrito Federal e Entorno, Região Geográfica Intermediária do Distrito Federal, Distrito Federal, Região Centro-Oeste, 73015-202, Brasil\",\n",
            "  \"address\": {\n",
            "    \"amenity\": \"Clinica dos Olhos\",\n",
            "    \"road\": \"Rua 7\",\n",
            "    \"residential\": \"Quadra 2\",\n",
            "    \"suburb\": \"Sobradinho\",\n",
            "    \"town\": \"Sobradinho\",\n",
            "    \"municipality\": \"Região Geográfica Imediata do Distrito Federal\",\n",
            "    \"county\": \"Região Integrada de Desenvolvimento do Distrito Federal e Entorno\",\n",
            "    \"state_district\": \"Região Geográfica Intermediária do Distrito Federal\",\n",
            "    \"state\": \"Distrito Federal\",\n",
            "    \"region\": \"Região Centro-Oeste\",\n",
            "    \"postcode\": \"73015-202\",\n",
            "    \"country\": \"Brasil\",\n",
            "    \"country_code\": \"br\"\n",
            "  },\n",
            "  \"boundingbox\": [\n",
            "    \"-15.656869\",\n",
            "    \"-15.656769\",\n",
            "    \"-47.8020014\",\n",
            "    \"-47.8019014\"\n",
            "  ]\n",
            "}\n"
          ]
        }
      ],
      "source": [
        "geolocator = Nominatim(user_agent=\"ebac_geocoder\")\n",
        "location = geolocator.reverse(\"-15.657013854445248, -47.802664728268745\")\n",
        "\n",
        "print(json.dumps(location.raw, indent=2, ensure_ascii=False))"
      ]
    },
    {
      "cell_type": "markdown",
      "id": "0b73981a",
      "metadata": {
        "id": "0b73981a",
        "papermill": {
          "duration": 0.122914,
          "end_time": "2022-03-20T23:15:58.371703",
          "exception": false,
          "start_time": "2022-03-20T23:15:58.248789",
          "status": "completed"
        },
        "tags": []
      },
      "source": [
        "Vamos então aplicar a geocodificação nas coordenadas das três regiões e extrair informações de **cidade** e **bairro**."
      ]
    },
    {
      "cell_type": "code",
      "execution_count": null,
      "id": "b104ba7d",
      "metadata": {
        "execution": {
          "iopub.execute_input": "2022-03-20T23:15:58.607194Z",
          "iopub.status.busy": "2022-03-20T23:15:58.606568Z",
          "iopub.status.idle": "2022-03-20T23:15:58.609081Z",
          "shell.execute_reply": "2022-03-20T23:15:58.608589Z",
          "shell.execute_reply.started": "2022-03-20T23:06:41.090035Z"
        },
        "id": "b104ba7d",
        "papermill": {
          "duration": 0.116199,
          "end_time": "2022-03-20T23:15:58.609222",
          "exception": false,
          "start_time": "2022-03-20T23:15:58.493023",
          "status": "completed"
        },
        "tags": []
      },
      "outputs": [],
      "source": [
        "geocoder = RateLimiter(geolocator.reverse, min_delay_seconds=1)"
      ]
    },
    {
      "cell_type": "code",
      "execution_count": null,
      "id": "9ee2f9fc",
      "metadata": {
        "execution": {
          "iopub.execute_input": "2022-03-20T23:15:58.834223Z",
          "iopub.status.busy": "2022-03-20T23:15:58.833564Z",
          "iopub.status.idle": "2022-03-20T23:16:01.023114Z",
          "shell.execute_reply": "2022-03-20T23:16:01.022575Z",
          "shell.execute_reply.started": "2022-03-20T23:06:41.095180Z"
        },
        "id": "9ee2f9fc",
        "outputId": "ad650826-697a-4d23-a212-f01bf71ba3dd",
        "papermill": {
          "duration": 2.301795,
          "end_time": "2022-03-20T23:16:01.023261",
          "exception": false,
          "start_time": "2022-03-20T23:15:58.721466",
          "status": "completed"
        },
        "tags": []
      },
      "outputs": [
        {
          "data": {
            "text/html": [
              "<div>\n",
              "<style scoped>\n",
              "    .dataframe tbody tr th:only-of-type {\n",
              "        vertical-align: middle;\n",
              "    }\n",
              "\n",
              "    .dataframe tbody tr th {\n",
              "        vertical-align: top;\n",
              "    }\n",
              "\n",
              "    .dataframe thead th {\n",
              "        text-align: right;\n",
              "    }\n",
              "</style>\n",
              "<table border=\"1\" class=\"dataframe\">\n",
              "  <thead>\n",
              "    <tr style=\"text-align: right;\">\n",
              "      <th></th>\n",
              "      <th>region</th>\n",
              "      <th>hub_lng</th>\n",
              "      <th>hub_lat</th>\n",
              "      <th>coordinates</th>\n",
              "      <th>geodata</th>\n",
              "    </tr>\n",
              "  </thead>\n",
              "  <tbody>\n",
              "    <tr>\n",
              "      <th>0</th>\n",
              "      <td>df-0</td>\n",
              "      <td>-47.802665</td>\n",
              "      <td>-15.657014</td>\n",
              "      <td>-15.657013854445248, -47.802664728268745</td>\n",
              "      <td>(Clinica dos Olhos, Rua 7, Quadra 2, Sobradinh...</td>\n",
              "    </tr>\n",
              "    <tr>\n",
              "      <th>1</th>\n",
              "      <td>df-1</td>\n",
              "      <td>-47.893662</td>\n",
              "      <td>-15.805118</td>\n",
              "      <td>-15.80511751066334, -47.89366206897872</td>\n",
              "      <td>(Bloco B / F, W1 Sul, SQS 103, Asa Sul, Brasíl...</td>\n",
              "    </tr>\n",
              "    <tr>\n",
              "      <th>2</th>\n",
              "      <td>df-2</td>\n",
              "      <td>-48.054989</td>\n",
              "      <td>-15.838145</td>\n",
              "      <td>-15.83814451122274, -48.05498915846707</td>\n",
              "      <td>(Armazém do Bolo, lote 4/8, CSB 4/5, Taguating...</td>\n",
              "    </tr>\n",
              "  </tbody>\n",
              "</table>\n",
              "</div>"
            ],
            "text/plain": [
              "  region    hub_lng    hub_lat                               coordinates  \\\n",
              "0   df-0 -47.802665 -15.657014  -15.657013854445248, -47.802664728268745   \n",
              "1   df-1 -47.893662 -15.805118    -15.80511751066334, -47.89366206897872   \n",
              "2   df-2 -48.054989 -15.838145    -15.83814451122274, -48.05498915846707   \n",
              "\n",
              "                                             geodata  \n",
              "0  (Clinica dos Olhos, Rua 7, Quadra 2, Sobradinh...  \n",
              "1  (Bloco B / F, W1 Sul, SQS 103, Asa Sul, Brasíl...  \n",
              "2  (Armazém do Bolo, lote 4/8, CSB 4/5, Taguating...  "
            ]
          },
          "execution_count": 34,
          "metadata": {},
          "output_type": "execute_result"
        }
      ],
      "source": [
        "hub_df[\"coordinates\"] = hub_df[\"hub_lat\"].astype(str)  + \", \" + hub_df[\"hub_lng\"].astype(str) \n",
        "hub_df[\"geodata\"] = hub_df[\"coordinates\"].apply(geocoder)\n",
        "hub_df.head()"
      ]
    },
    {
      "cell_type": "code",
      "execution_count": null,
      "id": "c0f8363e",
      "metadata": {
        "execution": {
          "iopub.execute_input": "2022-03-20T23:16:01.277935Z",
          "iopub.status.busy": "2022-03-20T23:16:01.277021Z",
          "iopub.status.idle": "2022-03-20T23:16:01.281574Z",
          "shell.execute_reply": "2022-03-20T23:16:01.280938Z",
          "shell.execute_reply.started": "2022-03-20T23:06:43.165793Z"
        },
        "id": "c0f8363e",
        "outputId": "32e8a950-9f2f-4f61-b50f-10abd5db7768",
        "papermill": {
          "duration": 0.143862,
          "end_time": "2022-03-20T23:16:01.281715",
          "exception": false,
          "start_time": "2022-03-20T23:16:01.137853",
          "status": "completed"
        },
        "tags": []
      },
      "outputs": [
        {
          "data": {
            "text/html": [
              "<div>\n",
              "<style scoped>\n",
              "    .dataframe tbody tr th:only-of-type {\n",
              "        vertical-align: middle;\n",
              "    }\n",
              "\n",
              "    .dataframe tbody tr th {\n",
              "        vertical-align: top;\n",
              "    }\n",
              "\n",
              "    .dataframe thead th {\n",
              "        text-align: right;\n",
              "    }\n",
              "</style>\n",
              "<table border=\"1\" class=\"dataframe\">\n",
              "  <thead>\n",
              "    <tr style=\"text-align: right;\">\n",
              "      <th></th>\n",
              "      <th>place_id</th>\n",
              "      <th>licence</th>\n",
              "      <th>osm_type</th>\n",
              "      <th>osm_id</th>\n",
              "      <th>lat</th>\n",
              "      <th>lon</th>\n",
              "      <th>display_name</th>\n",
              "      <th>boundingbox</th>\n",
              "      <th>address.amenity</th>\n",
              "      <th>address.road</th>\n",
              "      <th>...</th>\n",
              "      <th>address.state</th>\n",
              "      <th>address.region</th>\n",
              "      <th>address.postcode</th>\n",
              "      <th>address.country</th>\n",
              "      <th>address.country_code</th>\n",
              "      <th>address.building</th>\n",
              "      <th>address.neighbourhood</th>\n",
              "      <th>address.city</th>\n",
              "      <th>address.shop</th>\n",
              "      <th>address.house_number</th>\n",
              "    </tr>\n",
              "  </thead>\n",
              "  <tbody>\n",
              "    <tr>\n",
              "      <th>0</th>\n",
              "      <td>69392732</td>\n",
              "      <td>Data © OpenStreetMap contributors, ODbL 1.0. h...</td>\n",
              "      <td>node</td>\n",
              "      <td>6456379935</td>\n",
              "      <td>-15.656819</td>\n",
              "      <td>-47.8019514</td>\n",
              "      <td>Clinica dos Olhos, Rua 7, Quadra 2, Sobradinho...</td>\n",
              "      <td>[-15.656869, -15.656769, -47.8020014, -47.8019...</td>\n",
              "      <td>Clinica dos Olhos</td>\n",
              "      <td>Rua 7</td>\n",
              "      <td>...</td>\n",
              "      <td>Distrito Federal</td>\n",
              "      <td>Região Centro-Oeste</td>\n",
              "      <td>73015-202</td>\n",
              "      <td>Brasil</td>\n",
              "      <td>br</td>\n",
              "      <td>NaN</td>\n",
              "      <td>NaN</td>\n",
              "      <td>NaN</td>\n",
              "      <td>NaN</td>\n",
              "      <td>NaN</td>\n",
              "    </tr>\n",
              "    <tr>\n",
              "      <th>1</th>\n",
              "      <td>134245547</td>\n",
              "      <td>Data © OpenStreetMap contributors, ODbL 1.0. h...</td>\n",
              "      <td>way</td>\n",
              "      <td>140908717</td>\n",
              "      <td>-15.80443735</td>\n",
              "      <td>-47.893155456691616</td>\n",
              "      <td>Bloco B / F, W1 Sul, SQS 103, Asa Sul, Brasíli...</td>\n",
              "      <td>[-15.805071, -15.8038038, -47.8937468, -47.892...</td>\n",
              "      <td>NaN</td>\n",
              "      <td>W1 Sul</td>\n",
              "      <td>...</td>\n",
              "      <td>Distrito Federal</td>\n",
              "      <td>Região Centro-Oeste</td>\n",
              "      <td>70342-010</td>\n",
              "      <td>Brasil</td>\n",
              "      <td>br</td>\n",
              "      <td>Bloco B / F</td>\n",
              "      <td>SQS 103</td>\n",
              "      <td>Brasília</td>\n",
              "      <td>NaN</td>\n",
              "      <td>NaN</td>\n",
              "    </tr>\n",
              "    <tr>\n",
              "      <th>2</th>\n",
              "      <td>68616994</td>\n",
              "      <td>Data © OpenStreetMap contributors, ODbL 1.0. h...</td>\n",
              "      <td>node</td>\n",
              "      <td>6249717596</td>\n",
              "      <td>-15.8384371</td>\n",
              "      <td>-48.0552917</td>\n",
              "      <td>Armazém do Bolo, lote 4/8, CSB 4/5, Taguatinga...</td>\n",
              "      <td>[-15.8384871, -15.8383871, -48.0553417, -48.05...</td>\n",
              "      <td>NaN</td>\n",
              "      <td>CSB 4/5</td>\n",
              "      <td>...</td>\n",
              "      <td>Distrito Federal</td>\n",
              "      <td>Região Centro-Oeste</td>\n",
              "      <td>72015030</td>\n",
              "      <td>Brasil</td>\n",
              "      <td>br</td>\n",
              "      <td>NaN</td>\n",
              "      <td>NaN</td>\n",
              "      <td>Taguatinga</td>\n",
              "      <td>Armazém do Bolo</td>\n",
              "      <td>lote 4/8</td>\n",
              "    </tr>\n",
              "  </tbody>\n",
              "</table>\n",
              "<p>3 rows × 26 columns</p>\n",
              "</div>"
            ],
            "text/plain": [
              "    place_id                                            licence osm_type  \\\n",
              "0   69392732  Data © OpenStreetMap contributors, ODbL 1.0. h...     node   \n",
              "1  134245547  Data © OpenStreetMap contributors, ODbL 1.0. h...      way   \n",
              "2   68616994  Data © OpenStreetMap contributors, ODbL 1.0. h...     node   \n",
              "\n",
              "       osm_id           lat                  lon  \\\n",
              "0  6456379935    -15.656819          -47.8019514   \n",
              "1   140908717  -15.80443735  -47.893155456691616   \n",
              "2  6249717596   -15.8384371          -48.0552917   \n",
              "\n",
              "                                        display_name  \\\n",
              "0  Clinica dos Olhos, Rua 7, Quadra 2, Sobradinho...   \n",
              "1  Bloco B / F, W1 Sul, SQS 103, Asa Sul, Brasíli...   \n",
              "2  Armazém do Bolo, lote 4/8, CSB 4/5, Taguatinga...   \n",
              "\n",
              "                                         boundingbox    address.amenity  \\\n",
              "0  [-15.656869, -15.656769, -47.8020014, -47.8019...  Clinica dos Olhos   \n",
              "1  [-15.805071, -15.8038038, -47.8937468, -47.892...                NaN   \n",
              "2  [-15.8384871, -15.8383871, -48.0553417, -48.05...                NaN   \n",
              "\n",
              "  address.road  ...     address.state       address.region address.postcode  \\\n",
              "0        Rua 7  ...  Distrito Federal  Região Centro-Oeste        73015-202   \n",
              "1       W1 Sul  ...  Distrito Federal  Região Centro-Oeste        70342-010   \n",
              "2      CSB 4/5  ...  Distrito Federal  Região Centro-Oeste         72015030   \n",
              "\n",
              "  address.country address.country_code address.building address.neighbourhood  \\\n",
              "0          Brasil                   br              NaN                   NaN   \n",
              "1          Brasil                   br      Bloco B / F               SQS 103   \n",
              "2          Brasil                   br              NaN                   NaN   \n",
              "\n",
              "  address.city     address.shop address.house_number  \n",
              "0          NaN              NaN                  NaN  \n",
              "1     Brasília              NaN                  NaN  \n",
              "2   Taguatinga  Armazém do Bolo             lote 4/8  \n",
              "\n",
              "[3 rows x 26 columns]"
            ]
          },
          "execution_count": 35,
          "metadata": {},
          "output_type": "execute_result"
        }
      ],
      "source": [
        "hub_geodata_df = pd.json_normalize(hub_df[\"geodata\"].apply(lambda data: data.raw))\n",
        "hub_geodata_df.head()"
      ]
    },
    {
      "cell_type": "code",
      "execution_count": null,
      "id": "f76df6ce",
      "metadata": {
        "execution": {
          "iopub.execute_input": "2022-03-20T23:16:01.514609Z",
          "iopub.status.busy": "2022-03-20T23:16:01.513528Z",
          "iopub.status.idle": "2022-03-20T23:16:01.526996Z",
          "shell.execute_reply": "2022-03-20T23:16:01.526423Z",
          "shell.execute_reply.started": "2022-03-20T23:06:43.197986Z"
        },
        "id": "f76df6ce",
        "outputId": "1375cf6e-8b69-4111-a1fe-688385b4872d",
        "papermill": {
          "duration": 0.133436,
          "end_time": "2022-03-20T23:16:01.527150",
          "exception": false,
          "start_time": "2022-03-20T23:16:01.393714",
          "status": "completed"
        },
        "tags": []
      },
      "outputs": [
        {
          "data": {
            "text/html": [
              "<div>\n",
              "<style scoped>\n",
              "    .dataframe tbody tr th:only-of-type {\n",
              "        vertical-align: middle;\n",
              "    }\n",
              "\n",
              "    .dataframe tbody tr th {\n",
              "        vertical-align: top;\n",
              "    }\n",
              "\n",
              "    .dataframe thead th {\n",
              "        text-align: right;\n",
              "    }\n",
              "</style>\n",
              "<table border=\"1\" class=\"dataframe\">\n",
              "  <thead>\n",
              "    <tr style=\"text-align: right;\">\n",
              "      <th></th>\n",
              "      <th>hub_suburb</th>\n",
              "      <th>hub_city</th>\n",
              "    </tr>\n",
              "  </thead>\n",
              "  <tbody>\n",
              "    <tr>\n",
              "      <th>0</th>\n",
              "      <td>Sobradinho</td>\n",
              "      <td>Sobradinho</td>\n",
              "    </tr>\n",
              "    <tr>\n",
              "      <th>1</th>\n",
              "      <td>Asa Sul</td>\n",
              "      <td>Brasília</td>\n",
              "    </tr>\n",
              "    <tr>\n",
              "      <th>2</th>\n",
              "      <td>Taguatinga</td>\n",
              "      <td>Taguatinga</td>\n",
              "    </tr>\n",
              "  </tbody>\n",
              "</table>\n",
              "</div>"
            ],
            "text/plain": [
              "   hub_suburb    hub_city\n",
              "0  Sobradinho  Sobradinho\n",
              "1     Asa Sul    Brasília\n",
              "2  Taguatinga  Taguatinga"
            ]
          },
          "execution_count": 36,
          "metadata": {},
          "output_type": "execute_result"
        }
      ],
      "source": [
        "hub_geodata_df = hub_geodata_df[[\"address.town\", \"address.suburb\", \"address.city\"]]\n",
        "hub_geodata_df.rename(columns={\"address.town\": \"hub_town\", \"address.suburb\": \"hub_suburb\", \"address.city\": \"hub_city\"}, inplace=True)\n",
        "hub_geodata_df[\"hub_city\"] = np.where(hub_geodata_df[\"hub_city\"].notna(), hub_geodata_df[\"hub_city\"], hub_geodata_df[\"hub_town\"])\n",
        "hub_geodata_df[\"hub_suburb\"] = np.where(hub_geodata_df[\"hub_suburb\"].notna(), hub_geodata_df[\"hub_suburb\"], hub_geodata_df[\"hub_city\"])\n",
        "hub_geodata_df = hub_geodata_df.drop(\"hub_town\", axis=1)\n",
        "hub_geodata_df.head()"
      ]
    },
    {
      "cell_type": "markdown",
      "id": "a0233352",
      "metadata": {
        "id": "a0233352",
        "papermill": {
          "duration": 0.111087,
          "end_time": "2022-03-20T23:16:01.750606",
          "exception": false,
          "start_time": "2022-03-20T23:16:01.639519",
          "status": "completed"
        },
        "tags": []
      },
      "source": [
        "Vamos fazer o merge ente o DataFrame `hub_geodata_df`, com as informações de **cidade** e **bairro**, com o DataFrame principal `deliveries_df`\n",
        "\n",
        "\n",
        "\n"
      ]
    },
    {
      "cell_type": "code",
      "execution_count": null,
      "id": "615045b6",
      "metadata": {
        "execution": {
          "iopub.execute_input": "2022-03-20T23:16:01.980210Z",
          "iopub.status.busy": "2022-03-20T23:16:01.979546Z",
          "iopub.status.idle": "2022-03-20T23:16:01.991781Z",
          "shell.execute_reply": "2022-03-20T23:16:01.992307Z",
          "shell.execute_reply.started": "2022-03-20T23:06:43.214798Z"
        },
        "id": "615045b6",
        "outputId": "a96440cb-db3d-4657-f7d5-69809bf8ef91",
        "papermill": {
          "duration": 0.127666,
          "end_time": "2022-03-20T23:16:01.992523",
          "exception": false,
          "start_time": "2022-03-20T23:16:01.864857",
          "status": "completed"
        },
        "tags": []
      },
      "outputs": [
        {
          "data": {
            "text/html": [
              "<div>\n",
              "<style scoped>\n",
              "    .dataframe tbody tr th:only-of-type {\n",
              "        vertical-align: middle;\n",
              "    }\n",
              "\n",
              "    .dataframe tbody tr th {\n",
              "        vertical-align: top;\n",
              "    }\n",
              "\n",
              "    .dataframe thead th {\n",
              "        text-align: right;\n",
              "    }\n",
              "</style>\n",
              "<table border=\"1\" class=\"dataframe\">\n",
              "  <thead>\n",
              "    <tr style=\"text-align: right;\">\n",
              "      <th></th>\n",
              "      <th>region</th>\n",
              "      <th>hub_suburb</th>\n",
              "      <th>hub_city</th>\n",
              "    </tr>\n",
              "  </thead>\n",
              "  <tbody>\n",
              "    <tr>\n",
              "      <th>0</th>\n",
              "      <td>df-0</td>\n",
              "      <td>Sobradinho</td>\n",
              "      <td>Sobradinho</td>\n",
              "    </tr>\n",
              "    <tr>\n",
              "      <th>1</th>\n",
              "      <td>df-1</td>\n",
              "      <td>Asa Sul</td>\n",
              "      <td>Brasília</td>\n",
              "    </tr>\n",
              "    <tr>\n",
              "      <th>2</th>\n",
              "      <td>df-2</td>\n",
              "      <td>Taguatinga</td>\n",
              "      <td>Taguatinga</td>\n",
              "    </tr>\n",
              "  </tbody>\n",
              "</table>\n",
              "</div>"
            ],
            "text/plain": [
              "  region  hub_suburb    hub_city\n",
              "0   df-0  Sobradinho  Sobradinho\n",
              "1   df-1     Asa Sul    Brasília\n",
              "2   df-2  Taguatinga  Taguatinga"
            ]
          },
          "execution_count": 37,
          "metadata": {},
          "output_type": "execute_result"
        }
      ],
      "source": [
        "hub_df = pd.merge(left=hub_df, right=hub_geodata_df, left_index=True, right_index=True)\n",
        "hub_df = hub_df[[\"region\", \"hub_suburb\", \"hub_city\"]]\n",
        "hub_df.head()"
      ]
    },
    {
      "cell_type": "code",
      "execution_count": null,
      "id": "c4a6231c",
      "metadata": {
        "execution": {
          "iopub.execute_input": "2022-03-20T23:16:02.224646Z",
          "iopub.status.busy": "2022-03-20T23:16:02.223988Z",
          "iopub.status.idle": "2022-03-20T23:16:02.507492Z",
          "shell.execute_reply": "2022-03-20T23:16:02.508041Z",
          "shell.execute_reply.started": "2022-03-20T23:06:43.229025Z"
        },
        "id": "c4a6231c",
        "outputId": "24674131-4b5a-400e-a0a4-8dcf855799bd",
        "papermill": {
          "duration": 0.400309,
          "end_time": "2022-03-20T23:16:02.508215",
          "exception": false,
          "start_time": "2022-03-20T23:16:02.107906",
          "status": "completed"
        },
        "tags": []
      },
      "outputs": [
        {
          "data": {
            "text/html": [
              "<div>\n",
              "<style scoped>\n",
              "    .dataframe tbody tr th:only-of-type {\n",
              "        vertical-align: middle;\n",
              "    }\n",
              "\n",
              "    .dataframe tbody tr th {\n",
              "        vertical-align: top;\n",
              "    }\n",
              "\n",
              "    .dataframe thead th {\n",
              "        text-align: right;\n",
              "    }\n",
              "</style>\n",
              "<table border=\"1\" class=\"dataframe\">\n",
              "  <thead>\n",
              "    <tr style=\"text-align: right;\">\n",
              "      <th></th>\n",
              "      <th>name</th>\n",
              "      <th>region</th>\n",
              "      <th>hub_lng</th>\n",
              "      <th>hub_lat</th>\n",
              "      <th>hub_city</th>\n",
              "      <th>hub_suburb</th>\n",
              "      <th>vehicle_capacity</th>\n",
              "      <th>delivery_size</th>\n",
              "      <th>delivery_lng</th>\n",
              "      <th>delivery_lat</th>\n",
              "    </tr>\n",
              "  </thead>\n",
              "  <tbody>\n",
              "    <tr>\n",
              "      <th>0</th>\n",
              "      <td>cvrp-2-df-33</td>\n",
              "      <td>df-2</td>\n",
              "      <td>-48.054989</td>\n",
              "      <td>-15.838145</td>\n",
              "      <td>Taguatinga</td>\n",
              "      <td>Taguatinga</td>\n",
              "      <td>180</td>\n",
              "      <td>9</td>\n",
              "      <td>-48.116189</td>\n",
              "      <td>-15.848929</td>\n",
              "    </tr>\n",
              "    <tr>\n",
              "      <th>1</th>\n",
              "      <td>cvrp-2-df-33</td>\n",
              "      <td>df-2</td>\n",
              "      <td>-48.054989</td>\n",
              "      <td>-15.838145</td>\n",
              "      <td>Taguatinga</td>\n",
              "      <td>Taguatinga</td>\n",
              "      <td>180</td>\n",
              "      <td>2</td>\n",
              "      <td>-48.118195</td>\n",
              "      <td>-15.850772</td>\n",
              "    </tr>\n",
              "    <tr>\n",
              "      <th>2</th>\n",
              "      <td>cvrp-2-df-33</td>\n",
              "      <td>df-2</td>\n",
              "      <td>-48.054989</td>\n",
              "      <td>-15.838145</td>\n",
              "      <td>Taguatinga</td>\n",
              "      <td>Taguatinga</td>\n",
              "      <td>180</td>\n",
              "      <td>1</td>\n",
              "      <td>-48.112483</td>\n",
              "      <td>-15.847871</td>\n",
              "    </tr>\n",
              "    <tr>\n",
              "      <th>3</th>\n",
              "      <td>cvrp-2-df-33</td>\n",
              "      <td>df-2</td>\n",
              "      <td>-48.054989</td>\n",
              "      <td>-15.838145</td>\n",
              "      <td>Taguatinga</td>\n",
              "      <td>Taguatinga</td>\n",
              "      <td>180</td>\n",
              "      <td>2</td>\n",
              "      <td>-48.118023</td>\n",
              "      <td>-15.846471</td>\n",
              "    </tr>\n",
              "    <tr>\n",
              "      <th>4</th>\n",
              "      <td>cvrp-2-df-33</td>\n",
              "      <td>df-2</td>\n",
              "      <td>-48.054989</td>\n",
              "      <td>-15.838145</td>\n",
              "      <td>Taguatinga</td>\n",
              "      <td>Taguatinga</td>\n",
              "      <td>180</td>\n",
              "      <td>7</td>\n",
              "      <td>-48.114898</td>\n",
              "      <td>-15.858055</td>\n",
              "    </tr>\n",
              "  </tbody>\n",
              "</table>\n",
              "</div>"
            ],
            "text/plain": [
              "           name region    hub_lng    hub_lat    hub_city  hub_suburb  \\\n",
              "0  cvrp-2-df-33   df-2 -48.054989 -15.838145  Taguatinga  Taguatinga   \n",
              "1  cvrp-2-df-33   df-2 -48.054989 -15.838145  Taguatinga  Taguatinga   \n",
              "2  cvrp-2-df-33   df-2 -48.054989 -15.838145  Taguatinga  Taguatinga   \n",
              "3  cvrp-2-df-33   df-2 -48.054989 -15.838145  Taguatinga  Taguatinga   \n",
              "4  cvrp-2-df-33   df-2 -48.054989 -15.838145  Taguatinga  Taguatinga   \n",
              "\n",
              "   vehicle_capacity  delivery_size  delivery_lng  delivery_lat  \n",
              "0               180              9    -48.116189    -15.848929  \n",
              "1               180              2    -48.118195    -15.850772  \n",
              "2               180              1    -48.112483    -15.847871  \n",
              "3               180              2    -48.118023    -15.846471  \n",
              "4               180              7    -48.114898    -15.858055  "
            ]
          },
          "execution_count": 38,
          "metadata": {},
          "output_type": "execute_result"
        }
      ],
      "source": [
        "deliveries_df = pd.merge(left=deliveries_df, right=hub_df, how=\"inner\", on=\"region\")\n",
        "deliveries_df = deliveries_df[[\"name\", \"region\", \"hub_lng\", \"hub_lat\", \"hub_city\", \"hub_suburb\", \"vehicle_capacity\", \"delivery_size\", \"delivery_lng\", \"delivery_lat\"]]\n",
        "deliveries_df.head()"
      ]
    },
    {
      "cell_type": "markdown",
      "id": "75c45a7e",
      "metadata": {
        "id": "75c45a7e",
        "papermill": {
          "duration": 0.11278,
          "end_time": "2022-03-20T23:16:02.734789",
          "exception": false,
          "start_time": "2022-03-20T23:16:02.622009",
          "status": "completed"
        },
        "tags": []
      },
      "source": [
        "- **Geocodificação reversa da entrega**"
      ]
    },
    {
      "cell_type": "markdown",
      "id": "655e1cf9",
      "metadata": {
        "id": "655e1cf9",
        "papermill": {
          "duration": 0.116748,
          "end_time": "2022-03-20T23:16:02.965026",
          "exception": false,
          "start_time": "2022-03-20T23:16:02.848278",
          "status": "completed"
        },
        "tags": []
      },
      "source": [
        "Enquanto o **hub** contem apenas **3** geolocalizações distintas, as **entregas** somam o total de **636.149**, o que levaria em torno de 7 dias para serem consultadas no servidor do Nominatim, dada a restrição de uma consulta por segundo. Contudo, para cargas pesadas como esta, o software oferece uma instalação [local](https://nominatim.org/release-docs/latest/admin/Installation/) (na sua própria máquina) que pode ser utilizada sem restrição."
      ]
    },
    {
      "cell_type": "markdown",
      "id": "fcfc5ab9",
      "metadata": {
        "id": "fcfc5ab9",
        "papermill": {
          "duration": 0.112652,
          "end_time": "2022-03-20T23:16:03.193680",
          "exception": false,
          "start_time": "2022-03-20T23:16:03.081028",
          "status": "completed"
        },
        "tags": []
      },
      "source": [
        "A EBAC providenciou os dados através do seguinte [link](https://raw.githubusercontent.com/andre-marcos-perez/ebac-course-utils/main/dataset/deliveries-geodata.csv)."
      ]
    },
    {
      "cell_type": "code",
      "execution_count": null,
      "id": "da418f59",
      "metadata": {
        "execution": {
          "iopub.execute_input": "2022-03-20T23:16:03.425831Z",
          "iopub.status.busy": "2022-03-20T23:16:03.425096Z",
          "iopub.status.idle": "2022-03-20T23:16:05.718171Z",
          "shell.execute_reply": "2022-03-20T23:16:05.717624Z",
          "shell.execute_reply.started": "2022-03-20T23:06:43.505187Z"
        },
        "id": "da418f59",
        "papermill": {
          "duration": 2.411593,
          "end_time": "2022-03-20T23:16:05.718337",
          "exception": false,
          "start_time": "2022-03-20T23:16:03.306744",
          "status": "completed"
        },
        "tags": []
      },
      "outputs": [],
      "source": [
        "!wget -q \"https://raw.githubusercontent.com/andre-marcos-perez/ebac-course-utils/main/dataset/deliveries-geodata.csv\" -O deliveries-geodata.csv "
      ]
    },
    {
      "cell_type": "code",
      "execution_count": null,
      "id": "9d75d87e",
      "metadata": {
        "execution": {
          "iopub.execute_input": "2022-03-20T23:16:05.955012Z",
          "iopub.status.busy": "2022-03-20T23:16:05.953794Z",
          "iopub.status.idle": "2022-03-20T23:16:06.512582Z",
          "shell.execute_reply": "2022-03-20T23:16:06.513060Z",
          "shell.execute_reply.started": "2022-03-20T23:06:44.669945Z"
        },
        "id": "9d75d87e",
        "outputId": "8873d099-9713-4624-e751-3f5705b43367",
        "papermill": {
          "duration": 0.681546,
          "end_time": "2022-03-20T23:16:06.513232",
          "exception": false,
          "start_time": "2022-03-20T23:16:05.831686",
          "status": "completed"
        },
        "tags": []
      },
      "outputs": [
        {
          "data": {
            "text/html": [
              "<div>\n",
              "<style scoped>\n",
              "    .dataframe tbody tr th:only-of-type {\n",
              "        vertical-align: middle;\n",
              "    }\n",
              "\n",
              "    .dataframe tbody tr th {\n",
              "        vertical-align: top;\n",
              "    }\n",
              "\n",
              "    .dataframe thead th {\n",
              "        text-align: right;\n",
              "    }\n",
              "</style>\n",
              "<table border=\"1\" class=\"dataframe\">\n",
              "  <thead>\n",
              "    <tr style=\"text-align: right;\">\n",
              "      <th></th>\n",
              "      <th>delivery_lng</th>\n",
              "      <th>delivery_lat</th>\n",
              "      <th>delivery_city</th>\n",
              "      <th>delivery_suburb</th>\n",
              "    </tr>\n",
              "  </thead>\n",
              "  <tbody>\n",
              "    <tr>\n",
              "      <th>0</th>\n",
              "      <td>-48.116189</td>\n",
              "      <td>-15.848929</td>\n",
              "      <td>Ceilândia</td>\n",
              "      <td>P Sul</td>\n",
              "    </tr>\n",
              "    <tr>\n",
              "      <th>1</th>\n",
              "      <td>-48.118195</td>\n",
              "      <td>-15.850772</td>\n",
              "      <td>Ceilândia</td>\n",
              "      <td>P Sul</td>\n",
              "    </tr>\n",
              "    <tr>\n",
              "      <th>2</th>\n",
              "      <td>-48.112483</td>\n",
              "      <td>-15.847871</td>\n",
              "      <td>Ceilândia</td>\n",
              "      <td>P Sul</td>\n",
              "    </tr>\n",
              "    <tr>\n",
              "      <th>3</th>\n",
              "      <td>-48.118023</td>\n",
              "      <td>-15.846471</td>\n",
              "      <td>Ceilândia</td>\n",
              "      <td>P Sul</td>\n",
              "    </tr>\n",
              "    <tr>\n",
              "      <th>4</th>\n",
              "      <td>-48.114898</td>\n",
              "      <td>-15.858055</td>\n",
              "      <td>Sol Nascente/Pôr do Sol</td>\n",
              "      <td>Sol Nascente/Pôr do Sol</td>\n",
              "    </tr>\n",
              "  </tbody>\n",
              "</table>\n",
              "</div>"
            ],
            "text/plain": [
              "   delivery_lng  delivery_lat            delivery_city  \\\n",
              "0    -48.116189    -15.848929                Ceilândia   \n",
              "1    -48.118195    -15.850772                Ceilândia   \n",
              "2    -48.112483    -15.847871                Ceilândia   \n",
              "3    -48.118023    -15.846471                Ceilândia   \n",
              "4    -48.114898    -15.858055  Sol Nascente/Pôr do Sol   \n",
              "\n",
              "           delivery_suburb  \n",
              "0                    P Sul  \n",
              "1                    P Sul  \n",
              "2                    P Sul  \n",
              "3                    P Sul  \n",
              "4  Sol Nascente/Pôr do Sol  "
            ]
          },
          "execution_count": 40,
          "metadata": {},
          "output_type": "execute_result"
        }
      ],
      "source": [
        "deliveries_geodata_df = pd.read_csv(\"deliveries-geodata.csv\")\n",
        "deliveries_geodata_df.head()"
      ]
    },
    {
      "cell_type": "code",
      "execution_count": null,
      "id": "5e029708",
      "metadata": {
        "execution": {
          "iopub.execute_input": "2022-03-20T23:16:06.749858Z",
          "iopub.status.busy": "2022-03-20T23:16:06.748797Z",
          "iopub.status.idle": "2022-03-20T23:16:06.870714Z",
          "shell.execute_reply": "2022-03-20T23:16:06.870041Z",
          "shell.execute_reply.started": "2022-03-20T23:06:45.243289Z"
        },
        "id": "5e029708",
        "outputId": "d5d08b5b-3c50-45ad-b818-fe8730074b50",
        "papermill": {
          "duration": 0.242797,
          "end_time": "2022-03-20T23:16:06.870873",
          "exception": false,
          "start_time": "2022-03-20T23:16:06.628076",
          "status": "completed"
        },
        "tags": []
      },
      "outputs": [
        {
          "data": {
            "text/html": [
              "<div>\n",
              "<style scoped>\n",
              "    .dataframe tbody tr th:only-of-type {\n",
              "        vertical-align: middle;\n",
              "    }\n",
              "\n",
              "    .dataframe tbody tr th {\n",
              "        vertical-align: top;\n",
              "    }\n",
              "\n",
              "    .dataframe thead th {\n",
              "        text-align: right;\n",
              "    }\n",
              "</style>\n",
              "<table border=\"1\" class=\"dataframe\">\n",
              "  <thead>\n",
              "    <tr style=\"text-align: right;\">\n",
              "      <th></th>\n",
              "      <th>name</th>\n",
              "      <th>region</th>\n",
              "      <th>hub_lng</th>\n",
              "      <th>hub_lat</th>\n",
              "      <th>hub_city</th>\n",
              "      <th>hub_suburb</th>\n",
              "      <th>vehicle_capacity</th>\n",
              "      <th>delivery_size</th>\n",
              "      <th>delivery_lng</th>\n",
              "      <th>delivery_lat</th>\n",
              "      <th>delivery_city</th>\n",
              "      <th>delivery_suburb</th>\n",
              "    </tr>\n",
              "  </thead>\n",
              "  <tbody>\n",
              "    <tr>\n",
              "      <th>0</th>\n",
              "      <td>cvrp-2-df-33</td>\n",
              "      <td>df-2</td>\n",
              "      <td>-48.054989</td>\n",
              "      <td>-15.838145</td>\n",
              "      <td>Taguatinga</td>\n",
              "      <td>Taguatinga</td>\n",
              "      <td>180</td>\n",
              "      <td>9</td>\n",
              "      <td>-48.116189</td>\n",
              "      <td>-15.848929</td>\n",
              "      <td>Ceilândia</td>\n",
              "      <td>P Sul</td>\n",
              "    </tr>\n",
              "    <tr>\n",
              "      <th>1</th>\n",
              "      <td>cvrp-2-df-33</td>\n",
              "      <td>df-2</td>\n",
              "      <td>-48.054989</td>\n",
              "      <td>-15.838145</td>\n",
              "      <td>Taguatinga</td>\n",
              "      <td>Taguatinga</td>\n",
              "      <td>180</td>\n",
              "      <td>2</td>\n",
              "      <td>-48.118195</td>\n",
              "      <td>-15.850772</td>\n",
              "      <td>Ceilândia</td>\n",
              "      <td>P Sul</td>\n",
              "    </tr>\n",
              "    <tr>\n",
              "      <th>2</th>\n",
              "      <td>cvrp-2-df-33</td>\n",
              "      <td>df-2</td>\n",
              "      <td>-48.054989</td>\n",
              "      <td>-15.838145</td>\n",
              "      <td>Taguatinga</td>\n",
              "      <td>Taguatinga</td>\n",
              "      <td>180</td>\n",
              "      <td>1</td>\n",
              "      <td>-48.112483</td>\n",
              "      <td>-15.847871</td>\n",
              "      <td>Ceilândia</td>\n",
              "      <td>P Sul</td>\n",
              "    </tr>\n",
              "    <tr>\n",
              "      <th>3</th>\n",
              "      <td>cvrp-2-df-33</td>\n",
              "      <td>df-2</td>\n",
              "      <td>-48.054989</td>\n",
              "      <td>-15.838145</td>\n",
              "      <td>Taguatinga</td>\n",
              "      <td>Taguatinga</td>\n",
              "      <td>180</td>\n",
              "      <td>2</td>\n",
              "      <td>-48.118023</td>\n",
              "      <td>-15.846471</td>\n",
              "      <td>Ceilândia</td>\n",
              "      <td>P Sul</td>\n",
              "    </tr>\n",
              "    <tr>\n",
              "      <th>4</th>\n",
              "      <td>cvrp-2-df-33</td>\n",
              "      <td>df-2</td>\n",
              "      <td>-48.054989</td>\n",
              "      <td>-15.838145</td>\n",
              "      <td>Taguatinga</td>\n",
              "      <td>Taguatinga</td>\n",
              "      <td>180</td>\n",
              "      <td>7</td>\n",
              "      <td>-48.114898</td>\n",
              "      <td>-15.858055</td>\n",
              "      <td>Sol Nascente/Pôr do Sol</td>\n",
              "      <td>Sol Nascente/Pôr do Sol</td>\n",
              "    </tr>\n",
              "  </tbody>\n",
              "</table>\n",
              "</div>"
            ],
            "text/plain": [
              "           name region    hub_lng    hub_lat    hub_city  hub_suburb  \\\n",
              "0  cvrp-2-df-33   df-2 -48.054989 -15.838145  Taguatinga  Taguatinga   \n",
              "1  cvrp-2-df-33   df-2 -48.054989 -15.838145  Taguatinga  Taguatinga   \n",
              "2  cvrp-2-df-33   df-2 -48.054989 -15.838145  Taguatinga  Taguatinga   \n",
              "3  cvrp-2-df-33   df-2 -48.054989 -15.838145  Taguatinga  Taguatinga   \n",
              "4  cvrp-2-df-33   df-2 -48.054989 -15.838145  Taguatinga  Taguatinga   \n",
              "\n",
              "   vehicle_capacity  delivery_size  delivery_lng  delivery_lat  \\\n",
              "0               180              9    -48.116189    -15.848929   \n",
              "1               180              2    -48.118195    -15.850772   \n",
              "2               180              1    -48.112483    -15.847871   \n",
              "3               180              2    -48.118023    -15.846471   \n",
              "4               180              7    -48.114898    -15.858055   \n",
              "\n",
              "             delivery_city          delivery_suburb  \n",
              "0                Ceilândia                    P Sul  \n",
              "1                Ceilândia                    P Sul  \n",
              "2                Ceilândia                    P Sul  \n",
              "3                Ceilândia                    P Sul  \n",
              "4  Sol Nascente/Pôr do Sol  Sol Nascente/Pôr do Sol  "
            ]
          },
          "execution_count": 41,
          "metadata": {},
          "output_type": "execute_result"
        }
      ],
      "source": [
        "deliveries_df = pd.merge(left=deliveries_df, right=deliveries_geodata_df[[\"delivery_city\", \"delivery_suburb\"]], how=\"inner\", left_index=True, right_index=True)\n",
        "deliveries_df.head()"
      ]
    },
    {
      "cell_type": "markdown",
      "id": "915225ee",
      "metadata": {
        "id": "915225ee",
        "papermill": {
          "duration": 0.114351,
          "end_time": "2022-03-20T23:16:07.100058",
          "exception": false,
          "start_time": "2022-03-20T23:16:06.985707",
          "status": "completed"
        },
        "tags": []
      },
      "source": [
        "\n",
        "\n",
        "*   **Vamos acrescentar uma coluna com a distância entre o Hub de origem e o destino das encomendas**\n",
        "\n",
        "Para isso, utilizaremos o pacote Haversine.\n",
        "\n"
      ]
    },
    {
      "cell_type": "code",
      "execution_count": null,
      "id": "414548c8",
      "metadata": {
        "execution": {
          "iopub.execute_input": "2022-03-20T23:16:07.335713Z",
          "iopub.status.busy": "2022-03-20T23:16:07.334894Z",
          "iopub.status.idle": "2022-03-20T23:16:07.338618Z",
          "shell.execute_reply": "2022-03-20T23:16:07.339112Z",
          "shell.execute_reply.started": "2022-03-20T23:06:45.381757Z"
        },
        "id": "414548c8",
        "papermill": {
          "duration": 0.125186,
          "end_time": "2022-03-20T23:16:07.339275",
          "exception": false,
          "start_time": "2022-03-20T23:16:07.214089",
          "status": "completed"
        },
        "tags": [],
        "outputId": "ad9c195f-557d-415f-9fa8-2ca6e98b3c70"
      },
      "outputs": [
        {
          "data": {
            "text/plain": [
              "'\\ndef haversine_vectorize(lon1, lat1, lon2, lat2):\\n\\n    lon1, lat1, lon2, lat2 = map(np.radians, [lon1, lat1, lon2, lat2])\\n\\n    newlon = lon2 - lon1\\n    newlat = lat2 - lat1\\n\\n    haver_formula = np.sin(newlat/2.0)**2 + np.cos(lat1) * np.cos(lat2) * np.sin(newlon/2.0)**2\\n\\n    dist = 2 * np.arcsin(np.sqrt(haver_formula ))\\n    km = 6367 * dist #6367 for distance in KM for miles use 3958\\n    return km\\n'"
            ]
          },
          "execution_count": 42,
          "metadata": {},
          "output_type": "execute_result"
        }
      ],
      "source": [
        "\"\"\"\n",
        "def haversine_vectorize(lon1, lat1, lon2, lat2):\n",
        "\n",
        "    lon1, lat1, lon2, lat2 = map(np.radians, [lon1, lat1, lon2, lat2])\n",
        "\n",
        "    newlon = lon2 - lon1\n",
        "    newlat = lat2 - lat1\n",
        "\n",
        "    haver_formula = np.sin(newlat/2.0)**2 + np.cos(lat1) * np.cos(lat2) * np.sin(newlon/2.0)**2\n",
        "\n",
        "    dist = 2 * np.arcsin(np.sqrt(haver_formula ))\n",
        "    km = 6367 * dist #6367 for distance in KM for miles use 3958\n",
        "    return km\n",
        "\"\"\""
      ]
    },
    {
      "cell_type": "code",
      "execution_count": null,
      "id": "117825d3",
      "metadata": {
        "execution": {
          "iopub.execute_input": "2022-03-20T23:16:07.574215Z",
          "iopub.status.busy": "2022-03-20T23:16:07.573445Z",
          "iopub.status.idle": "2022-03-20T23:16:07.576405Z",
          "shell.execute_reply": "2022-03-20T23:16:07.576871Z",
          "shell.execute_reply.started": "2022-03-20T23:06:45.391598Z"
        },
        "id": "117825d3",
        "papermill": {
          "duration": 0.122587,
          "end_time": "2022-03-20T23:16:07.577050",
          "exception": false,
          "start_time": "2022-03-20T23:16:07.454463",
          "status": "completed"
        },
        "tags": [],
        "outputId": "d2532e41-0ce5-4718-8f1c-fd2ac8d89dc7"
      },
      "outputs": [
        {
          "data": {
            "text/plain": [
              "'\\ndeliveries_df[\"disctance_hub_delivery1\"] = haversine_vectorize(deliveries_df[\"hub_lng\"], deliveries_df[\"hub_lat\"],\\n                                                              deliveries_df[\"delivery_lng\"], deliveries_df[\"delivery_lat\"])\\n'"
            ]
          },
          "execution_count": 43,
          "metadata": {},
          "output_type": "execute_result"
        }
      ],
      "source": [
        "\"\"\"\n",
        "deliveries_df[\"disctance_hub_delivery1\"] = haversine_vectorize(deliveries_df[\"hub_lng\"], deliveries_df[\"hub_lat\"],\n",
        "                                                              deliveries_df[\"delivery_lng\"], deliveries_df[\"delivery_lat\"])\n",
        "\"\"\""
      ]
    },
    {
      "cell_type": "code",
      "execution_count": null,
      "id": "32ad0ccc",
      "metadata": {
        "execution": {
          "iopub.execute_input": "2022-03-20T23:16:07.812611Z",
          "iopub.status.busy": "2022-03-20T23:16:07.811939Z",
          "iopub.status.idle": "2022-03-20T23:16:32.878187Z",
          "shell.execute_reply": "2022-03-20T23:16:32.877304Z",
          "shell.execute_reply.started": "2022-03-20T23:06:45.405592Z"
        },
        "id": "32ad0ccc",
        "papermill": {
          "duration": 25.187179,
          "end_time": "2022-03-20T23:16:32.878363",
          "exception": false,
          "start_time": "2022-03-20T23:16:07.691184",
          "status": "completed"
        },
        "tags": []
      },
      "outputs": [],
      "source": [
        "deliveries_df[\"disctance_hub_delivery\"] = deliveries_df.index\n",
        "\n",
        "distance = []\n",
        "for d in deliveries_df[\"disctance_hub_delivery\"]:\n",
        "  d = haversine((deliveries_df[\"hub_lat\"][d], deliveries_df[\"hub_lng\"][d]),\n",
        "                (deliveries_df[\"delivery_lat\"][d], deliveries_df[\"delivery_lng\"][d]))\n",
        "  distance.append(d)"
      ]
    },
    {
      "cell_type": "code",
      "execution_count": null,
      "id": "a1f3b0c1",
      "metadata": {
        "execution": {
          "iopub.execute_input": "2022-03-20T23:16:33.140339Z",
          "iopub.status.busy": "2022-03-20T23:16:33.131966Z",
          "iopub.status.idle": "2022-03-20T23:16:33.245213Z",
          "shell.execute_reply": "2022-03-20T23:16:33.245754Z",
          "shell.execute_reply.started": "2022-03-20T23:07:11.521733Z"
        },
        "id": "a1f3b0c1",
        "papermill": {
          "duration": 0.241192,
          "end_time": "2022-03-20T23:16:33.245969",
          "exception": false,
          "start_time": "2022-03-20T23:16:33.004777",
          "status": "completed"
        },
        "tags": []
      },
      "outputs": [],
      "source": [
        "deliveries_df[\"disctance_hub_delivery\"] = distance"
      ]
    },
    {
      "cell_type": "code",
      "execution_count": null,
      "id": "3556e7bf",
      "metadata": {
        "execution": {
          "iopub.execute_input": "2022-03-20T23:16:33.508960Z",
          "iopub.status.busy": "2022-03-20T23:16:33.507896Z",
          "iopub.status.idle": "2022-03-20T23:16:33.516618Z",
          "shell.execute_reply": "2022-03-20T23:16:33.516038Z",
          "shell.execute_reply.started": "2022-03-20T23:07:11.638816Z"
        },
        "id": "3556e7bf",
        "outputId": "7a43dd2f-9171-4965-82d2-5a5f09904e24",
        "papermill": {
          "duration": 0.145906,
          "end_time": "2022-03-20T23:16:33.516767",
          "exception": false,
          "start_time": "2022-03-20T23:16:33.370861",
          "status": "completed"
        },
        "tags": []
      },
      "outputs": [
        {
          "data": {
            "text/html": [
              "<div>\n",
              "<style scoped>\n",
              "    .dataframe tbody tr th:only-of-type {\n",
              "        vertical-align: middle;\n",
              "    }\n",
              "\n",
              "    .dataframe tbody tr th {\n",
              "        vertical-align: top;\n",
              "    }\n",
              "\n",
              "    .dataframe thead th {\n",
              "        text-align: right;\n",
              "    }\n",
              "</style>\n",
              "<table border=\"1\" class=\"dataframe\">\n",
              "  <thead>\n",
              "    <tr style=\"text-align: right;\">\n",
              "      <th></th>\n",
              "      <th>name</th>\n",
              "      <th>region</th>\n",
              "      <th>hub_lng</th>\n",
              "      <th>hub_lat</th>\n",
              "      <th>hub_city</th>\n",
              "      <th>hub_suburb</th>\n",
              "      <th>vehicle_capacity</th>\n",
              "      <th>delivery_size</th>\n",
              "      <th>delivery_lng</th>\n",
              "      <th>delivery_lat</th>\n",
              "      <th>delivery_city</th>\n",
              "      <th>delivery_suburb</th>\n",
              "      <th>disctance_hub_delivery</th>\n",
              "    </tr>\n",
              "  </thead>\n",
              "  <tbody>\n",
              "    <tr>\n",
              "      <th>0</th>\n",
              "      <td>cvrp-2-df-33</td>\n",
              "      <td>df-2</td>\n",
              "      <td>-48.054989</td>\n",
              "      <td>-15.838145</td>\n",
              "      <td>Taguatinga</td>\n",
              "      <td>Taguatinga</td>\n",
              "      <td>180</td>\n",
              "      <td>9</td>\n",
              "      <td>-48.116189</td>\n",
              "      <td>-15.848929</td>\n",
              "      <td>Ceilândia</td>\n",
              "      <td>P Sul</td>\n",
              "      <td>6.655516</td>\n",
              "    </tr>\n",
              "    <tr>\n",
              "      <th>1</th>\n",
              "      <td>cvrp-2-df-33</td>\n",
              "      <td>df-2</td>\n",
              "      <td>-48.054989</td>\n",
              "      <td>-15.838145</td>\n",
              "      <td>Taguatinga</td>\n",
              "      <td>Taguatinga</td>\n",
              "      <td>180</td>\n",
              "      <td>2</td>\n",
              "      <td>-48.118195</td>\n",
              "      <td>-15.850772</td>\n",
              "      <td>Ceilândia</td>\n",
              "      <td>P Sul</td>\n",
              "      <td>6.905410</td>\n",
              "    </tr>\n",
              "    <tr>\n",
              "      <th>2</th>\n",
              "      <td>cvrp-2-df-33</td>\n",
              "      <td>df-2</td>\n",
              "      <td>-48.054989</td>\n",
              "      <td>-15.838145</td>\n",
              "      <td>Taguatinga</td>\n",
              "      <td>Taguatinga</td>\n",
              "      <td>180</td>\n",
              "      <td>1</td>\n",
              "      <td>-48.112483</td>\n",
              "      <td>-15.847871</td>\n",
              "      <td>Ceilândia</td>\n",
              "      <td>P Sul</td>\n",
              "      <td>6.244588</td>\n",
              "    </tr>\n",
              "    <tr>\n",
              "      <th>3</th>\n",
              "      <td>cvrp-2-df-33</td>\n",
              "      <td>df-2</td>\n",
              "      <td>-48.054989</td>\n",
              "      <td>-15.838145</td>\n",
              "      <td>Taguatinga</td>\n",
              "      <td>Taguatinga</td>\n",
              "      <td>180</td>\n",
              "      <td>2</td>\n",
              "      <td>-48.118023</td>\n",
              "      <td>-15.846471</td>\n",
              "      <td>Ceilândia</td>\n",
              "      <td>P Sul</td>\n",
              "      <td>6.806062</td>\n",
              "    </tr>\n",
              "    <tr>\n",
              "      <th>4</th>\n",
              "      <td>cvrp-2-df-33</td>\n",
              "      <td>df-2</td>\n",
              "      <td>-48.054989</td>\n",
              "      <td>-15.838145</td>\n",
              "      <td>Taguatinga</td>\n",
              "      <td>Taguatinga</td>\n",
              "      <td>180</td>\n",
              "      <td>7</td>\n",
              "      <td>-48.114898</td>\n",
              "      <td>-15.858055</td>\n",
              "      <td>Sol Nascente/Pôr do Sol</td>\n",
              "      <td>Sol Nascente/Pôr do Sol</td>\n",
              "      <td>6.780018</td>\n",
              "    </tr>\n",
              "  </tbody>\n",
              "</table>\n",
              "</div>"
            ],
            "text/plain": [
              "           name region    hub_lng    hub_lat    hub_city  hub_suburb  \\\n",
              "0  cvrp-2-df-33   df-2 -48.054989 -15.838145  Taguatinga  Taguatinga   \n",
              "1  cvrp-2-df-33   df-2 -48.054989 -15.838145  Taguatinga  Taguatinga   \n",
              "2  cvrp-2-df-33   df-2 -48.054989 -15.838145  Taguatinga  Taguatinga   \n",
              "3  cvrp-2-df-33   df-2 -48.054989 -15.838145  Taguatinga  Taguatinga   \n",
              "4  cvrp-2-df-33   df-2 -48.054989 -15.838145  Taguatinga  Taguatinga   \n",
              "\n",
              "   vehicle_capacity  delivery_size  delivery_lng  delivery_lat  \\\n",
              "0               180              9    -48.116189    -15.848929   \n",
              "1               180              2    -48.118195    -15.850772   \n",
              "2               180              1    -48.112483    -15.847871   \n",
              "3               180              2    -48.118023    -15.846471   \n",
              "4               180              7    -48.114898    -15.858055   \n",
              "\n",
              "             delivery_city          delivery_suburb  disctance_hub_delivery  \n",
              "0                Ceilândia                    P Sul                6.655516  \n",
              "1                Ceilândia                    P Sul                6.905410  \n",
              "2                Ceilândia                    P Sul                6.244588  \n",
              "3                Ceilândia                    P Sul                6.806062  \n",
              "4  Sol Nascente/Pôr do Sol  Sol Nascente/Pôr do Sol                6.780018  "
            ]
          },
          "execution_count": 46,
          "metadata": {},
          "output_type": "execute_result"
        }
      ],
      "source": [
        "deliveries_df.head()"
      ]
    },
    {
      "cell_type": "markdown",
      "id": "72ee402d",
      "metadata": {
        "id": "72ee402d",
        "papermill": {
          "duration": 0.125612,
          "end_time": "2022-03-20T23:16:33.768010",
          "exception": false,
          "start_time": "2022-03-20T23:16:33.642398",
          "status": "completed"
        },
        "tags": []
      },
      "source": [
        "\n",
        "\n",
        "*   **Vamos acrescentar uma coluna com gasto de gasolina por distância percorrida**\n",
        "\n",
        "Aqui, vamos imaginar que o veículo utilizado na entrega é um carro do modelo Fiorino Furgão 2018 1.4, que faz até 10,5km/L. Claro que o modelo do veículo utilizado pela Loggi pode ser outro. Pode ser que o veículo nem utilize gasolina, por exemplo. Pode ser um modelo que utilize alcool, gás ou disel. A ideia aqui é somente ter uma noção geral do gasto com combustível.\n",
        "\n",
        "Segundo a Agência Nacional do Petróleo, Gás, e Biocombustíveis (ANP), o preço médio da gasolina está custando R$ 6,683 no Brasil. É em cima desse valor que vamos realizar o cálculo. \n"
      ]
    },
    {
      "cell_type": "code",
      "execution_count": null,
      "id": "9f6a3972",
      "metadata": {
        "execution": {
          "iopub.execute_input": "2022-03-20T23:16:34.020716Z",
          "iopub.status.busy": "2022-03-20T23:16:34.020022Z",
          "iopub.status.idle": "2022-03-20T23:16:34.029201Z",
          "shell.execute_reply": "2022-03-20T23:16:34.028578Z",
          "shell.execute_reply.started": "2022-03-20T23:07:11.660281Z"
        },
        "id": "9f6a3972",
        "papermill": {
          "duration": 0.136838,
          "end_time": "2022-03-20T23:16:34.029391",
          "exception": false,
          "start_time": "2022-03-20T23:16:33.892553",
          "status": "completed"
        },
        "tags": []
      },
      "outputs": [],
      "source": [
        "deliveries_df['spent_on_gas'] = (6.683/10.5)*deliveries_df['disctance_hub_delivery']"
      ]
    },
    {
      "cell_type": "code",
      "execution_count": null,
      "id": "0fbf7ae4",
      "metadata": {
        "execution": {
          "iopub.execute_input": "2022-03-20T23:16:34.283488Z",
          "iopub.status.busy": "2022-03-20T23:16:34.282796Z",
          "iopub.status.idle": "2022-03-20T23:16:34.286533Z",
          "shell.execute_reply": "2022-03-20T23:16:34.285848Z",
          "shell.execute_reply.started": "2022-03-20T23:07:11.680498Z"
        },
        "id": "0fbf7ae4",
        "outputId": "8398c363-e1a3-47d9-a44a-870865a12aa2",
        "papermill": {
          "duration": 0.137307,
          "end_time": "2022-03-20T23:16:34.286669",
          "exception": false,
          "start_time": "2022-03-20T23:16:34.149362",
          "status": "completed"
        },
        "tags": []
      },
      "outputs": [
        {
          "data": {
            "text/html": [
              "<div>\n",
              "<style scoped>\n",
              "    .dataframe tbody tr th:only-of-type {\n",
              "        vertical-align: middle;\n",
              "    }\n",
              "\n",
              "    .dataframe tbody tr th {\n",
              "        vertical-align: top;\n",
              "    }\n",
              "\n",
              "    .dataframe thead th {\n",
              "        text-align: right;\n",
              "    }\n",
              "</style>\n",
              "<table border=\"1\" class=\"dataframe\">\n",
              "  <thead>\n",
              "    <tr style=\"text-align: right;\">\n",
              "      <th></th>\n",
              "      <th>name</th>\n",
              "      <th>region</th>\n",
              "      <th>hub_lng</th>\n",
              "      <th>hub_lat</th>\n",
              "      <th>hub_city</th>\n",
              "      <th>hub_suburb</th>\n",
              "      <th>vehicle_capacity</th>\n",
              "      <th>delivery_size</th>\n",
              "      <th>delivery_lng</th>\n",
              "      <th>delivery_lat</th>\n",
              "      <th>delivery_city</th>\n",
              "      <th>delivery_suburb</th>\n",
              "      <th>disctance_hub_delivery</th>\n",
              "      <th>spent_on_gas</th>\n",
              "    </tr>\n",
              "  </thead>\n",
              "  <tbody>\n",
              "    <tr>\n",
              "      <th>0</th>\n",
              "      <td>cvrp-2-df-33</td>\n",
              "      <td>df-2</td>\n",
              "      <td>-48.054989</td>\n",
              "      <td>-15.838145</td>\n",
              "      <td>Taguatinga</td>\n",
              "      <td>Taguatinga</td>\n",
              "      <td>180</td>\n",
              "      <td>9</td>\n",
              "      <td>-48.116189</td>\n",
              "      <td>-15.848929</td>\n",
              "      <td>Ceilândia</td>\n",
              "      <td>P Sul</td>\n",
              "      <td>6.655516</td>\n",
              "      <td>4.236077</td>\n",
              "    </tr>\n",
              "    <tr>\n",
              "      <th>1</th>\n",
              "      <td>cvrp-2-df-33</td>\n",
              "      <td>df-2</td>\n",
              "      <td>-48.054989</td>\n",
              "      <td>-15.838145</td>\n",
              "      <td>Taguatinga</td>\n",
              "      <td>Taguatinga</td>\n",
              "      <td>180</td>\n",
              "      <td>2</td>\n",
              "      <td>-48.118195</td>\n",
              "      <td>-15.850772</td>\n",
              "      <td>Ceilândia</td>\n",
              "      <td>P Sul</td>\n",
              "      <td>6.905410</td>\n",
              "      <td>4.395129</td>\n",
              "    </tr>\n",
              "    <tr>\n",
              "      <th>2</th>\n",
              "      <td>cvrp-2-df-33</td>\n",
              "      <td>df-2</td>\n",
              "      <td>-48.054989</td>\n",
              "      <td>-15.838145</td>\n",
              "      <td>Taguatinga</td>\n",
              "      <td>Taguatinga</td>\n",
              "      <td>180</td>\n",
              "      <td>1</td>\n",
              "      <td>-48.112483</td>\n",
              "      <td>-15.847871</td>\n",
              "      <td>Ceilândia</td>\n",
              "      <td>P Sul</td>\n",
              "      <td>6.244588</td>\n",
              "      <td>3.974532</td>\n",
              "    </tr>\n",
              "    <tr>\n",
              "      <th>3</th>\n",
              "      <td>cvrp-2-df-33</td>\n",
              "      <td>df-2</td>\n",
              "      <td>-48.054989</td>\n",
              "      <td>-15.838145</td>\n",
              "      <td>Taguatinga</td>\n",
              "      <td>Taguatinga</td>\n",
              "      <td>180</td>\n",
              "      <td>2</td>\n",
              "      <td>-48.118023</td>\n",
              "      <td>-15.846471</td>\n",
              "      <td>Ceilândia</td>\n",
              "      <td>P Sul</td>\n",
              "      <td>6.806062</td>\n",
              "      <td>4.331896</td>\n",
              "    </tr>\n",
              "    <tr>\n",
              "      <th>4</th>\n",
              "      <td>cvrp-2-df-33</td>\n",
              "      <td>df-2</td>\n",
              "      <td>-48.054989</td>\n",
              "      <td>-15.838145</td>\n",
              "      <td>Taguatinga</td>\n",
              "      <td>Taguatinga</td>\n",
              "      <td>180</td>\n",
              "      <td>7</td>\n",
              "      <td>-48.114898</td>\n",
              "      <td>-15.858055</td>\n",
              "      <td>Sol Nascente/Pôr do Sol</td>\n",
              "      <td>Sol Nascente/Pôr do Sol</td>\n",
              "      <td>6.780018</td>\n",
              "      <td>4.315320</td>\n",
              "    </tr>\n",
              "  </tbody>\n",
              "</table>\n",
              "</div>"
            ],
            "text/plain": [
              "           name region    hub_lng    hub_lat    hub_city  hub_suburb  \\\n",
              "0  cvrp-2-df-33   df-2 -48.054989 -15.838145  Taguatinga  Taguatinga   \n",
              "1  cvrp-2-df-33   df-2 -48.054989 -15.838145  Taguatinga  Taguatinga   \n",
              "2  cvrp-2-df-33   df-2 -48.054989 -15.838145  Taguatinga  Taguatinga   \n",
              "3  cvrp-2-df-33   df-2 -48.054989 -15.838145  Taguatinga  Taguatinga   \n",
              "4  cvrp-2-df-33   df-2 -48.054989 -15.838145  Taguatinga  Taguatinga   \n",
              "\n",
              "   vehicle_capacity  delivery_size  delivery_lng  delivery_lat  \\\n",
              "0               180              9    -48.116189    -15.848929   \n",
              "1               180              2    -48.118195    -15.850772   \n",
              "2               180              1    -48.112483    -15.847871   \n",
              "3               180              2    -48.118023    -15.846471   \n",
              "4               180              7    -48.114898    -15.858055   \n",
              "\n",
              "             delivery_city          delivery_suburb  disctance_hub_delivery  \\\n",
              "0                Ceilândia                    P Sul                6.655516   \n",
              "1                Ceilândia                    P Sul                6.905410   \n",
              "2                Ceilândia                    P Sul                6.244588   \n",
              "3                Ceilândia                    P Sul                6.806062   \n",
              "4  Sol Nascente/Pôr do Sol  Sol Nascente/Pôr do Sol                6.780018   \n",
              "\n",
              "   spent_on_gas  \n",
              "0      4.236077  \n",
              "1      4.395129  \n",
              "2      3.974532  \n",
              "3      4.331896  \n",
              "4      4.315320  "
            ]
          },
          "execution_count": 48,
          "metadata": {},
          "output_type": "execute_result"
        }
      ],
      "source": [
        "deliveries_df.head()"
      ]
    },
    {
      "cell_type": "markdown",
      "id": "0a2d73d8",
      "metadata": {
        "id": "0a2d73d8",
        "papermill": {
          "duration": 0.115651,
          "end_time": "2022-03-20T23:16:34.519077",
          "exception": false,
          "start_time": "2022-03-20T23:16:34.403426",
          "status": "completed"
        },
        "tags": []
      },
      "source": [
        "### **3.2. Schema** "
      ]
    },
    {
      "cell_type": "markdown",
      "id": "5a19027c",
      "metadata": {
        "id": "5a19027c",
        "papermill": {
          "duration": 0.115729,
          "end_time": "2022-03-20T23:16:34.751721",
          "exception": false,
          "start_time": "2022-03-20T23:16:34.635992",
          "status": "completed"
        },
        "tags": []
      },
      "source": [
        "Vamos dar uma olhadinha na qualidade dos dados que foram acrescentados"
      ]
    },
    {
      "cell_type": "code",
      "execution_count": null,
      "id": "f6092471",
      "metadata": {
        "execution": {
          "iopub.execute_input": "2022-03-20T23:16:35.122297Z",
          "iopub.status.busy": "2022-03-20T23:16:35.121620Z",
          "iopub.status.idle": "2022-03-20T23:16:35.410495Z",
          "shell.execute_reply": "2022-03-20T23:16:35.410962Z",
          "shell.execute_reply.started": "2022-03-20T23:07:11.704625Z"
        },
        "id": "f6092471",
        "outputId": "e21778a0-9144-44c1-dabc-67cec4bbdb1e",
        "papermill": {
          "duration": 0.543617,
          "end_time": "2022-03-20T23:16:35.411138",
          "exception": false,
          "start_time": "2022-03-20T23:16:34.867521",
          "status": "completed"
        },
        "tags": []
      },
      "outputs": [
        {
          "name": "stdout",
          "output_type": "stream",
          "text": [
            "<class 'pandas.core.frame.DataFrame'>\n",
            "Int64Index: 636149 entries, 0 to 636148\n",
            "Data columns (total 14 columns):\n",
            " #   Column                  Non-Null Count   Dtype  \n",
            "---  ------                  --------------   -----  \n",
            " 0   name                    636149 non-null  object \n",
            " 1   region                  636149 non-null  object \n",
            " 2   hub_lng                 636149 non-null  float64\n",
            " 3   hub_lat                 636149 non-null  float64\n",
            " 4   hub_city                636149 non-null  object \n",
            " 5   hub_suburb              636149 non-null  object \n",
            " 6   vehicle_capacity        636149 non-null  int64  \n",
            " 7   delivery_size           636149 non-null  int64  \n",
            " 8   delivery_lng            636149 non-null  float64\n",
            " 9   delivery_lat            636149 non-null  float64\n",
            " 10  delivery_city           634447 non-null  object \n",
            " 11  delivery_suburb         476264 non-null  object \n",
            " 12  disctance_hub_delivery  636149 non-null  float64\n",
            " 13  spent_on_gas            636149 non-null  float64\n",
            "dtypes: float64(6), int64(2), object(6)\n",
            "memory usage: 88.9+ MB\n"
          ]
        }
      ],
      "source": [
        "deliveries_df.info()"
      ]
    },
    {
      "cell_type": "code",
      "execution_count": null,
      "id": "979a45f5",
      "metadata": {
        "execution": {
          "iopub.execute_input": "2022-03-20T23:16:35.647980Z",
          "iopub.status.busy": "2022-03-20T23:16:35.647276Z",
          "iopub.status.idle": "2022-03-20T23:16:36.047447Z",
          "shell.execute_reply": "2022-03-20T23:16:36.046755Z",
          "shell.execute_reply.started": "2022-03-20T23:07:12.159498Z"
        },
        "id": "979a45f5",
        "outputId": "8158707f-adaf-44fc-f2ee-74bce44cf174",
        "papermill": {
          "duration": 0.519748,
          "end_time": "2022-03-20T23:16:36.047595",
          "exception": false,
          "start_time": "2022-03-20T23:16:35.527847",
          "status": "completed"
        },
        "tags": []
      },
      "outputs": [
        {
          "data": {
            "text/plain": [
              "name                      False\n",
              "region                    False\n",
              "hub_lng                   False\n",
              "hub_lat                   False\n",
              "hub_city                  False\n",
              "hub_suburb                False\n",
              "vehicle_capacity          False\n",
              "delivery_size             False\n",
              "delivery_lng              False\n",
              "delivery_lat              False\n",
              "delivery_city              True\n",
              "delivery_suburb            True\n",
              "disctance_hub_delivery    False\n",
              "spent_on_gas              False\n",
              "dtype: bool"
            ]
          },
          "execution_count": 50,
          "metadata": {},
          "output_type": "execute_result"
        }
      ],
      "source": [
        "deliveries_df.isna().any()"
      ]
    },
    {
      "cell_type": "code",
      "execution_count": null,
      "id": "55c2385a",
      "metadata": {
        "execution": {
          "iopub.execute_input": "2022-03-20T23:16:36.354741Z",
          "iopub.status.busy": "2022-03-20T23:16:36.354024Z",
          "iopub.status.idle": "2022-03-20T23:16:36.360446Z",
          "shell.execute_reply": "2022-03-20T23:16:36.359907Z",
          "shell.execute_reply.started": "2022-03-20T23:07:12.581030Z"
        },
        "id": "55c2385a",
        "outputId": "0d3dcc6e-d9c0-4a6b-a48d-3ab94ff294b6",
        "papermill": {
          "duration": 0.194415,
          "end_time": "2022-03-20T23:16:36.360584",
          "exception": false,
          "start_time": "2022-03-20T23:16:36.166169",
          "status": "completed"
        },
        "tags": []
      },
      "outputs": [
        {
          "data": {
            "text/plain": [
              "0.26754738276724477"
            ]
          },
          "execution_count": 51,
          "metadata": {},
          "output_type": "execute_result"
        }
      ],
      "source": [
        "100 * (deliveries_df[\"delivery_city\"].isna().sum() / len(deliveries_df))"
      ]
    },
    {
      "cell_type": "code",
      "execution_count": null,
      "id": "42884474",
      "metadata": {
        "execution": {
          "iopub.execute_input": "2022-03-20T23:16:36.659892Z",
          "iopub.status.busy": "2022-03-20T23:16:36.659190Z",
          "iopub.status.idle": "2022-03-20T23:16:36.665123Z",
          "shell.execute_reply": "2022-03-20T23:16:36.664451Z",
          "shell.execute_reply.started": "2022-03-20T23:07:12.659933Z"
        },
        "id": "42884474",
        "outputId": "e16fb588-438f-478c-8edd-675747e11b51",
        "papermill": {
          "duration": 0.185095,
          "end_time": "2022-03-20T23:16:36.665273",
          "exception": false,
          "start_time": "2022-03-20T23:16:36.480178",
          "status": "completed"
        },
        "tags": []
      },
      "outputs": [
        {
          "data": {
            "text/plain": [
              "25.133262804783158"
            ]
          },
          "execution_count": 52,
          "metadata": {},
          "output_type": "execute_result"
        }
      ],
      "source": [
        "100 * (deliveries_df[\"delivery_suburb\"].isna().sum() / len(deliveries_df))"
      ]
    },
    {
      "cell_type": "code",
      "execution_count": null,
      "id": "c4114dc1",
      "metadata": {
        "execution": {
          "iopub.execute_input": "2022-03-20T23:16:36.909259Z",
          "iopub.status.busy": "2022-03-20T23:16:36.908145Z",
          "iopub.status.idle": "2022-03-20T23:16:37.121102Z",
          "shell.execute_reply": "2022-03-20T23:16:37.120569Z",
          "shell.execute_reply.started": "2022-03-20T23:07:12.733046Z"
        },
        "id": "c4114dc1",
        "outputId": "320bec01-ec56-48a0-b65e-567a06077649",
        "papermill": {
          "duration": 0.337765,
          "end_time": "2022-03-20T23:16:37.121235",
          "exception": false,
          "start_time": "2022-03-20T23:16:36.783470",
          "status": "completed"
        },
        "tags": []
      },
      "outputs": [
        {
          "data": {
            "text/plain": [
              "delivery_city       \n",
              "Brasília                0.234195\n",
              "Taguatinga              0.071625\n",
              "Sudoeste / Octogonal    0.069504\n",
              "Ceilândia               0.059661\n",
              "Águas Claras            0.058293\n",
              "Guará                   0.055619\n",
              "Lago Sul                0.045620\n",
              "Sobradinho              0.045412\n",
              "Lago Norte              0.040832\n",
              "Gama                    0.034880\n",
              "dtype: float64"
            ]
          },
          "execution_count": 53,
          "metadata": {},
          "output_type": "execute_result"
        }
      ],
      "source": [
        "prop_df = deliveries_df[[\"delivery_city\"]].value_counts() / len(deliveries_df)\n",
        "prop_df.sort_values(ascending=False).head(10)"
      ]
    },
    {
      "cell_type": "code",
      "execution_count": null,
      "id": "2bfd4374",
      "metadata": {
        "execution": {
          "iopub.execute_input": "2022-03-20T23:16:37.365400Z",
          "iopub.status.busy": "2022-03-20T23:16:37.364227Z",
          "iopub.status.idle": "2022-03-20T23:16:37.461413Z",
          "shell.execute_reply": "2022-03-20T23:16:37.460743Z",
          "shell.execute_reply.started": "2022-03-20T23:07:12.973957Z"
        },
        "id": "2bfd4374",
        "outputId": "d65c77d5-c03e-4a59-d9eb-d95395175a7a",
        "papermill": {
          "duration": 0.221931,
          "end_time": "2022-03-20T23:16:37.461557",
          "exception": false,
          "start_time": "2022-03-20T23:16:37.239626",
          "status": "completed"
        },
        "tags": []
      },
      "outputs": [
        {
          "data": {
            "text/plain": [
              "delivery_suburb \n",
              "Brasília            0.084564\n",
              "Asa Norte           0.076639\n",
              "Taguatinga          0.063363\n",
              "Asa Sul             0.059263\n",
              "Águas Claras        0.056598\n",
              "Guará               0.055619\n",
              "Samambaia           0.026514\n",
              "Sobradinho          0.018148\n",
              "Recanto das Emas    0.015029\n",
              "P Sul               0.012807\n",
              "dtype: float64"
            ]
          },
          "execution_count": 54,
          "metadata": {},
          "output_type": "execute_result"
        }
      ],
      "source": [
        "prop_df = deliveries_df[[\"delivery_suburb\"]].value_counts() / len(deliveries_df)\n",
        "prop_df.sort_values(ascending=False).head(10)"
      ]
    },
    {
      "cell_type": "markdown",
      "id": "2ab98604",
      "metadata": {
        "id": "2ab98604",
        "papermill": {
          "duration": 0.118081,
          "end_time": "2022-03-20T23:16:37.699606",
          "exception": false,
          "start_time": "2022-03-20T23:16:37.581525",
          "status": "completed"
        },
        "tags": []
      },
      "source": [
        "## 4\\. Visualização"
      ]
    },
    {
      "cell_type": "markdown",
      "id": "c354a9b3",
      "metadata": {
        "id": "c354a9b3",
        "papermill": {
          "duration": 0.118002,
          "end_time": "2022-03-20T23:16:37.935529",
          "exception": false,
          "start_time": "2022-03-20T23:16:37.817527",
          "status": "completed"
        },
        "tags": []
      },
      "source": [
        "*   **Mapa do Distrito Federal**\n",
        "\n",
        "\n",
        "\n",
        "\n",
        "\n",
        "\n",
        "\n"
      ]
    },
    {
      "cell_type": "markdown",
      "id": "90c93491",
      "metadata": {
        "id": "90c93491",
        "papermill": {
          "duration": 0.11988,
          "end_time": "2022-03-20T23:16:38.174700",
          "exception": false,
          "start_time": "2022-03-20T23:16:38.054820",
          "status": "completed"
        },
        "tags": []
      },
      "source": [
        "Vamos fazer o download dos dados do mapa do Distrito Federal do site oficial do IBGE através do seguinte [link](https://www.ibge.gov.br/geociencias/cartas-e-mapas/bases-cartograficas-continuas) para criar o DataFrame `mapa`. Note a coluna `geometry`."
      ]
    },
    {
      "cell_type": "code",
      "execution_count": null,
      "id": "a6402fa6",
      "metadata": {
        "execution": {
          "iopub.execute_input": "2022-03-20T23:16:38.437605Z",
          "iopub.status.busy": "2022-03-20T23:16:38.425586Z",
          "iopub.status.idle": "2022-03-20T23:16:58.598354Z",
          "shell.execute_reply": "2022-03-20T23:16:58.599048Z",
          "shell.execute_reply.started": "2022-03-20T23:07:13.077411Z"
        },
        "id": "a6402fa6",
        "papermill": {
          "duration": 20.303793,
          "end_time": "2022-03-20T23:16:58.599225",
          "exception": false,
          "start_time": "2022-03-20T23:16:38.295432",
          "status": "completed"
        },
        "tags": []
      },
      "outputs": [],
      "source": [
        "!wget -q \"https://geoftp.ibge.gov.br/cartas_e_mapas/bases_cartograficas_continuas/bc100/go_df/versao2016/shapefile/bc100_go_df_shp.zip\" -O distrito-federal.zip\n",
        "!unzip -q distrito-federal.zip -d ./maps\n",
        "!cp ./maps/LIM_Unidade_Federacao_A.shp ./distrito-federal.shp\n",
        "!cp ./maps/LIM_Unidade_Federacao_A.shx ./distrito-federal.shx"
      ]
    },
    {
      "cell_type": "code",
      "execution_count": null,
      "id": "0016d6ea",
      "metadata": {
        "execution": {
          "iopub.execute_input": "2022-03-20T23:16:58.908145Z",
          "iopub.status.busy": "2022-03-20T23:16:58.907159Z",
          "iopub.status.idle": "2022-03-20T23:16:59.071491Z",
          "shell.execute_reply": "2022-03-20T23:16:59.070976Z",
          "shell.execute_reply.started": "2022-03-20T23:07:32.495724Z"
        },
        "id": "0016d6ea",
        "outputId": "406a6f02-dfec-4b28-c21c-1b675b314007",
        "papermill": {
          "duration": 0.351702,
          "end_time": "2022-03-20T23:16:59.071631",
          "exception": false,
          "start_time": "2022-03-20T23:16:58.719929",
          "status": "completed"
        },
        "tags": []
      },
      "outputs": [
        {
          "data": {
            "text/html": [
              "<div>\n",
              "<style scoped>\n",
              "    .dataframe tbody tr th:only-of-type {\n",
              "        vertical-align: middle;\n",
              "    }\n",
              "\n",
              "    .dataframe tbody tr th {\n",
              "        vertical-align: top;\n",
              "    }\n",
              "\n",
              "    .dataframe thead th {\n",
              "        text-align: right;\n",
              "    }\n",
              "</style>\n",
              "<table border=\"1\" class=\"dataframe\">\n",
              "  <thead>\n",
              "    <tr style=\"text-align: right;\">\n",
              "      <th></th>\n",
              "      <th>geometry</th>\n",
              "    </tr>\n",
              "  </thead>\n",
              "  <tbody>\n",
              "    <tr>\n",
              "      <th>0</th>\n",
              "      <td>POLYGON Z ((-47.31048 -16.03602 0.00000, -47.3...</td>\n",
              "    </tr>\n",
              "  </tbody>\n",
              "</table>\n",
              "</div>"
            ],
            "text/plain": [
              "                                            geometry\n",
              "0  POLYGON Z ((-47.31048 -16.03602 0.00000, -47.3..."
            ]
          },
          "execution_count": 56,
          "metadata": {},
          "output_type": "execute_result"
        }
      ],
      "source": [
        "mapa = geopandas.read_file(\"distrito-federal.shp\")\n",
        "mapa = mapa.loc[[0]]\n",
        "mapa.head()"
      ]
    },
    {
      "cell_type": "markdown",
      "id": "1381e731",
      "metadata": {
        "id": "1381e731",
        "papermill": {
          "duration": 0.119616,
          "end_time": "2022-03-20T23:16:59.311479",
          "exception": false,
          "start_time": "2022-03-20T23:16:59.191863",
          "status": "completed"
        },
        "tags": []
      },
      "source": [
        "\n",
        "\n",
        "* **Mapa dos Hubs**\n",
        "\n"
      ]
    },
    {
      "cell_type": "markdown",
      "id": "dea29627",
      "metadata": {
        "id": "dea29627",
        "papermill": {
          "duration": 0.119343,
          "end_time": "2022-03-20T23:16:59.551533",
          "exception": false,
          "start_time": "2022-03-20T23:16:59.432190",
          "status": "completed"
        },
        "tags": []
      },
      "source": [
        "Vamos criar o DataFrame `geo_hub_df` através do DataFrame `deliveries_df`. Note a nova coluna `geometry`."
      ]
    },
    {
      "cell_type": "code",
      "execution_count": null,
      "id": "8d9506cb",
      "metadata": {
        "execution": {
          "iopub.execute_input": "2022-03-20T23:16:59.797076Z",
          "iopub.status.busy": "2022-03-20T23:16:59.796372Z",
          "iopub.status.idle": "2022-03-20T23:16:59.901267Z",
          "shell.execute_reply": "2022-03-20T23:16:59.900741Z",
          "shell.execute_reply.started": "2022-03-20T23:07:32.660312Z"
        },
        "id": "8d9506cb",
        "outputId": "b7e93296-bd6c-40d5-8fe4-0d903767f312",
        "papermill": {
          "duration": 0.230771,
          "end_time": "2022-03-20T23:16:59.901427",
          "exception": false,
          "start_time": "2022-03-20T23:16:59.670656",
          "status": "completed"
        },
        "tags": []
      },
      "outputs": [
        {
          "data": {
            "text/html": [
              "<div>\n",
              "<style scoped>\n",
              "    .dataframe tbody tr th:only-of-type {\n",
              "        vertical-align: middle;\n",
              "    }\n",
              "\n",
              "    .dataframe tbody tr th {\n",
              "        vertical-align: top;\n",
              "    }\n",
              "\n",
              "    .dataframe thead th {\n",
              "        text-align: right;\n",
              "    }\n",
              "</style>\n",
              "<table border=\"1\" class=\"dataframe\">\n",
              "  <thead>\n",
              "    <tr style=\"text-align: right;\">\n",
              "      <th></th>\n",
              "      <th>region</th>\n",
              "      <th>hub_lng</th>\n",
              "      <th>hub_lat</th>\n",
              "      <th>geometry</th>\n",
              "    </tr>\n",
              "  </thead>\n",
              "  <tbody>\n",
              "    <tr>\n",
              "      <th>0</th>\n",
              "      <td>df-2</td>\n",
              "      <td>-48.054989</td>\n",
              "      <td>-15.838145</td>\n",
              "      <td>POINT (-48.05499 -15.83814)</td>\n",
              "    </tr>\n",
              "    <tr>\n",
              "      <th>1</th>\n",
              "      <td>df-1</td>\n",
              "      <td>-47.893662</td>\n",
              "      <td>-15.805118</td>\n",
              "      <td>POINT (-47.89366 -15.80512)</td>\n",
              "    </tr>\n",
              "    <tr>\n",
              "      <th>2</th>\n",
              "      <td>df-0</td>\n",
              "      <td>-47.802665</td>\n",
              "      <td>-15.657014</td>\n",
              "      <td>POINT (-47.80266 -15.65701)</td>\n",
              "    </tr>\n",
              "  </tbody>\n",
              "</table>\n",
              "</div>"
            ],
            "text/plain": [
              "  region    hub_lng    hub_lat                     geometry\n",
              "0   df-2 -48.054989 -15.838145  POINT (-48.05499 -15.83814)\n",
              "1   df-1 -47.893662 -15.805118  POINT (-47.89366 -15.80512)\n",
              "2   df-0 -47.802665 -15.657014  POINT (-47.80266 -15.65701)"
            ]
          },
          "execution_count": 57,
          "metadata": {},
          "output_type": "execute_result"
        }
      ],
      "source": [
        "hub_df = deliveries_df[[\"region\", \"hub_lng\", \"hub_lat\"]].drop_duplicates().reset_index(drop=True)\n",
        "geo_hub_df = geopandas.GeoDataFrame(hub_df, geometry=geopandas.points_from_xy(hub_df[\"hub_lng\"], hub_df[\"hub_lat\"]))\n",
        "geo_hub_df.head()"
      ]
    },
    {
      "cell_type": "markdown",
      "id": "02cd5b6a",
      "metadata": {
        "id": "02cd5b6a",
        "papermill": {
          "duration": 0.120725,
          "end_time": "2022-03-20T23:17:00.142843",
          "exception": false,
          "start_time": "2022-03-20T23:17:00.022118",
          "status": "completed"
        },
        "tags": []
      },
      "source": [
        "\n",
        "\n",
        "*   **Mapa das Entregas**\n",
        "\n"
      ]
    },
    {
      "cell_type": "markdown",
      "id": "a1b11bb6",
      "metadata": {
        "id": "a1b11bb6",
        "papermill": {
          "duration": 0.120927,
          "end_time": "2022-03-20T23:17:00.384641",
          "exception": false,
          "start_time": "2022-03-20T23:17:00.263714",
          "status": "completed"
        },
        "tags": []
      },
      "source": [
        "Vamos criar o DataFrame `geo_deliveries_df` através do DataFrame `deliveries_df`. Note a nova coluna `geometry`."
      ]
    },
    {
      "cell_type": "code",
      "execution_count": null,
      "id": "52ed6f5e",
      "metadata": {
        "execution": {
          "iopub.execute_input": "2022-03-20T23:17:00.630077Z",
          "iopub.status.busy": "2022-03-20T23:17:00.629431Z",
          "iopub.status.idle": "2022-03-20T23:17:00.779618Z",
          "shell.execute_reply": "2022-03-20T23:17:00.780177Z",
          "shell.execute_reply.started": "2022-03-20T23:07:32.782086Z"
        },
        "id": "52ed6f5e",
        "outputId": "9fe0b219-af7d-4fbb-f36c-798650037c8f",
        "papermill": {
          "duration": 0.273733,
          "end_time": "2022-03-20T23:17:00.780372",
          "exception": false,
          "start_time": "2022-03-20T23:17:00.506639",
          "status": "completed"
        },
        "tags": []
      },
      "outputs": [
        {
          "data": {
            "text/html": [
              "<div>\n",
              "<style scoped>\n",
              "    .dataframe tbody tr th:only-of-type {\n",
              "        vertical-align: middle;\n",
              "    }\n",
              "\n",
              "    .dataframe tbody tr th {\n",
              "        vertical-align: top;\n",
              "    }\n",
              "\n",
              "    .dataframe thead th {\n",
              "        text-align: right;\n",
              "    }\n",
              "</style>\n",
              "<table border=\"1\" class=\"dataframe\">\n",
              "  <thead>\n",
              "    <tr style=\"text-align: right;\">\n",
              "      <th></th>\n",
              "      <th>name</th>\n",
              "      <th>region</th>\n",
              "      <th>hub_lng</th>\n",
              "      <th>hub_lat</th>\n",
              "      <th>hub_city</th>\n",
              "      <th>hub_suburb</th>\n",
              "      <th>vehicle_capacity</th>\n",
              "      <th>delivery_size</th>\n",
              "      <th>delivery_lng</th>\n",
              "      <th>delivery_lat</th>\n",
              "      <th>delivery_city</th>\n",
              "      <th>delivery_suburb</th>\n",
              "      <th>disctance_hub_delivery</th>\n",
              "      <th>spent_on_gas</th>\n",
              "      <th>geometry</th>\n",
              "    </tr>\n",
              "  </thead>\n",
              "  <tbody>\n",
              "    <tr>\n",
              "      <th>0</th>\n",
              "      <td>cvrp-2-df-33</td>\n",
              "      <td>df-2</td>\n",
              "      <td>-48.054989</td>\n",
              "      <td>-15.838145</td>\n",
              "      <td>Taguatinga</td>\n",
              "      <td>Taguatinga</td>\n",
              "      <td>180</td>\n",
              "      <td>9</td>\n",
              "      <td>-48.116189</td>\n",
              "      <td>-15.848929</td>\n",
              "      <td>Ceilândia</td>\n",
              "      <td>P Sul</td>\n",
              "      <td>6.655516</td>\n",
              "      <td>4.236077</td>\n",
              "      <td>POINT (-48.11619 -15.84893)</td>\n",
              "    </tr>\n",
              "    <tr>\n",
              "      <th>1</th>\n",
              "      <td>cvrp-2-df-33</td>\n",
              "      <td>df-2</td>\n",
              "      <td>-48.054989</td>\n",
              "      <td>-15.838145</td>\n",
              "      <td>Taguatinga</td>\n",
              "      <td>Taguatinga</td>\n",
              "      <td>180</td>\n",
              "      <td>2</td>\n",
              "      <td>-48.118195</td>\n",
              "      <td>-15.850772</td>\n",
              "      <td>Ceilândia</td>\n",
              "      <td>P Sul</td>\n",
              "      <td>6.905410</td>\n",
              "      <td>4.395129</td>\n",
              "      <td>POINT (-48.11819 -15.85077)</td>\n",
              "    </tr>\n",
              "    <tr>\n",
              "      <th>2</th>\n",
              "      <td>cvrp-2-df-33</td>\n",
              "      <td>df-2</td>\n",
              "      <td>-48.054989</td>\n",
              "      <td>-15.838145</td>\n",
              "      <td>Taguatinga</td>\n",
              "      <td>Taguatinga</td>\n",
              "      <td>180</td>\n",
              "      <td>1</td>\n",
              "      <td>-48.112483</td>\n",
              "      <td>-15.847871</td>\n",
              "      <td>Ceilândia</td>\n",
              "      <td>P Sul</td>\n",
              "      <td>6.244588</td>\n",
              "      <td>3.974532</td>\n",
              "      <td>POINT (-48.11248 -15.84787)</td>\n",
              "    </tr>\n",
              "    <tr>\n",
              "      <th>3</th>\n",
              "      <td>cvrp-2-df-33</td>\n",
              "      <td>df-2</td>\n",
              "      <td>-48.054989</td>\n",
              "      <td>-15.838145</td>\n",
              "      <td>Taguatinga</td>\n",
              "      <td>Taguatinga</td>\n",
              "      <td>180</td>\n",
              "      <td>2</td>\n",
              "      <td>-48.118023</td>\n",
              "      <td>-15.846471</td>\n",
              "      <td>Ceilândia</td>\n",
              "      <td>P Sul</td>\n",
              "      <td>6.806062</td>\n",
              "      <td>4.331896</td>\n",
              "      <td>POINT (-48.11802 -15.84647)</td>\n",
              "    </tr>\n",
              "    <tr>\n",
              "      <th>4</th>\n",
              "      <td>cvrp-2-df-33</td>\n",
              "      <td>df-2</td>\n",
              "      <td>-48.054989</td>\n",
              "      <td>-15.838145</td>\n",
              "      <td>Taguatinga</td>\n",
              "      <td>Taguatinga</td>\n",
              "      <td>180</td>\n",
              "      <td>7</td>\n",
              "      <td>-48.114898</td>\n",
              "      <td>-15.858055</td>\n",
              "      <td>Sol Nascente/Pôr do Sol</td>\n",
              "      <td>Sol Nascente/Pôr do Sol</td>\n",
              "      <td>6.780018</td>\n",
              "      <td>4.315320</td>\n",
              "      <td>POINT (-48.11490 -15.85805)</td>\n",
              "    </tr>\n",
              "  </tbody>\n",
              "</table>\n",
              "</div>"
            ],
            "text/plain": [
              "           name region    hub_lng    hub_lat    hub_city  hub_suburb  \\\n",
              "0  cvrp-2-df-33   df-2 -48.054989 -15.838145  Taguatinga  Taguatinga   \n",
              "1  cvrp-2-df-33   df-2 -48.054989 -15.838145  Taguatinga  Taguatinga   \n",
              "2  cvrp-2-df-33   df-2 -48.054989 -15.838145  Taguatinga  Taguatinga   \n",
              "3  cvrp-2-df-33   df-2 -48.054989 -15.838145  Taguatinga  Taguatinga   \n",
              "4  cvrp-2-df-33   df-2 -48.054989 -15.838145  Taguatinga  Taguatinga   \n",
              "\n",
              "   vehicle_capacity  delivery_size  delivery_lng  delivery_lat  \\\n",
              "0               180              9    -48.116189    -15.848929   \n",
              "1               180              2    -48.118195    -15.850772   \n",
              "2               180              1    -48.112483    -15.847871   \n",
              "3               180              2    -48.118023    -15.846471   \n",
              "4               180              7    -48.114898    -15.858055   \n",
              "\n",
              "             delivery_city          delivery_suburb  disctance_hub_delivery  \\\n",
              "0                Ceilândia                    P Sul                6.655516   \n",
              "1                Ceilândia                    P Sul                6.905410   \n",
              "2                Ceilândia                    P Sul                6.244588   \n",
              "3                Ceilândia                    P Sul                6.806062   \n",
              "4  Sol Nascente/Pôr do Sol  Sol Nascente/Pôr do Sol                6.780018   \n",
              "\n",
              "   spent_on_gas                     geometry  \n",
              "0      4.236077  POINT (-48.11619 -15.84893)  \n",
              "1      4.395129  POINT (-48.11819 -15.85077)  \n",
              "2      3.974532  POINT (-48.11248 -15.84787)  \n",
              "3      4.331896  POINT (-48.11802 -15.84647)  \n",
              "4      4.315320  POINT (-48.11490 -15.85805)  "
            ]
          },
          "execution_count": 58,
          "metadata": {},
          "output_type": "execute_result"
        }
      ],
      "source": [
        "geo_deliveries_df = geopandas.GeoDataFrame(deliveries_df, geometry=geopandas.points_from_xy(deliveries_df[\"delivery_lng\"], deliveries_df[\"delivery_lat\"]))\n",
        "geo_deliveries_df.head()"
      ]
    },
    {
      "cell_type": "markdown",
      "id": "b9092a4f",
      "metadata": {
        "id": "b9092a4f",
        "papermill": {
          "duration": 0.120657,
          "end_time": "2022-03-20T23:17:01.022821",
          "exception": false,
          "start_time": "2022-03-20T23:17:00.902164",
          "status": "completed"
        },
        "tags": []
      },
      "source": [
        "\n",
        "\n",
        "*   **Visualização**\n",
        "\n",
        "\n"
      ]
    },
    {
      "cell_type": "code",
      "execution_count": null,
      "id": "3f9c484f",
      "metadata": {
        "execution": {
          "iopub.execute_input": "2022-03-20T23:17:01.270635Z",
          "iopub.status.busy": "2022-03-20T23:17:01.269879Z",
          "iopub.status.idle": "2022-03-20T23:19:01.308694Z",
          "shell.execute_reply": "2022-03-20T23:19:01.309237Z",
          "shell.execute_reply.started": "2022-03-20T23:07:32.953242Z"
        },
        "id": "3f9c484f",
        "outputId": "dec827df-a68f-4c02-abae-1a6eb782ac93",
        "papermill": {
          "duration": 120.163822,
          "end_time": "2022-03-20T23:19:01.309464",
          "exception": false,
          "start_time": "2022-03-20T23:17:01.145642",
          "status": "completed"
        },
        "tags": []
      },
      "outputs": [
        {
          "data": {
            "image/png": "[encoded data removed]",
            "text/plain": [
              "<Figure size 1417.32x1417.32 with 1 Axes>"
            ]
          },
          "metadata": {
            "needs_background": "light"
          },
          "output_type": "display_data"
        }
      ],
      "source": [
        "# cria o plot vazio\n",
        "fig, ax = plt.subplots(figsize = (50/2.54, 50/2.54))\n",
        "\n",
        "# plot mapa do distrito federal\n",
        "mapa.plot(ax=ax, alpha=0.4, color=\"lightgrey\")\n",
        "\n",
        "# plot das entregas\n",
        "geo_deliveries_df.query(\"region == 'df-0'\").plot(ax=ax, markersize=1, color=\"red\", label=\"df-0\")\n",
        "geo_deliveries_df.query(\"region == 'df-1'\").plot(ax=ax, markersize=1, color=\"blue\", label=\"df-1\")\n",
        "geo_deliveries_df.query(\"region == 'df-2'\").plot(ax=ax, markersize=1, color=\"seagreen\", label=\"df-2\")\n",
        "\n",
        "# plot dos hubs\n",
        "geo_hub_df.plot(ax=ax, markersize=30, marker=\"x\", color=\"black\", label=\"hub\")\n",
        "\n",
        "# plot da legenda\n",
        "plt.title(\"Entregas no Distrito Federal por Região\", fontdict={\"fontsize\": 16})\n",
        "lgnd = plt.legend(prop={\"size\": 15})\n",
        "for handle in lgnd.legendHandles:\n",
        "    handle.set_sizes([50])\n",
        "plt.show()"
      ]
    },
    {
      "cell_type": "markdown",
      "id": "f668c1bf",
      "metadata": {
        "id": "f668c1bf",
        "papermill": {
          "duration": 0.130217,
          "end_time": "2022-03-20T23:19:01.567882",
          "exception": false,
          "start_time": "2022-03-20T23:19:01.437665",
          "status": "completed"
        },
        "tags": []
      },
      "source": [
        "**Insights**\n",
        "\n",
        "As entregas parecem estar corretamente alocadas em seus respectivos Hubs. No entanto, como os Hubs das regiões 0 e 2 fazem entregas em locais mais distantes do centro, isso pode gerar um tempo e preço de entrega maiores. Uma possível solução para esse problema seria redistribuir os veículos de entrega, já que as entregas dos Hubs 0 e 2 ficam mais distantes do centro de distribuição."
      ]
    },
    {
      "cell_type": "markdown",
      "id": "0919279e",
      "metadata": {
        "id": "0919279e",
        "papermill": {
          "duration": 0.13207,
          "end_time": "2022-03-20T23:19:01.829684",
          "exception": false,
          "start_time": "2022-03-20T23:19:01.697614",
          "status": "completed"
        },
        "tags": []
      },
      "source": [
        "\n",
        "\n",
        "*   **Gráfico de entregas por região**\n",
        "\n"
      ]
    },
    {
      "cell_type": "code",
      "execution_count": null,
      "id": "dd4355cd",
      "metadata": {
        "execution": {
          "iopub.execute_input": "2022-03-20T23:19:02.091067Z",
          "iopub.status.busy": "2022-03-20T23:19:02.090446Z",
          "iopub.status.idle": "2022-03-20T23:19:02.186241Z",
          "shell.execute_reply": "2022-03-20T23:19:02.186759Z",
          "shell.execute_reply.started": "2022-03-20T23:09:33.444439Z"
        },
        "id": "dd4355cd",
        "outputId": "a7181405-ae4c-41ea-af5a-4d9a4ca748cc",
        "papermill": {
          "duration": 0.227434,
          "end_time": "2022-03-20T23:19:02.186936",
          "exception": false,
          "start_time": "2022-03-20T23:19:01.959502",
          "status": "completed"
        },
        "tags": []
      },
      "outputs": [
        {
          "data": {
            "text/html": [
              "<div>\n",
              "<style scoped>\n",
              "    .dataframe tbody tr th:only-of-type {\n",
              "        vertical-align: middle;\n",
              "    }\n",
              "\n",
              "    .dataframe tbody tr th {\n",
              "        vertical-align: top;\n",
              "    }\n",
              "\n",
              "    .dataframe thead th {\n",
              "        text-align: right;\n",
              "    }\n",
              "</style>\n",
              "<table border=\"1\" class=\"dataframe\">\n",
              "  <thead>\n",
              "    <tr style=\"text-align: right;\">\n",
              "      <th></th>\n",
              "      <th>region</th>\n",
              "      <th>vehicle_capacity</th>\n",
              "      <th>region_percent</th>\n",
              "    </tr>\n",
              "  </thead>\n",
              "  <tbody>\n",
              "    <tr>\n",
              "      <th>0</th>\n",
              "      <td>df-1</td>\n",
              "      <td>180</td>\n",
              "      <td>0.478988</td>\n",
              "    </tr>\n",
              "    <tr>\n",
              "      <th>1</th>\n",
              "      <td>df-2</td>\n",
              "      <td>180</td>\n",
              "      <td>0.410783</td>\n",
              "    </tr>\n",
              "    <tr>\n",
              "      <th>2</th>\n",
              "      <td>df-0</td>\n",
              "      <td>180</td>\n",
              "      <td>0.110229</td>\n",
              "    </tr>\n",
              "  </tbody>\n",
              "</table>\n",
              "</div>"
            ],
            "text/plain": [
              "  region  vehicle_capacity  region_percent\n",
              "0   df-1               180        0.478988\n",
              "1   df-2               180        0.410783\n",
              "2   df-0               180        0.110229"
            ]
          },
          "execution_count": 60,
          "metadata": {},
          "output_type": "execute_result"
        }
      ],
      "source": [
        "data = pd.DataFrame(deliveries_df[['region', 'vehicle_capacity']].value_counts(normalize=True)).reset_index()\n",
        "data.rename(columns={0: \"region_percent\"}, inplace=True)\n",
        "data.head()\n",
        "\n"
      ]
    },
    {
      "cell_type": "code",
      "execution_count": null,
      "id": "fd30cd67",
      "metadata": {
        "execution": {
          "iopub.execute_input": "2022-03-20T23:19:02.454084Z",
          "iopub.status.busy": "2022-03-20T23:19:02.453445Z",
          "iopub.status.idle": "2022-03-20T23:19:02.658987Z",
          "shell.execute_reply": "2022-03-20T23:19:02.658482Z",
          "shell.execute_reply.started": "2022-03-20T23:09:33.550449Z"
        },
        "id": "fd30cd67",
        "outputId": "f34cfa4b-325d-47d4-b5b1-4de7634368bf",
        "papermill": {
          "duration": 0.336456,
          "end_time": "2022-03-20T23:19:02.659130",
          "exception": false,
          "start_time": "2022-03-20T23:19:02.322674",
          "status": "completed"
        },
        "tags": []
      },
      "outputs": [
        {
          "data": {
            "image/png": "[encoded data removed]",
            "text/plain": [
              "<Figure size 432x288 with 1 Axes>"
            ]
          },
          "metadata": {},
          "output_type": "display_data"
        }
      ],
      "source": [
        "with sns.axes_style('whitegrid'):\n",
        "  grafico = sns.barplot(data=data, x=\"region\", y=\"region_percent\", ci=None, palette=\"bright\")\n",
        "  grafico.set(title='Proporção de entregas por região', xlabel='Região', ylabel='Proporção');"
      ]
    },
    {
      "cell_type": "markdown",
      "id": "857fb952",
      "metadata": {
        "id": "857fb952",
        "papermill": {
          "duration": 0.131554,
          "end_time": "2022-03-20T23:19:02.921892",
          "exception": false,
          "start_time": "2022-03-20T23:19:02.790338",
          "status": "completed"
        },
        "tags": []
      },
      "source": [
        "**Insights**\n",
        "\n",
        "A distribuição das entregas está concentrada sobretudo nos Hubs 1 e 2, o que justifica a alocação de mais veículos para esses centros. No entanto, como vimos no mapa, o Hub 2 possui locais de entregas mais distantes, de modo que talvez seja necessário reavaliar a alocação de veículos entre os Hubs.\n",
        "\n",
        "\n",
        "\n"
      ]
    },
    {
      "cell_type": "markdown",
      "id": "37a64e27",
      "metadata": {
        "id": "37a64e27",
        "papermill": {
          "duration": 0.129191,
          "end_time": "2022-03-20T23:19:03.181989",
          "exception": false,
          "start_time": "2022-03-20T23:19:03.052798",
          "status": "completed"
        },
        "tags": []
      },
      "source": [
        "\n",
        "\n",
        "*   **Quantidade de entregas por cidade de destino**\n",
        "\n"
      ]
    },
    {
      "cell_type": "code",
      "execution_count": null,
      "id": "a6619bf2",
      "metadata": {
        "execution": {
          "iopub.execute_input": "2022-03-20T23:19:03.450480Z",
          "iopub.status.busy": "2022-03-20T23:19:03.449759Z",
          "iopub.status.idle": "2022-03-20T23:19:03.557549Z",
          "shell.execute_reply": "2022-03-20T23:19:03.556984Z",
          "shell.execute_reply.started": "2022-03-20T23:09:33.772780Z"
        },
        "id": "a6619bf2",
        "outputId": "ee23cc50-2a4c-4408-db79-f47905ffdda6",
        "papermill": {
          "duration": 0.243024,
          "end_time": "2022-03-20T23:19:03.557705",
          "exception": false,
          "start_time": "2022-03-20T23:19:03.314681",
          "status": "completed"
        },
        "tags": []
      },
      "outputs": [
        {
          "data": {
            "text/html": [
              "<div>\n",
              "<style scoped>\n",
              "    .dataframe tbody tr th:only-of-type {\n",
              "        vertical-align: middle;\n",
              "    }\n",
              "\n",
              "    .dataframe tbody tr th {\n",
              "        vertical-align: top;\n",
              "    }\n",
              "\n",
              "    .dataframe thead th {\n",
              "        text-align: right;\n",
              "    }\n",
              "</style>\n",
              "<table border=\"1\" class=\"dataframe\">\n",
              "  <thead>\n",
              "    <tr style=\"text-align: right;\">\n",
              "      <th></th>\n",
              "      <th>delivery_city</th>\n",
              "      <th>delivery_amount_per_city</th>\n",
              "    </tr>\n",
              "  </thead>\n",
              "  <tbody>\n",
              "    <tr>\n",
              "      <th>0</th>\n",
              "      <td>Brasília</td>\n",
              "      <td>148983</td>\n",
              "    </tr>\n",
              "    <tr>\n",
              "      <th>1</th>\n",
              "      <td>Taguatinga</td>\n",
              "      <td>45564</td>\n",
              "    </tr>\n",
              "    <tr>\n",
              "      <th>2</th>\n",
              "      <td>Sudoeste / Octogonal</td>\n",
              "      <td>44215</td>\n",
              "    </tr>\n",
              "    <tr>\n",
              "      <th>3</th>\n",
              "      <td>Ceilândia</td>\n",
              "      <td>37953</td>\n",
              "    </tr>\n",
              "    <tr>\n",
              "      <th>4</th>\n",
              "      <td>Águas Claras</td>\n",
              "      <td>37083</td>\n",
              "    </tr>\n",
              "  </tbody>\n",
              "</table>\n",
              "</div>"
            ],
            "text/plain": [
              "          delivery_city  delivery_amount_per_city\n",
              "0              Brasília                    148983\n",
              "1            Taguatinga                     45564\n",
              "2  Sudoeste / Octogonal                     44215\n",
              "3             Ceilândia                     37953\n",
              "4          Águas Claras                     37083"
            ]
          },
          "execution_count": 62,
          "metadata": {},
          "output_type": "execute_result"
        }
      ],
      "source": [
        "data = pd.DataFrame(deliveries_df[['delivery_city']].value_counts()).reset_index()\n",
        "data.rename(columns={0: \"delivery_amount_per_city\"}, inplace=True)\n",
        "data.head()"
      ]
    },
    {
      "cell_type": "code",
      "execution_count": null,
      "id": "622f2bbe",
      "metadata": {
        "execution": {
          "iopub.execute_input": "2022-03-20T23:19:03.866049Z",
          "iopub.status.busy": "2022-03-20T23:19:03.865012Z",
          "iopub.status.idle": "2022-03-20T23:19:04.390220Z",
          "shell.execute_reply": "2022-03-20T23:19:04.390740Z",
          "shell.execute_reply.started": "2022-03-20T23:09:33.887007Z"
        },
        "id": "622f2bbe",
        "outputId": "d647c000-76fd-41df-e5bf-0ab04a0313d2",
        "papermill": {
          "duration": 0.701988,
          "end_time": "2022-03-20T23:19:04.390915",
          "exception": false,
          "start_time": "2022-03-20T23:19:03.688927",
          "status": "completed"
        },
        "tags": []
      },
      "outputs": [
        {
          "data": {
            "image/png": "[encoded data removed]",
            "text/plain": [
              "<Figure size 720x576 with 1 Axes>"
            ]
          },
          "metadata": {},
          "output_type": "display_data"
        }
      ],
      "source": [
        "with sns.axes_style('whitegrid'):\n",
        "  plt.subplots(figsize=(10, 8))\n",
        "  grafico = sns.barplot(data=data, x=\"delivery_amount_per_city\", y=\"delivery_city\", ci=None, palette=\"bright\")\n",
        "  grafico.set(title='Quantidade de entregas por cidade de destino', xlabel='quantidade de entregas', ylabel='Cidade de destino');"
      ]
    },
    {
      "cell_type": "markdown",
      "id": "ae5d7375",
      "metadata": {
        "id": "ae5d7375",
        "papermill": {
          "duration": 0.132133,
          "end_time": "2022-03-20T23:19:04.654988",
          "exception": false,
          "start_time": "2022-03-20T23:19:04.522855",
          "status": "completed"
        },
        "tags": []
      },
      "source": [
        "**Insights**\n",
        "\n",
        "Mais uma vez vemos que há uma concentração de entregas em Brasília, onde está localizado o Hub df-1. Isso justifica, de certa forma, uma concentração maior dos veículos de entrega nesse Hub. Entretanto, há também uma dispersão de entregas em outras regiões. De novo, se olharmos o mapa, vemos que o Hub de Sobradinho possui entregas distantes do centro de distribuição, ao mesmo tempo que possui menos veículos de entrega quando comparado com outros Hubs. "
      ]
    },
    {
      "cell_type": "markdown",
      "id": "62d14423",
      "metadata": {
        "id": "62d14423",
        "papermill": {
          "duration": 0.132302,
          "end_time": "2022-03-20T23:19:04.919030",
          "exception": false,
          "start_time": "2022-03-20T23:19:04.786728",
          "status": "completed"
        },
        "tags": []
      },
      "source": [
        "\n",
        "\n",
        "*   **Média da distância entre os Hubs e os locais de entrega por Km**\n",
        "\n"
      ]
    },
    {
      "cell_type": "code",
      "execution_count": null,
      "id": "929ade70",
      "metadata": {
        "execution": {
          "iopub.execute_input": "2022-03-20T23:19:05.193692Z",
          "iopub.status.busy": "2022-03-20T23:19:05.192967Z",
          "iopub.status.idle": "2022-03-20T23:19:05.270721Z",
          "shell.execute_reply": "2022-03-20T23:19:05.269987Z",
          "shell.execute_reply.started": "2022-03-20T23:09:34.433434Z"
        },
        "id": "929ade70",
        "outputId": "0f9d4d24-4ee7-4c7d-900b-9686eedb87a6",
        "papermill": {
          "duration": 0.220349,
          "end_time": "2022-03-20T23:19:05.270873",
          "exception": false,
          "start_time": "2022-03-20T23:19:05.050524",
          "status": "completed"
        },
        "tags": []
      },
      "outputs": [
        {
          "data": {
            "text/html": [
              "<div>\n",
              "<style scoped>\n",
              "    .dataframe tbody tr th:only-of-type {\n",
              "        vertical-align: middle;\n",
              "    }\n",
              "\n",
              "    .dataframe tbody tr th {\n",
              "        vertical-align: top;\n",
              "    }\n",
              "\n",
              "    .dataframe thead th {\n",
              "        text-align: right;\n",
              "    }\n",
              "</style>\n",
              "<table border=\"1\" class=\"dataframe\">\n",
              "  <thead>\n",
              "    <tr style=\"text-align: right;\">\n",
              "      <th></th>\n",
              "      <th>region</th>\n",
              "      <th>disctance_hub_delivery</th>\n",
              "    </tr>\n",
              "  </thead>\n",
              "  <tbody>\n",
              "    <tr>\n",
              "      <th>0</th>\n",
              "      <td>df-0</td>\n",
              "      <td>9.02</td>\n",
              "    </tr>\n",
              "    <tr>\n",
              "      <th>2</th>\n",
              "      <td>df-2</td>\n",
              "      <td>7.90</td>\n",
              "    </tr>\n",
              "    <tr>\n",
              "      <th>1</th>\n",
              "      <td>df-1</td>\n",
              "      <td>5.96</td>\n",
              "    </tr>\n",
              "  </tbody>\n",
              "</table>\n",
              "</div>"
            ],
            "text/plain": [
              "  region  disctance_hub_delivery\n",
              "0   df-0                    9.02\n",
              "2   df-2                    7.90\n",
              "1   df-1                    5.96"
            ]
          },
          "execution_count": 64,
          "metadata": {},
          "output_type": "execute_result"
        }
      ],
      "source": [
        "data_mean_distance = deliveries_df[['region', 'disctance_hub_delivery']].groupby('region', as_index=False).agg('mean').sort_values(by=['disctance_hub_delivery'], ascending=False)\n",
        "data_mean_distance = data_mean_distance.round(2)\n",
        "data_mean_distance.head()"
      ]
    },
    {
      "cell_type": "code",
      "execution_count": null,
      "id": "8926f428",
      "metadata": {
        "execution": {
          "iopub.execute_input": "2022-03-20T23:19:05.565980Z",
          "iopub.status.busy": "2022-03-20T23:19:05.565285Z",
          "iopub.status.idle": "2022-03-20T23:19:05.762858Z",
          "shell.execute_reply": "2022-03-20T23:19:05.762231Z",
          "shell.execute_reply.started": "2022-03-20T23:09:34.518451Z"
        },
        "id": "8926f428",
        "outputId": "9113a6c0-4eb0-4880-fd50-f84b0da4c282",
        "papermill": {
          "duration": 0.334521,
          "end_time": "2022-03-20T23:19:05.762998",
          "exception": false,
          "start_time": "2022-03-20T23:19:05.428477",
          "status": "completed"
        },
        "tags": []
      },
      "outputs": [
        {
          "data": {
            "image/png": "[encoded data removed]",
            "text/plain": [
              "<Figure size 432x288 with 1 Axes>"
            ]
          },
          "metadata": {},
          "output_type": "display_data"
        }
      ],
      "source": [
        "with sns.axes_style('whitegrid'):\n",
        "  grafico = sns.barplot(data=data_mean_distance, x=\"region\", y=\"disctance_hub_delivery\", ci=None, palette=\"bright\")\n",
        "  grafico.set(title='Média de Km percorrido entre o Hub e o local da entrega', xlabel='Hub', ylabel='Média de Km percorrido');"
      ]
    },
    {
      "cell_type": "markdown",
      "id": "83c5da94",
      "metadata": {
        "id": "83c5da94",
        "papermill": {
          "duration": 0.133934,
          "end_time": "2022-03-20T23:19:06.030753",
          "exception": false,
          "start_time": "2022-03-20T23:19:05.896819",
          "status": "completed"
        },
        "tags": []
      },
      "source": [
        "\n",
        "\n",
        "*   **Média de gasto com gasolina por entrega e por Hub**\n",
        "\n",
        "\n"
      ]
    },
    {
      "cell_type": "code",
      "execution_count": null,
      "id": "99da645d",
      "metadata": {
        "execution": {
          "iopub.execute_input": "2022-03-20T23:19:06.304912Z",
          "iopub.status.busy": "2022-03-20T23:19:06.304218Z",
          "iopub.status.idle": "2022-03-20T23:19:06.379087Z",
          "shell.execute_reply": "2022-03-20T23:19:06.378362Z",
          "shell.execute_reply.started": "2022-03-20T23:09:34.679830Z"
        },
        "id": "99da645d",
        "outputId": "167ac40b-899f-48ec-e677-9111ce64ab8b",
        "papermill": {
          "duration": 0.215104,
          "end_time": "2022-03-20T23:19:06.379238",
          "exception": false,
          "start_time": "2022-03-20T23:19:06.164134",
          "status": "completed"
        },
        "tags": []
      },
      "outputs": [
        {
          "data": {
            "text/html": [
              "<div>\n",
              "<style scoped>\n",
              "    .dataframe tbody tr th:only-of-type {\n",
              "        vertical-align: middle;\n",
              "    }\n",
              "\n",
              "    .dataframe tbody tr th {\n",
              "        vertical-align: top;\n",
              "    }\n",
              "\n",
              "    .dataframe thead th {\n",
              "        text-align: right;\n",
              "    }\n",
              "</style>\n",
              "<table border=\"1\" class=\"dataframe\">\n",
              "  <thead>\n",
              "    <tr style=\"text-align: right;\">\n",
              "      <th></th>\n",
              "      <th>region</th>\n",
              "      <th>spent_on_gas</th>\n",
              "    </tr>\n",
              "  </thead>\n",
              "  <tbody>\n",
              "    <tr>\n",
              "      <th>0</th>\n",
              "      <td>df-0</td>\n",
              "      <td>5.74</td>\n",
              "    </tr>\n",
              "    <tr>\n",
              "      <th>2</th>\n",
              "      <td>df-2</td>\n",
              "      <td>5.03</td>\n",
              "    </tr>\n",
              "    <tr>\n",
              "      <th>1</th>\n",
              "      <td>df-1</td>\n",
              "      <td>3.79</td>\n",
              "    </tr>\n",
              "  </tbody>\n",
              "</table>\n",
              "</div>"
            ],
            "text/plain": [
              "  region  spent_on_gas\n",
              "0   df-0          5.74\n",
              "2   df-2          5.03\n",
              "1   df-1          3.79"
            ]
          },
          "execution_count": 66,
          "metadata": {},
          "output_type": "execute_result"
        }
      ],
      "source": [
        "data_spent_gas = deliveries_df[['region', 'spent_on_gas']].groupby('region', as_index=False).agg('mean').sort_values(by=['spent_on_gas'], ascending=False)\n",
        "data_spent_gas = data_spent_gas.round(2)\n",
        "data_spent_gas.head()"
      ]
    },
    {
      "cell_type": "code",
      "execution_count": null,
      "id": "aad83871",
      "metadata": {
        "execution": {
          "iopub.execute_input": "2022-03-20T23:19:06.655710Z",
          "iopub.status.busy": "2022-03-20T23:19:06.655068Z",
          "iopub.status.idle": "2022-03-20T23:19:06.862631Z",
          "shell.execute_reply": "2022-03-20T23:19:06.862023Z",
          "shell.execute_reply.started": "2022-03-20T23:09:34.766958Z"
        },
        "id": "aad83871",
        "outputId": "338fbefe-e2c0-4d25-d872-904ca73d4073",
        "papermill": {
          "duration": 0.348024,
          "end_time": "2022-03-20T23:19:06.862774",
          "exception": false,
          "start_time": "2022-03-20T23:19:06.514750",
          "status": "completed"
        },
        "tags": []
      },
      "outputs": [
        {
          "data": {
            "image/png": "[encoded data removed]",
            "text/plain": [
              "<Figure size 432x288 with 1 Axes>"
            ]
          },
          "metadata": {},
          "output_type": "display_data"
        }
      ],
      "source": [
        "with sns.axes_style('whitegrid'):\n",
        "  grafico = sns.barplot(data=data_spent_gas, x=\"region\", y=\"spent_on_gas\", ci=None, palette=\"bright\")\n",
        "  grafico.set(title='Média de gasto com gasolina por entrega e por Hub', xlabel='Hub', ylabel='Média de gasto com gasolina em R$');"
      ]
    },
    {
      "cell_type": "markdown",
      "id": "9354ba95",
      "metadata": {
        "id": "9354ba95",
        "papermill": {
          "duration": 0.136274,
          "end_time": "2022-03-20T23:19:07.134020",
          "exception": false,
          "start_time": "2022-03-20T23:19:06.997746",
          "status": "completed"
        },
        "tags": []
      },
      "source": [
        "**Insights**\n",
        "\n",
        "Apesar do Hub df-1 possuir mais entregas e, consequentemente, uma frota maior de veículos, o gasto com gasolina no Hub df-0 é maior e a média de km percorrido por entrega também é maior. Talvez seja necessário um remanejamento da frota, dando uma atenção maior às entregas do Hub df-0 e Hub df-2."
      ]
    }
  ],
  "metadata": {
    "kernelspec": {
      "display_name": "Python 3",
      "language": "python",
      "name": "python3"
    },
    "language_info": {
      "codemirror_mode": {
        "name": "ipython",
        "version": 3
      },
      "file_extension": ".py",
      "mimetype": "text/x-python",
      "name": "python",
      "nbconvert_exporter": "python",
      "pygments_lexer": "ipython3",
      "version": "3.7.12"
    },
    "papermill": {
      "default_parameters": {},
      "duration": 244.410121,
      "end_time": "2022-03-20T23:19:08.893172",
      "environment_variables": {},
      "exception": null,
      "input_path": "__notebook__.ipynb",
      "output_path": "__notebook__.ipynb",
      "parameters": {},
      "start_time": "2022-03-20T23:15:04.483051",
      "version": "2.3.3"
    },
    "colab": {
      "name": "analise-exploratoria-de-dados-de-logistica.ipynb",
      "provenance": []
    }
  },
  "nbformat": 4,
  "nbformat_minor": 5
}