{
 "cells": [
  {
   "cell_type": "markdown",
   "id": "d60b7837",
   "metadata": {
    "id": "QRcqbpLpFK5o",
    "papermill": {
     "duration": 0.088207,
     "end_time": "2022-09-05T20:28:49.878397",
     "exception": false,
     "start_time": "2022-09-05T20:28:49.790190",
     "status": "completed"
    },
    "tags": []
   },
   "source": [
    "# **Análise Exploratória de Dados de Logística**"
   ]
  },
  {
   "cell_type": "markdown",
   "id": "71b5eb46",
   "metadata": {
    "id": "6-CvdKwqFPiW",
    "papermill": {
     "duration": 0.0855,
     "end_time": "2022-09-05T20:28:50.050965",
     "exception": false,
     "start_time": "2022-09-05T20:28:49.965465",
     "status": "completed"
    },
    "tags": []
   },
   "source": [
    "## 1\\. Contexto"
   ]
  },
  {
   "cell_type": "markdown",
   "id": "0dd76cee",
   "metadata": {
    "id": "XRURE1uUFXGw",
    "papermill": {
     "duration": 0.08556,
     "end_time": "2022-09-05T20:28:50.222256",
     "exception": false,
     "start_time": "2022-09-05T20:28:50.136696",
     "status": "completed"
    },
    "tags": []
   },
   "source": [
    "A Loggi é uma empresa de logística que cobre o Brasil inteiro. Assim como outras empresas de logística, a Loggi enfrenta problemas como: otimização das rotas de entrega, alocação de entregas nos veículos da frota com capacidade limitada etc.\n",
    "\n",
    "Os dados que serão utilizados abaixo são sintetizados de fontes públicas, como IBGE, IPEA etc., e representam os desafios que uma empresa como a Loggi enfrenta no dia a dia.\n",
    "\n",
    "O Loggi Benckmark for Urban Deliveries (BUD) é [um repositório do Git Hub](https://github.com/loggi/loggibud) com dados e códigos que oferece a possibilidade de tornar novas soluções de pesquisa de operações mais próximas das aplicações do mundo real.\n",
    "\n",
    "O dado bruto utilizado é um arquivo do tipo JSON que possui uma lista de instâncias de entregas. Cada instância representa um conjunto de entregas que devem ser realizadas pelos veículos do hub regional. Exemplo:"
   ]
  },
  {
   "cell_type": "markdown",
   "id": "72a2da20",
   "metadata": {
    "id": "VDYhno9tCg3O",
    "papermill": {
     "duration": 0.086375,
     "end_time": "2022-09-05T20:28:50.395626",
     "exception": false,
     "start_time": "2022-09-05T20:28:50.309251",
     "status": "completed"
    },
    "tags": []
   },
   "source": [
    "```json\n",
    "[\n",
    "  {\n",
    "    \"name\": \"cvrp-0-df-0\",\n",
    "    \"region\": \"df-0\",\n",
    "    \"origin\": {\"lng\": -47.802664728268745, \"lat\": -15.657013854445248},\n",
    "    \"vehicle_capacity\": 180,\n",
    "    \"deliveries\": [\n",
    "      {\n",
    "        \"id\": \"ed0993f8cc70d998342f38ee827176dc\",\n",
    "        \"point\": {\"lng\": -47.7496622016347, \"lat\": -15.65879313293694},\n",
    "        \"size\": 10\n",
    "      },\n",
    "      {\n",
    "        \"id\": \"c7220154adc7a3def8f0b2b8a42677a9\",\n",
    "        \"point\": {\"lng\": -47.75887552060412, \"lat\": -15.651440380492554},\n",
    "        \"size\": 10\n",
    "      },\n",
    "      ...\n",
    "    ]\n",
    "  }\n",
    "]\n",
    "...\n",
    "\n",
    "```"
   ]
  },
  {
   "cell_type": "markdown",
   "id": "6226eb70",
   "metadata": {
    "id": "vjVfy94DCz_s",
    "papermill": {
     "duration": 0.086256,
     "end_time": "2022-09-05T20:28:50.568160",
     "exception": false,
     "start_time": "2022-09-05T20:28:50.481904",
     "status": "completed"
    },
    "tags": []
   },
   "source": [
    "Estes dados são um subconjunto dos ados originais presentes [no Git Hub da Loggi](https://github.com/loggi/loggibud/blob/master/docs/quickstart.md) e foi consolidado por André Perez. Ele consolidou em um único arquivo as instâncias de terino de cvrp da cidade de Brasília."
   ]
  },
  {
   "cell_type": "markdown",
   "id": "54b872ce",
   "metadata": {
    "id": "qDRTpSuKC-V8",
    "papermill": {
     "duration": 0.098509,
     "end_time": "2022-09-05T20:28:50.763706",
     "exception": false,
     "start_time": "2022-09-05T20:28:50.665197",
     "status": "completed"
    },
    "tags": []
   },
   "source": [
    "## Descrição dos dados: \n",
    "\n",
    " - **name**: uma `string` com o nome único da instância;\n",
    " - **region**: uma `string` com o nome único da região do **hub**;\n",
    " - **origin**: um `dict` com a latitude e longitude da região do **hub**;\n",
    " - **vehicle_capacity**: um `int` com a soma da capacidade de carga dos **veículos** do **hub**;\n",
    " - **deliveries**: uma `list` de `dict` com as **entregas** que devem ser realizadas.\n",
    "\n",
    "Sendo que:\n",
    "\n",
    " - **id**: uma `string` com o id único da **entrega**;\n",
    " - **point**: um `dict` com a latitude e longitude da **entrega**;\n",
    " - **size**: um `int` com o tamanho ou a carga que a **entrega** ocupa no **veículo**."
   ]
  },
  {
   "cell_type": "markdown",
   "id": "39401c7e",
   "metadata": {
    "id": "KjjbTehqDExF",
    "papermill": {
     "duration": 0.085781,
     "end_time": "2022-09-05T20:28:50.936848",
     "exception": false,
     "start_time": "2022-09-05T20:28:50.851067",
     "status": "completed"
    },
    "tags": []
   },
   "source": [
    "## Download da base de dados\n",
    "\n",
    "Vamos fazer o download do dado bruto que está disponível neste [link](https://github.com/andre-marcos-perez/ebac-course-utils/blob/main/dataset/deliveries.json). O nome do arquivo é `deliveries.json`"
   ]
  },
  {
   "cell_type": "code",
   "execution_count": 1,
   "id": "517a4bb9",
   "metadata": {
    "execution": {
     "iopub.execute_input": "2022-09-05T20:28:51.115836Z",
     "iopub.status.busy": "2022-09-05T20:28:51.114645Z",
     "iopub.status.idle": "2022-09-05T20:28:58.510103Z",
     "shell.execute_reply": "2022-09-05T20:28:58.509236Z",
     "shell.execute_reply.started": "2022-05-08T17:11:46.916903Z"
    },
    "id": "5_l8au2sDEBu",
    "papermill": {
     "duration": 7.486679,
     "end_time": "2022-09-05T20:28:58.510269",
     "exception": false,
     "start_time": "2022-09-05T20:28:51.023590",
     "status": "completed"
    },
    "tags": []
   },
   "outputs": [],
   "source": [
    "!wget -q \"https://raw.githubusercontent.com/andre-marcos-perez/ebac-course-utils/main/dataset/deliveries.json\" -O deliveries.json "
   ]
  },
  {
   "cell_type": "markdown",
   "id": "f7787d53",
   "metadata": {
    "id": "QxukLHaqFnkU",
    "papermill": {
     "duration": 0.08788,
     "end_time": "2022-09-05T20:28:58.683965",
     "exception": false,
     "start_time": "2022-09-05T20:28:58.596085",
     "status": "completed"
    },
    "tags": []
   },
   "source": [
    "## 2\\. Pacotes e bibliotecas"
   ]
  },
  {
   "cell_type": "code",
   "execution_count": 2,
   "id": "87a16d37",
   "metadata": {
    "execution": {
     "iopub.execute_input": "2022-09-05T20:28:58.864499Z",
     "iopub.status.busy": "2022-09-05T20:28:58.863419Z",
     "iopub.status.idle": "2022-09-05T20:29:09.377520Z",
     "shell.execute_reply": "2022-09-05T20:29:09.376163Z",
     "shell.execute_reply.started": "2022-05-08T17:11:52.930444Z"
    },
    "id": "h1mc_wGkvOSa",
    "outputId": "00691a8f-d6b2-4f8c-f430-86d4f6077c7b",
    "papermill": {
     "duration": 10.608724,
     "end_time": "2022-09-05T20:29:09.377697",
     "exception": false,
     "start_time": "2022-09-05T20:28:58.768973",
     "status": "completed"
    },
    "tags": []
   },
   "outputs": [
    {
     "name": "stdout",
     "output_type": "stream",
     "text": [
      "Requirement already satisfied: geopandas in /opt/conda/lib/python3.7/site-packages (0.10.2)\r\n",
      "Requirement already satisfied: pyproj>=2.2.0 in /opt/conda/lib/python3.7/site-packages (from geopandas) (3.1.0)\r\n",
      "Requirement already satisfied: shapely>=1.6 in /opt/conda/lib/python3.7/site-packages (from geopandas) (1.8.0)\r\n",
      "Requirement already satisfied: fiona>=1.8 in /opt/conda/lib/python3.7/site-packages (from geopandas) (1.8.21)\r\n",
      "Requirement already satisfied: pandas>=0.25.0 in /opt/conda/lib/python3.7/site-packages (from geopandas) (1.3.5)\r\n",
      "Requirement already satisfied: six>=1.7 in /opt/conda/lib/python3.7/site-packages (from fiona>=1.8->geopandas) (1.16.0)\r\n",
      "Requirement already satisfied: cligj>=0.5 in /opt/conda/lib/python3.7/site-packages (from fiona>=1.8->geopandas) (0.7.2)\r\n",
      "Requirement already satisfied: click-plugins>=1.0 in /opt/conda/lib/python3.7/site-packages (from fiona>=1.8->geopandas) (1.1.1)\r\n",
      "Requirement already satisfied: setuptools in /opt/conda/lib/python3.7/site-packages (from fiona>=1.8->geopandas) (59.5.0)\r\n",
      "Requirement already satisfied: click>=4.0 in /opt/conda/lib/python3.7/site-packages (from fiona>=1.8->geopandas) (8.0.3)\r\n",
      "Requirement already satisfied: certifi in /opt/conda/lib/python3.7/site-packages (from fiona>=1.8->geopandas) (2021.10.8)\r\n",
      "Requirement already satisfied: attrs>=17 in /opt/conda/lib/python3.7/site-packages (from fiona>=1.8->geopandas) (21.2.0)\r\n",
      "Requirement already satisfied: munch in /opt/conda/lib/python3.7/site-packages (from fiona>=1.8->geopandas) (2.5.0)\r\n",
      "Requirement already satisfied: python-dateutil>=2.7.3 in /opt/conda/lib/python3.7/site-packages (from pandas>=0.25.0->geopandas) (2.8.2)\r\n",
      "Requirement already satisfied: pytz>=2017.3 in /opt/conda/lib/python3.7/site-packages (from pandas>=0.25.0->geopandas) (2021.3)\r\n",
      "Requirement already satisfied: numpy>=1.17.3 in /opt/conda/lib/python3.7/site-packages (from pandas>=0.25.0->geopandas) (1.20.3)\r\n",
      "Requirement already satisfied: importlib-metadata in /opt/conda/lib/python3.7/site-packages (from click>=4.0->fiona>=1.8->geopandas) (4.11.3)\r\n",
      "Requirement already satisfied: typing-extensions>=3.6.4 in /opt/conda/lib/python3.7/site-packages (from importlib-metadata->click>=4.0->fiona>=1.8->geopandas) (4.1.1)\r\n",
      "Requirement already satisfied: zipp>=0.5 in /opt/conda/lib/python3.7/site-packages (from importlib-metadata->click>=4.0->fiona>=1.8->geopandas) (3.6.0)\r\n",
      "\u001b[33mWARNING: Running pip as the 'root' user can result in broken permissions and conflicting behaviour with the system package manager. It is recommended to use a virtual environment instead: https://pip.pypa.io/warnings/venv\u001b[0m\r\n"
     ]
    }
   ],
   "source": [
    "!pip3 install geopandas;\n"
   ]
  },
  {
   "cell_type": "code",
   "execution_count": 3,
   "id": "1e201973",
   "metadata": {
    "execution": {
     "iopub.execute_input": "2022-09-05T20:29:09.571427Z",
     "iopub.status.busy": "2022-09-05T20:29:09.570349Z",
     "iopub.status.idle": "2022-09-05T20:29:18.235333Z",
     "shell.execute_reply": "2022-09-05T20:29:18.234748Z",
     "shell.execute_reply.started": "2022-05-08T17:12:03.414800Z"
    },
    "id": "Izdb0tovorX0",
    "outputId": "eb542ede-39f0-49d7-d2e1-3d4e194e4d58",
    "papermill": {
     "duration": 8.766121,
     "end_time": "2022-09-05T20:29:18.235481",
     "exception": false,
     "start_time": "2022-09-05T20:29:09.469360",
     "status": "completed"
    },
    "tags": []
   },
   "outputs": [
    {
     "name": "stdout",
     "output_type": "stream",
     "text": [
      "Requirement already satisfied: haversine in /opt/conda/lib/python3.7/site-packages (2.5.1)\r\n",
      "\u001b[33mWARNING: Running pip as the 'root' user can result in broken permissions and conflicting behaviour with the system package manager. It is recommended to use a virtual environment instead: https://pip.pypa.io/warnings/venv\u001b[0m\r\n"
     ]
    }
   ],
   "source": [
    "!pip install haversine"
   ]
  },
  {
   "cell_type": "code",
   "execution_count": 4,
   "id": "b052feaa",
   "metadata": {
    "execution": {
     "iopub.execute_input": "2022-09-05T20:29:18.418548Z",
     "iopub.status.busy": "2022-09-05T20:29:18.417580Z",
     "iopub.status.idle": "2022-09-05T20:29:20.178906Z",
     "shell.execute_reply": "2022-09-05T20:29:20.179404Z",
     "shell.execute_reply.started": "2022-05-08T17:12:25.860926Z"
    },
    "id": "VXUEW0VrF7XW",
    "papermill": {
     "duration": 1.853849,
     "end_time": "2022-09-05T20:29:20.179608",
     "exception": false,
     "start_time": "2022-09-05T20:29:18.325759",
     "status": "completed"
    },
    "tags": []
   },
   "outputs": [
    {
     "name": "stderr",
     "output_type": "stream",
     "text": [
      "/opt/conda/lib/python3.7/site-packages/geopandas/_compat.py:115: UserWarning: The Shapely GEOS version (3.9.1-CAPI-1.14.2) is incompatible with the GEOS version PyGEOS was compiled with (3.10.1-CAPI-1.16.0). Conversions between both will be slow.\n",
      "  shapely_geos_version, geos_capi_version_string\n"
     ]
    }
   ],
   "source": [
    "import json\n",
    "import numpy as np\n",
    "\n",
    "import geopandas\n",
    "import pandas as pd\n",
    "import geopy\n",
    "from geopy.geocoders import Nominatim\n",
    "from geopy.extra.rate_limiter import RateLimiter\n",
    "from haversine import haversine\n",
    "import matplotlib.pyplot as plt\n",
    "import seaborn as sns"
   ]
  },
  {
   "cell_type": "markdown",
   "id": "007952ab",
   "metadata": {
    "id": "irQxHW1zGkdZ",
    "papermill": {
     "duration": 0.08767,
     "end_time": "2022-09-05T20:29:20.356196",
     "exception": false,
     "start_time": "2022-09-05T20:29:20.268526",
     "status": "completed"
    },
    "tags": []
   },
   "source": [
    "## 3\\. Exploração de dados"
   ]
  },
  {
   "cell_type": "code",
   "execution_count": 5,
   "id": "58fedacf",
   "metadata": {
    "execution": {
     "iopub.execute_input": "2022-09-05T20:29:20.536369Z",
     "iopub.status.busy": "2022-09-05T20:29:20.535690Z",
     "iopub.status.idle": "2022-09-05T20:29:23.096167Z",
     "shell.execute_reply": "2022-09-05T20:29:23.095521Z",
     "shell.execute_reply.started": "2022-05-08T17:12:28.280392Z"
    },
    "id": "lxLj8e0GHAnr",
    "papermill": {
     "duration": 2.652017,
     "end_time": "2022-09-05T20:29:23.096318",
     "exception": false,
     "start_time": "2022-09-05T20:29:20.444301",
     "status": "completed"
    },
    "tags": []
   },
   "outputs": [],
   "source": [
    "# Dado bruto no formato de dicionário\n",
    " \n",
    "with open('deliveries.json', mode='r', encoding='utf8') as file:\n",
    "  data = json.load(file)"
   ]
  },
  {
   "cell_type": "code",
   "execution_count": 6,
   "id": "b2588124",
   "metadata": {
    "execution": {
     "iopub.execute_input": "2022-09-05T20:29:23.283003Z",
     "iopub.status.busy": "2022-09-05T20:29:23.282145Z",
     "iopub.status.idle": "2022-09-05T20:29:23.286049Z",
     "shell.execute_reply": "2022-09-05T20:29:23.286539Z",
     "shell.execute_reply.started": "2022-05-08T17:12:33.292781Z"
    },
    "id": "xhraQVpAD51D",
    "outputId": "c170fe89-5375-4d61-a971-7bc6ef3368e2",
    "papermill": {
     "duration": 0.100438,
     "end_time": "2022-09-05T20:29:23.286754",
     "exception": false,
     "start_time": "2022-09-05T20:29:23.186316",
     "status": "completed"
    },
    "tags": []
   },
   "outputs": [
    {
     "data": {
      "text/plain": [
       "199"
      ]
     },
     "execution_count": 6,
     "metadata": {},
     "output_type": "execute_result"
    }
   ],
   "source": [
    "# Exploração inicial\n",
    "\n",
    "len(data)"
   ]
  },
  {
   "cell_type": "code",
   "execution_count": 7,
   "id": "099d3dc2",
   "metadata": {
    "execution": {
     "iopub.execute_input": "2022-09-05T20:29:23.469410Z",
     "iopub.status.busy": "2022-09-05T20:29:23.468210Z",
     "iopub.status.idle": "2022-09-05T20:29:23.473320Z",
     "shell.execute_reply": "2022-09-05T20:29:23.472661Z",
     "shell.execute_reply.started": "2022-05-08T17:12:36.633764Z"
    },
    "id": "vFW_v4n6EXiI",
    "papermill": {
     "duration": 0.097362,
     "end_time": "2022-09-05T20:29:23.473467",
     "exception": false,
     "start_time": "2022-09-05T20:29:23.376105",
     "status": "completed"
    },
    "tags": []
   },
   "outputs": [],
   "source": [
    "example = data[0]"
   ]
  },
  {
   "cell_type": "code",
   "execution_count": 8,
   "id": "746b848f",
   "metadata": {
    "execution": {
     "iopub.execute_input": "2022-09-05T20:29:23.665862Z",
     "iopub.status.busy": "2022-09-05T20:29:23.665144Z",
     "iopub.status.idle": "2022-09-05T20:29:23.668389Z",
     "shell.execute_reply": "2022-09-05T20:29:23.669203Z",
     "shell.execute_reply.started": "2022-05-08T17:12:40.424411Z"
    },
    "id": "NBvu6-qhEZq1",
    "outputId": "a7a1ce8d-9ae7-418f-949d-318e13abe5cc",
    "papermill": {
     "duration": 0.107131,
     "end_time": "2022-09-05T20:29:23.669435",
     "exception": false,
     "start_time": "2022-09-05T20:29:23.562304",
     "status": "completed"
    },
    "tags": []
   },
   "outputs": [
    {
     "name": "stdout",
     "output_type": "stream",
     "text": [
      "dict_keys(['name', 'region', 'origin', 'vehicle_capacity', 'deliveries'])\n"
     ]
    }
   ],
   "source": [
    "print(example.keys())"
   ]
  },
  {
   "cell_type": "code",
   "execution_count": 9,
   "id": "5d5170fb",
   "metadata": {
    "execution": {
     "iopub.execute_input": "2022-09-05T20:29:23.864944Z",
     "iopub.status.busy": "2022-09-05T20:29:23.863972Z",
     "iopub.status.idle": "2022-09-05T20:29:23.869675Z",
     "shell.execute_reply": "2022-09-05T20:29:23.870287Z",
     "shell.execute_reply.started": "2022-05-08T17:12:42.733316Z"
    },
    "id": "TqN6nbHTEbZ9",
    "outputId": "568b6c68-68ea-492b-f118-d84025c6fa0d",
    "papermill": {
     "duration": 0.098252,
     "end_time": "2022-09-05T20:29:23.870467",
     "exception": false,
     "start_time": "2022-09-05T20:29:23.772215",
     "status": "completed"
    },
    "tags": []
   },
   "outputs": [
    {
     "data": {
      "text/plain": [
       "'cvrp-2-df-33'"
      ]
     },
     "execution_count": 9,
     "metadata": {},
     "output_type": "execute_result"
    }
   ],
   "source": [
    "example['name']"
   ]
  },
  {
   "cell_type": "code",
   "execution_count": 10,
   "id": "e49e0072",
   "metadata": {
    "execution": {
     "iopub.execute_input": "2022-09-05T20:29:24.054772Z",
     "iopub.status.busy": "2022-09-05T20:29:24.053844Z",
     "iopub.status.idle": "2022-09-05T20:29:24.057291Z",
     "shell.execute_reply": "2022-09-05T20:29:24.057792Z",
     "shell.execute_reply.started": "2022-05-08T17:12:45.278172Z"
    },
    "id": "tlVgfBXKEfH2",
    "outputId": "de78cc78-be70-48bd-e4c0-0473af87f825",
    "papermill": {
     "duration": 0.098101,
     "end_time": "2022-09-05T20:29:24.057966",
     "exception": false,
     "start_time": "2022-09-05T20:29:23.959865",
     "status": "completed"
    },
    "tags": []
   },
   "outputs": [
    {
     "data": {
      "text/plain": [
       "'df-2'"
      ]
     },
     "execution_count": 10,
     "metadata": {},
     "output_type": "execute_result"
    }
   ],
   "source": [
    "example['region']"
   ]
  },
  {
   "cell_type": "code",
   "execution_count": 11,
   "id": "ddca5afe",
   "metadata": {
    "execution": {
     "iopub.execute_input": "2022-09-05T20:29:24.240220Z",
     "iopub.status.busy": "2022-09-05T20:29:24.239535Z",
     "iopub.status.idle": "2022-09-05T20:29:24.244136Z",
     "shell.execute_reply": "2022-09-05T20:29:24.244646Z",
     "shell.execute_reply.started": "2022-05-08T17:12:47.524670Z"
    },
    "id": "j2jao-l9EglY",
    "outputId": "df6302d5-90c1-4e83-d8b8-461fd55a35b1",
    "papermill": {
     "duration": 0.097443,
     "end_time": "2022-09-05T20:29:24.244821",
     "exception": false,
     "start_time": "2022-09-05T20:29:24.147378",
     "status": "completed"
    },
    "tags": []
   },
   "outputs": [
    {
     "data": {
      "text/plain": [
       "-15.83814451122274"
      ]
     },
     "execution_count": 11,
     "metadata": {},
     "output_type": "execute_result"
    }
   ],
   "source": [
    "example['origin']['lat']"
   ]
  },
  {
   "cell_type": "code",
   "execution_count": 12,
   "id": "e0470826",
   "metadata": {
    "execution": {
     "iopub.execute_input": "2022-09-05T20:29:24.431027Z",
     "iopub.status.busy": "2022-09-05T20:29:24.428612Z",
     "iopub.status.idle": "2022-09-05T20:29:24.433678Z",
     "shell.execute_reply": "2022-09-05T20:29:24.434265Z",
     "shell.execute_reply.started": "2022-05-08T17:12:49.559298Z"
    },
    "id": "7eBq_aXAEh8b",
    "outputId": "6a3498e1-5012-46f1-e7de-8ab08e1c6842",
    "papermill": {
     "duration": 0.099332,
     "end_time": "2022-09-05T20:29:24.434438",
     "exception": false,
     "start_time": "2022-09-05T20:29:24.335106",
     "status": "completed"
    },
    "tags": []
   },
   "outputs": [
    {
     "data": {
      "text/plain": [
       "-48.05498915846707"
      ]
     },
     "execution_count": 12,
     "metadata": {},
     "output_type": "execute_result"
    }
   ],
   "source": [
    "example['origin']['lng']"
   ]
  },
  {
   "cell_type": "code",
   "execution_count": 13,
   "id": "1a652154",
   "metadata": {
    "execution": {
     "iopub.execute_input": "2022-09-05T20:29:24.619962Z",
     "iopub.status.busy": "2022-09-05T20:29:24.619258Z",
     "iopub.status.idle": "2022-09-05T20:29:24.623780Z",
     "shell.execute_reply": "2022-09-05T20:29:24.624372Z",
     "shell.execute_reply.started": "2022-05-08T17:12:51.878580Z"
    },
    "id": "QrBj1NNZEjc3",
    "outputId": "e71e74e6-5798-4af0-9237-6d5fd20e8fc8",
    "papermill": {
     "duration": 0.0983,
     "end_time": "2022-09-05T20:29:24.624539",
     "exception": false,
     "start_time": "2022-09-05T20:29:24.526239",
     "status": "completed"
    },
    "tags": []
   },
   "outputs": [
    {
     "data": {
      "text/plain": [
       "180"
      ]
     },
     "execution_count": 13,
     "metadata": {},
     "output_type": "execute_result"
    }
   ],
   "source": [
    "example['vehicle_capacity']"
   ]
  },
  {
   "cell_type": "code",
   "execution_count": 14,
   "id": "a8f2c3b7",
   "metadata": {
    "execution": {
     "iopub.execute_input": "2022-09-05T20:29:24.809462Z",
     "iopub.status.busy": "2022-09-05T20:29:24.808819Z",
     "iopub.status.idle": "2022-09-05T20:29:24.813462Z",
     "shell.execute_reply": "2022-09-05T20:29:24.814091Z",
     "shell.execute_reply.started": "2022-05-08T17:12:54.095203Z"
    },
    "id": "aeyZ-tC7Ek3g",
    "outputId": "2a3f32a5-2cff-4293-8af1-7fa08c686b7b",
    "papermill": {
     "duration": 0.098719,
     "end_time": "2022-09-05T20:29:24.814262",
     "exception": false,
     "start_time": "2022-09-05T20:29:24.715543",
     "status": "completed"
    },
    "tags": []
   },
   "outputs": [
    {
     "data": {
      "text/plain": [
       "-15.848929154862294"
      ]
     },
     "execution_count": 14,
     "metadata": {},
     "output_type": "execute_result"
    }
   ],
   "source": [
    "example['deliveries'][0]['point']['lat']"
   ]
  },
  {
   "cell_type": "markdown",
   "id": "e91f4e11",
   "metadata": {
    "id": "YpGvHy2JEnG2",
    "papermill": {
     "duration": 0.091225,
     "end_time": "2022-09-05T20:29:24.997097",
     "exception": false,
     "start_time": "2022-09-05T20:29:24.905872",
     "status": "completed"
    },
    "tags": []
   },
   "source": [
    "### **3.1 Wrangling**"
   ]
  },
  {
   "cell_type": "code",
   "execution_count": 15,
   "id": "adf7b1d0",
   "metadata": {
    "execution": {
     "iopub.execute_input": "2022-09-05T20:29:25.184110Z",
     "iopub.status.busy": "2022-09-05T20:29:25.183429Z",
     "iopub.status.idle": "2022-09-05T20:29:25.499953Z",
     "shell.execute_reply": "2022-09-05T20:29:25.499392Z",
     "shell.execute_reply.started": "2022-05-08T17:12:57.317210Z"
    },
    "id": "JGbfbTccEtc8",
    "outputId": "de79d2e7-6582-4285-edae-04c6a7487a57",
    "papermill": {
     "duration": 0.41085,
     "end_time": "2022-09-05T20:29:25.500111",
     "exception": false,
     "start_time": "2022-09-05T20:29:25.089261",
     "status": "completed"
    },
    "tags": []
   },
   "outputs": [
    {
     "data": {
      "text/html": [
       "<div>\n",
       "<style scoped>\n",
       "    .dataframe tbody tr th:only-of-type {\n",
       "        vertical-align: middle;\n",
       "    }\n",
       "\n",
       "    .dataframe tbody tr th {\n",
       "        vertical-align: top;\n",
       "    }\n",
       "\n",
       "    .dataframe thead th {\n",
       "        text-align: right;\n",
       "    }\n",
       "</style>\n",
       "<table border=\"1\" class=\"dataframe\">\n",
       "  <thead>\n",
       "    <tr style=\"text-align: right;\">\n",
       "      <th></th>\n",
       "      <th>name</th>\n",
       "      <th>region</th>\n",
       "      <th>origin</th>\n",
       "      <th>vehicle_capacity</th>\n",
       "      <th>deliveries</th>\n",
       "    </tr>\n",
       "  </thead>\n",
       "  <tbody>\n",
       "    <tr>\n",
       "      <th>0</th>\n",
       "      <td>cvrp-2-df-33</td>\n",
       "      <td>df-2</td>\n",
       "      <td>{'lng': -48.05498915846707, 'lat': -15.8381445...</td>\n",
       "      <td>180</td>\n",
       "      <td>[{'id': '313483a19d2f8d65cd5024c8d215cfbd', 'p...</td>\n",
       "    </tr>\n",
       "    <tr>\n",
       "      <th>1</th>\n",
       "      <td>cvrp-2-df-73</td>\n",
       "      <td>df-2</td>\n",
       "      <td>{'lng': -48.05498915846707, 'lat': -15.8381445...</td>\n",
       "      <td>180</td>\n",
       "      <td>[{'id': 'bf3fc630b1c29601a4caf1bdd474b85', 'po...</td>\n",
       "    </tr>\n",
       "    <tr>\n",
       "      <th>2</th>\n",
       "      <td>cvrp-2-df-20</td>\n",
       "      <td>df-2</td>\n",
       "      <td>{'lng': -48.05498915846707, 'lat': -15.8381445...</td>\n",
       "      <td>180</td>\n",
       "      <td>[{'id': 'b30f1145a2ba4e0b9ac0162b68d045c3', 'p...</td>\n",
       "    </tr>\n",
       "    <tr>\n",
       "      <th>3</th>\n",
       "      <td>cvrp-1-df-71</td>\n",
       "      <td>df-1</td>\n",
       "      <td>{'lng': -47.89366206897872, 'lat': -15.8051175...</td>\n",
       "      <td>180</td>\n",
       "      <td>[{'id': 'be3ed547394196c12c7c27c89ac74ed6', 'p...</td>\n",
       "    </tr>\n",
       "    <tr>\n",
       "      <th>4</th>\n",
       "      <td>cvrp-2-df-87</td>\n",
       "      <td>df-2</td>\n",
       "      <td>{'lng': -48.05498915846707, 'lat': -15.8381445...</td>\n",
       "      <td>180</td>\n",
       "      <td>[{'id': 'a6328fb4dc0654eb28a996a270b0f6e4', 'p...</td>\n",
       "    </tr>\n",
       "  </tbody>\n",
       "</table>\n",
       "</div>"
      ],
      "text/plain": [
       "           name region                                             origin  \\\n",
       "0  cvrp-2-df-33   df-2  {'lng': -48.05498915846707, 'lat': -15.8381445...   \n",
       "1  cvrp-2-df-73   df-2  {'lng': -48.05498915846707, 'lat': -15.8381445...   \n",
       "2  cvrp-2-df-20   df-2  {'lng': -48.05498915846707, 'lat': -15.8381445...   \n",
       "3  cvrp-1-df-71   df-1  {'lng': -47.89366206897872, 'lat': -15.8051175...   \n",
       "4  cvrp-2-df-87   df-2  {'lng': -48.05498915846707, 'lat': -15.8381445...   \n",
       "\n",
       "   vehicle_capacity                                         deliveries  \n",
       "0               180  [{'id': '313483a19d2f8d65cd5024c8d215cfbd', 'p...  \n",
       "1               180  [{'id': 'bf3fc630b1c29601a4caf1bdd474b85', 'po...  \n",
       "2               180  [{'id': 'b30f1145a2ba4e0b9ac0162b68d045c3', 'p...  \n",
       "3               180  [{'id': 'be3ed547394196c12c7c27c89ac74ed6', 'p...  \n",
       "4               180  [{'id': 'a6328fb4dc0654eb28a996a270b0f6e4', 'p...  "
      ]
     },
     "execution_count": 15,
     "metadata": {},
     "output_type": "execute_result"
    }
   ],
   "source": [
    "# Dado bruto no pandas\n",
    "\n",
    "deliveries_df = pd.DataFrame(data)\n",
    "deliveries_df.head()"
   ]
  },
  {
   "cell_type": "markdown",
   "id": "39b7c690",
   "metadata": {
    "id": "GqudEkZNE7CN",
    "papermill": {
     "duration": 0.091075,
     "end_time": "2022-09-05T20:29:25.683932",
     "exception": false,
     "start_time": "2022-09-05T20:29:25.592857",
     "status": "completed"
    },
    "tags": []
   },
   "source": [
    "*   Tanto a coluna `origin` como a coluna `deliveries` contem dados nested ou aninhados na estrutura `JSON`. Primeiro, vamos normalizar a coluna `origin` com uma operação conhecida como `flatten` ou achatamento que transforma cada chave `JSON` em uma nova coluna:"
   ]
  },
  {
   "cell_type": "code",
   "execution_count": 16,
   "id": "85ab52cb",
   "metadata": {
    "execution": {
     "iopub.execute_input": "2022-09-05T20:29:25.877937Z",
     "iopub.status.busy": "2022-09-05T20:29:25.876069Z",
     "iopub.status.idle": "2022-09-05T20:29:25.892648Z",
     "shell.execute_reply": "2022-09-05T20:29:25.893256Z",
     "shell.execute_reply.started": "2022-05-08T17:13:01.755050Z"
    },
    "id": "LWZ6DcNoE4kU",
    "papermill": {
     "duration": 0.117181,
     "end_time": "2022-09-05T20:29:25.893435",
     "exception": false,
     "start_time": "2022-09-05T20:29:25.776254",
     "status": "completed"
    },
    "tags": []
   },
   "outputs": [],
   "source": [
    "hub_origin_df = pd.json_normalize(deliveries_df[\"origin\"])\n",
    "\n",
    "#Depois de realizar o achatamento, vamos juntar os dois DataFrames\n",
    "\n",
    "deliveries_df = pd.merge(left=deliveries_df, right=hub_origin_df, how='inner', left_index=True, right_index=True)\n",
    "deliveries_df = deliveries_df.drop(\"origin\", axis=1)\n",
    "deliveries_df = deliveries_df[[\"name\", \"region\", \"lng\", \"lat\", \"vehicle_capacity\", \"deliveries\"]]\n",
    "deliveries_df.rename(columns={\"lng\": \"hub_lng\", \"lat\": \"hub_lat\"}, inplace=True)\n"
   ]
  },
  {
   "cell_type": "code",
   "execution_count": 17,
   "id": "65f3e2bb",
   "metadata": {
    "execution": {
     "iopub.execute_input": "2022-09-05T20:29:26.080708Z",
     "iopub.status.busy": "2022-09-05T20:29:26.080062Z",
     "iopub.status.idle": "2022-09-05T20:29:26.382750Z",
     "shell.execute_reply": "2022-09-05T20:29:26.383214Z",
     "shell.execute_reply.started": "2022-05-08T17:13:04.992975Z"
    },
    "papermill": {
     "duration": 0.398231,
     "end_time": "2022-09-05T20:29:26.383392",
     "exception": false,
     "start_time": "2022-09-05T20:29:25.985161",
     "status": "completed"
    },
    "tags": []
   },
   "outputs": [
    {
     "data": {
      "text/html": [
       "<div>\n",
       "<style scoped>\n",
       "    .dataframe tbody tr th:only-of-type {\n",
       "        vertical-align: middle;\n",
       "    }\n",
       "\n",
       "    .dataframe tbody tr th {\n",
       "        vertical-align: top;\n",
       "    }\n",
       "\n",
       "    .dataframe thead th {\n",
       "        text-align: right;\n",
       "    }\n",
       "</style>\n",
       "<table border=\"1\" class=\"dataframe\">\n",
       "  <thead>\n",
       "    <tr style=\"text-align: right;\">\n",
       "      <th></th>\n",
       "      <th>name</th>\n",
       "      <th>region</th>\n",
       "      <th>hub_lng</th>\n",
       "      <th>hub_lat</th>\n",
       "      <th>vehicle_capacity</th>\n",
       "      <th>deliveries</th>\n",
       "    </tr>\n",
       "  </thead>\n",
       "  <tbody>\n",
       "    <tr>\n",
       "      <th>0</th>\n",
       "      <td>cvrp-2-df-33</td>\n",
       "      <td>df-2</td>\n",
       "      <td>-48.054989</td>\n",
       "      <td>-15.838145</td>\n",
       "      <td>180</td>\n",
       "      <td>[{'id': '313483a19d2f8d65cd5024c8d215cfbd', 'p...</td>\n",
       "    </tr>\n",
       "    <tr>\n",
       "      <th>1</th>\n",
       "      <td>cvrp-2-df-73</td>\n",
       "      <td>df-2</td>\n",
       "      <td>-48.054989</td>\n",
       "      <td>-15.838145</td>\n",
       "      <td>180</td>\n",
       "      <td>[{'id': 'bf3fc630b1c29601a4caf1bdd474b85', 'po...</td>\n",
       "    </tr>\n",
       "    <tr>\n",
       "      <th>2</th>\n",
       "      <td>cvrp-2-df-20</td>\n",
       "      <td>df-2</td>\n",
       "      <td>-48.054989</td>\n",
       "      <td>-15.838145</td>\n",
       "      <td>180</td>\n",
       "      <td>[{'id': 'b30f1145a2ba4e0b9ac0162b68d045c3', 'p...</td>\n",
       "    </tr>\n",
       "    <tr>\n",
       "      <th>3</th>\n",
       "      <td>cvrp-1-df-71</td>\n",
       "      <td>df-1</td>\n",
       "      <td>-47.893662</td>\n",
       "      <td>-15.805118</td>\n",
       "      <td>180</td>\n",
       "      <td>[{'id': 'be3ed547394196c12c7c27c89ac74ed6', 'p...</td>\n",
       "    </tr>\n",
       "    <tr>\n",
       "      <th>4</th>\n",
       "      <td>cvrp-2-df-87</td>\n",
       "      <td>df-2</td>\n",
       "      <td>-48.054989</td>\n",
       "      <td>-15.838145</td>\n",
       "      <td>180</td>\n",
       "      <td>[{'id': 'a6328fb4dc0654eb28a996a270b0f6e4', 'p...</td>\n",
       "    </tr>\n",
       "  </tbody>\n",
       "</table>\n",
       "</div>"
      ],
      "text/plain": [
       "           name region    hub_lng    hub_lat  vehicle_capacity  \\\n",
       "0  cvrp-2-df-33   df-2 -48.054989 -15.838145               180   \n",
       "1  cvrp-2-df-73   df-2 -48.054989 -15.838145               180   \n",
       "2  cvrp-2-df-20   df-2 -48.054989 -15.838145               180   \n",
       "3  cvrp-1-df-71   df-1 -47.893662 -15.805118               180   \n",
       "4  cvrp-2-df-87   df-2 -48.054989 -15.838145               180   \n",
       "\n",
       "                                          deliveries  \n",
       "0  [{'id': '313483a19d2f8d65cd5024c8d215cfbd', 'p...  \n",
       "1  [{'id': 'bf3fc630b1c29601a4caf1bdd474b85', 'po...  \n",
       "2  [{'id': 'b30f1145a2ba4e0b9ac0162b68d045c3', 'p...  \n",
       "3  [{'id': 'be3ed547394196c12c7c27c89ac74ed6', 'p...  \n",
       "4  [{'id': 'a6328fb4dc0654eb28a996a270b0f6e4', 'p...  "
      ]
     },
     "execution_count": 17,
     "metadata": {},
     "output_type": "execute_result"
    }
   ],
   "source": [
    "deliveries_df.head()"
   ]
  },
  {
   "cell_type": "markdown",
   "id": "2dca1322",
   "metadata": {
    "id": "AzB3PPEbFWg2",
    "papermill": {
     "duration": 0.092696,
     "end_time": "2022-09-05T20:29:26.568739",
     "exception": false,
     "start_time": "2022-09-05T20:29:26.476043",
     "status": "completed"
    },
    "tags": []
   },
   "source": [
    "Com a coluna `deliveries`, que possui uma estrutura mais complexa que `origin`, utilizaremos um outro tipo de operação conhecido como `explode`. O `explode` transforma cada elemento da lista em uma linha. Por fim, faremos o `flatten` do resultado da coluna"
   ]
  },
  {
   "cell_type": "code",
   "execution_count": 18,
   "id": "ed8b0df2",
   "metadata": {
    "execution": {
     "iopub.execute_input": "2022-09-05T20:29:26.762931Z",
     "iopub.status.busy": "2022-09-05T20:29:26.762261Z",
     "iopub.status.idle": "2022-09-05T20:29:27.735287Z",
     "shell.execute_reply": "2022-09-05T20:29:27.735854Z",
     "shell.execute_reply.started": "2022-05-08T17:13:11.048235Z"
    },
    "id": "xX19Ca0xGfPW",
    "papermill": {
     "duration": 1.074271,
     "end_time": "2022-09-05T20:29:27.736049",
     "exception": false,
     "start_time": "2022-09-05T20:29:26.661778",
     "status": "completed"
    },
    "tags": []
   },
   "outputs": [],
   "source": [
    "deliveries_exploded_df = deliveries_df[[\"deliveries\"]].explode(\"deliveries\")\n",
    "\n",
    "deliveries_normalized_df = pd.concat([\n",
    "  pd.DataFrame(deliveries_exploded_df[\"deliveries\"].apply(lambda line: line[\"size\"])).rename(columns={\"deliveries\": \"delivery_size\"}),\n",
    "  pd.DataFrame(deliveries_exploded_df[\"deliveries\"].apply(lambda line: line[\"point\"][\"lng\"])).rename(columns={\"deliveries\": \"delivery_lng\"}),\n",
    "  pd.DataFrame(deliveries_exploded_df[\"deliveries\"].apply(lambda line: line[\"point\"][\"lat\"])).rename(columns={\"deliveries\": \"delivery_lat\"}),\n",
    "], axis= 1)\n",
    "\n",
    "deliveries_df = deliveries_df.drop(\"deliveries\", axis=1)\n",
    "deliveries_df = pd.merge(left=deliveries_df, right=deliveries_normalized_df, how='right', left_index=True, right_index=True)\n",
    "deliveries_df.reset_index(inplace=True, drop=True)"
   ]
  },
  {
   "cell_type": "code",
   "execution_count": 19,
   "id": "94cb0cf5",
   "metadata": {
    "execution": {
     "iopub.execute_input": "2022-09-05T20:29:27.924403Z",
     "iopub.status.busy": "2022-09-05T20:29:27.923764Z",
     "iopub.status.idle": "2022-09-05T20:29:27.936136Z",
     "shell.execute_reply": "2022-09-05T20:29:27.936743Z",
     "shell.execute_reply.started": "2022-05-08T17:13:18.908096Z"
    },
    "id": "rEECRYxTGk4P",
    "outputId": "36912330-81d5-4099-f1e3-2220047bd745",
    "papermill": {
     "duration": 0.107926,
     "end_time": "2022-09-05T20:29:27.936914",
     "exception": false,
     "start_time": "2022-09-05T20:29:27.828988",
     "status": "completed"
    },
    "tags": []
   },
   "outputs": [
    {
     "data": {
      "text/html": [
       "<div>\n",
       "<style scoped>\n",
       "    .dataframe tbody tr th:only-of-type {\n",
       "        vertical-align: middle;\n",
       "    }\n",
       "\n",
       "    .dataframe tbody tr th {\n",
       "        vertical-align: top;\n",
       "    }\n",
       "\n",
       "    .dataframe thead th {\n",
       "        text-align: right;\n",
       "    }\n",
       "</style>\n",
       "<table border=\"1\" class=\"dataframe\">\n",
       "  <thead>\n",
       "    <tr style=\"text-align: right;\">\n",
       "      <th></th>\n",
       "      <th>name</th>\n",
       "      <th>region</th>\n",
       "      <th>hub_lng</th>\n",
       "      <th>hub_lat</th>\n",
       "      <th>vehicle_capacity</th>\n",
       "      <th>delivery_size</th>\n",
       "      <th>delivery_lng</th>\n",
       "      <th>delivery_lat</th>\n",
       "    </tr>\n",
       "  </thead>\n",
       "  <tbody>\n",
       "    <tr>\n",
       "      <th>0</th>\n",
       "      <td>cvrp-2-df-33</td>\n",
       "      <td>df-2</td>\n",
       "      <td>-48.054989</td>\n",
       "      <td>-15.838145</td>\n",
       "      <td>180</td>\n",
       "      <td>9</td>\n",
       "      <td>-48.116189</td>\n",
       "      <td>-15.848929</td>\n",
       "    </tr>\n",
       "    <tr>\n",
       "      <th>1</th>\n",
       "      <td>cvrp-2-df-33</td>\n",
       "      <td>df-2</td>\n",
       "      <td>-48.054989</td>\n",
       "      <td>-15.838145</td>\n",
       "      <td>180</td>\n",
       "      <td>2</td>\n",
       "      <td>-48.118195</td>\n",
       "      <td>-15.850772</td>\n",
       "    </tr>\n",
       "    <tr>\n",
       "      <th>2</th>\n",
       "      <td>cvrp-2-df-33</td>\n",
       "      <td>df-2</td>\n",
       "      <td>-48.054989</td>\n",
       "      <td>-15.838145</td>\n",
       "      <td>180</td>\n",
       "      <td>1</td>\n",
       "      <td>-48.112483</td>\n",
       "      <td>-15.847871</td>\n",
       "    </tr>\n",
       "    <tr>\n",
       "      <th>3</th>\n",
       "      <td>cvrp-2-df-33</td>\n",
       "      <td>df-2</td>\n",
       "      <td>-48.054989</td>\n",
       "      <td>-15.838145</td>\n",
       "      <td>180</td>\n",
       "      <td>2</td>\n",
       "      <td>-48.118023</td>\n",
       "      <td>-15.846471</td>\n",
       "    </tr>\n",
       "    <tr>\n",
       "      <th>4</th>\n",
       "      <td>cvrp-2-df-33</td>\n",
       "      <td>df-2</td>\n",
       "      <td>-48.054989</td>\n",
       "      <td>-15.838145</td>\n",
       "      <td>180</td>\n",
       "      <td>7</td>\n",
       "      <td>-48.114898</td>\n",
       "      <td>-15.858055</td>\n",
       "    </tr>\n",
       "  </tbody>\n",
       "</table>\n",
       "</div>"
      ],
      "text/plain": [
       "           name region    hub_lng    hub_lat  vehicle_capacity  delivery_size  \\\n",
       "0  cvrp-2-df-33   df-2 -48.054989 -15.838145               180              9   \n",
       "1  cvrp-2-df-33   df-2 -48.054989 -15.838145               180              2   \n",
       "2  cvrp-2-df-33   df-2 -48.054989 -15.838145               180              1   \n",
       "3  cvrp-2-df-33   df-2 -48.054989 -15.838145               180              2   \n",
       "4  cvrp-2-df-33   df-2 -48.054989 -15.838145               180              7   \n",
       "\n",
       "   delivery_lng  delivery_lat  \n",
       "0    -48.116189    -15.848929  \n",
       "1    -48.118195    -15.850772  \n",
       "2    -48.112483    -15.847871  \n",
       "3    -48.118023    -15.846471  \n",
       "4    -48.114898    -15.858055  "
      ]
     },
     "execution_count": 19,
     "metadata": {},
     "output_type": "execute_result"
    }
   ],
   "source": [
    "deliveries_df.head()"
   ]
  },
  {
   "cell_type": "markdown",
   "id": "16aa5967",
   "metadata": {
    "id": "yTpreLR4FJvG",
    "papermill": {
     "duration": 0.093905,
     "end_time": "2022-09-05T20:29:28.123464",
     "exception": false,
     "start_time": "2022-09-05T20:29:28.029559",
     "status": "completed"
    },
    "tags": []
   },
   "source": [
    "Agora com os dados estruturados e normalizados, é interessante conhecer melhor a estrutura desse conjunto"
   ]
  },
  {
   "cell_type": "markdown",
   "id": "c9ea3642",
   "metadata": {
    "id": "UL9wftFQIHVO",
    "papermill": {
     "duration": 0.092714,
     "end_time": "2022-09-05T20:29:28.308994",
     "exception": false,
     "start_time": "2022-09-05T20:29:28.216280",
     "status": "completed"
    },
    "tags": []
   },
   "source": [
    "### **3.2 Estrutura**"
   ]
  },
  {
   "cell_type": "code",
   "execution_count": 20,
   "id": "1c9d584e",
   "metadata": {
    "execution": {
     "iopub.execute_input": "2022-09-05T20:29:28.648727Z",
     "iopub.status.busy": "2022-09-05T20:29:28.648036Z",
     "iopub.status.idle": "2022-09-05T20:29:28.652561Z",
     "shell.execute_reply": "2022-09-05T20:29:28.653127Z",
     "shell.execute_reply.started": "2022-05-08T17:13:23.542186Z"
    },
    "id": "QlJhEKBSIKM2",
    "outputId": "c781bda8-9e90-4b1b-ae0f-028b00096017",
    "papermill": {
     "duration": 0.251303,
     "end_time": "2022-09-05T20:29:28.653301",
     "exception": false,
     "start_time": "2022-09-05T20:29:28.401998",
     "status": "completed"
    },
    "tags": []
   },
   "outputs": [
    {
     "data": {
      "text/plain": [
       "(636149, 8)"
      ]
     },
     "execution_count": 20,
     "metadata": {},
     "output_type": "execute_result"
    }
   ],
   "source": [
    "deliveries_df.shape"
   ]
  },
  {
   "cell_type": "code",
   "execution_count": 21,
   "id": "c93a5c1c",
   "metadata": {
    "execution": {
     "iopub.execute_input": "2022-09-05T20:29:28.842300Z",
     "iopub.status.busy": "2022-09-05T20:29:28.841660Z",
     "iopub.status.idle": "2022-09-05T20:29:28.846414Z",
     "shell.execute_reply": "2022-09-05T20:29:28.847031Z",
     "shell.execute_reply.started": "2022-05-08T17:13:26.122452Z"
    },
    "id": "hkhYVvfLIMvI",
    "outputId": "a5e13f5d-6be9-4c0b-bdd2-40004c528242",
    "papermill": {
     "duration": 0.100863,
     "end_time": "2022-09-05T20:29:28.847200",
     "exception": false,
     "start_time": "2022-09-05T20:29:28.746337",
     "status": "completed"
    },
    "tags": []
   },
   "outputs": [
    {
     "data": {
      "text/plain": [
       "Index(['name', 'region', 'hub_lng', 'hub_lat', 'vehicle_capacity',\n",
       "       'delivery_size', 'delivery_lng', 'delivery_lat'],\n",
       "      dtype='object')"
      ]
     },
     "execution_count": 21,
     "metadata": {},
     "output_type": "execute_result"
    }
   ],
   "source": [
    "deliveries_df.columns"
   ]
  },
  {
   "cell_type": "code",
   "execution_count": 22,
   "id": "3ec9aeba",
   "metadata": {
    "execution": {
     "iopub.execute_input": "2022-09-05T20:29:29.037333Z",
     "iopub.status.busy": "2022-09-05T20:29:29.036689Z",
     "iopub.status.idle": "2022-09-05T20:29:29.041211Z",
     "shell.execute_reply": "2022-09-05T20:29:29.041810Z",
     "shell.execute_reply.started": "2022-05-08T17:13:28.555951Z"
    },
    "id": "vt4Ldy5TIOWd",
    "outputId": "2c35a673-5bc9-456d-a277-cd8a8f5f82da",
    "papermill": {
     "duration": 0.101186,
     "end_time": "2022-09-05T20:29:29.041981",
     "exception": false,
     "start_time": "2022-09-05T20:29:28.940795",
     "status": "completed"
    },
    "tags": []
   },
   "outputs": [
    {
     "data": {
      "text/plain": [
       "RangeIndex(start=0, stop=636149, step=1)"
      ]
     },
     "execution_count": 22,
     "metadata": {},
     "output_type": "execute_result"
    }
   ],
   "source": [
    "deliveries_df.index"
   ]
  },
  {
   "cell_type": "code",
   "execution_count": 23,
   "id": "aceb889e",
   "metadata": {
    "execution": {
     "iopub.execute_input": "2022-09-05T20:29:29.232851Z",
     "iopub.status.busy": "2022-09-05T20:29:29.232218Z",
     "iopub.status.idle": "2022-09-05T20:29:29.307389Z",
     "shell.execute_reply": "2022-09-05T20:29:29.306445Z",
     "shell.execute_reply.started": "2022-05-08T17:13:33.667453Z"
    },
    "id": "1MpAU3dDISrf",
    "outputId": "f1ae9501-0c4a-4157-bcc5-9bfe0393d7d3",
    "papermill": {
     "duration": 0.171546,
     "end_time": "2022-09-05T20:29:29.307589",
     "exception": false,
     "start_time": "2022-09-05T20:29:29.136043",
     "status": "completed"
    },
    "tags": []
   },
   "outputs": [
    {
     "name": "stdout",
     "output_type": "stream",
     "text": [
      "<class 'pandas.core.frame.DataFrame'>\n",
      "RangeIndex: 636149 entries, 0 to 636148\n",
      "Data columns (total 8 columns):\n",
      " #   Column            Non-Null Count   Dtype  \n",
      "---  ------            --------------   -----  \n",
      " 0   name              636149 non-null  object \n",
      " 1   region            636149 non-null  object \n",
      " 2   hub_lng           636149 non-null  float64\n",
      " 3   hub_lat           636149 non-null  float64\n",
      " 4   vehicle_capacity  636149 non-null  int64  \n",
      " 5   delivery_size     636149 non-null  int64  \n",
      " 6   delivery_lng      636149 non-null  float64\n",
      " 7   delivery_lat      636149 non-null  float64\n",
      "dtypes: float64(4), int64(2), object(2)\n",
      "memory usage: 38.8+ MB\n"
     ]
    }
   ],
   "source": [
    "deliveries_df.info()"
   ]
  },
  {
   "cell_type": "markdown",
   "id": "de09c9d3",
   "metadata": {
    "id": "kpRTdb97IVNd",
    "papermill": {
     "duration": 0.096054,
     "end_time": "2022-09-05T20:29:29.499682",
     "exception": false,
     "start_time": "2022-09-05T20:29:29.403628",
     "status": "completed"
    },
    "tags": []
   },
   "source": [
    "### **3.4 Schema**"
   ]
  },
  {
   "cell_type": "code",
   "execution_count": 24,
   "id": "033b2400",
   "metadata": {
    "execution": {
     "iopub.execute_input": "2022-09-05T20:29:29.692797Z",
     "iopub.status.busy": "2022-09-05T20:29:29.692158Z",
     "iopub.status.idle": "2022-09-05T20:29:29.704136Z",
     "shell.execute_reply": "2022-09-05T20:29:29.704750Z",
     "shell.execute_reply.started": "2022-05-08T17:13:37.007679Z"
    },
    "id": "WxDu8M1EIXIH",
    "outputId": "5ad43062-5306-4a10-d267-289049e4f9fe",
    "papermill": {
     "duration": 0.110016,
     "end_time": "2022-09-05T20:29:29.704927",
     "exception": false,
     "start_time": "2022-09-05T20:29:29.594911",
     "status": "completed"
    },
    "tags": []
   },
   "outputs": [
    {
     "data": {
      "text/html": [
       "<div>\n",
       "<style scoped>\n",
       "    .dataframe tbody tr th:only-of-type {\n",
       "        vertical-align: middle;\n",
       "    }\n",
       "\n",
       "    .dataframe tbody tr th {\n",
       "        vertical-align: top;\n",
       "    }\n",
       "\n",
       "    .dataframe thead th {\n",
       "        text-align: right;\n",
       "    }\n",
       "</style>\n",
       "<table border=\"1\" class=\"dataframe\">\n",
       "  <thead>\n",
       "    <tr style=\"text-align: right;\">\n",
       "      <th></th>\n",
       "      <th>name</th>\n",
       "      <th>region</th>\n",
       "      <th>hub_lng</th>\n",
       "      <th>hub_lat</th>\n",
       "      <th>vehicle_capacity</th>\n",
       "      <th>delivery_size</th>\n",
       "      <th>delivery_lng</th>\n",
       "      <th>delivery_lat</th>\n",
       "    </tr>\n",
       "  </thead>\n",
       "  <tbody>\n",
       "    <tr>\n",
       "      <th>0</th>\n",
       "      <td>cvrp-2-df-33</td>\n",
       "      <td>df-2</td>\n",
       "      <td>-48.054989</td>\n",
       "      <td>-15.838145</td>\n",
       "      <td>180</td>\n",
       "      <td>9</td>\n",
       "      <td>-48.116189</td>\n",
       "      <td>-15.848929</td>\n",
       "    </tr>\n",
       "    <tr>\n",
       "      <th>1</th>\n",
       "      <td>cvrp-2-df-33</td>\n",
       "      <td>df-2</td>\n",
       "      <td>-48.054989</td>\n",
       "      <td>-15.838145</td>\n",
       "      <td>180</td>\n",
       "      <td>2</td>\n",
       "      <td>-48.118195</td>\n",
       "      <td>-15.850772</td>\n",
       "    </tr>\n",
       "    <tr>\n",
       "      <th>2</th>\n",
       "      <td>cvrp-2-df-33</td>\n",
       "      <td>df-2</td>\n",
       "      <td>-48.054989</td>\n",
       "      <td>-15.838145</td>\n",
       "      <td>180</td>\n",
       "      <td>1</td>\n",
       "      <td>-48.112483</td>\n",
       "      <td>-15.847871</td>\n",
       "    </tr>\n",
       "    <tr>\n",
       "      <th>3</th>\n",
       "      <td>cvrp-2-df-33</td>\n",
       "      <td>df-2</td>\n",
       "      <td>-48.054989</td>\n",
       "      <td>-15.838145</td>\n",
       "      <td>180</td>\n",
       "      <td>2</td>\n",
       "      <td>-48.118023</td>\n",
       "      <td>-15.846471</td>\n",
       "    </tr>\n",
       "    <tr>\n",
       "      <th>4</th>\n",
       "      <td>cvrp-2-df-33</td>\n",
       "      <td>df-2</td>\n",
       "      <td>-48.054989</td>\n",
       "      <td>-15.838145</td>\n",
       "      <td>180</td>\n",
       "      <td>7</td>\n",
       "      <td>-48.114898</td>\n",
       "      <td>-15.858055</td>\n",
       "    </tr>\n",
       "  </tbody>\n",
       "</table>\n",
       "</div>"
      ],
      "text/plain": [
       "           name region    hub_lng    hub_lat  vehicle_capacity  delivery_size  \\\n",
       "0  cvrp-2-df-33   df-2 -48.054989 -15.838145               180              9   \n",
       "1  cvrp-2-df-33   df-2 -48.054989 -15.838145               180              2   \n",
       "2  cvrp-2-df-33   df-2 -48.054989 -15.838145               180              1   \n",
       "3  cvrp-2-df-33   df-2 -48.054989 -15.838145               180              2   \n",
       "4  cvrp-2-df-33   df-2 -48.054989 -15.838145               180              7   \n",
       "\n",
       "   delivery_lng  delivery_lat  \n",
       "0    -48.116189    -15.848929  \n",
       "1    -48.118195    -15.850772  \n",
       "2    -48.112483    -15.847871  \n",
       "3    -48.118023    -15.846471  \n",
       "4    -48.114898    -15.858055  "
      ]
     },
     "execution_count": 24,
     "metadata": {},
     "output_type": "execute_result"
    }
   ],
   "source": [
    "deliveries_df.head()"
   ]
  },
  {
   "cell_type": "markdown",
   "id": "f09031f0",
   "metadata": {
    "id": "HFOdxfqgMnXK",
    "papermill": {
     "duration": 0.095108,
     "end_time": "2022-09-05T20:29:29.895698",
     "exception": false,
     "start_time": "2022-09-05T20:29:29.800590",
     "status": "completed"
    },
    "tags": []
   },
   "source": [
    "*   Atributos **categóricos**"
   ]
  },
  {
   "cell_type": "code",
   "execution_count": 25,
   "id": "70de4969",
   "metadata": {
    "execution": {
     "iopub.execute_input": "2022-09-05T20:29:30.090985Z",
     "iopub.status.busy": "2022-09-05T20:29:30.090315Z",
     "iopub.status.idle": "2022-09-05T20:29:30.265782Z",
     "shell.execute_reply": "2022-09-05T20:29:30.265262Z",
     "shell.execute_reply.started": "2022-05-08T17:13:40.325677Z"
    },
    "id": "OwWmra6tMkO_",
    "outputId": "768d9aa3-b789-4585-c920-87d45cf913ab",
    "papermill": {
     "duration": 0.273648,
     "end_time": "2022-09-05T20:29:30.265926",
     "exception": false,
     "start_time": "2022-09-05T20:29:29.992278",
     "status": "completed"
    },
    "tags": []
   },
   "outputs": [
    {
     "data": {
      "text/html": [
       "<div>\n",
       "<style scoped>\n",
       "    .dataframe tbody tr th:only-of-type {\n",
       "        vertical-align: middle;\n",
       "    }\n",
       "\n",
       "    .dataframe tbody tr th {\n",
       "        vertical-align: top;\n",
       "    }\n",
       "\n",
       "    .dataframe thead th {\n",
       "        text-align: right;\n",
       "    }\n",
       "</style>\n",
       "<table border=\"1\" class=\"dataframe\">\n",
       "  <thead>\n",
       "    <tr style=\"text-align: right;\">\n",
       "      <th></th>\n",
       "      <th>count</th>\n",
       "      <th>unique</th>\n",
       "      <th>top</th>\n",
       "      <th>freq</th>\n",
       "    </tr>\n",
       "  </thead>\n",
       "  <tbody>\n",
       "    <tr>\n",
       "      <th>name</th>\n",
       "      <td>636149</td>\n",
       "      <td>199</td>\n",
       "      <td>cvrp-1-df-87</td>\n",
       "      <td>5636</td>\n",
       "    </tr>\n",
       "    <tr>\n",
       "      <th>region</th>\n",
       "      <td>636149</td>\n",
       "      <td>3</td>\n",
       "      <td>df-1</td>\n",
       "      <td>304708</td>\n",
       "    </tr>\n",
       "  </tbody>\n",
       "</table>\n",
       "</div>"
      ],
      "text/plain": [
       "         count unique           top    freq\n",
       "name    636149    199  cvrp-1-df-87    5636\n",
       "region  636149      3          df-1  304708"
      ]
     },
     "execution_count": 25,
     "metadata": {},
     "output_type": "execute_result"
    }
   ],
   "source": [
    "deliveries_df.select_dtypes(\"object\").describe().transpose()"
   ]
  },
  {
   "cell_type": "markdown",
   "id": "6b607110",
   "metadata": {
    "id": "kG3Je2AGMpi4",
    "papermill": {
     "duration": 0.096674,
     "end_time": "2022-09-05T20:29:30.459337",
     "exception": false,
     "start_time": "2022-09-05T20:29:30.362663",
     "status": "completed"
    },
    "tags": []
   },
   "source": [
    "*   Atributos **numéricos**"
   ]
  },
  {
   "cell_type": "code",
   "execution_count": 26,
   "id": "c900f3ba",
   "metadata": {
    "execution": {
     "iopub.execute_input": "2022-09-05T20:29:30.660379Z",
     "iopub.status.busy": "2022-09-05T20:29:30.659715Z",
     "iopub.status.idle": "2022-09-05T20:29:30.732460Z",
     "shell.execute_reply": "2022-09-05T20:29:30.731944Z",
     "shell.execute_reply.started": "2022-05-08T17:13:44.421793Z"
    },
    "id": "Lji_fk_VMsef",
    "outputId": "37ba414d-d26c-4109-d405-cbb44e5a1999",
    "papermill": {
     "duration": 0.172609,
     "end_time": "2022-09-05T20:29:30.732620",
     "exception": false,
     "start_time": "2022-09-05T20:29:30.560011",
     "status": "completed"
    },
    "tags": []
   },
   "outputs": [
    {
     "data": {
      "text/html": [
       "<div>\n",
       "<style scoped>\n",
       "    .dataframe tbody tr th:only-of-type {\n",
       "        vertical-align: middle;\n",
       "    }\n",
       "\n",
       "    .dataframe tbody tr th {\n",
       "        vertical-align: top;\n",
       "    }\n",
       "\n",
       "    .dataframe thead th {\n",
       "        text-align: right;\n",
       "    }\n",
       "</style>\n",
       "<table border=\"1\" class=\"dataframe\">\n",
       "  <thead>\n",
       "    <tr style=\"text-align: right;\">\n",
       "      <th></th>\n",
       "      <th>count</th>\n",
       "      <th>mean</th>\n",
       "      <th>std</th>\n",
       "      <th>min</th>\n",
       "      <th>25%</th>\n",
       "      <th>50%</th>\n",
       "      <th>75%</th>\n",
       "      <th>max</th>\n",
       "    </tr>\n",
       "  </thead>\n",
       "  <tbody>\n",
       "    <tr>\n",
       "      <th>vehicle_capacity</th>\n",
       "      <td>636149.0</td>\n",
       "      <td>180.000000</td>\n",
       "      <td>0.000000</td>\n",
       "      <td>180.0</td>\n",
       "      <td>180.0</td>\n",
       "      <td>180.0</td>\n",
       "      <td>180.0</td>\n",
       "      <td>180.0</td>\n",
       "    </tr>\n",
       "    <tr>\n",
       "      <th>delivery_size</th>\n",
       "      <td>636149.0</td>\n",
       "      <td>5.512111</td>\n",
       "      <td>2.874557</td>\n",
       "      <td>1.0</td>\n",
       "      <td>3.0</td>\n",
       "      <td>6.0</td>\n",
       "      <td>8.0</td>\n",
       "      <td>10.0</td>\n",
       "    </tr>\n",
       "  </tbody>\n",
       "</table>\n",
       "</div>"
      ],
      "text/plain": [
       "                     count        mean       std    min    25%    50%    75%  \\\n",
       "vehicle_capacity  636149.0  180.000000  0.000000  180.0  180.0  180.0  180.0   \n",
       "delivery_size     636149.0    5.512111  2.874557    1.0    3.0    6.0    8.0   \n",
       "\n",
       "                    max  \n",
       "vehicle_capacity  180.0  \n",
       "delivery_size      10.0  "
      ]
     },
     "execution_count": 26,
     "metadata": {},
     "output_type": "execute_result"
    }
   ],
   "source": [
    "deliveries_df.drop([\"name\", \"region\"], axis=1).select_dtypes('int64').describe().transpose()"
   ]
  },
  {
   "cell_type": "code",
   "execution_count": 27,
   "id": "d5db2a52",
   "metadata": {
    "execution": {
     "iopub.execute_input": "2022-09-05T20:29:30.928878Z",
     "iopub.status.busy": "2022-09-05T20:29:30.928241Z",
     "iopub.status.idle": "2022-09-05T20:29:31.281047Z",
     "shell.execute_reply": "2022-09-05T20:29:31.280379Z",
     "shell.execute_reply.started": "2022-05-08T17:13:49.673320Z"
    },
    "id": "B0xiwr8rMyKo",
    "outputId": "5482ff44-8054-4f78-a231-8476fba74b1e",
    "papermill": {
     "duration": 0.451839,
     "end_time": "2022-09-05T20:29:31.281197",
     "exception": false,
     "start_time": "2022-09-05T20:29:30.829358",
     "status": "completed"
    },
    "tags": []
   },
   "outputs": [
    {
     "data": {
      "text/html": [
       "<div>\n",
       "<style scoped>\n",
       "    .dataframe tbody tr th:only-of-type {\n",
       "        vertical-align: middle;\n",
       "    }\n",
       "\n",
       "    .dataframe tbody tr th {\n",
       "        vertical-align: top;\n",
       "    }\n",
       "\n",
       "    .dataframe thead th {\n",
       "        text-align: right;\n",
       "    }\n",
       "</style>\n",
       "<table border=\"1\" class=\"dataframe\">\n",
       "  <thead>\n",
       "    <tr style=\"text-align: right;\">\n",
       "      <th></th>\n",
       "      <th>delivery_lng</th>\n",
       "      <th>delivery_lat</th>\n",
       "      <th>counts</th>\n",
       "    </tr>\n",
       "  </thead>\n",
       "  <tbody>\n",
       "    <tr>\n",
       "      <th>195776</th>\n",
       "      <td>-47.892584</td>\n",
       "      <td>-15.817557</td>\n",
       "      <td>12</td>\n",
       "    </tr>\n",
       "    <tr>\n",
       "      <th>282110</th>\n",
       "      <td>-47.753464</td>\n",
       "      <td>-15.747597</td>\n",
       "      <td>10</td>\n",
       "    </tr>\n",
       "    <tr>\n",
       "      <th>62530</th>\n",
       "      <td>-48.054498</td>\n",
       "      <td>-16.021173</td>\n",
       "      <td>10</td>\n",
       "    </tr>\n",
       "    <tr>\n",
       "      <th>256421</th>\n",
       "      <td>-47.827307</td>\n",
       "      <td>-15.676228</td>\n",
       "      <td>10</td>\n",
       "    </tr>\n",
       "    <tr>\n",
       "      <th>148222</th>\n",
       "      <td>-47.929740</td>\n",
       "      <td>-15.797443</td>\n",
       "      <td>10</td>\n",
       "    </tr>\n",
       "    <tr>\n",
       "      <th>199436</th>\n",
       "      <td>-47.891135</td>\n",
       "      <td>-15.755188</td>\n",
       "      <td>9</td>\n",
       "    </tr>\n",
       "    <tr>\n",
       "      <th>232883</th>\n",
       "      <td>-47.875289</td>\n",
       "      <td>-15.733252</td>\n",
       "      <td>9</td>\n",
       "    </tr>\n",
       "    <tr>\n",
       "      <th>232907</th>\n",
       "      <td>-47.875265</td>\n",
       "      <td>-15.778612</td>\n",
       "      <td>9</td>\n",
       "    </tr>\n",
       "    <tr>\n",
       "      <th>275710</th>\n",
       "      <td>-47.778162</td>\n",
       "      <td>-15.778050</td>\n",
       "      <td>9</td>\n",
       "    </tr>\n",
       "    <tr>\n",
       "      <th>133984</th>\n",
       "      <td>-47.945338</td>\n",
       "      <td>-15.807313</td>\n",
       "      <td>9</td>\n",
       "    </tr>\n",
       "  </tbody>\n",
       "</table>\n",
       "</div>"
      ],
      "text/plain": [
       "        delivery_lng  delivery_lat  counts\n",
       "195776    -47.892584    -15.817557      12\n",
       "282110    -47.753464    -15.747597      10\n",
       "62530     -48.054498    -16.021173      10\n",
       "256421    -47.827307    -15.676228      10\n",
       "148222    -47.929740    -15.797443      10\n",
       "199436    -47.891135    -15.755188       9\n",
       "232883    -47.875289    -15.733252       9\n",
       "232907    -47.875265    -15.778612       9\n",
       "275710    -47.778162    -15.778050       9\n",
       "133984    -47.945338    -15.807313       9"
      ]
     },
     "execution_count": 27,
     "metadata": {},
     "output_type": "execute_result"
    }
   ],
   "source": [
    "# Locais mais frequentes \n",
    "\n",
    "locais_mais_frequentes_df = deliveries_df.groupby(['delivery_lng', 'delivery_lat'])\n",
    "locais_mais_frequentes_df = locais_mais_frequentes_df.size().reset_index(name='counts')\n",
    "locais_mais_frequentes_df.sort_values(by=['counts'], ascending=False).head(10)"
   ]
  },
  {
   "cell_type": "markdown",
   "id": "a19935a8",
   "metadata": {
    "id": "EYLmFypVNGJe",
    "papermill": {
     "duration": 0.096863,
     "end_time": "2022-09-05T20:29:31.474855",
     "exception": false,
     "start_time": "2022-09-05T20:29:31.377992",
     "status": "completed"
    },
    "tags": []
   },
   "source": [
    "Vemos que os locais de entrega não se repetem muito, tendo em vista que o DataFrame possui mais de 600 mil entregas"
   ]
  },
  {
   "cell_type": "code",
   "execution_count": 28,
   "id": "a6ba3a59",
   "metadata": {
    "execution": {
     "iopub.execute_input": "2022-09-05T20:29:31.683405Z",
     "iopub.status.busy": "2022-09-05T20:29:31.670541Z",
     "iopub.status.idle": "2022-09-05T20:29:31.730793Z",
     "shell.execute_reply": "2022-09-05T20:29:31.731323Z",
     "shell.execute_reply.started": "2022-05-08T17:13:55.041289Z"
    },
    "id": "-lgHOFzhNV7Y",
    "outputId": "145e282b-e086-4d6c-a090-b2996642b276",
    "papermill": {
     "duration": 0.159979,
     "end_time": "2022-09-05T20:29:31.731502",
     "exception": false,
     "start_time": "2022-09-05T20:29:31.571523",
     "status": "completed"
    },
    "tags": []
   },
   "outputs": [
    {
     "data": {
      "text/html": [
       "<div>\n",
       "<style scoped>\n",
       "    .dataframe tbody tr th:only-of-type {\n",
       "        vertical-align: middle;\n",
       "    }\n",
       "\n",
       "    .dataframe tbody tr th {\n",
       "        vertical-align: top;\n",
       "    }\n",
       "\n",
       "    .dataframe thead th {\n",
       "        text-align: right;\n",
       "    }\n",
       "</style>\n",
       "<table border=\"1\" class=\"dataframe\">\n",
       "  <thead>\n",
       "    <tr style=\"text-align: right;\">\n",
       "      <th></th>\n",
       "      <th>region</th>\n",
       "      <th>counts</th>\n",
       "    </tr>\n",
       "  </thead>\n",
       "  <tbody>\n",
       "    <tr>\n",
       "      <th>1</th>\n",
       "      <td>df-1</td>\n",
       "      <td>304708</td>\n",
       "    </tr>\n",
       "    <tr>\n",
       "      <th>2</th>\n",
       "      <td>df-2</td>\n",
       "      <td>261319</td>\n",
       "    </tr>\n",
       "    <tr>\n",
       "      <th>0</th>\n",
       "      <td>df-0</td>\n",
       "      <td>70122</td>\n",
       "    </tr>\n",
       "  </tbody>\n",
       "</table>\n",
       "</div>"
      ],
      "text/plain": [
       "  region  counts\n",
       "1   df-1  304708\n",
       "2   df-2  261319\n",
       "0   df-0   70122"
      ]
     },
     "execution_count": 28,
     "metadata": {},
     "output_type": "execute_result"
    }
   ],
   "source": [
    "# Hubs com mais entregas\n",
    "\n",
    "frequencia_hub_df = deliveries_df.groupby('region')\n",
    "frequencia_hub_df = frequencia_hub_df.size().reset_index(name='counts')\n",
    "frequencia_hub_df.sort_values(by=['counts'], ascending=False)\n"
   ]
  },
  {
   "cell_type": "markdown",
   "id": "31c68579",
   "metadata": {
    "id": "2Cm9JuOTN3gy",
    "papermill": {
     "duration": 0.096965,
     "end_time": "2022-09-05T20:29:31.925535",
     "exception": false,
     "start_time": "2022-09-05T20:29:31.828570",
     "status": "completed"
    },
    "tags": []
   },
   "source": [
    "### **3.5 Dados faltantes**"
   ]
  },
  {
   "cell_type": "markdown",
   "id": "e1292866",
   "metadata": {
    "id": "8B5GDn5gN5qX",
    "papermill": {
     "duration": 0.097642,
     "end_time": "2022-09-05T20:29:32.120201",
     "exception": false,
     "start_time": "2022-09-05T20:29:32.022559",
     "status": "completed"
    },
    "tags": []
   },
   "source": [
    "Dados faltantes podem ser:\n",
    "\n",
    "Vazios (\"\");\n",
    "Nulos (None);\n",
    "Não disponíveis ou aplicaveis (na, NA, etc.);\n",
    "Não numérico (nan, NaN, NAN, etc)."
   ]
  },
  {
   "cell_type": "markdown",
   "id": "a8d08b78",
   "metadata": {
    "id": "e5Uzr56PN815",
    "papermill": {
     "duration": 0.096649,
     "end_time": "2022-09-05T20:29:32.314147",
     "exception": false,
     "start_time": "2022-09-05T20:29:32.217498",
     "status": "completed"
    },
    "tags": []
   },
   "source": [
    "Verificando quais colunas possuem dados faltantes"
   ]
  },
  {
   "cell_type": "code",
   "execution_count": 29,
   "id": "7ce161de",
   "metadata": {
    "execution": {
     "iopub.execute_input": "2022-09-05T20:29:32.511701Z",
     "iopub.status.busy": "2022-09-05T20:29:32.510802Z",
     "iopub.status.idle": "2022-09-05T20:29:32.571644Z",
     "shell.execute_reply": "2022-09-05T20:29:32.570981Z",
     "shell.execute_reply.started": "2022-05-08T17:14:02.032755Z"
    },
    "id": "e3Y0F0hIN-wJ",
    "outputId": "88239c9a-4991-407c-e4ba-d8009e35898d",
    "papermill": {
     "duration": 0.160618,
     "end_time": "2022-09-05T20:29:32.571787",
     "exception": false,
     "start_time": "2022-09-05T20:29:32.411169",
     "status": "completed"
    },
    "tags": []
   },
   "outputs": [
    {
     "data": {
      "text/plain": [
       "name                False\n",
       "region              False\n",
       "hub_lng             False\n",
       "hub_lat             False\n",
       "vehicle_capacity    False\n",
       "delivery_size       False\n",
       "delivery_lng        False\n",
       "delivery_lat        False\n",
       "dtype: bool"
      ]
     },
     "execution_count": 29,
     "metadata": {},
     "output_type": "execute_result"
    }
   ],
   "source": [
    "deliveries_df.isna().any()"
   ]
  },
  {
   "cell_type": "markdown",
   "id": "34028e13",
   "metadata": {
    "id": "98hexQTyJS9I",
    "papermill": {
     "duration": 0.097347,
     "end_time": "2022-09-05T20:29:32.767133",
     "exception": false,
     "start_time": "2022-09-05T20:29:32.669786",
     "status": "completed"
    },
    "tags": []
   },
   "source": [
    "## 4\\. Manipulação"
   ]
  },
  {
   "cell_type": "markdown",
   "id": "72bb1450",
   "metadata": {
    "id": "IWqQkD83Pm1X",
    "papermill": {
     "duration": 0.097778,
     "end_time": "2022-09-05T20:29:32.964916",
     "exception": false,
     "start_time": "2022-09-05T20:29:32.867138",
     "status": "completed"
    },
    "tags": []
   },
   "source": [
    "### **4.1. Enriquecimento** "
   ]
  },
  {
   "cell_type": "markdown",
   "id": "5023b013",
   "metadata": {
    "id": "PCHZe4CLOJGq",
    "papermill": {
     "duration": 0.099134,
     "end_time": "2022-09-05T20:29:33.163166",
     "exception": false,
     "start_time": "2022-09-05T20:29:33.064032",
     "status": "completed"
    },
    "tags": []
   },
   "source": [
    "Agora que já temos várias informações sobre nossos dados, vamos enriquecê-lo fazendo a **geocodificação reversa do hub e das entregas**"
   ]
  },
  {
   "cell_type": "markdown",
   "id": "98106cc6",
   "metadata": {
    "id": "EMOiZArSPdlG",
    "papermill": {
     "duration": 0.098145,
     "end_time": "2022-09-05T20:29:33.360217",
     "exception": false,
     "start_time": "2022-09-05T20:29:33.262072",
     "status": "completed"
    },
    "tags": []
   },
   "source": [
    "A **geocodificação** é o processo que transforma uma localização descrita por um texto (endereço, nome do local, etc.) em sua respectiva coodernada geográfica (latitude e longitude). A **geocodificação reversa** faz o oposto, transforma uma coordenada geográfica de um local em suas respectivas descrições textuais."
   ]
  },
  {
   "cell_type": "code",
   "execution_count": 30,
   "id": "318c7dd9",
   "metadata": {
    "execution": {
     "iopub.execute_input": "2022-09-05T20:29:33.563011Z",
     "iopub.status.busy": "2022-09-05T20:29:33.562327Z",
     "iopub.status.idle": "2022-09-05T20:29:33.662366Z",
     "shell.execute_reply": "2022-09-05T20:29:33.662926Z",
     "shell.execute_reply.started": "2022-05-08T17:14:06.575363Z"
    },
    "id": "DXU4Ee0QJS9Q",
    "outputId": "2d883eb0-13bc-4973-ea2e-f86c1a0ad49e",
    "papermill": {
     "duration": 0.202944,
     "end_time": "2022-09-05T20:29:33.663131",
     "exception": false,
     "start_time": "2022-09-05T20:29:33.460187",
     "status": "completed"
    },
    "tags": []
   },
   "outputs": [
    {
     "data": {
      "text/html": [
       "<div>\n",
       "<style scoped>\n",
       "    .dataframe tbody tr th:only-of-type {\n",
       "        vertical-align: middle;\n",
       "    }\n",
       "\n",
       "    .dataframe tbody tr th {\n",
       "        vertical-align: top;\n",
       "    }\n",
       "\n",
       "    .dataframe thead th {\n",
       "        text-align: right;\n",
       "    }\n",
       "</style>\n",
       "<table border=\"1\" class=\"dataframe\">\n",
       "  <thead>\n",
       "    <tr style=\"text-align: right;\">\n",
       "      <th></th>\n",
       "      <th>region</th>\n",
       "      <th>hub_lng</th>\n",
       "      <th>hub_lat</th>\n",
       "    </tr>\n",
       "  </thead>\n",
       "  <tbody>\n",
       "    <tr>\n",
       "      <th>0</th>\n",
       "      <td>df-0</td>\n",
       "      <td>-47.802665</td>\n",
       "      <td>-15.657014</td>\n",
       "    </tr>\n",
       "    <tr>\n",
       "      <th>1</th>\n",
       "      <td>df-1</td>\n",
       "      <td>-47.893662</td>\n",
       "      <td>-15.805118</td>\n",
       "    </tr>\n",
       "    <tr>\n",
       "      <th>2</th>\n",
       "      <td>df-2</td>\n",
       "      <td>-48.054989</td>\n",
       "      <td>-15.838145</td>\n",
       "    </tr>\n",
       "  </tbody>\n",
       "</table>\n",
       "</div>"
      ],
      "text/plain": [
       "  region    hub_lng    hub_lat\n",
       "0   df-0 -47.802665 -15.657014\n",
       "1   df-1 -47.893662 -15.805118\n",
       "2   df-2 -48.054989 -15.838145"
      ]
     },
     "execution_count": 30,
     "metadata": {},
     "output_type": "execute_result"
    }
   ],
   "source": [
    "hub_df = deliveries_df[[\"region\", \"hub_lng\", \"hub_lat\"]]\n",
    "hub_df = hub_df.drop_duplicates().sort_values(by=\"region\").reset_index(drop=True)\n",
    "hub_df.head()"
   ]
  },
  {
   "cell_type": "markdown",
   "id": "36c4829d",
   "metadata": {
    "id": "CCzKZq_-QOrQ",
    "papermill": {
     "duration": 0.098603,
     "end_time": "2022-09-05T20:29:33.862588",
     "exception": false,
     "start_time": "2022-09-05T20:29:33.763985",
     "status": "completed"
    },
    "tags": []
   },
   "source": [
    "Empresas como Google, Bing e Yahoo! fornecem **geocodificação** como serviço (e cobram por isso). Existe uma projeto *open source* chamado de [OpenStreetMap](https://www.openstreetmap.org/) que mantem um serviço gratuito de geocodificação chamado [Nominatim](https://nominatim.org/), serviço este que apresenta como limitação a quantia de [uma única consuta por segundo](https://operations.osmfoundation.org/policies/nominatim/). Vamos utilizá-lo através do pacote Python `geopy` para fazer a operação reversa e enriquecer o nosso DataFrame principal."
   ]
  },
  {
   "cell_type": "code",
   "execution_count": 31,
   "id": "9b1403ef",
   "metadata": {
    "execution": {
     "iopub.execute_input": "2022-09-05T20:29:34.064028Z",
     "iopub.status.busy": "2022-09-05T20:29:34.063345Z",
     "iopub.status.idle": "2022-09-05T20:29:34.897570Z",
     "shell.execute_reply": "2022-09-05T20:29:34.898078Z",
     "shell.execute_reply.started": "2022-05-08T17:14:10.533432Z"
    },
    "id": "QDFSAZILQP8A",
    "outputId": "22752e22-e6e6-4cbe-a758-68c6b177172c",
    "papermill": {
     "duration": 0.936546,
     "end_time": "2022-09-05T20:29:34.898287",
     "exception": false,
     "start_time": "2022-09-05T20:29:33.961741",
     "status": "completed"
    },
    "tags": []
   },
   "outputs": [
    {
     "name": "stdout",
     "output_type": "stream",
     "text": [
      "{\n",
      "  \"place_id\": 68906480,\n",
      "  \"licence\": \"Data © OpenStreetMap contributors, ODbL 1.0. https://osm.org/copyright\",\n",
      "  \"osm_type\": \"node\",\n",
      "  \"osm_id\": 6456379935,\n",
      "  \"lat\": \"-15.656819\",\n",
      "  \"lon\": \"-47.8019514\",\n",
      "  \"display_name\": \"Clinica dos Olhos, Rua 7, Quadra 2, Sobradinho, Região Geográfica Imediata do Distrito Federal, Região Integrada de Desenvolvimento do Distrito Federal e Entorno, Região Geográfica Intermediária do Distrito Federal, Distrito Federal, Região Centro-Oeste, 73015-202, Brasil\",\n",
      "  \"address\": {\n",
      "    \"amenity\": \"Clinica dos Olhos\",\n",
      "    \"road\": \"Rua 7\",\n",
      "    \"residential\": \"Quadra 2\",\n",
      "    \"suburb\": \"Sobradinho\",\n",
      "    \"town\": \"Sobradinho\",\n",
      "    \"municipality\": \"Região Geográfica Imediata do Distrito Federal\",\n",
      "    \"county\": \"Região Integrada de Desenvolvimento do Distrito Federal e Entorno\",\n",
      "    \"state_district\": \"Região Geográfica Intermediária do Distrito Federal\",\n",
      "    \"state\": \"Distrito Federal\",\n",
      "    \"ISO3166-2-lvl4\": \"BR-DF\",\n",
      "    \"region\": \"Região Centro-Oeste\",\n",
      "    \"postcode\": \"73015-202\",\n",
      "    \"country\": \"Brasil\",\n",
      "    \"country_code\": \"br\"\n",
      "  },\n",
      "  \"boundingbox\": [\n",
      "    \"-15.656869\",\n",
      "    \"-15.656769\",\n",
      "    \"-47.8020014\",\n",
      "    \"-47.8019014\"\n",
      "  ]\n",
      "}\n"
     ]
    }
   ],
   "source": [
    "geolocator = Nominatim(user_agent=\"proj_loggi_geocoder\")\n",
    "location = geolocator.reverse(\"-15.657013854445248, -47.802664728268745\")\n",
    "\n",
    "print(json.dumps(location.raw, indent=2, ensure_ascii=False))"
   ]
  },
  {
   "cell_type": "markdown",
   "id": "f88340f4",
   "metadata": {
    "id": "PWmZzWgHQuQY",
    "papermill": {
     "duration": 0.098774,
     "end_time": "2022-09-05T20:29:35.098808",
     "exception": false,
     "start_time": "2022-09-05T20:29:35.000034",
     "status": "completed"
    },
    "tags": []
   },
   "source": [
    "Vamos então aplicar a geocodificação nas coordenadas das três regiões e extrair informações de **cidade** e **bairro**."
   ]
  },
  {
   "cell_type": "code",
   "execution_count": 32,
   "id": "28d9bb69",
   "metadata": {
    "execution": {
     "iopub.execute_input": "2022-09-05T20:29:35.300382Z",
     "iopub.status.busy": "2022-09-05T20:29:35.299703Z",
     "iopub.status.idle": "2022-09-05T20:29:35.303036Z",
     "shell.execute_reply": "2022-09-05T20:29:35.303566Z",
     "shell.execute_reply.started": "2022-05-08T17:14:14.621667Z"
    },
    "id": "rtew0PsrQzF_",
    "papermill": {
     "duration": 0.105458,
     "end_time": "2022-09-05T20:29:35.303758",
     "exception": false,
     "start_time": "2022-09-05T20:29:35.198300",
     "status": "completed"
    },
    "tags": []
   },
   "outputs": [],
   "source": [
    "geocoder = RateLimiter(geolocator.reverse, min_delay_seconds=1)"
   ]
  },
  {
   "cell_type": "code",
   "execution_count": 33,
   "id": "711bf3a2",
   "metadata": {
    "execution": {
     "iopub.execute_input": "2022-09-05T20:29:35.508295Z",
     "iopub.status.busy": "2022-09-05T20:29:35.507317Z",
     "iopub.status.idle": "2022-09-05T20:29:37.706747Z",
     "shell.execute_reply": "2022-09-05T20:29:37.705949Z",
     "shell.execute_reply.started": "2022-05-08T17:14:17.581337Z"
    },
    "id": "gGhOvZOtRHHG",
    "outputId": "ad650826-697a-4d23-a212-f01bf71ba3dd",
    "papermill": {
     "duration": 2.302362,
     "end_time": "2022-09-05T20:29:37.706897",
     "exception": false,
     "start_time": "2022-09-05T20:29:35.404535",
     "status": "completed"
    },
    "tags": []
   },
   "outputs": [
    {
     "data": {
      "text/html": [
       "<div>\n",
       "<style scoped>\n",
       "    .dataframe tbody tr th:only-of-type {\n",
       "        vertical-align: middle;\n",
       "    }\n",
       "\n",
       "    .dataframe tbody tr th {\n",
       "        vertical-align: top;\n",
       "    }\n",
       "\n",
       "    .dataframe thead th {\n",
       "        text-align: right;\n",
       "    }\n",
       "</style>\n",
       "<table border=\"1\" class=\"dataframe\">\n",
       "  <thead>\n",
       "    <tr style=\"text-align: right;\">\n",
       "      <th></th>\n",
       "      <th>region</th>\n",
       "      <th>hub_lng</th>\n",
       "      <th>hub_lat</th>\n",
       "      <th>coordinates</th>\n",
       "      <th>geodata</th>\n",
       "    </tr>\n",
       "  </thead>\n",
       "  <tbody>\n",
       "    <tr>\n",
       "      <th>0</th>\n",
       "      <td>df-0</td>\n",
       "      <td>-47.802665</td>\n",
       "      <td>-15.657014</td>\n",
       "      <td>-15.657013854445248, -47.802664728268745</td>\n",
       "      <td>(Clinica dos Olhos, Rua 7, Quadra 2, Sobradinh...</td>\n",
       "    </tr>\n",
       "    <tr>\n",
       "      <th>1</th>\n",
       "      <td>df-1</td>\n",
       "      <td>-47.893662</td>\n",
       "      <td>-15.805118</td>\n",
       "      <td>-15.80511751066334, -47.89366206897872</td>\n",
       "      <td>(Bloco B / F, W1 Sul, SQS 103, Asa Sul, Brasíl...</td>\n",
       "    </tr>\n",
       "    <tr>\n",
       "      <th>2</th>\n",
       "      <td>df-2</td>\n",
       "      <td>-48.054989</td>\n",
       "      <td>-15.838145</td>\n",
       "      <td>-15.83814451122274, -48.05498915846707</td>\n",
       "      <td>(Armazém do Bolo, lote 4/8, CSB 4/5, Taguating...</td>\n",
       "    </tr>\n",
       "  </tbody>\n",
       "</table>\n",
       "</div>"
      ],
      "text/plain": [
       "  region    hub_lng    hub_lat                               coordinates  \\\n",
       "0   df-0 -47.802665 -15.657014  -15.657013854445248, -47.802664728268745   \n",
       "1   df-1 -47.893662 -15.805118    -15.80511751066334, -47.89366206897872   \n",
       "2   df-2 -48.054989 -15.838145    -15.83814451122274, -48.05498915846707   \n",
       "\n",
       "                                             geodata  \n",
       "0  (Clinica dos Olhos, Rua 7, Quadra 2, Sobradinh...  \n",
       "1  (Bloco B / F, W1 Sul, SQS 103, Asa Sul, Brasíl...  \n",
       "2  (Armazém do Bolo, lote 4/8, CSB 4/5, Taguating...  "
      ]
     },
     "execution_count": 33,
     "metadata": {},
     "output_type": "execute_result"
    }
   ],
   "source": [
    "hub_df[\"coordinates\"] = hub_df[\"hub_lat\"].astype(str)  + \", \" + hub_df[\"hub_lng\"].astype(str) \n",
    "hub_df[\"geodata\"] = hub_df[\"coordinates\"].apply(geocoder)\n",
    "hub_df.head()"
   ]
  },
  {
   "cell_type": "code",
   "execution_count": 34,
   "id": "30f38064",
   "metadata": {
    "execution": {
     "iopub.execute_input": "2022-09-05T20:29:37.909302Z",
     "iopub.status.busy": "2022-09-05T20:29:37.908348Z",
     "iopub.status.idle": "2022-09-05T20:29:37.934152Z",
     "shell.execute_reply": "2022-09-05T20:29:37.934658Z",
     "shell.execute_reply.started": "2022-05-08T17:14:26.076523Z"
    },
    "id": "gpx-1X0oRTSX",
    "outputId": "32e8a950-9f2f-4f61-b50f-10abd5db7768",
    "papermill": {
     "duration": 0.128493,
     "end_time": "2022-09-05T20:29:37.934835",
     "exception": false,
     "start_time": "2022-09-05T20:29:37.806342",
     "status": "completed"
    },
    "tags": []
   },
   "outputs": [
    {
     "data": {
      "text/html": [
       "<div>\n",
       "<style scoped>\n",
       "    .dataframe tbody tr th:only-of-type {\n",
       "        vertical-align: middle;\n",
       "    }\n",
       "\n",
       "    .dataframe tbody tr th {\n",
       "        vertical-align: top;\n",
       "    }\n",
       "\n",
       "    .dataframe thead th {\n",
       "        text-align: right;\n",
       "    }\n",
       "</style>\n",
       "<table border=\"1\" class=\"dataframe\">\n",
       "  <thead>\n",
       "    <tr style=\"text-align: right;\">\n",
       "      <th></th>\n",
       "      <th>place_id</th>\n",
       "      <th>licence</th>\n",
       "      <th>osm_type</th>\n",
       "      <th>osm_id</th>\n",
       "      <th>lat</th>\n",
       "      <th>lon</th>\n",
       "      <th>display_name</th>\n",
       "      <th>boundingbox</th>\n",
       "      <th>address.amenity</th>\n",
       "      <th>address.road</th>\n",
       "      <th>...</th>\n",
       "      <th>address.ISO3166-2-lvl4</th>\n",
       "      <th>address.region</th>\n",
       "      <th>address.postcode</th>\n",
       "      <th>address.country</th>\n",
       "      <th>address.country_code</th>\n",
       "      <th>address.building</th>\n",
       "      <th>address.neighbourhood</th>\n",
       "      <th>address.city</th>\n",
       "      <th>address.shop</th>\n",
       "      <th>address.house_number</th>\n",
       "    </tr>\n",
       "  </thead>\n",
       "  <tbody>\n",
       "    <tr>\n",
       "      <th>0</th>\n",
       "      <td>68906480</td>\n",
       "      <td>Data © OpenStreetMap contributors, ODbL 1.0. h...</td>\n",
       "      <td>node</td>\n",
       "      <td>6456379935</td>\n",
       "      <td>-15.656819</td>\n",
       "      <td>-47.8019514</td>\n",
       "      <td>Clinica dos Olhos, Rua 7, Quadra 2, Sobradinho...</td>\n",
       "      <td>[-15.656869, -15.656769, -47.8020014, -47.8019...</td>\n",
       "      <td>Clinica dos Olhos</td>\n",
       "      <td>Rua 7</td>\n",
       "      <td>...</td>\n",
       "      <td>BR-DF</td>\n",
       "      <td>Região Centro-Oeste</td>\n",
       "      <td>73015-202</td>\n",
       "      <td>Brasil</td>\n",
       "      <td>br</td>\n",
       "      <td>NaN</td>\n",
       "      <td>NaN</td>\n",
       "      <td>NaN</td>\n",
       "      <td>NaN</td>\n",
       "      <td>NaN</td>\n",
       "    </tr>\n",
       "    <tr>\n",
       "      <th>1</th>\n",
       "      <td>138610967</td>\n",
       "      <td>Data © OpenStreetMap contributors, ODbL 1.0. h...</td>\n",
       "      <td>way</td>\n",
       "      <td>140908717</td>\n",
       "      <td>-15.80443735</td>\n",
       "      <td>-47.893155456691616</td>\n",
       "      <td>Bloco B / F, W1 Sul, SQS 103, Asa Sul, Brasíli...</td>\n",
       "      <td>[-15.805071, -15.8038038, -47.8937468, -47.892...</td>\n",
       "      <td>NaN</td>\n",
       "      <td>W1 Sul</td>\n",
       "      <td>...</td>\n",
       "      <td>BR-DF</td>\n",
       "      <td>Região Centro-Oeste</td>\n",
       "      <td>70342-010</td>\n",
       "      <td>Brasil</td>\n",
       "      <td>br</td>\n",
       "      <td>Bloco B / F</td>\n",
       "      <td>SQS 103</td>\n",
       "      <td>Brasília</td>\n",
       "      <td>NaN</td>\n",
       "      <td>NaN</td>\n",
       "    </tr>\n",
       "    <tr>\n",
       "      <th>2</th>\n",
       "      <td>67585484</td>\n",
       "      <td>Data © OpenStreetMap contributors, ODbL 1.0. h...</td>\n",
       "      <td>node</td>\n",
       "      <td>6249717596</td>\n",
       "      <td>-15.8384371</td>\n",
       "      <td>-48.0552917</td>\n",
       "      <td>Armazém do Bolo, lote 4/8, CSB 4/5, Taguatinga...</td>\n",
       "      <td>[-15.8384871, -15.8383871, -48.0553417, -48.05...</td>\n",
       "      <td>NaN</td>\n",
       "      <td>CSB 4/5</td>\n",
       "      <td>...</td>\n",
       "      <td>BR-DF</td>\n",
       "      <td>Região Centro-Oeste</td>\n",
       "      <td>72015-030</td>\n",
       "      <td>Brasil</td>\n",
       "      <td>br</td>\n",
       "      <td>NaN</td>\n",
       "      <td>NaN</td>\n",
       "      <td>Taguatinga</td>\n",
       "      <td>Armazém do Bolo</td>\n",
       "      <td>lote 4/8</td>\n",
       "    </tr>\n",
       "  </tbody>\n",
       "</table>\n",
       "<p>3 rows × 27 columns</p>\n",
       "</div>"
      ],
      "text/plain": [
       "    place_id                                            licence osm_type  \\\n",
       "0   68906480  Data © OpenStreetMap contributors, ODbL 1.0. h...     node   \n",
       "1  138610967  Data © OpenStreetMap contributors, ODbL 1.0. h...      way   \n",
       "2   67585484  Data © OpenStreetMap contributors, ODbL 1.0. h...     node   \n",
       "\n",
       "       osm_id           lat                  lon  \\\n",
       "0  6456379935    -15.656819          -47.8019514   \n",
       "1   140908717  -15.80443735  -47.893155456691616   \n",
       "2  6249717596   -15.8384371          -48.0552917   \n",
       "\n",
       "                                        display_name  \\\n",
       "0  Clinica dos Olhos, Rua 7, Quadra 2, Sobradinho...   \n",
       "1  Bloco B / F, W1 Sul, SQS 103, Asa Sul, Brasíli...   \n",
       "2  Armazém do Bolo, lote 4/8, CSB 4/5, Taguatinga...   \n",
       "\n",
       "                                         boundingbox    address.amenity  \\\n",
       "0  [-15.656869, -15.656769, -47.8020014, -47.8019...  Clinica dos Olhos   \n",
       "1  [-15.805071, -15.8038038, -47.8937468, -47.892...                NaN   \n",
       "2  [-15.8384871, -15.8383871, -48.0553417, -48.05...                NaN   \n",
       "\n",
       "  address.road  ... address.ISO3166-2-lvl4       address.region  \\\n",
       "0        Rua 7  ...                  BR-DF  Região Centro-Oeste   \n",
       "1       W1 Sul  ...                  BR-DF  Região Centro-Oeste   \n",
       "2      CSB 4/5  ...                  BR-DF  Região Centro-Oeste   \n",
       "\n",
       "  address.postcode address.country address.country_code address.building  \\\n",
       "0        73015-202          Brasil                   br              NaN   \n",
       "1        70342-010          Brasil                   br      Bloco B / F   \n",
       "2        72015-030          Brasil                   br              NaN   \n",
       "\n",
       "  address.neighbourhood address.city     address.shop address.house_number  \n",
       "0                   NaN          NaN              NaN                  NaN  \n",
       "1               SQS 103     Brasília              NaN                  NaN  \n",
       "2                   NaN   Taguatinga  Armazém do Bolo             lote 4/8  \n",
       "\n",
       "[3 rows x 27 columns]"
      ]
     },
     "execution_count": 34,
     "metadata": {},
     "output_type": "execute_result"
    }
   ],
   "source": [
    "hub_geodata_df = pd.json_normalize(hub_df[\"geodata\"].apply(lambda data: data.raw))\n",
    "hub_geodata_df.head()"
   ]
  },
  {
   "cell_type": "code",
   "execution_count": 35,
   "id": "6bfe621f",
   "metadata": {
    "execution": {
     "iopub.execute_input": "2022-09-05T20:29:38.145858Z",
     "iopub.status.busy": "2022-09-05T20:29:38.145107Z",
     "iopub.status.idle": "2022-09-05T20:29:38.153945Z",
     "shell.execute_reply": "2022-09-05T20:29:38.154534Z",
     "shell.execute_reply.started": "2022-05-08T17:14:40.340681Z"
    },
    "id": "3QtFjcSgRtWf",
    "outputId": "1375cf6e-8b69-4111-a1fe-688385b4872d",
    "papermill": {
     "duration": 0.120609,
     "end_time": "2022-09-05T20:29:38.154736",
     "exception": false,
     "start_time": "2022-09-05T20:29:38.034127",
     "status": "completed"
    },
    "tags": []
   },
   "outputs": [
    {
     "data": {
      "text/html": [
       "<div>\n",
       "<style scoped>\n",
       "    .dataframe tbody tr th:only-of-type {\n",
       "        vertical-align: middle;\n",
       "    }\n",
       "\n",
       "    .dataframe tbody tr th {\n",
       "        vertical-align: top;\n",
       "    }\n",
       "\n",
       "    .dataframe thead th {\n",
       "        text-align: right;\n",
       "    }\n",
       "</style>\n",
       "<table border=\"1\" class=\"dataframe\">\n",
       "  <thead>\n",
       "    <tr style=\"text-align: right;\">\n",
       "      <th></th>\n",
       "      <th>hub_suburb</th>\n",
       "      <th>hub_city</th>\n",
       "    </tr>\n",
       "  </thead>\n",
       "  <tbody>\n",
       "    <tr>\n",
       "      <th>0</th>\n",
       "      <td>Sobradinho</td>\n",
       "      <td>Sobradinho</td>\n",
       "    </tr>\n",
       "    <tr>\n",
       "      <th>1</th>\n",
       "      <td>Asa Sul</td>\n",
       "      <td>Brasília</td>\n",
       "    </tr>\n",
       "    <tr>\n",
       "      <th>2</th>\n",
       "      <td>Taguatinga</td>\n",
       "      <td>Taguatinga</td>\n",
       "    </tr>\n",
       "  </tbody>\n",
       "</table>\n",
       "</div>"
      ],
      "text/plain": [
       "   hub_suburb    hub_city\n",
       "0  Sobradinho  Sobradinho\n",
       "1     Asa Sul    Brasília\n",
       "2  Taguatinga  Taguatinga"
      ]
     },
     "execution_count": 35,
     "metadata": {},
     "output_type": "execute_result"
    }
   ],
   "source": [
    "hub_geodata_df = hub_geodata_df[[\"address.town\", \"address.suburb\", \"address.city\"]]\n",
    "hub_geodata_df.rename(columns={\"address.town\": \"hub_town\", \"address.suburb\": \"hub_suburb\", \"address.city\": \"hub_city\"}, inplace=True)\n",
    "hub_geodata_df[\"hub_city\"] = np.where(hub_geodata_df[\"hub_city\"].notna(), hub_geodata_df[\"hub_city\"], hub_geodata_df[\"hub_town\"])\n",
    "hub_geodata_df[\"hub_suburb\"] = np.where(hub_geodata_df[\"hub_suburb\"].notna(), hub_geodata_df[\"hub_suburb\"], hub_geodata_df[\"hub_city\"])\n",
    "hub_geodata_df = hub_geodata_df.drop(\"hub_town\", axis=1)\n",
    "hub_geodata_df.head()"
   ]
  },
  {
   "cell_type": "markdown",
   "id": "a45ed96d",
   "metadata": {
    "id": "-ZyEgcjtSYi-",
    "papermill": {
     "duration": 0.099561,
     "end_time": "2022-09-05T20:29:38.354214",
     "exception": false,
     "start_time": "2022-09-05T20:29:38.254653",
     "status": "completed"
    },
    "tags": []
   },
   "source": [
    "Vamos fazer o merge ente o DataFrame `hub_geodata_df`, com as informações de **cidade** e **bairro**, com o DataFrame principal `deliveries_df`\n",
    "\n",
    "\n",
    "\n"
   ]
  },
  {
   "cell_type": "code",
   "execution_count": 36,
   "id": "ed275b32",
   "metadata": {
    "execution": {
     "iopub.execute_input": "2022-09-05T20:29:38.559876Z",
     "iopub.status.busy": "2022-09-05T20:29:38.558918Z",
     "iopub.status.idle": "2022-09-05T20:29:38.571424Z",
     "shell.execute_reply": "2022-09-05T20:29:38.571941Z",
     "shell.execute_reply.started": "2022-05-08T17:14:44.250059Z"
    },
    "id": "AJBj1uQ8SxYn",
    "outputId": "a96440cb-db3d-4657-f7d5-69809bf8ef91",
    "papermill": {
     "duration": 0.117557,
     "end_time": "2022-09-05T20:29:38.572131",
     "exception": false,
     "start_time": "2022-09-05T20:29:38.454574",
     "status": "completed"
    },
    "tags": []
   },
   "outputs": [
    {
     "data": {
      "text/html": [
       "<div>\n",
       "<style scoped>\n",
       "    .dataframe tbody tr th:only-of-type {\n",
       "        vertical-align: middle;\n",
       "    }\n",
       "\n",
       "    .dataframe tbody tr th {\n",
       "        vertical-align: top;\n",
       "    }\n",
       "\n",
       "    .dataframe thead th {\n",
       "        text-align: right;\n",
       "    }\n",
       "</style>\n",
       "<table border=\"1\" class=\"dataframe\">\n",
       "  <thead>\n",
       "    <tr style=\"text-align: right;\">\n",
       "      <th></th>\n",
       "      <th>region</th>\n",
       "      <th>hub_suburb</th>\n",
       "      <th>hub_city</th>\n",
       "    </tr>\n",
       "  </thead>\n",
       "  <tbody>\n",
       "    <tr>\n",
       "      <th>0</th>\n",
       "      <td>df-0</td>\n",
       "      <td>Sobradinho</td>\n",
       "      <td>Sobradinho</td>\n",
       "    </tr>\n",
       "    <tr>\n",
       "      <th>1</th>\n",
       "      <td>df-1</td>\n",
       "      <td>Asa Sul</td>\n",
       "      <td>Brasília</td>\n",
       "    </tr>\n",
       "    <tr>\n",
       "      <th>2</th>\n",
       "      <td>df-2</td>\n",
       "      <td>Taguatinga</td>\n",
       "      <td>Taguatinga</td>\n",
       "    </tr>\n",
       "  </tbody>\n",
       "</table>\n",
       "</div>"
      ],
      "text/plain": [
       "  region  hub_suburb    hub_city\n",
       "0   df-0  Sobradinho  Sobradinho\n",
       "1   df-1     Asa Sul    Brasília\n",
       "2   df-2  Taguatinga  Taguatinga"
      ]
     },
     "execution_count": 36,
     "metadata": {},
     "output_type": "execute_result"
    }
   ],
   "source": [
    "hub_df = pd.merge(left=hub_df, right=hub_geodata_df, left_index=True, right_index=True)\n",
    "hub_df = hub_df[[\"region\", \"hub_suburb\", \"hub_city\"]]\n",
    "hub_df.head()"
   ]
  },
  {
   "cell_type": "code",
   "execution_count": 37,
   "id": "183a28bb",
   "metadata": {
    "execution": {
     "iopub.execute_input": "2022-09-05T20:29:38.780863Z",
     "iopub.status.busy": "2022-09-05T20:29:38.780203Z",
     "iopub.status.idle": "2022-09-05T20:29:39.069424Z",
     "shell.execute_reply": "2022-09-05T20:29:39.068887Z",
     "shell.execute_reply.started": "2022-05-08T17:14:48.088157Z"
    },
    "id": "ShLGXzeqS0Xf",
    "outputId": "24674131-4b5a-400e-a0a4-8dcf855799bd",
    "papermill": {
     "duration": 0.391925,
     "end_time": "2022-09-05T20:29:39.069582",
     "exception": false,
     "start_time": "2022-09-05T20:29:38.677657",
     "status": "completed"
    },
    "tags": []
   },
   "outputs": [
    {
     "data": {
      "text/html": [
       "<div>\n",
       "<style scoped>\n",
       "    .dataframe tbody tr th:only-of-type {\n",
       "        vertical-align: middle;\n",
       "    }\n",
       "\n",
       "    .dataframe tbody tr th {\n",
       "        vertical-align: top;\n",
       "    }\n",
       "\n",
       "    .dataframe thead th {\n",
       "        text-align: right;\n",
       "    }\n",
       "</style>\n",
       "<table border=\"1\" class=\"dataframe\">\n",
       "  <thead>\n",
       "    <tr style=\"text-align: right;\">\n",
       "      <th></th>\n",
       "      <th>name</th>\n",
       "      <th>region</th>\n",
       "      <th>hub_lng</th>\n",
       "      <th>hub_lat</th>\n",
       "      <th>hub_city</th>\n",
       "      <th>hub_suburb</th>\n",
       "      <th>vehicle_capacity</th>\n",
       "      <th>delivery_size</th>\n",
       "      <th>delivery_lng</th>\n",
       "      <th>delivery_lat</th>\n",
       "    </tr>\n",
       "  </thead>\n",
       "  <tbody>\n",
       "    <tr>\n",
       "      <th>0</th>\n",
       "      <td>cvrp-2-df-33</td>\n",
       "      <td>df-2</td>\n",
       "      <td>-48.054989</td>\n",
       "      <td>-15.838145</td>\n",
       "      <td>Taguatinga</td>\n",
       "      <td>Taguatinga</td>\n",
       "      <td>180</td>\n",
       "      <td>9</td>\n",
       "      <td>-48.116189</td>\n",
       "      <td>-15.848929</td>\n",
       "    </tr>\n",
       "    <tr>\n",
       "      <th>1</th>\n",
       "      <td>cvrp-2-df-33</td>\n",
       "      <td>df-2</td>\n",
       "      <td>-48.054989</td>\n",
       "      <td>-15.838145</td>\n",
       "      <td>Taguatinga</td>\n",
       "      <td>Taguatinga</td>\n",
       "      <td>180</td>\n",
       "      <td>2</td>\n",
       "      <td>-48.118195</td>\n",
       "      <td>-15.850772</td>\n",
       "    </tr>\n",
       "    <tr>\n",
       "      <th>2</th>\n",
       "      <td>cvrp-2-df-33</td>\n",
       "      <td>df-2</td>\n",
       "      <td>-48.054989</td>\n",
       "      <td>-15.838145</td>\n",
       "      <td>Taguatinga</td>\n",
       "      <td>Taguatinga</td>\n",
       "      <td>180</td>\n",
       "      <td>1</td>\n",
       "      <td>-48.112483</td>\n",
       "      <td>-15.847871</td>\n",
       "    </tr>\n",
       "    <tr>\n",
       "      <th>3</th>\n",
       "      <td>cvrp-2-df-33</td>\n",
       "      <td>df-2</td>\n",
       "      <td>-48.054989</td>\n",
       "      <td>-15.838145</td>\n",
       "      <td>Taguatinga</td>\n",
       "      <td>Taguatinga</td>\n",
       "      <td>180</td>\n",
       "      <td>2</td>\n",
       "      <td>-48.118023</td>\n",
       "      <td>-15.846471</td>\n",
       "    </tr>\n",
       "    <tr>\n",
       "      <th>4</th>\n",
       "      <td>cvrp-2-df-33</td>\n",
       "      <td>df-2</td>\n",
       "      <td>-48.054989</td>\n",
       "      <td>-15.838145</td>\n",
       "      <td>Taguatinga</td>\n",
       "      <td>Taguatinga</td>\n",
       "      <td>180</td>\n",
       "      <td>7</td>\n",
       "      <td>-48.114898</td>\n",
       "      <td>-15.858055</td>\n",
       "    </tr>\n",
       "  </tbody>\n",
       "</table>\n",
       "</div>"
      ],
      "text/plain": [
       "           name region    hub_lng    hub_lat    hub_city  hub_suburb  \\\n",
       "0  cvrp-2-df-33   df-2 -48.054989 -15.838145  Taguatinga  Taguatinga   \n",
       "1  cvrp-2-df-33   df-2 -48.054989 -15.838145  Taguatinga  Taguatinga   \n",
       "2  cvrp-2-df-33   df-2 -48.054989 -15.838145  Taguatinga  Taguatinga   \n",
       "3  cvrp-2-df-33   df-2 -48.054989 -15.838145  Taguatinga  Taguatinga   \n",
       "4  cvrp-2-df-33   df-2 -48.054989 -15.838145  Taguatinga  Taguatinga   \n",
       "\n",
       "   vehicle_capacity  delivery_size  delivery_lng  delivery_lat  \n",
       "0               180              9    -48.116189    -15.848929  \n",
       "1               180              2    -48.118195    -15.850772  \n",
       "2               180              1    -48.112483    -15.847871  \n",
       "3               180              2    -48.118023    -15.846471  \n",
       "4               180              7    -48.114898    -15.858055  "
      ]
     },
     "execution_count": 37,
     "metadata": {},
     "output_type": "execute_result"
    }
   ],
   "source": [
    "deliveries_df = pd.merge(left=deliveries_df, right=hub_df, how=\"inner\", on=\"region\")\n",
    "deliveries_df = deliveries_df[[\"name\", \"region\", \"hub_lng\", \"hub_lat\", \"hub_city\", \"hub_suburb\", \"vehicle_capacity\", \"delivery_size\", \"delivery_lng\", \"delivery_lat\"]]\n",
    "deliveries_df.head()"
   ]
  },
  {
   "cell_type": "markdown",
   "id": "4c260ddf",
   "metadata": {
    "id": "ra0ZZAQUTHTC",
    "papermill": {
     "duration": 0.100949,
     "end_time": "2022-09-05T20:29:39.272868",
     "exception": false,
     "start_time": "2022-09-05T20:29:39.171919",
     "status": "completed"
    },
    "tags": []
   },
   "source": [
    "- **Geocodificação reversa da entrega**"
   ]
  },
  {
   "cell_type": "markdown",
   "id": "b61da81c",
   "metadata": {
    "id": "0APONF4WTKBG",
    "papermill": {
     "duration": 0.10139,
     "end_time": "2022-09-05T20:29:39.475853",
     "exception": false,
     "start_time": "2022-09-05T20:29:39.374463",
     "status": "completed"
    },
    "tags": []
   },
   "source": [
    "Enquanto o **hub** contem apenas **3** geolocalizações distintas, as **entregas** somam o total de **636.149**, o que levaria em torno de 7 dias para serem consultadas no servidor do Nominatim, dada a restrição de uma consulta por segundo. Contudo, para cargas pesadas como esta, o software oferece uma instalação [local](https://nominatim.org/release-docs/latest/admin/Installation/) (na sua própria máquina) que pode ser utilizada sem restrição."
   ]
  },
  {
   "cell_type": "markdown",
   "id": "6f242259",
   "metadata": {
    "id": "5iCuO0q6TNun",
    "papermill": {
     "duration": 0.104727,
     "end_time": "2022-09-05T20:29:39.683210",
     "exception": false,
     "start_time": "2022-09-05T20:29:39.578483",
     "status": "completed"
    },
    "tags": []
   },
   "source": [
    "Os dados através do seguinte [link](https://raw.githubusercontent.com/andre-marcos-perez/ebac-course-utils/main/dataset/deliveries-geodata.csv)."
   ]
  },
  {
   "cell_type": "code",
   "execution_count": 38,
   "id": "a51a2588",
   "metadata": {
    "execution": {
     "iopub.execute_input": "2022-09-05T20:29:39.890723Z",
     "iopub.status.busy": "2022-09-05T20:29:39.889798Z",
     "iopub.status.idle": "2022-09-05T20:29:45.071905Z",
     "shell.execute_reply": "2022-09-05T20:29:45.071141Z",
     "shell.execute_reply.started": "2022-05-08T17:15:03.834949Z"
    },
    "id": "zeo2OBqSTX4-",
    "papermill": {
     "duration": 5.286577,
     "end_time": "2022-09-05T20:29:45.072065",
     "exception": false,
     "start_time": "2022-09-05T20:29:39.785488",
     "status": "completed"
    },
    "tags": []
   },
   "outputs": [],
   "source": [
    "!wget -q \"https://raw.githubusercontent.com/andre-marcos-perez/ebac-course-utils/main/dataset/deliveries-geodata.csv\" -O deliveries-geodata.csv "
   ]
  },
  {
   "cell_type": "code",
   "execution_count": 39,
   "id": "b095f0e0",
   "metadata": {
    "execution": {
     "iopub.execute_input": "2022-09-05T20:29:45.296827Z",
     "iopub.status.busy": "2022-09-05T20:29:45.296055Z",
     "iopub.status.idle": "2022-09-05T20:29:45.812787Z",
     "shell.execute_reply": "2022-09-05T20:29:45.812194Z",
     "shell.execute_reply.started": "2022-05-08T17:15:09.250580Z"
    },
    "id": "zgX0BktWTez2",
    "outputId": "8873d099-9713-4624-e751-3f5705b43367",
    "papermill": {
     "duration": 0.632342,
     "end_time": "2022-09-05T20:29:45.812931",
     "exception": false,
     "start_time": "2022-09-05T20:29:45.180589",
     "status": "completed"
    },
    "tags": []
   },
   "outputs": [
    {
     "data": {
      "text/html": [
       "<div>\n",
       "<style scoped>\n",
       "    .dataframe tbody tr th:only-of-type {\n",
       "        vertical-align: middle;\n",
       "    }\n",
       "\n",
       "    .dataframe tbody tr th {\n",
       "        vertical-align: top;\n",
       "    }\n",
       "\n",
       "    .dataframe thead th {\n",
       "        text-align: right;\n",
       "    }\n",
       "</style>\n",
       "<table border=\"1\" class=\"dataframe\">\n",
       "  <thead>\n",
       "    <tr style=\"text-align: right;\">\n",
       "      <th></th>\n",
       "      <th>delivery_lng</th>\n",
       "      <th>delivery_lat</th>\n",
       "      <th>delivery_city</th>\n",
       "      <th>delivery_suburb</th>\n",
       "    </tr>\n",
       "  </thead>\n",
       "  <tbody>\n",
       "    <tr>\n",
       "      <th>0</th>\n",
       "      <td>-48.116189</td>\n",
       "      <td>-15.848929</td>\n",
       "      <td>Ceilândia</td>\n",
       "      <td>P Sul</td>\n",
       "    </tr>\n",
       "    <tr>\n",
       "      <th>1</th>\n",
       "      <td>-48.118195</td>\n",
       "      <td>-15.850772</td>\n",
       "      <td>Ceilândia</td>\n",
       "      <td>P Sul</td>\n",
       "    </tr>\n",
       "    <tr>\n",
       "      <th>2</th>\n",
       "      <td>-48.112483</td>\n",
       "      <td>-15.847871</td>\n",
       "      <td>Ceilândia</td>\n",
       "      <td>P Sul</td>\n",
       "    </tr>\n",
       "    <tr>\n",
       "      <th>3</th>\n",
       "      <td>-48.118023</td>\n",
       "      <td>-15.846471</td>\n",
       "      <td>Ceilândia</td>\n",
       "      <td>P Sul</td>\n",
       "    </tr>\n",
       "    <tr>\n",
       "      <th>4</th>\n",
       "      <td>-48.114898</td>\n",
       "      <td>-15.858055</td>\n",
       "      <td>Sol Nascente/Pôr do Sol</td>\n",
       "      <td>Sol Nascente/Pôr do Sol</td>\n",
       "    </tr>\n",
       "  </tbody>\n",
       "</table>\n",
       "</div>"
      ],
      "text/plain": [
       "   delivery_lng  delivery_lat            delivery_city  \\\n",
       "0    -48.116189    -15.848929                Ceilândia   \n",
       "1    -48.118195    -15.850772                Ceilândia   \n",
       "2    -48.112483    -15.847871                Ceilândia   \n",
       "3    -48.118023    -15.846471                Ceilândia   \n",
       "4    -48.114898    -15.858055  Sol Nascente/Pôr do Sol   \n",
       "\n",
       "           delivery_suburb  \n",
       "0                    P Sul  \n",
       "1                    P Sul  \n",
       "2                    P Sul  \n",
       "3                    P Sul  \n",
       "4  Sol Nascente/Pôr do Sol  "
      ]
     },
     "execution_count": 39,
     "metadata": {},
     "output_type": "execute_result"
    }
   ],
   "source": [
    "deliveries_geodata_df = pd.read_csv(\"deliveries-geodata.csv\")\n",
    "deliveries_geodata_df.head()"
   ]
  },
  {
   "cell_type": "code",
   "execution_count": 40,
   "id": "c88df2f4",
   "metadata": {
    "execution": {
     "iopub.execute_input": "2022-09-05T20:29:46.028363Z",
     "iopub.status.busy": "2022-09-05T20:29:46.027563Z",
     "iopub.status.idle": "2022-09-05T20:29:46.154181Z",
     "shell.execute_reply": "2022-09-05T20:29:46.153539Z",
     "shell.execute_reply.started": "2022-05-08T17:15:13.457184Z"
    },
    "id": "cKhKlP-yTiWe",
    "outputId": "d5d08b5b-3c50-45ad-b818-fe8730074b50",
    "papermill": {
     "duration": 0.23649,
     "end_time": "2022-09-05T20:29:46.154333",
     "exception": false,
     "start_time": "2022-09-05T20:29:45.917843",
     "status": "completed"
    },
    "tags": []
   },
   "outputs": [
    {
     "data": {
      "text/html": [
       "<div>\n",
       "<style scoped>\n",
       "    .dataframe tbody tr th:only-of-type {\n",
       "        vertical-align: middle;\n",
       "    }\n",
       "\n",
       "    .dataframe tbody tr th {\n",
       "        vertical-align: top;\n",
       "    }\n",
       "\n",
       "    .dataframe thead th {\n",
       "        text-align: right;\n",
       "    }\n",
       "</style>\n",
       "<table border=\"1\" class=\"dataframe\">\n",
       "  <thead>\n",
       "    <tr style=\"text-align: right;\">\n",
       "      <th></th>\n",
       "      <th>name</th>\n",
       "      <th>region</th>\n",
       "      <th>hub_lng</th>\n",
       "      <th>hub_lat</th>\n",
       "      <th>hub_city</th>\n",
       "      <th>hub_suburb</th>\n",
       "      <th>vehicle_capacity</th>\n",
       "      <th>delivery_size</th>\n",
       "      <th>delivery_lng</th>\n",
       "      <th>delivery_lat</th>\n",
       "      <th>delivery_city</th>\n",
       "      <th>delivery_suburb</th>\n",
       "    </tr>\n",
       "  </thead>\n",
       "  <tbody>\n",
       "    <tr>\n",
       "      <th>0</th>\n",
       "      <td>cvrp-2-df-33</td>\n",
       "      <td>df-2</td>\n",
       "      <td>-48.054989</td>\n",
       "      <td>-15.838145</td>\n",
       "      <td>Taguatinga</td>\n",
       "      <td>Taguatinga</td>\n",
       "      <td>180</td>\n",
       "      <td>9</td>\n",
       "      <td>-48.116189</td>\n",
       "      <td>-15.848929</td>\n",
       "      <td>Ceilândia</td>\n",
       "      <td>P Sul</td>\n",
       "    </tr>\n",
       "    <tr>\n",
       "      <th>1</th>\n",
       "      <td>cvrp-2-df-33</td>\n",
       "      <td>df-2</td>\n",
       "      <td>-48.054989</td>\n",
       "      <td>-15.838145</td>\n",
       "      <td>Taguatinga</td>\n",
       "      <td>Taguatinga</td>\n",
       "      <td>180</td>\n",
       "      <td>2</td>\n",
       "      <td>-48.118195</td>\n",
       "      <td>-15.850772</td>\n",
       "      <td>Ceilândia</td>\n",
       "      <td>P Sul</td>\n",
       "    </tr>\n",
       "    <tr>\n",
       "      <th>2</th>\n",
       "      <td>cvrp-2-df-33</td>\n",
       "      <td>df-2</td>\n",
       "      <td>-48.054989</td>\n",
       "      <td>-15.838145</td>\n",
       "      <td>Taguatinga</td>\n",
       "      <td>Taguatinga</td>\n",
       "      <td>180</td>\n",
       "      <td>1</td>\n",
       "      <td>-48.112483</td>\n",
       "      <td>-15.847871</td>\n",
       "      <td>Ceilândia</td>\n",
       "      <td>P Sul</td>\n",
       "    </tr>\n",
       "    <tr>\n",
       "      <th>3</th>\n",
       "      <td>cvrp-2-df-33</td>\n",
       "      <td>df-2</td>\n",
       "      <td>-48.054989</td>\n",
       "      <td>-15.838145</td>\n",
       "      <td>Taguatinga</td>\n",
       "      <td>Taguatinga</td>\n",
       "      <td>180</td>\n",
       "      <td>2</td>\n",
       "      <td>-48.118023</td>\n",
       "      <td>-15.846471</td>\n",
       "      <td>Ceilândia</td>\n",
       "      <td>P Sul</td>\n",
       "    </tr>\n",
       "    <tr>\n",
       "      <th>4</th>\n",
       "      <td>cvrp-2-df-33</td>\n",
       "      <td>df-2</td>\n",
       "      <td>-48.054989</td>\n",
       "      <td>-15.838145</td>\n",
       "      <td>Taguatinga</td>\n",
       "      <td>Taguatinga</td>\n",
       "      <td>180</td>\n",
       "      <td>7</td>\n",
       "      <td>-48.114898</td>\n",
       "      <td>-15.858055</td>\n",
       "      <td>Sol Nascente/Pôr do Sol</td>\n",
       "      <td>Sol Nascente/Pôr do Sol</td>\n",
       "    </tr>\n",
       "  </tbody>\n",
       "</table>\n",
       "</div>"
      ],
      "text/plain": [
       "           name region    hub_lng    hub_lat    hub_city  hub_suburb  \\\n",
       "0  cvrp-2-df-33   df-2 -48.054989 -15.838145  Taguatinga  Taguatinga   \n",
       "1  cvrp-2-df-33   df-2 -48.054989 -15.838145  Taguatinga  Taguatinga   \n",
       "2  cvrp-2-df-33   df-2 -48.054989 -15.838145  Taguatinga  Taguatinga   \n",
       "3  cvrp-2-df-33   df-2 -48.054989 -15.838145  Taguatinga  Taguatinga   \n",
       "4  cvrp-2-df-33   df-2 -48.054989 -15.838145  Taguatinga  Taguatinga   \n",
       "\n",
       "   vehicle_capacity  delivery_size  delivery_lng  delivery_lat  \\\n",
       "0               180              9    -48.116189    -15.848929   \n",
       "1               180              2    -48.118195    -15.850772   \n",
       "2               180              1    -48.112483    -15.847871   \n",
       "3               180              2    -48.118023    -15.846471   \n",
       "4               180              7    -48.114898    -15.858055   \n",
       "\n",
       "             delivery_city          delivery_suburb  \n",
       "0                Ceilândia                    P Sul  \n",
       "1                Ceilândia                    P Sul  \n",
       "2                Ceilândia                    P Sul  \n",
       "3                Ceilândia                    P Sul  \n",
       "4  Sol Nascente/Pôr do Sol  Sol Nascente/Pôr do Sol  "
      ]
     },
     "execution_count": 40,
     "metadata": {},
     "output_type": "execute_result"
    }
   ],
   "source": [
    "deliveries_df = pd.merge(left=deliveries_df, right=deliveries_geodata_df[[\"delivery_city\", \"delivery_suburb\"]], how=\"inner\", left_index=True, right_index=True)\n",
    "deliveries_df.head()"
   ]
  },
  {
   "cell_type": "markdown",
   "id": "e1ded316",
   "metadata": {
    "id": "bxWfIOwygoOx",
    "papermill": {
     "duration": 0.11107,
     "end_time": "2022-09-05T20:29:46.371849",
     "exception": false,
     "start_time": "2022-09-05T20:29:46.260779",
     "status": "completed"
    },
    "tags": []
   },
   "source": [
    "\n",
    "\n",
    "*   **Vamos acrescentar uma coluna com a distância entre o Hub de origem e o destino das encomendas**\n",
    "\n",
    "Para isso, utilizaremos o pacote Haversine.\n",
    "\n"
   ]
  },
  {
   "cell_type": "code",
   "execution_count": 41,
   "id": "037084a1",
   "metadata": {
    "execution": {
     "iopub.execute_input": "2022-09-05T20:29:46.621085Z",
     "iopub.status.busy": "2022-09-05T20:29:46.614581Z",
     "iopub.status.idle": "2022-09-05T20:30:07.864073Z",
     "shell.execute_reply": "2022-09-05T20:30:07.864615Z",
     "shell.execute_reply.started": "2022-05-08T17:15:23.022536Z"
    },
    "id": "xBBF_VUW4COW",
    "papermill": {
     "duration": 21.388681,
     "end_time": "2022-09-05T20:30:07.864808",
     "exception": false,
     "start_time": "2022-09-05T20:29:46.476127",
     "status": "completed"
    },
    "tags": []
   },
   "outputs": [
    {
     "data": {
      "text/html": [
       "<div>\n",
       "<style scoped>\n",
       "    .dataframe tbody tr th:only-of-type {\n",
       "        vertical-align: middle;\n",
       "    }\n",
       "\n",
       "    .dataframe tbody tr th {\n",
       "        vertical-align: top;\n",
       "    }\n",
       "\n",
       "    .dataframe thead th {\n",
       "        text-align: right;\n",
       "    }\n",
       "</style>\n",
       "<table border=\"1\" class=\"dataframe\">\n",
       "  <thead>\n",
       "    <tr style=\"text-align: right;\">\n",
       "      <th></th>\n",
       "      <th>name</th>\n",
       "      <th>region</th>\n",
       "      <th>hub_lng</th>\n",
       "      <th>hub_lat</th>\n",
       "      <th>hub_city</th>\n",
       "      <th>hub_suburb</th>\n",
       "      <th>vehicle_capacity</th>\n",
       "      <th>delivery_size</th>\n",
       "      <th>delivery_lng</th>\n",
       "      <th>delivery_lat</th>\n",
       "      <th>delivery_city</th>\n",
       "      <th>delivery_suburb</th>\n",
       "      <th>distance_hub_delivery</th>\n",
       "    </tr>\n",
       "  </thead>\n",
       "  <tbody>\n",
       "    <tr>\n",
       "      <th>0</th>\n",
       "      <td>cvrp-2-df-33</td>\n",
       "      <td>df-2</td>\n",
       "      <td>-48.054989</td>\n",
       "      <td>-15.838145</td>\n",
       "      <td>Taguatinga</td>\n",
       "      <td>Taguatinga</td>\n",
       "      <td>180</td>\n",
       "      <td>9</td>\n",
       "      <td>-48.116189</td>\n",
       "      <td>-15.848929</td>\n",
       "      <td>Ceilândia</td>\n",
       "      <td>P Sul</td>\n",
       "      <td>6.655516</td>\n",
       "    </tr>\n",
       "    <tr>\n",
       "      <th>1</th>\n",
       "      <td>cvrp-2-df-33</td>\n",
       "      <td>df-2</td>\n",
       "      <td>-48.054989</td>\n",
       "      <td>-15.838145</td>\n",
       "      <td>Taguatinga</td>\n",
       "      <td>Taguatinga</td>\n",
       "      <td>180</td>\n",
       "      <td>2</td>\n",
       "      <td>-48.118195</td>\n",
       "      <td>-15.850772</td>\n",
       "      <td>Ceilândia</td>\n",
       "      <td>P Sul</td>\n",
       "      <td>6.905410</td>\n",
       "    </tr>\n",
       "    <tr>\n",
       "      <th>2</th>\n",
       "      <td>cvrp-2-df-33</td>\n",
       "      <td>df-2</td>\n",
       "      <td>-48.054989</td>\n",
       "      <td>-15.838145</td>\n",
       "      <td>Taguatinga</td>\n",
       "      <td>Taguatinga</td>\n",
       "      <td>180</td>\n",
       "      <td>1</td>\n",
       "      <td>-48.112483</td>\n",
       "      <td>-15.847871</td>\n",
       "      <td>Ceilândia</td>\n",
       "      <td>P Sul</td>\n",
       "      <td>6.244588</td>\n",
       "    </tr>\n",
       "    <tr>\n",
       "      <th>3</th>\n",
       "      <td>cvrp-2-df-33</td>\n",
       "      <td>df-2</td>\n",
       "      <td>-48.054989</td>\n",
       "      <td>-15.838145</td>\n",
       "      <td>Taguatinga</td>\n",
       "      <td>Taguatinga</td>\n",
       "      <td>180</td>\n",
       "      <td>2</td>\n",
       "      <td>-48.118023</td>\n",
       "      <td>-15.846471</td>\n",
       "      <td>Ceilândia</td>\n",
       "      <td>P Sul</td>\n",
       "      <td>6.806062</td>\n",
       "    </tr>\n",
       "    <tr>\n",
       "      <th>4</th>\n",
       "      <td>cvrp-2-df-33</td>\n",
       "      <td>df-2</td>\n",
       "      <td>-48.054989</td>\n",
       "      <td>-15.838145</td>\n",
       "      <td>Taguatinga</td>\n",
       "      <td>Taguatinga</td>\n",
       "      <td>180</td>\n",
       "      <td>7</td>\n",
       "      <td>-48.114898</td>\n",
       "      <td>-15.858055</td>\n",
       "      <td>Sol Nascente/Pôr do Sol</td>\n",
       "      <td>Sol Nascente/Pôr do Sol</td>\n",
       "      <td>6.780018</td>\n",
       "    </tr>\n",
       "  </tbody>\n",
       "</table>\n",
       "</div>"
      ],
      "text/plain": [
       "           name region    hub_lng    hub_lat    hub_city  hub_suburb  \\\n",
       "0  cvrp-2-df-33   df-2 -48.054989 -15.838145  Taguatinga  Taguatinga   \n",
       "1  cvrp-2-df-33   df-2 -48.054989 -15.838145  Taguatinga  Taguatinga   \n",
       "2  cvrp-2-df-33   df-2 -48.054989 -15.838145  Taguatinga  Taguatinga   \n",
       "3  cvrp-2-df-33   df-2 -48.054989 -15.838145  Taguatinga  Taguatinga   \n",
       "4  cvrp-2-df-33   df-2 -48.054989 -15.838145  Taguatinga  Taguatinga   \n",
       "\n",
       "   vehicle_capacity  delivery_size  delivery_lng  delivery_lat  \\\n",
       "0               180              9    -48.116189    -15.848929   \n",
       "1               180              2    -48.118195    -15.850772   \n",
       "2               180              1    -48.112483    -15.847871   \n",
       "3               180              2    -48.118023    -15.846471   \n",
       "4               180              7    -48.114898    -15.858055   \n",
       "\n",
       "             delivery_city          delivery_suburb  distance_hub_delivery  \n",
       "0                Ceilândia                    P Sul               6.655516  \n",
       "1                Ceilândia                    P Sul               6.905410  \n",
       "2                Ceilândia                    P Sul               6.244588  \n",
       "3                Ceilândia                    P Sul               6.806062  \n",
       "4  Sol Nascente/Pôr do Sol  Sol Nascente/Pôr do Sol               6.780018  "
      ]
     },
     "execution_count": 41,
     "metadata": {},
     "output_type": "execute_result"
    }
   ],
   "source": [
    "deliveries_df[\"distance_hub_delivery\"] = deliveries_df.index\n",
    "deliveries_df[\"distance_hub_delivery\"] = deliveries_df[\"distance_hub_delivery\"].apply(lambda d: haversine((deliveries_df['hub_lat'][d], deliveries_df['hub_lng'][d]),\n",
    "                                                                                 (deliveries_df['delivery_lat'][d], deliveries_df['delivery_lng'][d])))\n",
    "deliveries_df.head()"
   ]
  },
  {
   "cell_type": "markdown",
   "id": "3af49cda",
   "metadata": {
    "id": "2k4b2B9MhE4J",
    "papermill": {
     "duration": 0.103178,
     "end_time": "2022-09-05T20:30:08.071285",
     "exception": false,
     "start_time": "2022-09-05T20:30:07.968107",
     "status": "completed"
    },
    "tags": []
   },
   "source": [
    "\n",
    "\n",
    "*   **Vamos acrescentar uma coluna com gasto de gasolina por distância percorrida**\n",
    "\n",
    "Aqui, vamos imaginar que o veículo utilizado na entrega é um carro do modelo Fiorino Furgão 2018 1.4, que faz até 10,5km/L. Claro que o modelo do veículo utilizado pela Loggi pode ser outro. Pode ser que o veículo nem utilize gasolina, por exemplo. Pode ser um modelo que utilize alcool, gás ou disel. A ideia aqui é somente ter uma noção geral do gasto com combustível.\n",
    "\n",
    "Segundo a Agência Nacional do Petróleo, Gás, e Biocombustíveis (ANP), o preço médio da gasolina está custando R$ 7,26 no Brasil. É em cima desse valor que vamos realizar o cálculo. \n"
   ]
  },
  {
   "cell_type": "code",
   "execution_count": 42,
   "id": "9b493d6f",
   "metadata": {
    "execution": {
     "iopub.execute_input": "2022-09-05T20:30:08.287220Z",
     "iopub.status.busy": "2022-09-05T20:30:08.286161Z",
     "iopub.status.idle": "2022-09-05T20:30:08.289937Z",
     "shell.execute_reply": "2022-09-05T20:30:08.290536Z",
     "shell.execute_reply.started": "2022-05-08T17:16:07.575768Z"
    },
    "id": "1s3YmbSrhPCo",
    "papermill": {
     "duration": 0.114407,
     "end_time": "2022-09-05T20:30:08.290744",
     "exception": false,
     "start_time": "2022-09-05T20:30:08.176337",
     "status": "completed"
    },
    "tags": []
   },
   "outputs": [],
   "source": [
    "deliveries_df['spent_on_gas'] = (7.26/10.5)*deliveries_df['distance_hub_delivery']"
   ]
  },
  {
   "cell_type": "code",
   "execution_count": 43,
   "id": "505178e7",
   "metadata": {
    "execution": {
     "iopub.execute_input": "2022-09-05T20:30:08.519941Z",
     "iopub.status.busy": "2022-09-05T20:30:08.518870Z",
     "iopub.status.idle": "2022-09-05T20:30:08.522624Z",
     "shell.execute_reply": "2022-09-05T20:30:08.523264Z",
     "shell.execute_reply.started": "2022-05-08T17:16:09.738754Z"
    },
    "id": "yQWYCdNElI4k",
    "outputId": "8398c363-e1a3-47d9-a44a-870865a12aa2",
    "papermill": {
     "duration": 0.128786,
     "end_time": "2022-09-05T20:30:08.523444",
     "exception": false,
     "start_time": "2022-09-05T20:30:08.394658",
     "status": "completed"
    },
    "tags": []
   },
   "outputs": [
    {
     "data": {
      "text/html": [
       "<div>\n",
       "<style scoped>\n",
       "    .dataframe tbody tr th:only-of-type {\n",
       "        vertical-align: middle;\n",
       "    }\n",
       "\n",
       "    .dataframe tbody tr th {\n",
       "        vertical-align: top;\n",
       "    }\n",
       "\n",
       "    .dataframe thead th {\n",
       "        text-align: right;\n",
       "    }\n",
       "</style>\n",
       "<table border=\"1\" class=\"dataframe\">\n",
       "  <thead>\n",
       "    <tr style=\"text-align: right;\">\n",
       "      <th></th>\n",
       "      <th>name</th>\n",
       "      <th>region</th>\n",
       "      <th>hub_lng</th>\n",
       "      <th>hub_lat</th>\n",
       "      <th>hub_city</th>\n",
       "      <th>hub_suburb</th>\n",
       "      <th>vehicle_capacity</th>\n",
       "      <th>delivery_size</th>\n",
       "      <th>delivery_lng</th>\n",
       "      <th>delivery_lat</th>\n",
       "      <th>delivery_city</th>\n",
       "      <th>delivery_suburb</th>\n",
       "      <th>distance_hub_delivery</th>\n",
       "      <th>spent_on_gas</th>\n",
       "    </tr>\n",
       "  </thead>\n",
       "  <tbody>\n",
       "    <tr>\n",
       "      <th>0</th>\n",
       "      <td>cvrp-2-df-33</td>\n",
       "      <td>df-2</td>\n",
       "      <td>-48.054989</td>\n",
       "      <td>-15.838145</td>\n",
       "      <td>Taguatinga</td>\n",
       "      <td>Taguatinga</td>\n",
       "      <td>180</td>\n",
       "      <td>9</td>\n",
       "      <td>-48.116189</td>\n",
       "      <td>-15.848929</td>\n",
       "      <td>Ceilândia</td>\n",
       "      <td>P Sul</td>\n",
       "      <td>6.655516</td>\n",
       "      <td>4.601814</td>\n",
       "    </tr>\n",
       "    <tr>\n",
       "      <th>1</th>\n",
       "      <td>cvrp-2-df-33</td>\n",
       "      <td>df-2</td>\n",
       "      <td>-48.054989</td>\n",
       "      <td>-15.838145</td>\n",
       "      <td>Taguatinga</td>\n",
       "      <td>Taguatinga</td>\n",
       "      <td>180</td>\n",
       "      <td>2</td>\n",
       "      <td>-48.118195</td>\n",
       "      <td>-15.850772</td>\n",
       "      <td>Ceilândia</td>\n",
       "      <td>P Sul</td>\n",
       "      <td>6.905410</td>\n",
       "      <td>4.774598</td>\n",
       "    </tr>\n",
       "    <tr>\n",
       "      <th>2</th>\n",
       "      <td>cvrp-2-df-33</td>\n",
       "      <td>df-2</td>\n",
       "      <td>-48.054989</td>\n",
       "      <td>-15.838145</td>\n",
       "      <td>Taguatinga</td>\n",
       "      <td>Taguatinga</td>\n",
       "      <td>180</td>\n",
       "      <td>1</td>\n",
       "      <td>-48.112483</td>\n",
       "      <td>-15.847871</td>\n",
       "      <td>Ceilândia</td>\n",
       "      <td>P Sul</td>\n",
       "      <td>6.244588</td>\n",
       "      <td>4.317687</td>\n",
       "    </tr>\n",
       "    <tr>\n",
       "      <th>3</th>\n",
       "      <td>cvrp-2-df-33</td>\n",
       "      <td>df-2</td>\n",
       "      <td>-48.054989</td>\n",
       "      <td>-15.838145</td>\n",
       "      <td>Taguatinga</td>\n",
       "      <td>Taguatinga</td>\n",
       "      <td>180</td>\n",
       "      <td>2</td>\n",
       "      <td>-48.118023</td>\n",
       "      <td>-15.846471</td>\n",
       "      <td>Ceilândia</td>\n",
       "      <td>P Sul</td>\n",
       "      <td>6.806062</td>\n",
       "      <td>4.705906</td>\n",
       "    </tr>\n",
       "    <tr>\n",
       "      <th>4</th>\n",
       "      <td>cvrp-2-df-33</td>\n",
       "      <td>df-2</td>\n",
       "      <td>-48.054989</td>\n",
       "      <td>-15.838145</td>\n",
       "      <td>Taguatinga</td>\n",
       "      <td>Taguatinga</td>\n",
       "      <td>180</td>\n",
       "      <td>7</td>\n",
       "      <td>-48.114898</td>\n",
       "      <td>-15.858055</td>\n",
       "      <td>Sol Nascente/Pôr do Sol</td>\n",
       "      <td>Sol Nascente/Pôr do Sol</td>\n",
       "      <td>6.780018</td>\n",
       "      <td>4.687898</td>\n",
       "    </tr>\n",
       "  </tbody>\n",
       "</table>\n",
       "</div>"
      ],
      "text/plain": [
       "           name region    hub_lng    hub_lat    hub_city  hub_suburb  \\\n",
       "0  cvrp-2-df-33   df-2 -48.054989 -15.838145  Taguatinga  Taguatinga   \n",
       "1  cvrp-2-df-33   df-2 -48.054989 -15.838145  Taguatinga  Taguatinga   \n",
       "2  cvrp-2-df-33   df-2 -48.054989 -15.838145  Taguatinga  Taguatinga   \n",
       "3  cvrp-2-df-33   df-2 -48.054989 -15.838145  Taguatinga  Taguatinga   \n",
       "4  cvrp-2-df-33   df-2 -48.054989 -15.838145  Taguatinga  Taguatinga   \n",
       "\n",
       "   vehicle_capacity  delivery_size  delivery_lng  delivery_lat  \\\n",
       "0               180              9    -48.116189    -15.848929   \n",
       "1               180              2    -48.118195    -15.850772   \n",
       "2               180              1    -48.112483    -15.847871   \n",
       "3               180              2    -48.118023    -15.846471   \n",
       "4               180              7    -48.114898    -15.858055   \n",
       "\n",
       "             delivery_city          delivery_suburb  distance_hub_delivery  \\\n",
       "0                Ceilândia                    P Sul               6.655516   \n",
       "1                Ceilândia                    P Sul               6.905410   \n",
       "2                Ceilândia                    P Sul               6.244588   \n",
       "3                Ceilândia                    P Sul               6.806062   \n",
       "4  Sol Nascente/Pôr do Sol  Sol Nascente/Pôr do Sol               6.780018   \n",
       "\n",
       "   spent_on_gas  \n",
       "0      4.601814  \n",
       "1      4.774598  \n",
       "2      4.317687  \n",
       "3      4.705906  \n",
       "4      4.687898  "
      ]
     },
     "execution_count": 43,
     "metadata": {},
     "output_type": "execute_result"
    }
   ],
   "source": [
    "deliveries_df.head()"
   ]
  },
  {
   "cell_type": "markdown",
   "id": "c7924cfa",
   "metadata": {
    "id": "Hh-xMoUwuiuj",
    "papermill": {
     "duration": 0.108172,
     "end_time": "2022-09-05T20:30:08.737497",
     "exception": false,
     "start_time": "2022-09-05T20:30:08.629325",
     "status": "completed"
    },
    "tags": []
   },
   "source": [
    "### **4.2. Schema** "
   ]
  },
  {
   "cell_type": "markdown",
   "id": "6b844def",
   "metadata": {
    "id": "XiYjBfb1uo2M",
    "papermill": {
     "duration": 0.10369,
     "end_time": "2022-09-05T20:30:08.945103",
     "exception": false,
     "start_time": "2022-09-05T20:30:08.841413",
     "status": "completed"
    },
    "tags": []
   },
   "source": [
    "Vamos dar uma olhadinha na qualidade dos dados que foram acrescentados"
   ]
  },
  {
   "cell_type": "code",
   "execution_count": 44,
   "id": "926e2010",
   "metadata": {
    "execution": {
     "iopub.execute_input": "2022-09-05T20:30:09.159245Z",
     "iopub.status.busy": "2022-09-05T20:30:09.158224Z",
     "iopub.status.idle": "2022-09-05T20:30:09.340479Z",
     "shell.execute_reply": "2022-09-05T20:30:09.341003Z",
     "shell.execute_reply.started": "2022-05-08T17:16:24.010998Z"
    },
    "id": "2115KIGcutcZ",
    "outputId": "e21778a0-9144-44c1-dabc-67cec4bbdb1e",
    "papermill": {
     "duration": 0.290913,
     "end_time": "2022-09-05T20:30:09.341195",
     "exception": false,
     "start_time": "2022-09-05T20:30:09.050282",
     "status": "completed"
    },
    "tags": []
   },
   "outputs": [
    {
     "name": "stdout",
     "output_type": "stream",
     "text": [
      "<class 'pandas.core.frame.DataFrame'>\n",
      "Int64Index: 636149 entries, 0 to 636148\n",
      "Data columns (total 14 columns):\n",
      " #   Column                 Non-Null Count   Dtype  \n",
      "---  ------                 --------------   -----  \n",
      " 0   name                   636149 non-null  object \n",
      " 1   region                 636149 non-null  object \n",
      " 2   hub_lng                636149 non-null  float64\n",
      " 3   hub_lat                636149 non-null  float64\n",
      " 4   hub_city               636149 non-null  object \n",
      " 5   hub_suburb             636149 non-null  object \n",
      " 6   vehicle_capacity       636149 non-null  int64  \n",
      " 7   delivery_size          636149 non-null  int64  \n",
      " 8   delivery_lng           636149 non-null  float64\n",
      " 9   delivery_lat           636149 non-null  float64\n",
      " 10  delivery_city          634447 non-null  object \n",
      " 11  delivery_suburb        476264 non-null  object \n",
      " 12  distance_hub_delivery  636149 non-null  float64\n",
      " 13  spent_on_gas           636149 non-null  float64\n",
      "dtypes: float64(6), int64(2), object(6)\n",
      "memory usage: 88.9+ MB\n"
     ]
    }
   ],
   "source": [
    "deliveries_df.info()"
   ]
  },
  {
   "cell_type": "code",
   "execution_count": 45,
   "id": "1f308b26",
   "metadata": {
    "execution": {
     "iopub.execute_input": "2022-09-05T20:30:09.557237Z",
     "iopub.status.busy": "2022-09-05T20:30:09.556565Z",
     "iopub.status.idle": "2022-09-05T20:30:09.717384Z",
     "shell.execute_reply": "2022-09-05T20:30:09.716847Z",
     "shell.execute_reply.started": "2022-05-08T17:16:47.117925Z"
    },
    "id": "ci1b36yhuxOw",
    "outputId": "8158707f-adaf-44fc-f2ee-74bce44cf174",
    "papermill": {
     "duration": 0.27021,
     "end_time": "2022-09-05T20:30:09.717546",
     "exception": false,
     "start_time": "2022-09-05T20:30:09.447336",
     "status": "completed"
    },
    "tags": []
   },
   "outputs": [
    {
     "data": {
      "text/plain": [
       "name                     False\n",
       "region                   False\n",
       "hub_lng                  False\n",
       "hub_lat                  False\n",
       "hub_city                 False\n",
       "hub_suburb               False\n",
       "vehicle_capacity         False\n",
       "delivery_size            False\n",
       "delivery_lng             False\n",
       "delivery_lat             False\n",
       "delivery_city             True\n",
       "delivery_suburb           True\n",
       "distance_hub_delivery    False\n",
       "spent_on_gas             False\n",
       "dtype: bool"
      ]
     },
     "execution_count": 45,
     "metadata": {},
     "output_type": "execute_result"
    }
   ],
   "source": [
    "deliveries_df.isna().any()"
   ]
  },
  {
   "cell_type": "code",
   "execution_count": 46,
   "id": "e7a29e87",
   "metadata": {
    "execution": {
     "iopub.execute_input": "2022-09-05T20:30:09.931757Z",
     "iopub.status.busy": "2022-09-05T20:30:09.931025Z",
     "iopub.status.idle": "2022-09-05T20:30:09.935927Z",
     "shell.execute_reply": "2022-09-05T20:30:09.936458Z",
     "shell.execute_reply.started": "2022-05-08T17:55:04.995535Z"
    },
    "papermill": {
     "duration": 0.113804,
     "end_time": "2022-09-05T20:30:09.936755",
     "exception": false,
     "start_time": "2022-09-05T20:30:09.822951",
     "status": "completed"
    },
    "tags": []
   },
   "outputs": [],
   "source": [
    "def count_missing_values(vec):\n",
    "    null = pd.isnull(vec)\n",
    "    null_count = np.sum(null)\n",
    "    return null_count\n",
    "\n",
    "def prop_missing_values(vec):\n",
    "    num = count_missing_values(vec)\n",
    "    dem = vec.size\n",
    "    return num / dem\n",
    "\n",
    "def prop_complete_values(vec):\n",
    "    return 1 - prop_missing_values(vec)"
   ]
  },
  {
   "cell_type": "markdown",
   "id": "f313de76",
   "metadata": {
    "papermill": {
     "duration": 0.104728,
     "end_time": "2022-09-05T20:30:10.147787",
     "exception": false,
     "start_time": "2022-09-05T20:30:10.043059",
     "status": "completed"
    },
    "tags": []
   },
   "source": [
    "* **Soma dos valores ausentes**"
   ]
  },
  {
   "cell_type": "code",
   "execution_count": 47,
   "id": "c0544d2c",
   "metadata": {
    "execution": {
     "iopub.execute_input": "2022-09-05T20:30:10.364499Z",
     "iopub.status.busy": "2022-09-05T20:30:10.363631Z",
     "iopub.status.idle": "2022-09-05T20:30:10.537732Z",
     "shell.execute_reply": "2022-09-05T20:30:10.538290Z",
     "shell.execute_reply.started": "2022-05-08T17:58:57.997259Z"
    },
    "papermill": {
     "duration": 0.284264,
     "end_time": "2022-09-05T20:30:10.538478",
     "exception": false,
     "start_time": "2022-09-05T20:30:10.254214",
     "status": "completed"
    },
    "tags": []
   },
   "outputs": [
    {
     "name": "stdout",
     "output_type": "stream",
     "text": [
      "name                          0\n",
      "region                        0\n",
      "hub_lng                       0\n",
      "hub_lat                       0\n",
      "hub_city                      0\n",
      "hub_suburb                    0\n",
      "vehicle_capacity              0\n",
      "delivery_size                 0\n",
      "delivery_lng                  0\n",
      "delivery_lat                  0\n",
      "delivery_city              1702\n",
      "delivery_suburb          159885\n",
      "distance_hub_delivery         0\n",
      "spent_on_gas                  0\n",
      "dtype: int64\n"
     ]
    }
   ],
   "source": [
    "count_nan = deliveries_df.apply(count_missing_values)\n",
    "print(count_nan)"
   ]
  },
  {
   "cell_type": "markdown",
   "id": "411e1a19",
   "metadata": {
    "papermill": {
     "duration": 0.104943,
     "end_time": "2022-09-05T20:30:10.748749",
     "exception": false,
     "start_time": "2022-09-05T20:30:10.643806",
     "status": "completed"
    },
    "tags": []
   },
   "source": [
    "* **Proporção dos valores ausentes**"
   ]
  },
  {
   "cell_type": "code",
   "execution_count": 48,
   "id": "a24c42f3",
   "metadata": {
    "execution": {
     "iopub.execute_input": "2022-09-05T20:30:10.963122Z",
     "iopub.status.busy": "2022-09-05T20:30:10.962117Z",
     "iopub.status.idle": "2022-09-05T20:30:11.139466Z",
     "shell.execute_reply": "2022-09-05T20:30:11.140088Z",
     "shell.execute_reply.started": "2022-05-08T17:59:09.204505Z"
    },
    "papermill": {
     "duration": 0.286187,
     "end_time": "2022-09-05T20:30:11.140271",
     "exception": false,
     "start_time": "2022-09-05T20:30:10.854084",
     "status": "completed"
    },
    "tags": []
   },
   "outputs": [
    {
     "name": "stdout",
     "output_type": "stream",
     "text": [
      "name                     0.000000\n",
      "region                   0.000000\n",
      "hub_lng                  0.000000\n",
      "hub_lat                  0.000000\n",
      "hub_city                 0.000000\n",
      "hub_suburb               0.000000\n",
      "vehicle_capacity         0.000000\n",
      "delivery_size            0.000000\n",
      "delivery_lng             0.000000\n",
      "delivery_lat             0.000000\n",
      "delivery_city            0.002675\n",
      "delivery_suburb          0.251333\n",
      "distance_hub_delivery    0.000000\n",
      "spent_on_gas             0.000000\n",
      "dtype: float64\n"
     ]
    }
   ],
   "source": [
    "prop_nan = deliveries_df.apply(prop_missing_values)\n",
    "print(prop_nan)"
   ]
  },
  {
   "cell_type": "markdown",
   "id": "c68a5a68",
   "metadata": {
    "papermill": {
     "duration": 0.105262,
     "end_time": "2022-09-05T20:30:11.351523",
     "exception": false,
     "start_time": "2022-09-05T20:30:11.246261",
     "status": "completed"
    },
    "tags": []
   },
   "source": [
    "* **Proporção dos valores não ausentes**"
   ]
  },
  {
   "cell_type": "code",
   "execution_count": 49,
   "id": "c2006e50",
   "metadata": {
    "execution": {
     "iopub.execute_input": "2022-09-05T20:30:11.596380Z",
     "iopub.status.busy": "2022-09-05T20:30:11.595392Z",
     "iopub.status.idle": "2022-09-05T20:30:11.745769Z",
     "shell.execute_reply": "2022-09-05T20:30:11.745143Z",
     "shell.execute_reply.started": "2022-05-08T17:59:18.029955Z"
    },
    "papermill": {
     "duration": 0.289073,
     "end_time": "2022-09-05T20:30:11.745923",
     "exception": false,
     "start_time": "2022-09-05T20:30:11.456850",
     "status": "completed"
    },
    "tags": []
   },
   "outputs": [
    {
     "name": "stdout",
     "output_type": "stream",
     "text": [
      "name                     1.000000\n",
      "region                   1.000000\n",
      "hub_lng                  1.000000\n",
      "hub_lat                  1.000000\n",
      "hub_city                 1.000000\n",
      "hub_suburb               1.000000\n",
      "vehicle_capacity         1.000000\n",
      "delivery_size            1.000000\n",
      "delivery_lng             1.000000\n",
      "delivery_lat             1.000000\n",
      "delivery_city            0.997325\n",
      "delivery_suburb          0.748667\n",
      "distance_hub_delivery    1.000000\n",
      "spent_on_gas             1.000000\n",
      "dtype: float64\n"
     ]
    }
   ],
   "source": [
    "prop_complete = deliveries_df.apply(prop_complete_values)\n",
    "print(prop_complete)"
   ]
  },
  {
   "cell_type": "markdown",
   "id": "8ff9fcd4",
   "metadata": {
    "id": "KSgjP--1JS9R",
    "papermill": {
     "duration": 0.106963,
     "end_time": "2022-09-05T20:30:11.962973",
     "exception": false,
     "start_time": "2022-09-05T20:30:11.856010",
     "status": "completed"
    },
    "tags": []
   },
   "source": [
    "## 5\\. Visualização"
   ]
  },
  {
   "cell_type": "markdown",
   "id": "3af4a604",
   "metadata": {
    "id": "JM8rXhlKvdos",
    "papermill": {
     "duration": 0.106,
     "end_time": "2022-09-05T20:30:12.175963",
     "exception": false,
     "start_time": "2022-09-05T20:30:12.069963",
     "status": "completed"
    },
    "tags": []
   },
   "source": [
    "*   **Mapa do Distrito Federal**\n",
    "\n",
    "\n",
    "\n",
    "\n",
    "\n",
    "\n",
    "\n"
   ]
  },
  {
   "cell_type": "markdown",
   "id": "1372810e",
   "metadata": {
    "id": "CK4py_dTvuMI",
    "papermill": {
     "duration": 0.107992,
     "end_time": "2022-09-05T20:30:12.392197",
     "exception": false,
     "start_time": "2022-09-05T20:30:12.284205",
     "status": "completed"
    },
    "tags": []
   },
   "source": [
    "Vamos fazer o download dos dados do mapa do Distrito Federal do site oficial do IBGE através do seguinte [link](https://www.ibge.gov.br/geociencias/cartas-e-mapas/bases-cartograficas-continuas) para criar o DataFrame `mapa`. Note a coluna `geometry`."
   ]
  },
  {
   "cell_type": "code",
   "execution_count": 50,
   "id": "3feceaf9",
   "metadata": {
    "execution": {
     "iopub.execute_input": "2022-09-05T20:30:12.629420Z",
     "iopub.status.busy": "2022-09-05T20:30:12.628412Z",
     "iopub.status.idle": "2022-09-05T20:30:39.819105Z",
     "shell.execute_reply": "2022-09-05T20:30:39.818356Z",
     "shell.execute_reply.started": "2022-05-08T18:00:36.958332Z"
    },
    "id": "BD_Xeie-vbhE",
    "papermill": {
     "duration": 27.306915,
     "end_time": "2022-09-05T20:30:39.819261",
     "exception": false,
     "start_time": "2022-09-05T20:30:12.512346",
     "status": "completed"
    },
    "tags": []
   },
   "outputs": [],
   "source": [
    "!wget -q \"https://geoftp.ibge.gov.br/cartas_e_mapas/bases_cartograficas_continuas/bc100/go_df/versao2016/shapefile/bc100_go_df_shp.zip\" -O distrito-federal.zip\n",
    "!unzip -q distrito-federal.zip -d ./maps\n",
    "!cp ./maps/LIM_Unidade_Federacao_A.shp ./distrito-federal.shp\n",
    "!cp ./maps/LIM_Unidade_Federacao_A.shx ./distrito-federal.shx"
   ]
  },
  {
   "cell_type": "code",
   "execution_count": 51,
   "id": "55be1060",
   "metadata": {
    "execution": {
     "iopub.execute_input": "2022-09-05T20:30:40.050926Z",
     "iopub.status.busy": "2022-09-05T20:30:40.050172Z",
     "iopub.status.idle": "2022-09-05T20:30:40.202640Z",
     "shell.execute_reply": "2022-09-05T20:30:40.202032Z",
     "shell.execute_reply.started": "2022-05-08T18:01:53.411137Z"
    },
    "id": "m4UyW0oHv-l8",
    "outputId": "406a6f02-dfec-4b28-c21c-1b675b314007",
    "papermill": {
     "duration": 0.276775,
     "end_time": "2022-09-05T20:30:40.202791",
     "exception": false,
     "start_time": "2022-09-05T20:30:39.926016",
     "status": "completed"
    },
    "tags": []
   },
   "outputs": [
    {
     "data": {
      "text/html": [
       "<div>\n",
       "<style scoped>\n",
       "    .dataframe tbody tr th:only-of-type {\n",
       "        vertical-align: middle;\n",
       "    }\n",
       "\n",
       "    .dataframe tbody tr th {\n",
       "        vertical-align: top;\n",
       "    }\n",
       "\n",
       "    .dataframe thead th {\n",
       "        text-align: right;\n",
       "    }\n",
       "</style>\n",
       "<table border=\"1\" class=\"dataframe\">\n",
       "  <thead>\n",
       "    <tr style=\"text-align: right;\">\n",
       "      <th></th>\n",
       "      <th>geometry</th>\n",
       "    </tr>\n",
       "  </thead>\n",
       "  <tbody>\n",
       "    <tr>\n",
       "      <th>0</th>\n",
       "      <td>POLYGON Z ((-47.31048 -16.03602 0.00000, -47.3...</td>\n",
       "    </tr>\n",
       "  </tbody>\n",
       "</table>\n",
       "</div>"
      ],
      "text/plain": [
       "                                            geometry\n",
       "0  POLYGON Z ((-47.31048 -16.03602 0.00000, -47.3..."
      ]
     },
     "execution_count": 51,
     "metadata": {},
     "output_type": "execute_result"
    }
   ],
   "source": [
    "mapa = geopandas.read_file(\"distrito-federal.shp\")\n",
    "mapa = mapa.loc[[0]]\n",
    "mapa.head()"
   ]
  },
  {
   "cell_type": "markdown",
   "id": "93c4e48c",
   "metadata": {
    "id": "g5BeESGTwhB2",
    "papermill": {
     "duration": 0.107564,
     "end_time": "2022-09-05T20:30:40.421531",
     "exception": false,
     "start_time": "2022-09-05T20:30:40.313967",
     "status": "completed"
    },
    "tags": []
   },
   "source": [
    "\n",
    "\n",
    "* **Mapa dos Hubs**\n",
    "\n"
   ]
  },
  {
   "cell_type": "markdown",
   "id": "2d174c9e",
   "metadata": {
    "id": "Ft-dC25PwySX",
    "papermill": {
     "duration": 0.112702,
     "end_time": "2022-09-05T20:30:40.644050",
     "exception": false,
     "start_time": "2022-09-05T20:30:40.531348",
     "status": "completed"
    },
    "tags": []
   },
   "source": [
    "Vamos criar o DataFrame `geo_hub_df` através do DataFrame `deliveries_df`. Note a nova coluna `geometry`."
   ]
  },
  {
   "cell_type": "code",
   "execution_count": 52,
   "id": "9c6e85aa",
   "metadata": {
    "execution": {
     "iopub.execute_input": "2022-09-05T20:30:40.880672Z",
     "iopub.status.busy": "2022-09-05T20:30:40.879934Z",
     "iopub.status.idle": "2022-09-05T20:30:41.184821Z",
     "shell.execute_reply": "2022-09-05T20:30:41.185459Z",
     "shell.execute_reply.started": "2022-05-08T18:01:58.382729Z"
    },
    "id": "BWQdERHFwaN4",
    "outputId": "b7e93296-bd6c-40d5-8fe4-0d903767f312",
    "papermill": {
     "duration": 0.416595,
     "end_time": "2022-09-05T20:30:41.185657",
     "exception": false,
     "start_time": "2022-09-05T20:30:40.769062",
     "status": "completed"
    },
    "tags": []
   },
   "outputs": [
    {
     "data": {
      "text/html": [
       "<div>\n",
       "<style scoped>\n",
       "    .dataframe tbody tr th:only-of-type {\n",
       "        vertical-align: middle;\n",
       "    }\n",
       "\n",
       "    .dataframe tbody tr th {\n",
       "        vertical-align: top;\n",
       "    }\n",
       "\n",
       "    .dataframe thead th {\n",
       "        text-align: right;\n",
       "    }\n",
       "</style>\n",
       "<table border=\"1\" class=\"dataframe\">\n",
       "  <thead>\n",
       "    <tr style=\"text-align: right;\">\n",
       "      <th></th>\n",
       "      <th>region</th>\n",
       "      <th>hub_lng</th>\n",
       "      <th>hub_lat</th>\n",
       "      <th>geometry</th>\n",
       "    </tr>\n",
       "  </thead>\n",
       "  <tbody>\n",
       "    <tr>\n",
       "      <th>0</th>\n",
       "      <td>df-2</td>\n",
       "      <td>-48.054989</td>\n",
       "      <td>-15.838145</td>\n",
       "      <td>POINT (-48.05499 -15.83814)</td>\n",
       "    </tr>\n",
       "    <tr>\n",
       "      <th>1</th>\n",
       "      <td>df-1</td>\n",
       "      <td>-47.893662</td>\n",
       "      <td>-15.805118</td>\n",
       "      <td>POINT (-47.89366 -15.80512)</td>\n",
       "    </tr>\n",
       "    <tr>\n",
       "      <th>2</th>\n",
       "      <td>df-0</td>\n",
       "      <td>-47.802665</td>\n",
       "      <td>-15.657014</td>\n",
       "      <td>POINT (-47.80266 -15.65701)</td>\n",
       "    </tr>\n",
       "  </tbody>\n",
       "</table>\n",
       "</div>"
      ],
      "text/plain": [
       "  region    hub_lng    hub_lat                     geometry\n",
       "0   df-2 -48.054989 -15.838145  POINT (-48.05499 -15.83814)\n",
       "1   df-1 -47.893662 -15.805118  POINT (-47.89366 -15.80512)\n",
       "2   df-0 -47.802665 -15.657014  POINT (-47.80266 -15.65701)"
      ]
     },
     "execution_count": 52,
     "metadata": {},
     "output_type": "execute_result"
    }
   ],
   "source": [
    "hub_df = deliveries_df[[\"region\", \"hub_lng\", \"hub_lat\"]].drop_duplicates().reset_index(drop=True)\n",
    "geo_hub_df = geopandas.GeoDataFrame(hub_df, geometry=geopandas.points_from_xy(hub_df[\"hub_lng\"], hub_df[\"hub_lat\"]))\n",
    "geo_hub_df.head()"
   ]
  },
  {
   "cell_type": "markdown",
   "id": "d0b5de85",
   "metadata": {
    "id": "3JXojJ09xEJH",
    "papermill": {
     "duration": 0.11004,
     "end_time": "2022-09-05T20:30:41.405046",
     "exception": false,
     "start_time": "2022-09-05T20:30:41.295006",
     "status": "completed"
    },
    "tags": []
   },
   "source": [
    "\n",
    "\n",
    "*   **Mapa das Entregas**\n",
    "\n"
   ]
  },
  {
   "cell_type": "markdown",
   "id": "0644ba60",
   "metadata": {
    "id": "lKvSwcOrxKga",
    "papermill": {
     "duration": 0.1084,
     "end_time": "2022-09-05T20:30:41.622162",
     "exception": false,
     "start_time": "2022-09-05T20:30:41.513762",
     "status": "completed"
    },
    "tags": []
   },
   "source": [
    "Vamos criar o DataFrame `geo_deliveries_df` através do DataFrame `deliveries_df`. Note a nova coluna `geometry`."
   ]
  },
  {
   "cell_type": "code",
   "execution_count": 53,
   "id": "cc8a9657",
   "metadata": {
    "execution": {
     "iopub.execute_input": "2022-09-05T20:30:41.841987Z",
     "iopub.status.busy": "2022-09-05T20:30:41.841230Z",
     "iopub.status.idle": "2022-09-05T20:30:42.020116Z",
     "shell.execute_reply": "2022-09-05T20:30:42.020700Z",
     "shell.execute_reply.started": "2022-05-08T18:02:15.140962Z"
    },
    "id": "ZGXLCEUPxOrA",
    "outputId": "9fe0b219-af7d-4fbb-f36c-798650037c8f",
    "papermill": {
     "duration": 0.290955,
     "end_time": "2022-09-05T20:30:42.020911",
     "exception": false,
     "start_time": "2022-09-05T20:30:41.729956",
     "status": "completed"
    },
    "tags": []
   },
   "outputs": [
    {
     "data": {
      "text/html": [
       "<div>\n",
       "<style scoped>\n",
       "    .dataframe tbody tr th:only-of-type {\n",
       "        vertical-align: middle;\n",
       "    }\n",
       "\n",
       "    .dataframe tbody tr th {\n",
       "        vertical-align: top;\n",
       "    }\n",
       "\n",
       "    .dataframe thead th {\n",
       "        text-align: right;\n",
       "    }\n",
       "</style>\n",
       "<table border=\"1\" class=\"dataframe\">\n",
       "  <thead>\n",
       "    <tr style=\"text-align: right;\">\n",
       "      <th></th>\n",
       "      <th>name</th>\n",
       "      <th>region</th>\n",
       "      <th>hub_lng</th>\n",
       "      <th>hub_lat</th>\n",
       "      <th>hub_city</th>\n",
       "      <th>hub_suburb</th>\n",
       "      <th>vehicle_capacity</th>\n",
       "      <th>delivery_size</th>\n",
       "      <th>delivery_lng</th>\n",
       "      <th>delivery_lat</th>\n",
       "      <th>delivery_city</th>\n",
       "      <th>delivery_suburb</th>\n",
       "      <th>distance_hub_delivery</th>\n",
       "      <th>spent_on_gas</th>\n",
       "      <th>geometry</th>\n",
       "    </tr>\n",
       "  </thead>\n",
       "  <tbody>\n",
       "    <tr>\n",
       "      <th>0</th>\n",
       "      <td>cvrp-2-df-33</td>\n",
       "      <td>df-2</td>\n",
       "      <td>-48.054989</td>\n",
       "      <td>-15.838145</td>\n",
       "      <td>Taguatinga</td>\n",
       "      <td>Taguatinga</td>\n",
       "      <td>180</td>\n",
       "      <td>9</td>\n",
       "      <td>-48.116189</td>\n",
       "      <td>-15.848929</td>\n",
       "      <td>Ceilândia</td>\n",
       "      <td>P Sul</td>\n",
       "      <td>6.655516</td>\n",
       "      <td>4.601814</td>\n",
       "      <td>POINT (-48.11619 -15.84893)</td>\n",
       "    </tr>\n",
       "    <tr>\n",
       "      <th>1</th>\n",
       "      <td>cvrp-2-df-33</td>\n",
       "      <td>df-2</td>\n",
       "      <td>-48.054989</td>\n",
       "      <td>-15.838145</td>\n",
       "      <td>Taguatinga</td>\n",
       "      <td>Taguatinga</td>\n",
       "      <td>180</td>\n",
       "      <td>2</td>\n",
       "      <td>-48.118195</td>\n",
       "      <td>-15.850772</td>\n",
       "      <td>Ceilândia</td>\n",
       "      <td>P Sul</td>\n",
       "      <td>6.905410</td>\n",
       "      <td>4.774598</td>\n",
       "      <td>POINT (-48.11819 -15.85077)</td>\n",
       "    </tr>\n",
       "    <tr>\n",
       "      <th>2</th>\n",
       "      <td>cvrp-2-df-33</td>\n",
       "      <td>df-2</td>\n",
       "      <td>-48.054989</td>\n",
       "      <td>-15.838145</td>\n",
       "      <td>Taguatinga</td>\n",
       "      <td>Taguatinga</td>\n",
       "      <td>180</td>\n",
       "      <td>1</td>\n",
       "      <td>-48.112483</td>\n",
       "      <td>-15.847871</td>\n",
       "      <td>Ceilândia</td>\n",
       "      <td>P Sul</td>\n",
       "      <td>6.244588</td>\n",
       "      <td>4.317687</td>\n",
       "      <td>POINT (-48.11248 -15.84787)</td>\n",
       "    </tr>\n",
       "    <tr>\n",
       "      <th>3</th>\n",
       "      <td>cvrp-2-df-33</td>\n",
       "      <td>df-2</td>\n",
       "      <td>-48.054989</td>\n",
       "      <td>-15.838145</td>\n",
       "      <td>Taguatinga</td>\n",
       "      <td>Taguatinga</td>\n",
       "      <td>180</td>\n",
       "      <td>2</td>\n",
       "      <td>-48.118023</td>\n",
       "      <td>-15.846471</td>\n",
       "      <td>Ceilândia</td>\n",
       "      <td>P Sul</td>\n",
       "      <td>6.806062</td>\n",
       "      <td>4.705906</td>\n",
       "      <td>POINT (-48.11802 -15.84647)</td>\n",
       "    </tr>\n",
       "    <tr>\n",
       "      <th>4</th>\n",
       "      <td>cvrp-2-df-33</td>\n",
       "      <td>df-2</td>\n",
       "      <td>-48.054989</td>\n",
       "      <td>-15.838145</td>\n",
       "      <td>Taguatinga</td>\n",
       "      <td>Taguatinga</td>\n",
       "      <td>180</td>\n",
       "      <td>7</td>\n",
       "      <td>-48.114898</td>\n",
       "      <td>-15.858055</td>\n",
       "      <td>Sol Nascente/Pôr do Sol</td>\n",
       "      <td>Sol Nascente/Pôr do Sol</td>\n",
       "      <td>6.780018</td>\n",
       "      <td>4.687898</td>\n",
       "      <td>POINT (-48.11490 -15.85805)</td>\n",
       "    </tr>\n",
       "  </tbody>\n",
       "</table>\n",
       "</div>"
      ],
      "text/plain": [
       "           name region    hub_lng    hub_lat    hub_city  hub_suburb  \\\n",
       "0  cvrp-2-df-33   df-2 -48.054989 -15.838145  Taguatinga  Taguatinga   \n",
       "1  cvrp-2-df-33   df-2 -48.054989 -15.838145  Taguatinga  Taguatinga   \n",
       "2  cvrp-2-df-33   df-2 -48.054989 -15.838145  Taguatinga  Taguatinga   \n",
       "3  cvrp-2-df-33   df-2 -48.054989 -15.838145  Taguatinga  Taguatinga   \n",
       "4  cvrp-2-df-33   df-2 -48.054989 -15.838145  Taguatinga  Taguatinga   \n",
       "\n",
       "   vehicle_capacity  delivery_size  delivery_lng  delivery_lat  \\\n",
       "0               180              9    -48.116189    -15.848929   \n",
       "1               180              2    -48.118195    -15.850772   \n",
       "2               180              1    -48.112483    -15.847871   \n",
       "3               180              2    -48.118023    -15.846471   \n",
       "4               180              7    -48.114898    -15.858055   \n",
       "\n",
       "             delivery_city          delivery_suburb  distance_hub_delivery  \\\n",
       "0                Ceilândia                    P Sul               6.655516   \n",
       "1                Ceilândia                    P Sul               6.905410   \n",
       "2                Ceilândia                    P Sul               6.244588   \n",
       "3                Ceilândia                    P Sul               6.806062   \n",
       "4  Sol Nascente/Pôr do Sol  Sol Nascente/Pôr do Sol               6.780018   \n",
       "\n",
       "   spent_on_gas                     geometry  \n",
       "0      4.601814  POINT (-48.11619 -15.84893)  \n",
       "1      4.774598  POINT (-48.11819 -15.85077)  \n",
       "2      4.317687  POINT (-48.11248 -15.84787)  \n",
       "3      4.705906  POINT (-48.11802 -15.84647)  \n",
       "4      4.687898  POINT (-48.11490 -15.85805)  "
      ]
     },
     "execution_count": 53,
     "metadata": {},
     "output_type": "execute_result"
    }
   ],
   "source": [
    "geo_deliveries_df = geopandas.GeoDataFrame(deliveries_df, geometry=geopandas.points_from_xy(deliveries_df[\"delivery_lng\"], deliveries_df[\"delivery_lat\"]))\n",
    "geo_deliveries_df.head()"
   ]
  },
  {
   "cell_type": "markdown",
   "id": "22034079",
   "metadata": {
    "id": "MaVqkS6Ixnof",
    "papermill": {
     "duration": 0.109879,
     "end_time": "2022-09-05T20:30:42.241132",
     "exception": false,
     "start_time": "2022-09-05T20:30:42.131253",
     "status": "completed"
    },
    "tags": []
   },
   "source": [
    "\n",
    "\n",
    "*   **Visualização**\n",
    "\n",
    "\n"
   ]
  },
  {
   "cell_type": "code",
   "execution_count": 54,
   "id": "52c96ca3",
   "metadata": {
    "execution": {
     "iopub.execute_input": "2022-09-05T20:30:42.462744Z",
     "iopub.status.busy": "2022-09-05T20:30:42.462010Z",
     "iopub.status.idle": "2022-09-05T20:32:31.793037Z",
     "shell.execute_reply": "2022-09-05T20:32:31.793650Z",
     "shell.execute_reply.started": "2022-05-08T18:02:23.103069Z"
    },
    "id": "z-5iCVlP1bau",
    "outputId": "dec827df-a68f-4c02-abae-1a6eb782ac93",
    "papermill": {
     "duration": 109.443648,
     "end_time": "2022-09-05T20:32:31.794033",
     "exception": false,
     "start_time": "2022-09-05T20:30:42.350385",
     "status": "completed"
    },
    "tags": []
   },
   "outputs": [
    {
     "data": {
      "image/png": "[encoded data removed]",
      "text/plain": [
       "<Figure size 1417.32x1417.32 with 1 Axes>"
      ]
     },
     "metadata": {
      "needs_background": "light"
     },
     "output_type": "display_data"
    }
   ],
   "source": [
    "# cria o plot vazio\n",
    "fig, ax = plt.subplots(figsize = (50/2.54, 50/2.54))\n",
    "\n",
    "# plot mapa do distrito federal\n",
    "mapa.plot(ax=ax, alpha=0.4, color=\"lightgrey\")\n",
    "\n",
    "# plot das entregas\n",
    "geo_deliveries_df.query(\"region == 'df-0'\").plot(ax=ax, markersize=1, color=\"red\", label=\"df-0\")\n",
    "geo_deliveries_df.query(\"region == 'df-1'\").plot(ax=ax, markersize=1, color=\"blue\", label=\"df-1\")\n",
    "geo_deliveries_df.query(\"region == 'df-2'\").plot(ax=ax, markersize=1, color=\"seagreen\", label=\"df-2\")\n",
    "\n",
    "# plot dos hubs\n",
    "geo_hub_df.plot(ax=ax, markersize=40, marker=\"x\", color=\"black\", label=\"hub\")\n",
    "\n",
    "# plot da legenda\n",
    "plt.title(\"Entregas no Distrito Federal por Região\", fontdict={\"fontsize\": 16})\n",
    "lgnd = plt.legend(prop={\"size\": 15})\n",
    "for handle in lgnd.legendHandles:\n",
    "    handle.set_sizes([50])\n",
    "plt.show()"
   ]
  },
  {
   "cell_type": "markdown",
   "id": "fdf16247",
   "metadata": {
    "id": "lRCV1hXQza-U",
    "papermill": {
     "duration": 0.114453,
     "end_time": "2022-09-05T20:32:32.023761",
     "exception": false,
     "start_time": "2022-09-05T20:32:31.909308",
     "status": "completed"
    },
    "tags": []
   },
   "source": [
    "**Insights**\n",
    "\n",
    "As entregas parecem estar corretamente alocadas em seus respectivos Hubs. No entanto, como os Hubs das regiões 0 e 2 fazem entregas em locais mais distantes do centro, isso pode gerar um tempo e preço de entrega maiores. Uma possível solução para esse problema seria redistribuir os veículos de entrega, já que as entregas dos Hubs 0 e 2 ficam mais distantes do centro de distribuição."
   ]
  },
  {
   "cell_type": "markdown",
   "id": "2d0efc84",
   "metadata": {
    "id": "OOsUuWpt1hAL",
    "papermill": {
     "duration": 0.114323,
     "end_time": "2022-09-05T20:32:32.253207",
     "exception": false,
     "start_time": "2022-09-05T20:32:32.138884",
     "status": "completed"
    },
    "tags": []
   },
   "source": [
    "\n",
    "\n",
    "*   **Gráfico de entregas por região**\n",
    "\n"
   ]
  },
  {
   "cell_type": "code",
   "execution_count": 55,
   "id": "9e0cb251",
   "metadata": {
    "execution": {
     "iopub.execute_input": "2022-09-05T20:32:32.490758Z",
     "iopub.status.busy": "2022-09-05T20:32:32.490033Z",
     "iopub.status.idle": "2022-09-05T20:32:32.585858Z",
     "shell.execute_reply": "2022-09-05T20:32:32.586419Z",
     "shell.execute_reply.started": "2022-05-08T18:05:57.966871Z"
    },
    "id": "yNAtd-8V1m07",
    "outputId": "a7181405-ae4c-41ea-af5a-4d9a4ca748cc",
    "papermill": {
     "duration": 0.217298,
     "end_time": "2022-09-05T20:32:32.586616",
     "exception": false,
     "start_time": "2022-09-05T20:32:32.369318",
     "status": "completed"
    },
    "tags": []
   },
   "outputs": [
    {
     "data": {
      "text/html": [
       "<div>\n",
       "<style scoped>\n",
       "    .dataframe tbody tr th:only-of-type {\n",
       "        vertical-align: middle;\n",
       "    }\n",
       "\n",
       "    .dataframe tbody tr th {\n",
       "        vertical-align: top;\n",
       "    }\n",
       "\n",
       "    .dataframe thead th {\n",
       "        text-align: right;\n",
       "    }\n",
       "</style>\n",
       "<table border=\"1\" class=\"dataframe\">\n",
       "  <thead>\n",
       "    <tr style=\"text-align: right;\">\n",
       "      <th></th>\n",
       "      <th>region</th>\n",
       "      <th>vehicle_capacity</th>\n",
       "      <th>region_percent</th>\n",
       "    </tr>\n",
       "  </thead>\n",
       "  <tbody>\n",
       "    <tr>\n",
       "      <th>0</th>\n",
       "      <td>df-1</td>\n",
       "      <td>180</td>\n",
       "      <td>0.478988</td>\n",
       "    </tr>\n",
       "    <tr>\n",
       "      <th>1</th>\n",
       "      <td>df-2</td>\n",
       "      <td>180</td>\n",
       "      <td>0.410783</td>\n",
       "    </tr>\n",
       "    <tr>\n",
       "      <th>2</th>\n",
       "      <td>df-0</td>\n",
       "      <td>180</td>\n",
       "      <td>0.110229</td>\n",
       "    </tr>\n",
       "  </tbody>\n",
       "</table>\n",
       "</div>"
      ],
      "text/plain": [
       "  region  vehicle_capacity  region_percent\n",
       "0   df-1               180        0.478988\n",
       "1   df-2               180        0.410783\n",
       "2   df-0               180        0.110229"
      ]
     },
     "execution_count": 55,
     "metadata": {},
     "output_type": "execute_result"
    }
   ],
   "source": [
    "data = pd.DataFrame(deliveries_df[['region', 'vehicle_capacity']].value_counts(normalize=True)).reset_index()\n",
    "data.rename(columns={0: \"region_percent\"}, inplace=True)\n",
    "data.head()\n",
    "\n"
   ]
  },
  {
   "cell_type": "code",
   "execution_count": 56,
   "id": "7c056c33",
   "metadata": {
    "execution": {
     "iopub.execute_input": "2022-09-05T20:32:32.820849Z",
     "iopub.status.busy": "2022-09-05T20:32:32.820164Z",
     "iopub.status.idle": "2022-09-05T20:32:33.024164Z",
     "shell.execute_reply": "2022-09-05T20:32:33.024729Z",
     "shell.execute_reply.started": "2022-05-08T18:09:05.640991Z"
    },
    "id": "7pOPstcFzEkR",
    "outputId": "f34cfa4b-325d-47d4-b5b1-4de7634368bf",
    "papermill": {
     "duration": 0.322836,
     "end_time": "2022-09-05T20:32:33.024915",
     "exception": false,
     "start_time": "2022-09-05T20:32:32.702079",
     "status": "completed"
    },
    "tags": []
   },
   "outputs": [
    {
     "data": {
      "image/png": "[encoded data removed]",
      "text/plain": [
       "<Figure size 432x288 with 1 Axes>"
      ]
     },
     "metadata": {},
     "output_type": "display_data"
    }
   ],
   "source": [
    "with sns.axes_style('whitegrid'):\n",
    "    grafico = sns.barplot(data=data, x=\"region\", y=\"region_percent\", ci=None, palette=\"bright\")\n",
    "    grafico.set(title='Proporção de entregas por região', xlabel='Região', ylabel='Proporção');\n",
    "    "
   ]
  },
  {
   "cell_type": "markdown",
   "id": "d9200632",
   "metadata": {
    "id": "_4Yc2Arv3Dkp",
    "papermill": {
     "duration": 0.117712,
     "end_time": "2022-09-05T20:32:33.259509",
     "exception": false,
     "start_time": "2022-09-05T20:32:33.141797",
     "status": "completed"
    },
    "tags": []
   },
   "source": [
    "**Insights**\n",
    "\n",
    "A distribuição das entregas está concentrada sobretudo nos Hubs 1 e 2, o que justifica a alocação de mais veículos para esses centros. No entanto, como vimos no mapa, o Hub 2 possui locais de entregas mais distantes, de modo que talvez seja necessário reavaliar a alocação de veículos entre os Hubs.\n",
    "\n",
    "\n",
    "\n"
   ]
  },
  {
   "cell_type": "markdown",
   "id": "06ebf54b",
   "metadata": {
    "id": "9r-dn_CQqn7w",
    "papermill": {
     "duration": 0.116349,
     "end_time": "2022-09-05T20:32:33.492904",
     "exception": false,
     "start_time": "2022-09-05T20:32:33.376555",
     "status": "completed"
    },
    "tags": []
   },
   "source": [
    "\n",
    "\n",
    "*   **Quantidade de entregas por cidade de destino**\n",
    "\n"
   ]
  },
  {
   "cell_type": "code",
   "execution_count": 57,
   "id": "7cbd3a6d",
   "metadata": {
    "execution": {
     "iopub.execute_input": "2022-09-05T20:32:33.733138Z",
     "iopub.status.busy": "2022-09-05T20:32:33.732361Z",
     "iopub.status.idle": "2022-09-05T20:32:33.799373Z",
     "shell.execute_reply": "2022-09-05T20:32:33.798710Z",
     "shell.execute_reply.started": "2022-05-08T18:09:14.590785Z"
    },
    "id": "3IlxrrexqlpI",
    "outputId": "ee23cc50-2a4c-4408-db79-f47905ffdda6",
    "papermill": {
     "duration": 0.190282,
     "end_time": "2022-09-05T20:32:33.799520",
     "exception": false,
     "start_time": "2022-09-05T20:32:33.609238",
     "status": "completed"
    },
    "tags": []
   },
   "outputs": [
    {
     "data": {
      "text/html": [
       "<div>\n",
       "<style scoped>\n",
       "    .dataframe tbody tr th:only-of-type {\n",
       "        vertical-align: middle;\n",
       "    }\n",
       "\n",
       "    .dataframe tbody tr th {\n",
       "        vertical-align: top;\n",
       "    }\n",
       "\n",
       "    .dataframe thead th {\n",
       "        text-align: right;\n",
       "    }\n",
       "</style>\n",
       "<table border=\"1\" class=\"dataframe\">\n",
       "  <thead>\n",
       "    <tr style=\"text-align: right;\">\n",
       "      <th></th>\n",
       "      <th>delivery_city</th>\n",
       "      <th>delivery_amount_per_city</th>\n",
       "    </tr>\n",
       "  </thead>\n",
       "  <tbody>\n",
       "    <tr>\n",
       "      <th>0</th>\n",
       "      <td>Brasília</td>\n",
       "      <td>148983</td>\n",
       "    </tr>\n",
       "    <tr>\n",
       "      <th>1</th>\n",
       "      <td>Taguatinga</td>\n",
       "      <td>45564</td>\n",
       "    </tr>\n",
       "    <tr>\n",
       "      <th>2</th>\n",
       "      <td>Sudoeste / Octogonal</td>\n",
       "      <td>44215</td>\n",
       "    </tr>\n",
       "    <tr>\n",
       "      <th>3</th>\n",
       "      <td>Ceilândia</td>\n",
       "      <td>37953</td>\n",
       "    </tr>\n",
       "    <tr>\n",
       "      <th>4</th>\n",
       "      <td>Águas Claras</td>\n",
       "      <td>37083</td>\n",
       "    </tr>\n",
       "  </tbody>\n",
       "</table>\n",
       "</div>"
      ],
      "text/plain": [
       "          delivery_city  delivery_amount_per_city\n",
       "0              Brasília                    148983\n",
       "1            Taguatinga                     45564\n",
       "2  Sudoeste / Octogonal                     44215\n",
       "3             Ceilândia                     37953\n",
       "4          Águas Claras                     37083"
      ]
     },
     "execution_count": 57,
     "metadata": {},
     "output_type": "execute_result"
    }
   ],
   "source": [
    "data = pd.DataFrame(deliveries_df[['delivery_city']].value_counts()).reset_index()\n",
    "data.rename(columns={0: \"delivery_amount_per_city\"}, inplace=True)\n",
    "data.head()"
   ]
  },
  {
   "cell_type": "code",
   "execution_count": 58,
   "id": "9ae6821d",
   "metadata": {
    "execution": {
     "iopub.execute_input": "2022-09-05T20:32:34.037498Z",
     "iopub.status.busy": "2022-09-05T20:32:34.036812Z",
     "iopub.status.idle": "2022-09-05T20:32:34.598254Z",
     "shell.execute_reply": "2022-09-05T20:32:34.598801Z",
     "shell.execute_reply.started": "2022-05-08T18:09:27.483952Z"
    },
    "id": "jqe1N8MEs_pJ",
    "outputId": "d647c000-76fd-41df-e5bf-0ab04a0313d2",
    "papermill": {
     "duration": 0.681647,
     "end_time": "2022-09-05T20:32:34.598986",
     "exception": false,
     "start_time": "2022-09-05T20:32:33.917339",
     "status": "completed"
    },
    "tags": []
   },
   "outputs": [
    {
     "data": {
      "image/png": "[encoded data removed]",
      "text/plain": [
       "<Figure size 720x576 with 1 Axes>"
      ]
     },
     "metadata": {},
     "output_type": "display_data"
    }
   ],
   "source": [
    "with sns.axes_style('whitegrid'):\n",
    "  plt.subplots(figsize=(10, 8))\n",
    "  grafico = sns.barplot(data=data, x=\"delivery_amount_per_city\", y=\"delivery_city\", ci=None, palette=\"bright\")\n",
    "  grafico.set(title='Quantidade de entregas por cidade de destino', xlabel='quantidade de entregas', ylabel='Cidade de destino');"
   ]
  },
  {
   "cell_type": "markdown",
   "id": "67be8359",
   "metadata": {
    "id": "nNZYfsqjxPAe",
    "papermill": {
     "duration": 0.118791,
     "end_time": "2022-09-05T20:32:34.837993",
     "exception": false,
     "start_time": "2022-09-05T20:32:34.719202",
     "status": "completed"
    },
    "tags": []
   },
   "source": [
    "**Insights**\n",
    "\n",
    "Mais uma vez vemos que há uma concentração de entregas em Brasília, onde está localizado o Hub df-1. Isso justifica, de certa forma, uma concentração maior dos veículos de entrega nesse Hub. Entretanto, há também uma dispersão de entregas em outras regiões. De novo, se olharmos o mapa, vemos que o Hub de Sobradinho possui entregas distantes do centro de distribuição, ao mesmo tempo que possui menos veículos de entrega quando comparado com outros Hubs. "
   ]
  },
  {
   "cell_type": "markdown",
   "id": "ce9f8e53",
   "metadata": {
    "id": "x4219iGXmiFa",
    "papermill": {
     "duration": 0.117987,
     "end_time": "2022-09-05T20:32:35.074239",
     "exception": false,
     "start_time": "2022-09-05T20:32:34.956252",
     "status": "completed"
    },
    "tags": []
   },
   "source": [
    "\n",
    "\n",
    "*   **Média da distância entre os Hubs e os locais de entrega em Km**\n",
    "\n"
   ]
  },
  {
   "cell_type": "code",
   "execution_count": 59,
   "id": "02c6f92b",
   "metadata": {
    "execution": {
     "iopub.execute_input": "2022-09-05T20:32:35.316927Z",
     "iopub.status.busy": "2022-09-05T20:32:35.316216Z",
     "iopub.status.idle": "2022-09-05T20:32:35.402430Z",
     "shell.execute_reply": "2022-09-05T20:32:35.401506Z",
     "shell.execute_reply.started": "2022-05-08T18:10:24.175555Z"
    },
    "id": "QRxFXd9lmuWi",
    "outputId": "0f9d4d24-4ee7-4c7d-900b-9686eedb87a6",
    "papermill": {
     "duration": 0.209633,
     "end_time": "2022-09-05T20:32:35.402618",
     "exception": false,
     "start_time": "2022-09-05T20:32:35.192985",
     "status": "completed"
    },
    "tags": []
   },
   "outputs": [
    {
     "data": {
      "text/html": [
       "<div>\n",
       "<style scoped>\n",
       "    .dataframe tbody tr th:only-of-type {\n",
       "        vertical-align: middle;\n",
       "    }\n",
       "\n",
       "    .dataframe tbody tr th {\n",
       "        vertical-align: top;\n",
       "    }\n",
       "\n",
       "    .dataframe thead th {\n",
       "        text-align: right;\n",
       "    }\n",
       "</style>\n",
       "<table border=\"1\" class=\"dataframe\">\n",
       "  <thead>\n",
       "    <tr style=\"text-align: right;\">\n",
       "      <th></th>\n",
       "      <th>region</th>\n",
       "      <th>distance_hub_delivery</th>\n",
       "    </tr>\n",
       "  </thead>\n",
       "  <tbody>\n",
       "    <tr>\n",
       "      <th>0</th>\n",
       "      <td>df-0</td>\n",
       "      <td>9.02</td>\n",
       "    </tr>\n",
       "    <tr>\n",
       "      <th>2</th>\n",
       "      <td>df-2</td>\n",
       "      <td>7.90</td>\n",
       "    </tr>\n",
       "    <tr>\n",
       "      <th>1</th>\n",
       "      <td>df-1</td>\n",
       "      <td>5.96</td>\n",
       "    </tr>\n",
       "  </tbody>\n",
       "</table>\n",
       "</div>"
      ],
      "text/plain": [
       "  region  distance_hub_delivery\n",
       "0   df-0                   9.02\n",
       "2   df-2                   7.90\n",
       "1   df-1                   5.96"
      ]
     },
     "execution_count": 59,
     "metadata": {},
     "output_type": "execute_result"
    }
   ],
   "source": [
    "data_mean_distance = deliveries_df[['region', 'distance_hub_delivery']].groupby('region', as_index=False).agg('mean').sort_values(by=['distance_hub_delivery'], ascending=False)\n",
    "data_mean_distance = data_mean_distance.round(2)\n",
    "data_mean_distance.head()"
   ]
  },
  {
   "cell_type": "code",
   "execution_count": 60,
   "id": "2d12813a",
   "metadata": {
    "execution": {
     "iopub.execute_input": "2022-09-05T20:32:35.651517Z",
     "iopub.status.busy": "2022-09-05T20:32:35.650852Z",
     "iopub.status.idle": "2022-09-05T20:32:35.844706Z",
     "shell.execute_reply": "2022-09-05T20:32:35.845271Z",
     "shell.execute_reply.started": "2022-05-08T18:10:36.877857Z"
    },
    "id": "ym1wSF6ppHaY",
    "outputId": "9113a6c0-4eb0-4880-fd50-f84b0da4c282",
    "papermill": {
     "duration": 0.31742,
     "end_time": "2022-09-05T20:32:35.845454",
     "exception": false,
     "start_time": "2022-09-05T20:32:35.528034",
     "status": "completed"
    },
    "tags": []
   },
   "outputs": [
    {
     "data": {
      "image/png": "[encoded data removed]",
      "text/plain": [
       "<Figure size 432x288 with 1 Axes>"
      ]
     },
     "metadata": {},
     "output_type": "display_data"
    }
   ],
   "source": [
    "with sns.axes_style('whitegrid'):\n",
    "  grafico = sns.barplot(data=data_mean_distance, x=\"region\", y=\"distance_hub_delivery\", ci=None, palette=\"bright\")\n",
    "  grafico.set(title='Média de Km percorrido entre o Hub e o local da entrega', xlabel='Hub', ylabel='Média de Km percorrido');"
   ]
  },
  {
   "cell_type": "markdown",
   "id": "3cc7b578",
   "metadata": {
    "id": "iyAZ70MWsBwB",
    "papermill": {
     "duration": 0.121433,
     "end_time": "2022-09-05T20:32:36.086916",
     "exception": false,
     "start_time": "2022-09-05T20:32:35.965483",
     "status": "completed"
    },
    "tags": []
   },
   "source": [
    "\n",
    "\n",
    "*   **Média de gasto com gasolina por entrega**\n",
    "\n",
    "\n"
   ]
  },
  {
   "cell_type": "code",
   "execution_count": 61,
   "id": "224ed02a",
   "metadata": {
    "execution": {
     "iopub.execute_input": "2022-09-05T20:32:36.335716Z",
     "iopub.status.busy": "2022-09-05T20:32:36.334798Z",
     "iopub.status.idle": "2022-09-05T20:32:36.410216Z",
     "shell.execute_reply": "2022-09-05T20:32:36.410776Z",
     "shell.execute_reply.started": "2022-05-08T18:10:54.448727Z"
    },
    "id": "WD-R9wFKrClK",
    "outputId": "167ac40b-899f-48ec-e677-9111ce64ab8b",
    "papermill": {
     "duration": 0.203491,
     "end_time": "2022-09-05T20:32:36.410965",
     "exception": false,
     "start_time": "2022-09-05T20:32:36.207474",
     "status": "completed"
    },
    "tags": []
   },
   "outputs": [
    {
     "data": {
      "text/html": [
       "<div>\n",
       "<style scoped>\n",
       "    .dataframe tbody tr th:only-of-type {\n",
       "        vertical-align: middle;\n",
       "    }\n",
       "\n",
       "    .dataframe tbody tr th {\n",
       "        vertical-align: top;\n",
       "    }\n",
       "\n",
       "    .dataframe thead th {\n",
       "        text-align: right;\n",
       "    }\n",
       "</style>\n",
       "<table border=\"1\" class=\"dataframe\">\n",
       "  <thead>\n",
       "    <tr style=\"text-align: right;\">\n",
       "      <th></th>\n",
       "      <th>region</th>\n",
       "      <th>spent_on_gas</th>\n",
       "    </tr>\n",
       "  </thead>\n",
       "  <tbody>\n",
       "    <tr>\n",
       "      <th>0</th>\n",
       "      <td>df-0</td>\n",
       "      <td>6.24</td>\n",
       "    </tr>\n",
       "    <tr>\n",
       "      <th>2</th>\n",
       "      <td>df-2</td>\n",
       "      <td>5.46</td>\n",
       "    </tr>\n",
       "    <tr>\n",
       "      <th>1</th>\n",
       "      <td>df-1</td>\n",
       "      <td>4.12</td>\n",
       "    </tr>\n",
       "  </tbody>\n",
       "</table>\n",
       "</div>"
      ],
      "text/plain": [
       "  region  spent_on_gas\n",
       "0   df-0          6.24\n",
       "2   df-2          5.46\n",
       "1   df-1          4.12"
      ]
     },
     "execution_count": 61,
     "metadata": {},
     "output_type": "execute_result"
    }
   ],
   "source": [
    "data_spent_gas = deliveries_df[['region', 'spent_on_gas']].groupby('region', as_index=False).agg('mean').sort_values(by=['spent_on_gas'], ascending=False)\n",
    "data_spent_gas = data_spent_gas.round(2)\n",
    "data_spent_gas.head()"
   ]
  },
  {
   "cell_type": "code",
   "execution_count": 62,
   "id": "4644e88b",
   "metadata": {
    "execution": {
     "iopub.execute_input": "2022-09-05T20:32:36.677497Z",
     "iopub.status.busy": "2022-09-05T20:32:36.676335Z",
     "iopub.status.idle": "2022-09-05T20:32:36.828590Z",
     "shell.execute_reply": "2022-09-05T20:32:36.829326Z",
     "shell.execute_reply.started": "2022-05-08T18:11:03.376600Z"
    },
    "id": "kyHSfSb3sPIb",
    "outputId": "338fbefe-e2c0-4d25-d872-904ca73d4073",
    "papermill": {
     "duration": 0.29655,
     "end_time": "2022-09-05T20:32:36.829509",
     "exception": false,
     "start_time": "2022-09-05T20:32:36.532959",
     "status": "completed"
    },
    "tags": []
   },
   "outputs": [
    {
     "data": {
      "image/png": "[encoded data removed]",
      "text/plain": [
       "<Figure size 432x288 with 1 Axes>"
      ]
     },
     "metadata": {},
     "output_type": "display_data"
    }
   ],
   "source": [
    "with sns.axes_style('whitegrid'):\n",
    "  grafico = sns.barplot(data=data_spent_gas, x=\"region\", y=\"spent_on_gas\", ci=None, palette=\"bright\")\n",
    "  grafico.set(title='Média de gasto com gasolina por entrega e por Hub', xlabel='Hub', ylabel='Média de gasto com gasolina em R$');"
   ]
  },
  {
   "cell_type": "markdown",
   "id": "0392778a",
   "metadata": {
    "id": "RuTDsnC8sjyU",
    "papermill": {
     "duration": 0.122538,
     "end_time": "2022-09-05T20:32:37.075032",
     "exception": false,
     "start_time": "2022-09-05T20:32:36.952494",
     "status": "completed"
    },
    "tags": []
   },
   "source": [
    "**Insights**\n",
    "\n",
    "Apesar do Hub df-1 possuir mais entregas e, consequentemente, uma frota maior de veículos, o gasto com gasolina no Hub df-0 é maior e a média de km percorrido por entrega também é maior. Talvez seja necessário um remanejamento da frota, dando uma atenção maior às entregas do Hub df-0 e Hub df-2."
   ]
  }
 ],
 "metadata": {
  "kernelspec": {
   "display_name": "Python 3",
   "language": "python",
   "name": "python3"
  },
  "language_info": {
   "codemirror_mode": {
    "name": "ipython",
    "version": 3
   },
   "file_extension": ".py",
   "mimetype": "text/x-python",
   "name": "python",
   "nbconvert_exporter": "python",
   "pygments_lexer": "ipython3",
   "version": "3.7.12"
  },
  "papermill": {
   "default_parameters": {},
   "duration": 238.709264,
   "end_time": "2022-09-05T20:32:39.120637",
   "environment_variables": {},
   "exception": null,
   "input_path": "__notebook__.ipynb",
   "output_path": "__notebook__.ipynb",
   "parameters": {},
   "start_time": "2022-09-05T20:28:40.411373",
   "version": "2.3.3"
  }
 },
 "nbformat": 4,
 "nbformat_minor": 5
}
